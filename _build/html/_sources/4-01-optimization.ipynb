{
 "cells": [
  {
   "cell_type": "markdown",
   "metadata": {},
   "source": [
    "# Optimization and nonlinear modeling\n"
   ]
  },
  {
   "cell_type": "markdown",
   "metadata": {},
   "source": [
    "## Parameter estimation: linear fit\n",
    "\n",
    "For _linear_ problems, you can set up a design matrix and use the least squares fit. Examples we have already discussed include:\n",
    "\n",
    "* Linear regression: $y = mx + b$\n",
    "\n",
    "* Multiple linear regression: $y = b_0 + b_1x_1 + b_2x_2$\n",
    "\n",
    "* Multiple linear regression with interaction term: $y = b_0 + b_1x_1 + b_2x_2 + b_3x_1x_2$\n",
    "\n",
    "* Harmonic fit: $y = a_1 + a_2 \\sin(x) + a_3 \\cos(x)$\n",
    "\n",
    "The problems are all classified as linear, even if the functions do not describe only straight lines, because the unknown coefficients are on the outside the terms in the equation.\n",
    "\n",
    "## Parameter estimation: nonlinear fit\n",
    "\n",
    "A simple function that requires a non-linear fit is a model for exponential growth. \n",
    "\n",
    "* Exponential growth: $y = a_1 e^{a_2 x} = a_1 \\exp({a_2 x})$\n",
    "\n",
    "In this case, it is not possible to directly solve for $a_1$ and $a_2$ with `np.linalg.lstsq` (the \"design matrix\" approach that can be used for multivariate regression or harmonic analysis).\n",
    "\n",
    "\n",
    "## Finding the parameters\n",
    "\n",
    "Two ways:\n",
    "1. Log Transform -> linear fit\n",
    "2. optimization (iterative methods)\n",
    "\n",
    "The optimization approach minimizes a *cost function*, $J$, which is usually the squared sum of errors. \n",
    "\n",
    "$J = \\sum^N_{i=1} w_i(\\hat{y}_i - y_i)^2$ \n",
    "\n",
    "$w_i$ is the weight for each data points\n",
    "\n",
    "$\\hat{y}_i$ is the model estimate\n",
    "\n",
    "$y_i$ is the observation\n",
    "\n",
    "$J$ can also be thought of as a chi-square variable since it is the sum of squares.\n",
    "\n",
    "#### Goal: minimize J"
   ]
  },
  {
   "cell_type": "code",
   "execution_count": 1,
   "metadata": {
    "tags": [
     "hide-input"
    ]
   },
   "outputs": [
    {
     "data": {
      "text/plain": [
       "[]"
      ]
     },
     "execution_count": 1,
     "metadata": {},
     "output_type": "execute_result"
    },
    {
     "data": {
      "image/png": "[encoded data removed]",
      "text/plain": [
       "<Figure size 432x288 with 1 Axes>"
      ]
     },
     "metadata": {},
     "output_type": "display_data"
    }
   ],
   "source": [
    "import numpy as np\n",
    "import matplotlib.pyplot as plt\n",
    "\n",
    "# plot an idealized polynomial cost function for illustrative purposes\n",
    "p = np.linspace(-4,4)\n",
    "plt.figure()\n",
    "plt.plot(p,0.02*(p+4)*(p+1)*(p-1.5)*(p-3.5))\n",
    "plt.gca().annotate('global minimum',\n",
    "            xy=(-3,-1.2), xycoords='data',\n",
    "            horizontalalignment='center', verticalalignment='top')\n",
    "plt.gca().annotate('local minimum',\n",
    "            xy=(2.7,-0.55), xycoords='data',\n",
    "            horizontalalignment='center', verticalalignment='top')\n",
    "plt.xlabel('parameter, $p$')\n",
    "plt.ylabel('cost function, $J$')\n",
    "plt.gca().get_xaxis().set_ticks([])\n",
    "plt.gca().get_yaxis().set_ticks([])"
   ]
  },
  {
   "cell_type": "markdown",
   "metadata": {
    "tags": []
   },
   "source": [
    "The figure above shows the cost function ($J$, y-axis) for a model that depends on one parameter($p$, x-axis).\n",
    "\n",
    "The minimum J must occur when: \n",
    "\n",
    "$\\frac{\\partial J}{\\partial p } = 0$\n",
    "\n",
    "Note that there can be only one global minimum but many local minima. If a cost function is noisy, with many local minima, the parameter optimization problem becomes difficult. Constraining the range of possble parameter values is one way to make the problem easier. There are many algorithms for finding the minimum in $J$. The best approach depends on the problem and the structure of the cost function.\n",
    "\n",
    "### Optimization with two parameters ###\n",
    "\n",
    "##### Example: exponential growth\n",
    "\n",
    "$y = a_1 e^{a_2x}$ - modeling exponential growth\n",
    "\n",
    "This equation means that overall growth rate depends on the population size. For example, if we were trying to model a phytoplankton population, $P$, then the overall growth rate of the population could be expressed as:\n",
    "\n",
    "$\\frac{dP}{dt} = \\mu P$, \n",
    "\n",
    "where the constant $\\mu$ is the specific growth rate $[d^{-1}]$. It is related to the doubling time of the population<br>\n",
    "\n",
    "$\\mu = \\frac{\\ln(2)}{\\text{doubling time}}$.\n",
    "\n",
    "The analytical solution for the population as a function of time is:\n",
    "\n",
    "$P(t) = P_0 e^{\\mu t}$\n",
    "\n",
    "where $P_0$ is the initial population at $t = 0$.\n",
    "\n",
    "\n",
    "If there are two unknown parameters he cost function can be visualized as a topography in _parameter space_. Local minima in $J$ are found in the valleys of the topography. For three dimensions or more, it is harder to visualize the cost function in _parameter hyperspace_, but the idea is the same. \n",
    "\n",
    "!['images/cost_fxn_3.png'](images/cost_fxn_3.png)\n",
    "\n",
    "http://www.scipy-lectures.org/advanced/mathematical_optimization/"
   ]
  },
  {
   "cell_type": "markdown",
   "metadata": {},
   "source": [
    "For two parameters, the optimization problem becomes difficult if the minimum is in a long valley rather than a deep hole. Sometimes this issue can be avoided by scaling the parameters so that their values are of the same order (similar to the approach of standardizing variables in the multiple linear regression problem).\n",
    "\n",
    "The details of different types of algorithms, and their implementation in Python, can be found at http://www.scipy-lectures.org/advanced/mathematical_optimization/"
   ]
  }
 ],
 "metadata": {
  "anaconda-cloud": {},
  "kernelspec": {
   "display_name": "Python 3.10.6 ('data-book')",
   "language": "python",
   "name": "python3"
  },
  "language_info": {
   "codemirror_mode": {
    "name": "ipython",
    "version": 3
   },
   "file_extension": ".py",
   "mimetype": "text/x-python",
   "name": "python",
   "nbconvert_exporter": "python",
   "pygments_lexer": "ipython3",
   "version": "3.10.6"
  },
  "vscode": {
   "interpreter": {
    "hash": "0ef88d3abb6b62f34a20525ce337090c4512fe8aecf32c74604482b944e1c3bd"
   }
  }
 },
 "nbformat": 4,
 "nbformat_minor": 4
}
