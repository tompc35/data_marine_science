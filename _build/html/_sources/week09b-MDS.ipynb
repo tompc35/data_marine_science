{
 "cells": [
  {
   "cell_type": "markdown",
   "metadata": {},
   "source": [
    "## Multidimensional Scaling Analysis\n",
    "\n",
    "Multidimensional scaling analysis (MDS) provides a visual representation of similarity between samples that have multiple variables. MDS is built on the idea of a *distance matrix* that quantifies the dissimilarity between samples.\n",
    "\n",
    "#### Euclidean Distance \n",
    "\n",
    "How far away two points are when plotted as $x$,$y$ coordinates.\n",
    "\n",
    "For three variables, the distance between two samples ($i$ and $j$) can be visualized in three-dimensional space.\n",
    "\n",
    "$d_{ij} =||X_i-X_j|| = \\sqrt{(x_i-x_j)^2 + (y_i-y_j)^2 + (z_i-z_j)^2}$\n",
    "\n",
    "if $X_i = (x_{i}, y_{i}, z_{i})$"
   ]
  },
  {
   "cell_type": "markdown",
   "metadata": {},
   "source": [
    "#### Bray Curtis Distance\n",
    "\n",
    "Often used for identifying differences in community composition based on abundance. If $u$ and $v$ represent two different samples of counts of different groups, the Bray Curtis distance is:\n",
    "\n",
    "$d= \\frac{\\Sigma|u_i-v_i|}{\\Sigma(u_i+v_i)}$\n",
    "\n",
    "if $u$ and $v$ are positive, then 0 < d < 1\n",
    "\n",
    "##### Example\n",
    "\n",
    "In this example, $u$, $v$ and $q$ are three different samples, in which four different groups are counted."
   ]
  },
  {
   "cell_type": "code",
   "execution_count": 2,
   "metadata": {
    "collapsed": true,
    "jupyter": {
     "outputs_hidden": true
    }
   },
   "outputs": [],
   "source": [
    "import numpy as np\n",
    "from scipy.spatial import distance"
   ]
  },
  {
   "cell_type": "code",
   "execution_count": 3,
   "metadata": {
    "collapsed": true,
    "jupyter": {
     "outputs_hidden": true
    }
   },
   "outputs": [],
   "source": [
    "u = [415,200,310,411]\n",
    "v = [615,100,330,203]\n",
    "q = [614,101,331,202]\n",
    "\n",
    "data = np.array([u,v,q])"
   ]
  },
  {
   "cell_type": "code",
   "execution_count": 4,
   "metadata": {},
   "outputs": [
    {
     "name": "stdout",
     "output_type": "stream",
     "text": [
      "[[415 200 310 411]\n",
      " [615 100 330 203]\n",
      " [614 101 331 202]]\n"
     ]
    }
   ],
   "source": [
    "print(data)"
   ]
  },
  {
   "cell_type": "code",
   "execution_count": 5,
   "metadata": {},
   "outputs": [
    {
     "data": {
      "text/plain": [
       "array([[415, 615, 614],\n",
       "       [200, 100, 101],\n",
       "       [310, 330, 331],\n",
       "       [411, 203, 202]])"
      ]
     },
     "execution_count": 5,
     "metadata": {},
     "output_type": "execute_result"
    }
   ],
   "source": [
    "data.T # Transpose so that each column represents a sample"
   ]
  },
  {
   "cell_type": "code",
   "execution_count": 6,
   "metadata": {},
   "outputs": [
    {
     "data": {
      "text/plain": [
       "array([ 0.20433437,  0.20433437,  0.00160256])"
      ]
     },
     "execution_count": 6,
     "metadata": {},
     "output_type": "execute_result"
    }
   ],
   "source": [
    "# compute distances between points\n",
    "dist = distance.pdist(data,'braycurtis')\n",
    "dist"
   ]
  },
  {
   "cell_type": "code",
   "execution_count": 7,
   "metadata": {},
   "outputs": [
    {
     "data": {
      "text/plain": [
       "array([[ 0.        ,  0.20433437,  0.20433437],\n",
       "       [ 0.20433437,  0.        ,  0.00160256],\n",
       "       [ 0.20433437,  0.00160256,  0.        ]])"
      ]
     },
     "execution_count": 7,
     "metadata": {},
     "output_type": "execute_result"
    }
   ],
   "source": [
    "# represent distances as a matrix\n",
    "distmatrix = distance.squareform(dist)\n",
    "distmatrix"
   ]
  },
  {
   "cell_type": "markdown",
   "metadata": {},
   "source": [
    "#### Other measures of distance\n",
    "\n",
    "Python can be used to compute a variety of different distance measures.\n",
    "\n",
    "https://docs.scipy.org/doc/scipy/reference/spatial.distance.html\n",
    "\n",
    "For an excellent resource on the applications of different distance calculations in ecology, including appropriate measures for binary (presence/absence) data, see *A Primer of Ecological Statistics* by Gotelli and Ellison."
   ]
  },
  {
   "cell_type": "markdown",
   "metadata": {},
   "source": [
    "### Types of  multidimensional scaling analysis\n",
    "\n",
    "1) classical MDS\n",
    "\n",
    "Also known as Torgerson MDS or principal coordinate analysis (PCoA)\n",
    "\n",
    "The distance matrix is converted to a similarity matrix. Once this is done, the same steps as PCA are performed:\n",
    "   - compute eigenvectors and eigenvalues\n",
    "   - same as PCA for Euclidean distances\n",
    "   \n",
    "Steps:\n",
    "- create a data matrix\n",
    "- compute a dissimilarity matrix, D, with elements $d_{ij}$\n",
    "- transform the dissimilarity matrix\n",
    "$d^*_{ij} = \\frac{1}{2}d^2_{ij}$\n",
    "- center the dissimilarity matrix\n",
    "$\\delta^*_{ij} = d^*_{ij}-\\bar{d}^*_{i}-\\bar{d}^*_{j}+\\bar{d}^*$\n",
    "\n",
    "- compute the eigenvectors and eigenvalues\n",
    "- if the dissimilarity index is euclidean distance, this is mathematically equivalent to PCA\n",
    "\n",
    "\n",
    "2) Non-metric (iterative) MDS\n",
    "- preserves rank of distance\n",
    "- minimizes stress\n",
    "\n",
    "![images/pcoa.png](images/pcoa.png)\n",
    "![images/pcoa_iterative.png](images/pcoa_iterative.png)\n",
    "\n",
    "[source] http://stats.stackexchange.com/questions/14002/whats-the-difference-between-principal-components-analysis-and-multidimensional\n"
   ]
  },
  {
   "cell_type": "markdown",
   "metadata": {},
   "source": [
    "### Summary of comparison of PCA and MDS\n",
    "- PCA - based on Euclidean distances, good for data without strong skew & data without outliers\n",
    "- PCoA - use when other distance measures are appropriate equivalent to PCA when Euclidean distances used\n",
    "- Non-metric multidimensional scaling (NMDS) - preserves ran order of distance rather than actual values (similar to many non-parametric statistics. One reason for using this type of analysis is that it is less sensitive to outliers."
   ]
  },
  {
   "cell_type": "markdown",
   "metadata": {},
   "source": [
    "### ANOSIM and PermANOVA\n",
    "\n",
    "* determine whether groups of samples are significantly different\n",
    "* are distances WITHIN the groups smaller than the differences BETWEEN groups\n",
    "\n",
    "### Implementing MDS in Python\n",
    "\n",
    "http://scikit-bio.org \n",
    "\n",
    "* Compute distance matrices\n",
    "* Includes PCA functions\n",
    "* Includes PCoA (metric MDS based on distance matrix)\n",
    "* Does not include non-metric MDS\n",
    "* Includes PermANOVA for assessing statistically significant differences\n",
    "\n",
    "https://scikit-learn.org\n",
    "\n",
    "* Computes distance matrices\n",
    "* Includes general MDS function (metric or non-metric)\n",
    "* Includes related analyses such as linear discriminant analysis"
   ]
  }
 ],
 "metadata": {
  "anaconda-cloud": {},
  "kernelspec": {
   "display_name": "Python 3.10.6 ('data-book')",
   "language": "python",
   "name": "python3"
  },
  "language_info": {
   "codemirror_mode": {
    "name": "ipython",
    "version": 3
   },
   "file_extension": ".py",
   "mimetype": "text/x-python",
   "name": "python",
   "nbconvert_exporter": "python",
   "pygments_lexer": "ipython3",
   "version": "3.10.6"
  },
  "vscode": {
   "interpreter": {
    "hash": "0ef88d3abb6b62f34a20525ce337090c4512fe8aecf32c74604482b944e1c3bd"
   }
  }
 },
 "nbformat": 4,
 "nbformat_minor": 4
}
