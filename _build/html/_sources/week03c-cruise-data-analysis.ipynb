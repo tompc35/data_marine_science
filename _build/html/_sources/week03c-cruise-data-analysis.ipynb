{
 "cells": [
  {
   "cell_type": "markdown",
   "metadata": {},
   "source": [
    "# Cruise data analysis in Python\n",
    "\n",
    "## WCOA 2013 data set\n",
    "\n",
    "To download the data used in this tutorial, use the following command in the Terminal (Mac) or Git Bash (Windows).\n",
    "\n",
    "```\n",
    "git clone https://github.com/mlmldata2022/wcoa_cruise.git\n",
    "```\n",
    "\n",
    "The data comes from the West Coast Ocean Acidification (WCOA) cruise in 2013. The goal of this NOAA-supported research cruise is to collect data to help understand the effects of coastal upwelling on ocean acidification, and the impacts of ocean acidification on organisms and ecosystems. [This video](https://www.youtube.com/watch?v=Eesi6e03Yx0&t=134s) gives an idea of life aboard the ship and the type of science operations conducted.\n",
    "\n",
    "In this part of the tutorial, we will go over the basics of working with dates in Pandas and Numpy, make some exploratory plots and start a regression analysis. The data exploration will be largely guided by student interest."
   ]
  },
  {
   "cell_type": "code",
   "execution_count": 39,
   "metadata": {},
   "outputs": [],
   "source": [
    "import numpy as np\n",
    "import pandas as pd\n",
    "from matplotlib import pyplot as plt\n",
    "from scipy import stats"
   ]
  },
  {
   "cell_type": "markdown",
   "metadata": {},
   "source": [
    "### Introduction to Pandas dataframes"
   ]
  },
  {
   "cell_type": "markdown",
   "metadata": {},
   "source": [
    "We use Pandas to import the csv data file. \n",
    "\n",
    "Here, there is an optional `parse_dates` argument. The numbers in double brackets `[[8,9]]` indicate which columns to interpret as dates."
   ]
  },
  {
   "cell_type": "code",
   "execution_count": 2,
   "metadata": {},
   "outputs": [],
   "source": [
    "filename = 'data/wcoa_cruise/WCOA2013_hy1.csv'\n",
    "df = pd.read_csv(filename,header=31,na_values=-999,\n",
    "                 parse_dates=[[8,9]])"
   ]
  },
  {
   "cell_type": "code",
   "execution_count": 3,
   "metadata": {},
   "outputs": [
    {
     "data": {
      "text/html": [
       "<div>\n",
       "<style scoped>\n",
       "    .dataframe tbody tr th:only-of-type {\n",
       "        vertical-align: middle;\n",
       "    }\n",
       "\n",
       "    .dataframe tbody tr th {\n",
       "        vertical-align: top;\n",
       "    }\n",
       "\n",
       "    .dataframe thead th {\n",
       "        text-align: right;\n",
       "    }\n",
       "</style>\n",
       "<table border=\"1\" class=\"dataframe\">\n",
       "  <thead>\n",
       "    <tr style=\"text-align: right;\">\n",
       "      <th></th>\n",
       "      <th>DATE_TIME</th>\n",
       "      <th>EXPOCODE</th>\n",
       "      <th>SECT_ID</th>\n",
       "      <th>LEG</th>\n",
       "      <th>LINE</th>\n",
       "      <th>STNNBR</th>\n",
       "      <th>CASTNO</th>\n",
       "      <th>BTLNBR</th>\n",
       "      <th>BTLNBR_FLAG_W</th>\n",
       "      <th>LATITUDE</th>\n",
       "      <th>...</th>\n",
       "      <th>TCARBN</th>\n",
       "      <th>TCARBN_FLAG_W</th>\n",
       "      <th>ALKALI</th>\n",
       "      <th>ALKALI_FLAG_W</th>\n",
       "      <th>PH_TOT</th>\n",
       "      <th>PH_TOT_FLAG_W</th>\n",
       "      <th>PH_TMP</th>\n",
       "      <th>CO32</th>\n",
       "      <th>CO32__FLAG_W</th>\n",
       "      <th>CHLORA</th>\n",
       "    </tr>\n",
       "  </thead>\n",
       "  <tbody>\n",
       "    <tr>\n",
       "      <th>0</th>\n",
       "      <td>2013-08-05 02:12:20</td>\n",
       "      <td>317W20130803</td>\n",
       "      <td>WCOA2013</td>\n",
       "      <td>1</td>\n",
       "      <td>2</td>\n",
       "      <td>11</td>\n",
       "      <td>1</td>\n",
       "      <td>1</td>\n",
       "      <td>2</td>\n",
       "      <td>48.2</td>\n",
       "      <td>...</td>\n",
       "      <td>2370.2</td>\n",
       "      <td>2</td>\n",
       "      <td>2369.0</td>\n",
       "      <td>2</td>\n",
       "      <td>7.294</td>\n",
       "      <td>2</td>\n",
       "      <td>25.0</td>\n",
       "      <td>NaN</td>\n",
       "      <td>9</td>\n",
       "      <td>NaN</td>\n",
       "    </tr>\n",
       "    <tr>\n",
       "      <th>1</th>\n",
       "      <td>2013-08-05 02:12:53</td>\n",
       "      <td>317W20130803</td>\n",
       "      <td>WCOA2013</td>\n",
       "      <td>1</td>\n",
       "      <td>2</td>\n",
       "      <td>11</td>\n",
       "      <td>1</td>\n",
       "      <td>2</td>\n",
       "      <td>2</td>\n",
       "      <td>48.2</td>\n",
       "      <td>...</td>\n",
       "      <td>NaN</td>\n",
       "      <td>9</td>\n",
       "      <td>NaN</td>\n",
       "      <td>9</td>\n",
       "      <td>7.295</td>\n",
       "      <td>2</td>\n",
       "      <td>25.0</td>\n",
       "      <td>NaN</td>\n",
       "      <td>9</td>\n",
       "      <td>NaN</td>\n",
       "    </tr>\n",
       "    <tr>\n",
       "      <th>2</th>\n",
       "      <td>2013-08-05 02:19:58</td>\n",
       "      <td>317W20130803</td>\n",
       "      <td>WCOA2013</td>\n",
       "      <td>1</td>\n",
       "      <td>2</td>\n",
       "      <td>11</td>\n",
       "      <td>1</td>\n",
       "      <td>3</td>\n",
       "      <td>2</td>\n",
       "      <td>48.2</td>\n",
       "      <td>...</td>\n",
       "      <td>2349.6</td>\n",
       "      <td>2</td>\n",
       "      <td>2343.7</td>\n",
       "      <td>2</td>\n",
       "      <td>7.282</td>\n",
       "      <td>2</td>\n",
       "      <td>25.0</td>\n",
       "      <td>43.521</td>\n",
       "      <td>3</td>\n",
       "      <td>NaN</td>\n",
       "    </tr>\n",
       "    <tr>\n",
       "      <th>3</th>\n",
       "      <td>2013-08-05 02:27:01</td>\n",
       "      <td>317W20130803</td>\n",
       "      <td>WCOA2013</td>\n",
       "      <td>1</td>\n",
       "      <td>2</td>\n",
       "      <td>11</td>\n",
       "      <td>1</td>\n",
       "      <td>4</td>\n",
       "      <td>2</td>\n",
       "      <td>48.2</td>\n",
       "      <td>...</td>\n",
       "      <td>2318.7</td>\n",
       "      <td>2</td>\n",
       "      <td>2311.9</td>\n",
       "      <td>2</td>\n",
       "      <td>7.287</td>\n",
       "      <td>2</td>\n",
       "      <td>25.0</td>\n",
       "      <td>45.641</td>\n",
       "      <td>2</td>\n",
       "      <td>NaN</td>\n",
       "    </tr>\n",
       "    <tr>\n",
       "      <th>4</th>\n",
       "      <td>2013-08-05 02:30:53</td>\n",
       "      <td>317W20130803</td>\n",
       "      <td>WCOA2013</td>\n",
       "      <td>1</td>\n",
       "      <td>2</td>\n",
       "      <td>11</td>\n",
       "      <td>1</td>\n",
       "      <td>5</td>\n",
       "      <td>2</td>\n",
       "      <td>48.2</td>\n",
       "      <td>...</td>\n",
       "      <td>2300.0</td>\n",
       "      <td>2</td>\n",
       "      <td>2299.7</td>\n",
       "      <td>2</td>\n",
       "      <td>7.308</td>\n",
       "      <td>2</td>\n",
       "      <td>25.0</td>\n",
       "      <td>47.741</td>\n",
       "      <td>2</td>\n",
       "      <td>NaN</td>\n",
       "    </tr>\n",
       "  </tbody>\n",
       "</table>\n",
       "<p>5 rows × 42 columns</p>\n",
       "</div>"
      ],
      "text/plain": [
       "            DATE_TIME      EXPOCODE   SECT_ID  LEG LINE  STNNBR  CASTNO  \\\n",
       "0 2013-08-05 02:12:20  317W20130803  WCOA2013    1    2      11       1   \n",
       "1 2013-08-05 02:12:53  317W20130803  WCOA2013    1    2      11       1   \n",
       "2 2013-08-05 02:19:58  317W20130803  WCOA2013    1    2      11       1   \n",
       "3 2013-08-05 02:27:01  317W20130803  WCOA2013    1    2      11       1   \n",
       "4 2013-08-05 02:30:53  317W20130803  WCOA2013    1    2      11       1   \n",
       "\n",
       "   BTLNBR  BTLNBR_FLAG_W  LATITUDE  ...  TCARBN  TCARBN_FLAG_W  ALKALI  \\\n",
       "0       1              2      48.2  ...  2370.2              2  2369.0   \n",
       "1       2              2      48.2  ...     NaN              9     NaN   \n",
       "2       3              2      48.2  ...  2349.6              2  2343.7   \n",
       "3       4              2      48.2  ...  2318.7              2  2311.9   \n",
       "4       5              2      48.2  ...  2300.0              2  2299.7   \n",
       "\n",
       "   ALKALI_FLAG_W  PH_TOT  PH_TOT_FLAG_W  PH_TMP    CO32  CO32__FLAG_W  CHLORA  \n",
       "0              2   7.294              2    25.0     NaN             9     NaN  \n",
       "1              9   7.295              2    25.0     NaN             9     NaN  \n",
       "2              2   7.282              2    25.0  43.521             3     NaN  \n",
       "3              2   7.287              2    25.0  45.641             2     NaN  \n",
       "4              2   7.308              2    25.0  47.741             2     NaN  \n",
       "\n",
       "[5 rows x 42 columns]"
      ]
     },
     "execution_count": 3,
     "metadata": {},
     "output_type": "execute_result"
    }
   ],
   "source": [
    "df.head()"
   ]
  },
  {
   "cell_type": "code",
   "execution_count": 4,
   "metadata": {},
   "outputs": [
    {
     "data": {
      "text/plain": [
       "Index(['DATE_TIME', 'EXPOCODE', 'SECT_ID', 'LEG', 'LINE', 'STNNBR', 'CASTNO',\n",
       "       'BTLNBR', 'BTLNBR_FLAG_W', 'LATITUDE', 'LONGITUDE', 'DEPTH', 'CTDPRS',\n",
       "       'CTDTMP', 'CTDSAL', 'CTDSAL_FLAG_W', 'CTDOXY', 'CTDOXY_FLAG_W',\n",
       "       'SALNTY', 'SALNTY_FLAG_W', 'OXYGEN', 'OXYGEN_FLAG_W', 'SILCAT',\n",
       "       'SILCAT_FLAG_W', 'NITRAT', 'NITRAT_FLAG_W', 'NITRIT', 'NITRIT_FLAG_W',\n",
       "       'PHSPHT', 'PHSPHT_FLAG_W', 'AMMONI', 'AMMONI_FLAG_W', 'TCARBN',\n",
       "       'TCARBN_FLAG_W', 'ALKALI', 'ALKALI_FLAG_W', 'PH_TOT', 'PH_TOT_FLAG_W',\n",
       "       'PH_TMP', 'CO32', 'CO32__FLAG_W', 'CHLORA'],\n",
       "      dtype='object')"
      ]
     },
     "execution_count": 4,
     "metadata": {},
     "output_type": "execute_result"
    }
   ],
   "source": [
    "df.columns"
   ]
  },
  {
   "cell_type": "markdown",
   "metadata": {},
   "source": [
    "Instead of strings, the dates are now in a special `datetime64` format. This means that, instead of treating the dates in the same way as any other collection of characters, pandas and NumPy can understand how this variable represents time."
   ]
  },
  {
   "cell_type": "code",
   "execution_count": 5,
   "metadata": {},
   "outputs": [
    {
     "data": {
      "text/plain": [
       "0   2013-08-05 02:12:20\n",
       "1   2013-08-05 02:12:53\n",
       "2   2013-08-05 02:19:58\n",
       "3   2013-08-05 02:27:01\n",
       "4   2013-08-05 02:30:53\n",
       "Name: DATE_TIME, dtype: datetime64[ns]"
      ]
     },
     "execution_count": 5,
     "metadata": {},
     "output_type": "execute_result"
    }
   ],
   "source": [
    "df['DATE_TIME'].head()"
   ]
  },
  {
   "cell_type": "markdown",
   "metadata": {},
   "source": [
    "For example, subtracting `datetime64` objects with pandas gives a `Timedelta` object, which is specifically used to represent differences between times. The first two samples in the cruise data are separated by 33 seconds (the time between firing of bottles)."
   ]
  },
  {
   "cell_type": "code",
   "execution_count": 6,
   "metadata": {},
   "outputs": [
    {
     "data": {
      "text/plain": [
       "Timedelta('0 days 00:00:33')"
      ]
     },
     "execution_count": 6,
     "metadata": {},
     "output_type": "execute_result"
    }
   ],
   "source": [
    "df['DATE_TIME'][1]-df['DATE_TIME'][0]"
   ]
  },
  {
   "cell_type": "code",
   "execution_count": 7,
   "metadata": {},
   "outputs": [
    {
     "data": {
      "text/plain": [
       "array([48.2 , 48.3 , 48.37, 48.44, 48.5 , 48.53, 48.61, 48.66, 48.71,\n",
       "       48.78, 48.81, 48.84, 47.97, 48.14, 47.96, 47.68, 47.13, 47.11,\n",
       "       47.12, 47.34, 46.13, 46.17, 46.19, 46.25, 46.24, 46.12, 44.65,\n",
       "       44.66, 44.2 , 41.99, 41.97, 41.96, 41.94, 41.9 , 40.25, 40.23,\n",
       "       40.22, 40.21, 40.1 , 37.67, 37.94, 37.91, 37.87, 37.76, 37.75,\n",
       "       36.8 , 36.78, 36.76, 36.73, 36.71, 36.69, 36.52, 36.7 ])"
      ]
     },
     "execution_count": 7,
     "metadata": {},
     "output_type": "execute_result"
    }
   ],
   "source": [
    "pd.unique(df['LATITUDE'])"
   ]
  },
  {
   "cell_type": "markdown",
   "metadata": {},
   "source": [
    "#### Exercise\n",
    "\n",
    "Create a list of unique station ID’s (“STNNBR”) found in the survey data. Call it `stns`. How many unique stations are there in the data? \n",
    "\n",
    "\n"
   ]
  },
  {
   "cell_type": "markdown",
   "metadata": {},
   "source": [
    "### Summary statistics"
   ]
  },
  {
   "cell_type": "markdown",
   "metadata": {},
   "source": [
    "A summary of the dataframe is given by the `.describe()` method."
   ]
  },
  {
   "cell_type": "code",
   "execution_count": 8,
   "metadata": {},
   "outputs": [
    {
     "data": {
      "text/plain": [
       "count    969.000000\n",
       "mean       8.993954\n",
       "std        3.055917\n",
       "min        1.738200\n",
       "25%        7.292000\n",
       "50%        8.328200\n",
       "75%       10.752200\n",
       "max       20.747400\n",
       "Name: CTDTMP, dtype: float64"
      ]
     },
     "execution_count": 8,
     "metadata": {},
     "output_type": "execute_result"
    }
   ],
   "source": [
    "df['CTDTMP'].describe()"
   ]
  },
  {
   "cell_type": "markdown",
   "metadata": {},
   "source": [
    "These summary statistics can also be accessed individually with similar syntax."
   ]
  },
  {
   "cell_type": "code",
   "execution_count": 9,
   "metadata": {},
   "outputs": [
    {
     "data": {
      "text/plain": [
       "8.993954179566563"
      ]
     },
     "execution_count": 9,
     "metadata": {},
     "output_type": "execute_result"
    }
   ],
   "source": [
    "df['CTDTMP'].mean()"
   ]
  },
  {
   "cell_type": "code",
   "execution_count": 10,
   "metadata": {},
   "outputs": [
    {
     "data": {
      "text/plain": [
       "1.7382"
      ]
     },
     "execution_count": 10,
     "metadata": {},
     "output_type": "execute_result"
    }
   ],
   "source": [
    "df['CTDTMP'].min()"
   ]
  },
  {
   "cell_type": "markdown",
   "metadata": {},
   "source": [
    "Alternate method using Numpy functions."
   ]
  },
  {
   "cell_type": "code",
   "execution_count": 11,
   "metadata": {},
   "outputs": [
    {
     "data": {
      "text/plain": [
       "1.7382"
      ]
     },
     "execution_count": 11,
     "metadata": {},
     "output_type": "execute_result"
    }
   ],
   "source": [
    "np.min(df['CTDTMP'])"
   ]
  },
  {
   "cell_type": "markdown",
   "metadata": {},
   "source": [
    "### Mathematical operations"
   ]
  },
  {
   "cell_type": "markdown",
   "metadata": {},
   "source": [
    "Converting Celcius to Fahrenheit"
   ]
  },
  {
   "cell_type": "code",
   "execution_count": 12,
   "metadata": {},
   "outputs": [],
   "source": [
    "df['CTDTMP_F'] = 9/5*df['CTDTMP'] + 32 "
   ]
  },
  {
   "cell_type": "code",
   "execution_count": 13,
   "metadata": {},
   "outputs": [
    {
     "data": {
      "text/plain": [
       "0    38.63894\n",
       "1    38.64236\n",
       "2    39.85916\n",
       "3    41.05328\n",
       "4    41.82404\n",
       "Name: CTDTMP_F, dtype: float64"
      ]
     },
     "execution_count": 13,
     "metadata": {},
     "output_type": "execute_result"
    }
   ],
   "source": [
    "df['CTDTMP_F'].head()"
   ]
  },
  {
   "cell_type": "code",
   "execution_count": 14,
   "metadata": {},
   "outputs": [
    {
     "data": {
      "text/plain": [
       "0    3.6883\n",
       "1    3.6902\n",
       "2    4.3662\n",
       "3    5.0296\n",
       "4    5.4578\n",
       "Name: CTDTMP, dtype: float64"
      ]
     },
     "execution_count": 14,
     "metadata": {},
     "output_type": "execute_result"
    }
   ],
   "source": [
    "df['CTDTMP'].head()"
   ]
  },
  {
   "cell_type": "markdown",
   "metadata": {},
   "source": [
    "### Plotting"
   ]
  },
  {
   "cell_type": "markdown",
   "metadata": {},
   "source": [
    "Plot latitude as a function of time."
   ]
  },
  {
   "cell_type": "code",
   "execution_count": 15,
   "metadata": {},
   "outputs": [
    {
     "data": {
      "text/plain": [
       "(array([15922., 15926., 15930., 15934., 15938., 15942., 15946.]),\n",
       " [Text(0, 0, ''),\n",
       "  Text(0, 0, ''),\n",
       "  Text(0, 0, ''),\n",
       "  Text(0, 0, ''),\n",
       "  Text(0, 0, ''),\n",
       "  Text(0, 0, ''),\n",
       "  Text(0, 0, '')])"
      ]
     },
     "execution_count": 15,
     "metadata": {},
     "output_type": "execute_result"
    },
    {
     "data": {
      "image/png": "[encoded data removed]",
      "text/plain": [
       "<Figure size 432x288 with 1 Axes>"
      ]
     },
     "metadata": {
      "needs_background": "light"
     },
     "output_type": "display_data"
    }
   ],
   "source": [
    "plt.figure()\n",
    "plt.plot(df['DATE_TIME'],df['LATITUDE'],'-o')\n",
    "plt.xticks(rotation=15)"
   ]
  },
  {
   "cell_type": "markdown",
   "metadata": {},
   "source": [
    "The `pyplot` library automatically understands `datetime64` objects so it is easy to see how the ship moved between stations from north to south as weeks passed."
   ]
  },
  {
   "cell_type": "code",
   "execution_count": 16,
   "metadata": {},
   "outputs": [
    {
     "data": {
      "text/plain": [
       "[<matplotlib.lines.Line2D at 0x7fac22c3e9d0>]"
      ]
     },
     "execution_count": 16,
     "metadata": {},
     "output_type": "execute_result"
    },
    {
     "data": {
      "image/png": "[encoded data removed]",
      "text/plain": [
       "<Figure size 432x288 with 1 Axes>"
      ]
     },
     "metadata": {
      "needs_background": "light"
     },
     "output_type": "display_data"
    }
   ],
   "source": [
    "plt.figure()\n",
    "plt.plot(df['LONGITUDE'], df['LATITUDE'], 'ro')"
   ]
  },
  {
   "cell_type": "markdown",
   "metadata": {},
   "source": [
    "The `scatter()` function allows points to be colored according to the value of a variable. In the case of dates, later dates are shown as warmer colors."
   ]
  },
  {
   "cell_type": "code",
   "execution_count": 17,
   "metadata": {},
   "outputs": [
    {
     "data": {
      "text/plain": [
       "<matplotlib.collections.PathCollection at 0x7fac22cdffa0>"
      ]
     },
     "execution_count": 17,
     "metadata": {},
     "output_type": "execute_result"
    },
    {
     "data": {
      "image/png": "[encoded data removed]",
      "text/plain": [
       "<Figure size 432x288 with 1 Axes>"
      ]
     },
     "metadata": {
      "needs_background": "light"
     },
     "output_type": "display_data"
    }
   ],
   "source": [
    "plt.figure()\n",
    "plt.scatter(df['LONGITUDE'],df['LATITUDE'],c=df['DATE_TIME'])"
   ]
  },
  {
   "cell_type": "markdown",
   "metadata": {},
   "source": [
    "Note that the vertical coordinate is pressure (not depth, which indicates the bottom depth rather than the depth of the sample). To plot dissolved oxygen with depth:"
   ]
  },
  {
   "cell_type": "code",
   "execution_count": 18,
   "metadata": {},
   "outputs": [
    {
     "data": {
      "text/plain": [
       "Text(0, 0.5, 'pressure[dbar]')"
      ]
     },
     "execution_count": 18,
     "metadata": {},
     "output_type": "execute_result"
    },
    {
     "data": {
      "image/png": "[encoded data removed]",
      "text/plain": [
       "<Figure size 432x288 with 1 Axes>"
      ]
     },
     "metadata": {
      "needs_background": "light"
     },
     "output_type": "display_data"
    }
   ],
   "source": [
    "plt.figure()\n",
    "plt.plot(df['OXYGEN'],df['CTDPRS'],'.')\n",
    "plt.gca().invert_yaxis()\n",
    "\n",
    "plt.xlabel('$O_2 [\\mu M]$')\n",
    "plt.ylabel('pressure[dbar]')"
   ]
  },
  {
   "cell_type": "code",
   "execution_count": 19,
   "metadata": {},
   "outputs": [
    {
     "data": {
      "text/plain": [
       "<AxesSubplot:>"
      ]
     },
     "execution_count": 19,
     "metadata": {},
     "output_type": "execute_result"
    },
    {
     "data": {
      "image/png": "[encoded data removed]",
      "text/plain": [
       "<Figure size 432x288 with 1 Axes>"
      ]
     },
     "metadata": {
      "needs_background": "light"
     },
     "output_type": "display_data"
    }
   ],
   "source": [
    "plt.figure()\n",
    "df['CTDTMP'].hist()"
   ]
  },
  {
   "cell_type": "code",
   "execution_count": 20,
   "metadata": {},
   "outputs": [
    {
     "data": {
      "text/plain": [
       "<AxesSubplot:>"
      ]
     },
     "execution_count": 20,
     "metadata": {},
     "output_type": "execute_result"
    },
    {
     "data": {
      "image/png": "[encoded data removed]",
      "text/plain": [
       "<Figure size 432x288 with 1 Axes>"
      ]
     },
     "metadata": {
      "needs_background": "light"
     },
     "output_type": "display_data"
    }
   ],
   "source": [
    "plt.figure()\n",
    "df['CTDTMP'].hist(bins=50)"
   ]
  },
  {
   "cell_type": "code",
   "execution_count": 21,
   "metadata": {},
   "outputs": [
    {
     "data": {
      "text/plain": [
       "Index(['DATE_TIME', 'EXPOCODE', 'SECT_ID', 'LEG', 'LINE', 'STNNBR', 'CASTNO',\n",
       "       'BTLNBR', 'BTLNBR_FLAG_W', 'LATITUDE', 'LONGITUDE', 'DEPTH', 'CTDPRS',\n",
       "       'CTDTMP', 'CTDSAL', 'CTDSAL_FLAG_W', 'CTDOXY', 'CTDOXY_FLAG_W',\n",
       "       'SALNTY', 'SALNTY_FLAG_W', 'OXYGEN', 'OXYGEN_FLAG_W', 'SILCAT',\n",
       "       'SILCAT_FLAG_W', 'NITRAT', 'NITRAT_FLAG_W', 'NITRIT', 'NITRIT_FLAG_W',\n",
       "       'PHSPHT', 'PHSPHT_FLAG_W', 'AMMONI', 'AMMONI_FLAG_W', 'TCARBN',\n",
       "       'TCARBN_FLAG_W', 'ALKALI', 'ALKALI_FLAG_W', 'PH_TOT', 'PH_TOT_FLAG_W',\n",
       "       'PH_TMP', 'CO32', 'CO32__FLAG_W', 'CHLORA', 'CTDTMP_F'],\n",
       "      dtype='object')"
      ]
     },
     "execution_count": 21,
     "metadata": {},
     "output_type": "execute_result"
    }
   ],
   "source": [
    "df.keys()"
   ]
  },
  {
   "cell_type": "markdown",
   "metadata": {},
   "source": [
    "#### Exercises\n",
    "\n",
    "* What scientific questions can be addressed with this data set?\n",
    "* What relationships might occur between different variables?\n",
    "* What differences might occur within the same variables, but at different locations or times?\n",
    "* Create exploratory plots (one PDF, one scatter plot)"
   ]
  },
  {
   "cell_type": "markdown",
   "metadata": {},
   "source": [
    "## Slicing and subsetting data"
   ]
  },
  {
   "cell_type": "code",
   "execution_count": 22,
   "metadata": {},
   "outputs": [
    {
     "data": {
      "text/html": [
       "<div>\n",
       "<style scoped>\n",
       "    .dataframe tbody tr th:only-of-type {\n",
       "        vertical-align: middle;\n",
       "    }\n",
       "\n",
       "    .dataframe tbody tr th {\n",
       "        vertical-align: top;\n",
       "    }\n",
       "\n",
       "    .dataframe thead th {\n",
       "        text-align: right;\n",
       "    }\n",
       "</style>\n",
       "<table border=\"1\" class=\"dataframe\">\n",
       "  <thead>\n",
       "    <tr style=\"text-align: right;\">\n",
       "      <th></th>\n",
       "      <th>DATE_TIME</th>\n",
       "      <th>EXPOCODE</th>\n",
       "      <th>SECT_ID</th>\n",
       "      <th>LEG</th>\n",
       "      <th>LINE</th>\n",
       "      <th>STNNBR</th>\n",
       "      <th>CASTNO</th>\n",
       "      <th>BTLNBR</th>\n",
       "      <th>BTLNBR_FLAG_W</th>\n",
       "      <th>LATITUDE</th>\n",
       "      <th>...</th>\n",
       "      <th>TCARBN_FLAG_W</th>\n",
       "      <th>ALKALI</th>\n",
       "      <th>ALKALI_FLAG_W</th>\n",
       "      <th>PH_TOT</th>\n",
       "      <th>PH_TOT_FLAG_W</th>\n",
       "      <th>PH_TMP</th>\n",
       "      <th>CO32</th>\n",
       "      <th>CO32__FLAG_W</th>\n",
       "      <th>CHLORA</th>\n",
       "      <th>CTDTMP_F</th>\n",
       "    </tr>\n",
       "  </thead>\n",
       "  <tbody>\n",
       "    <tr>\n",
       "      <th>0</th>\n",
       "      <td>2013-08-05 02:12:20</td>\n",
       "      <td>317W20130803</td>\n",
       "      <td>WCOA2013</td>\n",
       "      <td>1</td>\n",
       "      <td>2</td>\n",
       "      <td>11</td>\n",
       "      <td>1</td>\n",
       "      <td>1</td>\n",
       "      <td>2</td>\n",
       "      <td>48.2</td>\n",
       "      <td>...</td>\n",
       "      <td>2</td>\n",
       "      <td>2369.0</td>\n",
       "      <td>2</td>\n",
       "      <td>7.294</td>\n",
       "      <td>2</td>\n",
       "      <td>25.0</td>\n",
       "      <td>NaN</td>\n",
       "      <td>9</td>\n",
       "      <td>NaN</td>\n",
       "      <td>38.63894</td>\n",
       "    </tr>\n",
       "    <tr>\n",
       "      <th>1</th>\n",
       "      <td>2013-08-05 02:12:53</td>\n",
       "      <td>317W20130803</td>\n",
       "      <td>WCOA2013</td>\n",
       "      <td>1</td>\n",
       "      <td>2</td>\n",
       "      <td>11</td>\n",
       "      <td>1</td>\n",
       "      <td>2</td>\n",
       "      <td>2</td>\n",
       "      <td>48.2</td>\n",
       "      <td>...</td>\n",
       "      <td>9</td>\n",
       "      <td>NaN</td>\n",
       "      <td>9</td>\n",
       "      <td>7.295</td>\n",
       "      <td>2</td>\n",
       "      <td>25.0</td>\n",
       "      <td>NaN</td>\n",
       "      <td>9</td>\n",
       "      <td>NaN</td>\n",
       "      <td>38.64236</td>\n",
       "    </tr>\n",
       "    <tr>\n",
       "      <th>2</th>\n",
       "      <td>2013-08-05 02:19:58</td>\n",
       "      <td>317W20130803</td>\n",
       "      <td>WCOA2013</td>\n",
       "      <td>1</td>\n",
       "      <td>2</td>\n",
       "      <td>11</td>\n",
       "      <td>1</td>\n",
       "      <td>3</td>\n",
       "      <td>2</td>\n",
       "      <td>48.2</td>\n",
       "      <td>...</td>\n",
       "      <td>2</td>\n",
       "      <td>2343.7</td>\n",
       "      <td>2</td>\n",
       "      <td>7.282</td>\n",
       "      <td>2</td>\n",
       "      <td>25.0</td>\n",
       "      <td>43.521</td>\n",
       "      <td>3</td>\n",
       "      <td>NaN</td>\n",
       "      <td>39.85916</td>\n",
       "    </tr>\n",
       "  </tbody>\n",
       "</table>\n",
       "<p>3 rows × 43 columns</p>\n",
       "</div>"
      ],
      "text/plain": [
       "            DATE_TIME      EXPOCODE   SECT_ID  LEG LINE  STNNBR  CASTNO  \\\n",
       "0 2013-08-05 02:12:20  317W20130803  WCOA2013    1    2      11       1   \n",
       "1 2013-08-05 02:12:53  317W20130803  WCOA2013    1    2      11       1   \n",
       "2 2013-08-05 02:19:58  317W20130803  WCOA2013    1    2      11       1   \n",
       "\n",
       "   BTLNBR  BTLNBR_FLAG_W  LATITUDE  ...  TCARBN_FLAG_W  ALKALI  ALKALI_FLAG_W  \\\n",
       "0       1              2      48.2  ...              2  2369.0              2   \n",
       "1       2              2      48.2  ...              9     NaN              9   \n",
       "2       3              2      48.2  ...              2  2343.7              2   \n",
       "\n",
       "   PH_TOT  PH_TOT_FLAG_W  PH_TMP    CO32  CO32__FLAG_W  CHLORA  CTDTMP_F  \n",
       "0   7.294              2    25.0     NaN             9     NaN  38.63894  \n",
       "1   7.295              2    25.0     NaN             9     NaN  38.64236  \n",
       "2   7.282              2    25.0  43.521             3     NaN  39.85916  \n",
       "\n",
       "[3 rows x 43 columns]"
      ]
     },
     "execution_count": 22,
     "metadata": {},
     "output_type": "execute_result"
    }
   ],
   "source": [
    "df[0:3]"
   ]
  },
  {
   "cell_type": "code",
   "execution_count": 23,
   "metadata": {},
   "outputs": [
    {
     "data": {
      "text/html": [
       "<div>\n",
       "<style scoped>\n",
       "    .dataframe tbody tr th:only-of-type {\n",
       "        vertical-align: middle;\n",
       "    }\n",
       "\n",
       "    .dataframe tbody tr th {\n",
       "        vertical-align: top;\n",
       "    }\n",
       "\n",
       "    .dataframe thead th {\n",
       "        text-align: right;\n",
       "    }\n",
       "</style>\n",
       "<table border=\"1\" class=\"dataframe\">\n",
       "  <thead>\n",
       "    <tr style=\"text-align: right;\">\n",
       "      <th></th>\n",
       "      <th>DATE_TIME</th>\n",
       "      <th>EXPOCODE</th>\n",
       "      <th>SECT_ID</th>\n",
       "      <th>LEG</th>\n",
       "      <th>LINE</th>\n",
       "      <th>STNNBR</th>\n",
       "      <th>CASTNO</th>\n",
       "      <th>BTLNBR</th>\n",
       "      <th>BTLNBR_FLAG_W</th>\n",
       "      <th>LATITUDE</th>\n",
       "      <th>...</th>\n",
       "      <th>TCARBN_FLAG_W</th>\n",
       "      <th>ALKALI</th>\n",
       "      <th>ALKALI_FLAG_W</th>\n",
       "      <th>PH_TOT</th>\n",
       "      <th>PH_TOT_FLAG_W</th>\n",
       "      <th>PH_TMP</th>\n",
       "      <th>CO32</th>\n",
       "      <th>CO32__FLAG_W</th>\n",
       "      <th>CHLORA</th>\n",
       "      <th>CTDTMP_F</th>\n",
       "    </tr>\n",
       "  </thead>\n",
       "  <tbody>\n",
       "    <tr>\n",
       "      <th>0</th>\n",
       "      <td>2013-08-05 02:12:20</td>\n",
       "      <td>317W20130803</td>\n",
       "      <td>WCOA2013</td>\n",
       "      <td>1</td>\n",
       "      <td>2</td>\n",
       "      <td>11</td>\n",
       "      <td>1</td>\n",
       "      <td>1</td>\n",
       "      <td>2</td>\n",
       "      <td>48.2</td>\n",
       "      <td>...</td>\n",
       "      <td>2</td>\n",
       "      <td>2369.0</td>\n",
       "      <td>2</td>\n",
       "      <td>7.294</td>\n",
       "      <td>2</td>\n",
       "      <td>25.0</td>\n",
       "      <td>NaN</td>\n",
       "      <td>9</td>\n",
       "      <td>NaN</td>\n",
       "      <td>38.63894</td>\n",
       "    </tr>\n",
       "    <tr>\n",
       "      <th>1</th>\n",
       "      <td>2013-08-05 02:12:53</td>\n",
       "      <td>317W20130803</td>\n",
       "      <td>WCOA2013</td>\n",
       "      <td>1</td>\n",
       "      <td>2</td>\n",
       "      <td>11</td>\n",
       "      <td>1</td>\n",
       "      <td>2</td>\n",
       "      <td>2</td>\n",
       "      <td>48.2</td>\n",
       "      <td>...</td>\n",
       "      <td>9</td>\n",
       "      <td>NaN</td>\n",
       "      <td>9</td>\n",
       "      <td>7.295</td>\n",
       "      <td>2</td>\n",
       "      <td>25.0</td>\n",
       "      <td>NaN</td>\n",
       "      <td>9</td>\n",
       "      <td>NaN</td>\n",
       "      <td>38.64236</td>\n",
       "    </tr>\n",
       "    <tr>\n",
       "      <th>2</th>\n",
       "      <td>2013-08-05 02:19:58</td>\n",
       "      <td>317W20130803</td>\n",
       "      <td>WCOA2013</td>\n",
       "      <td>1</td>\n",
       "      <td>2</td>\n",
       "      <td>11</td>\n",
       "      <td>1</td>\n",
       "      <td>3</td>\n",
       "      <td>2</td>\n",
       "      <td>48.2</td>\n",
       "      <td>...</td>\n",
       "      <td>2</td>\n",
       "      <td>2343.7</td>\n",
       "      <td>2</td>\n",
       "      <td>7.282</td>\n",
       "      <td>2</td>\n",
       "      <td>25.0</td>\n",
       "      <td>43.521</td>\n",
       "      <td>3</td>\n",
       "      <td>NaN</td>\n",
       "      <td>39.85916</td>\n",
       "    </tr>\n",
       "  </tbody>\n",
       "</table>\n",
       "<p>3 rows × 43 columns</p>\n",
       "</div>"
      ],
      "text/plain": [
       "            DATE_TIME      EXPOCODE   SECT_ID  LEG LINE  STNNBR  CASTNO  \\\n",
       "0 2013-08-05 02:12:20  317W20130803  WCOA2013    1    2      11       1   \n",
       "1 2013-08-05 02:12:53  317W20130803  WCOA2013    1    2      11       1   \n",
       "2 2013-08-05 02:19:58  317W20130803  WCOA2013    1    2      11       1   \n",
       "\n",
       "   BTLNBR  BTLNBR_FLAG_W  LATITUDE  ...  TCARBN_FLAG_W  ALKALI  ALKALI_FLAG_W  \\\n",
       "0       1              2      48.2  ...              2  2369.0              2   \n",
       "1       2              2      48.2  ...              9     NaN              9   \n",
       "2       3              2      48.2  ...              2  2343.7              2   \n",
       "\n",
       "   PH_TOT  PH_TOT_FLAG_W  PH_TMP    CO32  CO32__FLAG_W  CHLORA  CTDTMP_F  \n",
       "0   7.294              2    25.0     NaN             9     NaN  38.63894  \n",
       "1   7.295              2    25.0     NaN             9     NaN  38.64236  \n",
       "2   7.282              2    25.0  43.521             3     NaN  39.85916  \n",
       "\n",
       "[3 rows x 43 columns]"
      ]
     },
     "execution_count": 23,
     "metadata": {},
     "output_type": "execute_result"
    }
   ],
   "source": [
    "df.iloc[0:3]"
   ]
  },
  {
   "cell_type": "code",
   "execution_count": 24,
   "metadata": {},
   "outputs": [
    {
     "data": {
      "text/html": [
       "<div>\n",
       "<style scoped>\n",
       "    .dataframe tbody tr th:only-of-type {\n",
       "        vertical-align: middle;\n",
       "    }\n",
       "\n",
       "    .dataframe tbody tr th {\n",
       "        vertical-align: top;\n",
       "    }\n",
       "\n",
       "    .dataframe thead th {\n",
       "        text-align: right;\n",
       "    }\n",
       "</style>\n",
       "<table border=\"1\" class=\"dataframe\">\n",
       "  <thead>\n",
       "    <tr style=\"text-align: right;\">\n",
       "      <th></th>\n",
       "      <th>DATE_TIME</th>\n",
       "      <th>EXPOCODE</th>\n",
       "      <th>SECT_ID</th>\n",
       "      <th>LEG</th>\n",
       "      <th>LINE</th>\n",
       "      <th>STNNBR</th>\n",
       "      <th>CASTNO</th>\n",
       "      <th>BTLNBR</th>\n",
       "      <th>BTLNBR_FLAG_W</th>\n",
       "      <th>LATITUDE</th>\n",
       "      <th>...</th>\n",
       "      <th>TCARBN_FLAG_W</th>\n",
       "      <th>ALKALI</th>\n",
       "      <th>ALKALI_FLAG_W</th>\n",
       "      <th>PH_TOT</th>\n",
       "      <th>PH_TOT_FLAG_W</th>\n",
       "      <th>PH_TMP</th>\n",
       "      <th>CO32</th>\n",
       "      <th>CO32__FLAG_W</th>\n",
       "      <th>CHLORA</th>\n",
       "      <th>CTDTMP_F</th>\n",
       "    </tr>\n",
       "  </thead>\n",
       "  <tbody>\n",
       "    <tr>\n",
       "      <th>0</th>\n",
       "      <td>2013-08-05 02:12:20</td>\n",
       "      <td>317W20130803</td>\n",
       "      <td>WCOA2013</td>\n",
       "      <td>1</td>\n",
       "      <td>2</td>\n",
       "      <td>11</td>\n",
       "      <td>1</td>\n",
       "      <td>1</td>\n",
       "      <td>2</td>\n",
       "      <td>48.2</td>\n",
       "      <td>...</td>\n",
       "      <td>2</td>\n",
       "      <td>2369.0</td>\n",
       "      <td>2</td>\n",
       "      <td>7.294</td>\n",
       "      <td>2</td>\n",
       "      <td>25.0</td>\n",
       "      <td>NaN</td>\n",
       "      <td>9</td>\n",
       "      <td>NaN</td>\n",
       "      <td>38.63894</td>\n",
       "    </tr>\n",
       "    <tr>\n",
       "      <th>1</th>\n",
       "      <td>2013-08-05 02:12:53</td>\n",
       "      <td>317W20130803</td>\n",
       "      <td>WCOA2013</td>\n",
       "      <td>1</td>\n",
       "      <td>2</td>\n",
       "      <td>11</td>\n",
       "      <td>1</td>\n",
       "      <td>2</td>\n",
       "      <td>2</td>\n",
       "      <td>48.2</td>\n",
       "      <td>...</td>\n",
       "      <td>9</td>\n",
       "      <td>NaN</td>\n",
       "      <td>9</td>\n",
       "      <td>7.295</td>\n",
       "      <td>2</td>\n",
       "      <td>25.0</td>\n",
       "      <td>NaN</td>\n",
       "      <td>9</td>\n",
       "      <td>NaN</td>\n",
       "      <td>38.64236</td>\n",
       "    </tr>\n",
       "    <tr>\n",
       "      <th>2</th>\n",
       "      <td>2013-08-05 02:19:58</td>\n",
       "      <td>317W20130803</td>\n",
       "      <td>WCOA2013</td>\n",
       "      <td>1</td>\n",
       "      <td>2</td>\n",
       "      <td>11</td>\n",
       "      <td>1</td>\n",
       "      <td>3</td>\n",
       "      <td>2</td>\n",
       "      <td>48.2</td>\n",
       "      <td>...</td>\n",
       "      <td>2</td>\n",
       "      <td>2343.7</td>\n",
       "      <td>2</td>\n",
       "      <td>7.282</td>\n",
       "      <td>2</td>\n",
       "      <td>25.0</td>\n",
       "      <td>43.521</td>\n",
       "      <td>3</td>\n",
       "      <td>NaN</td>\n",
       "      <td>39.85916</td>\n",
       "    </tr>\n",
       "    <tr>\n",
       "      <th>3</th>\n",
       "      <td>2013-08-05 02:27:01</td>\n",
       "      <td>317W20130803</td>\n",
       "      <td>WCOA2013</td>\n",
       "      <td>1</td>\n",
       "      <td>2</td>\n",
       "      <td>11</td>\n",
       "      <td>1</td>\n",
       "      <td>4</td>\n",
       "      <td>2</td>\n",
       "      <td>48.2</td>\n",
       "      <td>...</td>\n",
       "      <td>2</td>\n",
       "      <td>2311.9</td>\n",
       "      <td>2</td>\n",
       "      <td>7.287</td>\n",
       "      <td>2</td>\n",
       "      <td>25.0</td>\n",
       "      <td>45.641</td>\n",
       "      <td>2</td>\n",
       "      <td>NaN</td>\n",
       "      <td>41.05328</td>\n",
       "    </tr>\n",
       "  </tbody>\n",
       "</table>\n",
       "<p>4 rows × 43 columns</p>\n",
       "</div>"
      ],
      "text/plain": [
       "            DATE_TIME      EXPOCODE   SECT_ID  LEG LINE  STNNBR  CASTNO  \\\n",
       "0 2013-08-05 02:12:20  317W20130803  WCOA2013    1    2      11       1   \n",
       "1 2013-08-05 02:12:53  317W20130803  WCOA2013    1    2      11       1   \n",
       "2 2013-08-05 02:19:58  317W20130803  WCOA2013    1    2      11       1   \n",
       "3 2013-08-05 02:27:01  317W20130803  WCOA2013    1    2      11       1   \n",
       "\n",
       "   BTLNBR  BTLNBR_FLAG_W  LATITUDE  ...  TCARBN_FLAG_W  ALKALI  ALKALI_FLAG_W  \\\n",
       "0       1              2      48.2  ...              2  2369.0              2   \n",
       "1       2              2      48.2  ...              9     NaN              9   \n",
       "2       3              2      48.2  ...              2  2343.7              2   \n",
       "3       4              2      48.2  ...              2  2311.9              2   \n",
       "\n",
       "   PH_TOT  PH_TOT_FLAG_W  PH_TMP    CO32  CO32__FLAG_W  CHLORA  CTDTMP_F  \n",
       "0   7.294              2    25.0     NaN             9     NaN  38.63894  \n",
       "1   7.295              2    25.0     NaN             9     NaN  38.64236  \n",
       "2   7.282              2    25.0  43.521             3     NaN  39.85916  \n",
       "3   7.287              2    25.0  45.641             2     NaN  41.05328  \n",
       "\n",
       "[4 rows x 43 columns]"
      ]
     },
     "execution_count": 24,
     "metadata": {},
     "output_type": "execute_result"
    }
   ],
   "source": [
    "df.loc[0:3]"
   ]
  },
  {
   "cell_type": "code",
   "execution_count": 25,
   "metadata": {},
   "outputs": [
    {
     "data": {
      "text/html": [
       "<div>\n",
       "<style scoped>\n",
       "    .dataframe tbody tr th:only-of-type {\n",
       "        vertical-align: middle;\n",
       "    }\n",
       "\n",
       "    .dataframe tbody tr th {\n",
       "        vertical-align: top;\n",
       "    }\n",
       "\n",
       "    .dataframe thead th {\n",
       "        text-align: right;\n",
       "    }\n",
       "</style>\n",
       "<table border=\"1\" class=\"dataframe\">\n",
       "  <thead>\n",
       "    <tr style=\"text-align: right;\">\n",
       "      <th></th>\n",
       "      <th>CTDTMP</th>\n",
       "      <th>CTDPRS</th>\n",
       "    </tr>\n",
       "  </thead>\n",
       "  <tbody>\n",
       "    <tr>\n",
       "      <th>0</th>\n",
       "      <td>3.6883</td>\n",
       "      <td>999.5</td>\n",
       "    </tr>\n",
       "    <tr>\n",
       "      <th>1</th>\n",
       "      <td>3.6902</td>\n",
       "      <td>1000.8</td>\n",
       "    </tr>\n",
       "    <tr>\n",
       "      <th>2</th>\n",
       "      <td>4.3662</td>\n",
       "      <td>749.0</td>\n",
       "    </tr>\n",
       "    <tr>\n",
       "      <th>3</th>\n",
       "      <td>5.0296</td>\n",
       "      <td>503.9</td>\n",
       "    </tr>\n",
       "  </tbody>\n",
       "</table>\n",
       "</div>"
      ],
      "text/plain": [
       "   CTDTMP  CTDPRS\n",
       "0  3.6883   999.5\n",
       "1  3.6902  1000.8\n",
       "2  4.3662   749.0\n",
       "3  5.0296   503.9"
      ]
     },
     "execution_count": 25,
     "metadata": {},
     "output_type": "execute_result"
    }
   ],
   "source": [
    "df.loc[0:3,['CTDTMP','CTDPRS']]"
   ]
  },
  {
   "cell_type": "markdown",
   "metadata": {},
   "source": [
    "#### Exercise\n",
    "\n",
    "What do you expect to happen when you execute:\n",
    "```\n",
    "df[0:1]\n",
    "df[:4]\n",
    "df[:-1]\n",
    "```\n",
    "\n",
    "What do you expect to happen when you call:\n",
    "```\n",
    "df.iloc[0:4, 1:4]\n",
    "df.loc[0:4, 1:4]\n",
    "```\n",
    "\n",
    "How are the two commands different?\n",
    "\n",
    "Adapted from: https://datacarpentry.org/python-ecology-lesson/03-index-slice-subset/index.html"
   ]
  },
  {
   "cell_type": "markdown",
   "metadata": {},
   "source": [
    "### Subsetting Data using Criteria"
   ]
  },
  {
   "cell_type": "code",
   "execution_count": 26,
   "metadata": {
    "scrolled": true
   },
   "outputs": [
    {
     "data": {
      "text/html": [
       "<div>\n",
       "<style scoped>\n",
       "    .dataframe tbody tr th:only-of-type {\n",
       "        vertical-align: middle;\n",
       "    }\n",
       "\n",
       "    .dataframe tbody tr th {\n",
       "        vertical-align: top;\n",
       "    }\n",
       "\n",
       "    .dataframe thead th {\n",
       "        text-align: right;\n",
       "    }\n",
       "</style>\n",
       "<table border=\"1\" class=\"dataframe\">\n",
       "  <thead>\n",
       "    <tr style=\"text-align: right;\">\n",
       "      <th></th>\n",
       "      <th>DATE_TIME</th>\n",
       "      <th>EXPOCODE</th>\n",
       "      <th>SECT_ID</th>\n",
       "      <th>LEG</th>\n",
       "      <th>LINE</th>\n",
       "      <th>STNNBR</th>\n",
       "      <th>CASTNO</th>\n",
       "      <th>BTLNBR</th>\n",
       "      <th>BTLNBR_FLAG_W</th>\n",
       "      <th>LATITUDE</th>\n",
       "      <th>...</th>\n",
       "      <th>TCARBN_FLAG_W</th>\n",
       "      <th>ALKALI</th>\n",
       "      <th>ALKALI_FLAG_W</th>\n",
       "      <th>PH_TOT</th>\n",
       "      <th>PH_TOT_FLAG_W</th>\n",
       "      <th>PH_TMP</th>\n",
       "      <th>CO32</th>\n",
       "      <th>CO32__FLAG_W</th>\n",
       "      <th>CHLORA</th>\n",
       "      <th>CTDTMP_F</th>\n",
       "    </tr>\n",
       "  </thead>\n",
       "  <tbody>\n",
       "    <tr>\n",
       "      <th>0</th>\n",
       "      <td>2013-08-05 02:12:20</td>\n",
       "      <td>317W20130803</td>\n",
       "      <td>WCOA2013</td>\n",
       "      <td>1</td>\n",
       "      <td>2</td>\n",
       "      <td>11</td>\n",
       "      <td>1</td>\n",
       "      <td>1</td>\n",
       "      <td>2</td>\n",
       "      <td>48.2</td>\n",
       "      <td>...</td>\n",
       "      <td>2</td>\n",
       "      <td>2369.0</td>\n",
       "      <td>2</td>\n",
       "      <td>7.294</td>\n",
       "      <td>2</td>\n",
       "      <td>25.0</td>\n",
       "      <td>NaN</td>\n",
       "      <td>9</td>\n",
       "      <td>NaN</td>\n",
       "      <td>38.63894</td>\n",
       "    </tr>\n",
       "    <tr>\n",
       "      <th>1</th>\n",
       "      <td>2013-08-05 02:12:53</td>\n",
       "      <td>317W20130803</td>\n",
       "      <td>WCOA2013</td>\n",
       "      <td>1</td>\n",
       "      <td>2</td>\n",
       "      <td>11</td>\n",
       "      <td>1</td>\n",
       "      <td>2</td>\n",
       "      <td>2</td>\n",
       "      <td>48.2</td>\n",
       "      <td>...</td>\n",
       "      <td>9</td>\n",
       "      <td>NaN</td>\n",
       "      <td>9</td>\n",
       "      <td>7.295</td>\n",
       "      <td>2</td>\n",
       "      <td>25.0</td>\n",
       "      <td>NaN</td>\n",
       "      <td>9</td>\n",
       "      <td>NaN</td>\n",
       "      <td>38.64236</td>\n",
       "    </tr>\n",
       "    <tr>\n",
       "      <th>2</th>\n",
       "      <td>2013-08-05 02:19:58</td>\n",
       "      <td>317W20130803</td>\n",
       "      <td>WCOA2013</td>\n",
       "      <td>1</td>\n",
       "      <td>2</td>\n",
       "      <td>11</td>\n",
       "      <td>1</td>\n",
       "      <td>3</td>\n",
       "      <td>2</td>\n",
       "      <td>48.2</td>\n",
       "      <td>...</td>\n",
       "      <td>2</td>\n",
       "      <td>2343.7</td>\n",
       "      <td>2</td>\n",
       "      <td>7.282</td>\n",
       "      <td>2</td>\n",
       "      <td>25.0</td>\n",
       "      <td>43.521</td>\n",
       "      <td>3</td>\n",
       "      <td>NaN</td>\n",
       "      <td>39.85916</td>\n",
       "    </tr>\n",
       "    <tr>\n",
       "      <th>3</th>\n",
       "      <td>2013-08-05 02:27:01</td>\n",
       "      <td>317W20130803</td>\n",
       "      <td>WCOA2013</td>\n",
       "      <td>1</td>\n",
       "      <td>2</td>\n",
       "      <td>11</td>\n",
       "      <td>1</td>\n",
       "      <td>4</td>\n",
       "      <td>2</td>\n",
       "      <td>48.2</td>\n",
       "      <td>...</td>\n",
       "      <td>2</td>\n",
       "      <td>2311.9</td>\n",
       "      <td>2</td>\n",
       "      <td>7.287</td>\n",
       "      <td>2</td>\n",
       "      <td>25.0</td>\n",
       "      <td>45.641</td>\n",
       "      <td>2</td>\n",
       "      <td>NaN</td>\n",
       "      <td>41.05328</td>\n",
       "    </tr>\n",
       "    <tr>\n",
       "      <th>4</th>\n",
       "      <td>2013-08-05 02:30:53</td>\n",
       "      <td>317W20130803</td>\n",
       "      <td>WCOA2013</td>\n",
       "      <td>1</td>\n",
       "      <td>2</td>\n",
       "      <td>11</td>\n",
       "      <td>1</td>\n",
       "      <td>5</td>\n",
       "      <td>2</td>\n",
       "      <td>48.2</td>\n",
       "      <td>...</td>\n",
       "      <td>2</td>\n",
       "      <td>2299.7</td>\n",
       "      <td>2</td>\n",
       "      <td>7.308</td>\n",
       "      <td>2</td>\n",
       "      <td>25.0</td>\n",
       "      <td>47.741</td>\n",
       "      <td>2</td>\n",
       "      <td>NaN</td>\n",
       "      <td>41.82404</td>\n",
       "    </tr>\n",
       "  </tbody>\n",
       "</table>\n",
       "<p>5 rows × 43 columns</p>\n",
       "</div>"
      ],
      "text/plain": [
       "            DATE_TIME      EXPOCODE   SECT_ID  LEG LINE  STNNBR  CASTNO  \\\n",
       "0 2013-08-05 02:12:20  317W20130803  WCOA2013    1    2      11       1   \n",
       "1 2013-08-05 02:12:53  317W20130803  WCOA2013    1    2      11       1   \n",
       "2 2013-08-05 02:19:58  317W20130803  WCOA2013    1    2      11       1   \n",
       "3 2013-08-05 02:27:01  317W20130803  WCOA2013    1    2      11       1   \n",
       "4 2013-08-05 02:30:53  317W20130803  WCOA2013    1    2      11       1   \n",
       "\n",
       "   BTLNBR  BTLNBR_FLAG_W  LATITUDE  ...  TCARBN_FLAG_W  ALKALI  ALKALI_FLAG_W  \\\n",
       "0       1              2      48.2  ...              2  2369.0              2   \n",
       "1       2              2      48.2  ...              9     NaN              9   \n",
       "2       3              2      48.2  ...              2  2343.7              2   \n",
       "3       4              2      48.2  ...              2  2311.9              2   \n",
       "4       5              2      48.2  ...              2  2299.7              2   \n",
       "\n",
       "   PH_TOT  PH_TOT_FLAG_W  PH_TMP    CO32  CO32__FLAG_W  CHLORA  CTDTMP_F  \n",
       "0   7.294              2    25.0     NaN             9     NaN  38.63894  \n",
       "1   7.295              2    25.0     NaN             9     NaN  38.64236  \n",
       "2   7.282              2    25.0  43.521             3     NaN  39.85916  \n",
       "3   7.287              2    25.0  45.641             2     NaN  41.05328  \n",
       "4   7.308              2    25.0  47.741             2     NaN  41.82404  \n",
       "\n",
       "[5 rows x 43 columns]"
      ]
     },
     "execution_count": 26,
     "metadata": {},
     "output_type": "execute_result"
    }
   ],
   "source": [
    "df[df.LATITUDE > 40].head()"
   ]
  },
  {
   "cell_type": "code",
   "execution_count": 27,
   "metadata": {
    "scrolled": true
   },
   "outputs": [
    {
     "data": {
      "text/html": [
       "<div>\n",
       "<style scoped>\n",
       "    .dataframe tbody tr th:only-of-type {\n",
       "        vertical-align: middle;\n",
       "    }\n",
       "\n",
       "    .dataframe tbody tr th {\n",
       "        vertical-align: top;\n",
       "    }\n",
       "\n",
       "    .dataframe thead th {\n",
       "        text-align: right;\n",
       "    }\n",
       "</style>\n",
       "<table border=\"1\" class=\"dataframe\">\n",
       "  <thead>\n",
       "    <tr style=\"text-align: right;\">\n",
       "      <th></th>\n",
       "      <th>DATE_TIME</th>\n",
       "      <th>EXPOCODE</th>\n",
       "      <th>SECT_ID</th>\n",
       "      <th>LEG</th>\n",
       "      <th>LINE</th>\n",
       "      <th>STNNBR</th>\n",
       "      <th>CASTNO</th>\n",
       "      <th>BTLNBR</th>\n",
       "      <th>BTLNBR_FLAG_W</th>\n",
       "      <th>LATITUDE</th>\n",
       "      <th>...</th>\n",
       "      <th>TCARBN_FLAG_W</th>\n",
       "      <th>ALKALI</th>\n",
       "      <th>ALKALI_FLAG_W</th>\n",
       "      <th>PH_TOT</th>\n",
       "      <th>PH_TOT_FLAG_W</th>\n",
       "      <th>PH_TMP</th>\n",
       "      <th>CO32</th>\n",
       "      <th>CO32__FLAG_W</th>\n",
       "      <th>CHLORA</th>\n",
       "      <th>CTDTMP_F</th>\n",
       "    </tr>\n",
       "  </thead>\n",
       "  <tbody>\n",
       "    <tr>\n",
       "      <th>770</th>\n",
       "      <td>2013-08-25 21:23:35</td>\n",
       "      <td>32P020130821</td>\n",
       "      <td>WCOA2013</td>\n",
       "      <td>2</td>\n",
       "      <td>10</td>\n",
       "      <td>133</td>\n",
       "      <td>1</td>\n",
       "      <td>1</td>\n",
       "      <td>2</td>\n",
       "      <td>37.67</td>\n",
       "      <td>...</td>\n",
       "      <td>6</td>\n",
       "      <td>2430.4</td>\n",
       "      <td>6</td>\n",
       "      <td>7.493</td>\n",
       "      <td>2</td>\n",
       "      <td>25.0</td>\n",
       "      <td>73.346</td>\n",
       "      <td>2</td>\n",
       "      <td>NaN</td>\n",
       "      <td>35.12876</td>\n",
       "    </tr>\n",
       "    <tr>\n",
       "      <th>771</th>\n",
       "      <td>2013-08-25 21:32:13</td>\n",
       "      <td>32P020130821</td>\n",
       "      <td>WCOA2013</td>\n",
       "      <td>2</td>\n",
       "      <td>10</td>\n",
       "      <td>133</td>\n",
       "      <td>1</td>\n",
       "      <td>2</td>\n",
       "      <td>2</td>\n",
       "      <td>37.67</td>\n",
       "      <td>...</td>\n",
       "      <td>2</td>\n",
       "      <td>2427.6</td>\n",
       "      <td>2</td>\n",
       "      <td>7.467</td>\n",
       "      <td>2</td>\n",
       "      <td>25.0</td>\n",
       "      <td>69.812</td>\n",
       "      <td>2</td>\n",
       "      <td>NaN</td>\n",
       "      <td>35.30336</td>\n",
       "    </tr>\n",
       "    <tr>\n",
       "      <th>772</th>\n",
       "      <td>2013-08-25 21:40:44</td>\n",
       "      <td>32P020130821</td>\n",
       "      <td>WCOA2013</td>\n",
       "      <td>2</td>\n",
       "      <td>10</td>\n",
       "      <td>133</td>\n",
       "      <td>1</td>\n",
       "      <td>3</td>\n",
       "      <td>2</td>\n",
       "      <td>37.67</td>\n",
       "      <td>...</td>\n",
       "      <td>2</td>\n",
       "      <td>2424.3</td>\n",
       "      <td>2</td>\n",
       "      <td>7.442</td>\n",
       "      <td>2</td>\n",
       "      <td>25.0</td>\n",
       "      <td>65.502</td>\n",
       "      <td>2</td>\n",
       "      <td>NaN</td>\n",
       "      <td>35.55914</td>\n",
       "    </tr>\n",
       "    <tr>\n",
       "      <th>773</th>\n",
       "      <td>2013-08-25 21:49:45</td>\n",
       "      <td>32P020130821</td>\n",
       "      <td>WCOA2013</td>\n",
       "      <td>2</td>\n",
       "      <td>10</td>\n",
       "      <td>133</td>\n",
       "      <td>1</td>\n",
       "      <td>4</td>\n",
       "      <td>2</td>\n",
       "      <td>37.67</td>\n",
       "      <td>...</td>\n",
       "      <td>2</td>\n",
       "      <td>2413.7</td>\n",
       "      <td>2</td>\n",
       "      <td>7.400</td>\n",
       "      <td>2</td>\n",
       "      <td>25.0</td>\n",
       "      <td>60.170</td>\n",
       "      <td>2</td>\n",
       "      <td>NaN</td>\n",
       "      <td>36.10526</td>\n",
       "    </tr>\n",
       "    <tr>\n",
       "      <th>774</th>\n",
       "      <td>2013-08-25 21:57:55</td>\n",
       "      <td>32P020130821</td>\n",
       "      <td>WCOA2013</td>\n",
       "      <td>2</td>\n",
       "      <td>10</td>\n",
       "      <td>133</td>\n",
       "      <td>1</td>\n",
       "      <td>5</td>\n",
       "      <td>2</td>\n",
       "      <td>37.67</td>\n",
       "      <td>...</td>\n",
       "      <td>2</td>\n",
       "      <td>2401.4</td>\n",
       "      <td>2</td>\n",
       "      <td>7.374</td>\n",
       "      <td>2</td>\n",
       "      <td>25.0</td>\n",
       "      <td>57.739</td>\n",
       "      <td>2</td>\n",
       "      <td>NaN</td>\n",
       "      <td>36.92894</td>\n",
       "    </tr>\n",
       "  </tbody>\n",
       "</table>\n",
       "<p>5 rows × 43 columns</p>\n",
       "</div>"
      ],
      "text/plain": [
       "              DATE_TIME      EXPOCODE   SECT_ID  LEG LINE  STNNBR  CASTNO  \\\n",
       "770 2013-08-25 21:23:35  32P020130821  WCOA2013    2   10     133       1   \n",
       "771 2013-08-25 21:32:13  32P020130821  WCOA2013    2   10     133       1   \n",
       "772 2013-08-25 21:40:44  32P020130821  WCOA2013    2   10     133       1   \n",
       "773 2013-08-25 21:49:45  32P020130821  WCOA2013    2   10     133       1   \n",
       "774 2013-08-25 21:57:55  32P020130821  WCOA2013    2   10     133       1   \n",
       "\n",
       "     BTLNBR  BTLNBR_FLAG_W  LATITUDE  ...  TCARBN_FLAG_W  ALKALI  \\\n",
       "770       1              2     37.67  ...              6  2430.4   \n",
       "771       2              2     37.67  ...              2  2427.6   \n",
       "772       3              2     37.67  ...              2  2424.3   \n",
       "773       4              2     37.67  ...              2  2413.7   \n",
       "774       5              2     37.67  ...              2  2401.4   \n",
       "\n",
       "     ALKALI_FLAG_W  PH_TOT  PH_TOT_FLAG_W  PH_TMP    CO32  CO32__FLAG_W  \\\n",
       "770              6   7.493              2    25.0  73.346             2   \n",
       "771              2   7.467              2    25.0  69.812             2   \n",
       "772              2   7.442              2    25.0  65.502             2   \n",
       "773              2   7.400              2    25.0  60.170             2   \n",
       "774              2   7.374              2    25.0  57.739             2   \n",
       "\n",
       "     CHLORA  CTDTMP_F  \n",
       "770     NaN  35.12876  \n",
       "771     NaN  35.30336  \n",
       "772     NaN  35.55914  \n",
       "773     NaN  36.10526  \n",
       "774     NaN  36.92894  \n",
       "\n",
       "[5 rows x 43 columns]"
      ]
     },
     "execution_count": 27,
     "metadata": {},
     "output_type": "execute_result"
    }
   ],
   "source": [
    "df[df.LATITUDE <= 40].head()"
   ]
  },
  {
   "cell_type": "code",
   "execution_count": 28,
   "metadata": {},
   "outputs": [],
   "source": [
    "dfsub = df[(df.CTDPRS <= 10) & (df.LATITUDE > 40)]"
   ]
  },
  {
   "cell_type": "code",
   "execution_count": 29,
   "metadata": {},
   "outputs": [
    {
     "data": {
      "text/html": [
       "<div>\n",
       "<style scoped>\n",
       "    .dataframe tbody tr th:only-of-type {\n",
       "        vertical-align: middle;\n",
       "    }\n",
       "\n",
       "    .dataframe tbody tr th {\n",
       "        vertical-align: top;\n",
       "    }\n",
       "\n",
       "    .dataframe thead th {\n",
       "        text-align: right;\n",
       "    }\n",
       "</style>\n",
       "<table border=\"1\" class=\"dataframe\">\n",
       "  <thead>\n",
       "    <tr style=\"text-align: right;\">\n",
       "      <th></th>\n",
       "      <th>DATE_TIME</th>\n",
       "      <th>EXPOCODE</th>\n",
       "      <th>SECT_ID</th>\n",
       "      <th>LEG</th>\n",
       "      <th>LINE</th>\n",
       "      <th>STNNBR</th>\n",
       "      <th>CASTNO</th>\n",
       "      <th>BTLNBR</th>\n",
       "      <th>BTLNBR_FLAG_W</th>\n",
       "      <th>LATITUDE</th>\n",
       "      <th>...</th>\n",
       "      <th>TCARBN_FLAG_W</th>\n",
       "      <th>ALKALI</th>\n",
       "      <th>ALKALI_FLAG_W</th>\n",
       "      <th>PH_TOT</th>\n",
       "      <th>PH_TOT_FLAG_W</th>\n",
       "      <th>PH_TMP</th>\n",
       "      <th>CO32</th>\n",
       "      <th>CO32__FLAG_W</th>\n",
       "      <th>CHLORA</th>\n",
       "      <th>CTDTMP_F</th>\n",
       "    </tr>\n",
       "  </thead>\n",
       "  <tbody>\n",
       "    <tr>\n",
       "      <th>18</th>\n",
       "      <td>2013-08-05 03:00:52</td>\n",
       "      <td>317W20130803</td>\n",
       "      <td>WCOA2013</td>\n",
       "      <td>1</td>\n",
       "      <td>2</td>\n",
       "      <td>11</td>\n",
       "      <td>1</td>\n",
       "      <td>19</td>\n",
       "      <td>4</td>\n",
       "      <td>48.20</td>\n",
       "      <td>...</td>\n",
       "      <td>9</td>\n",
       "      <td>NaN</td>\n",
       "      <td>9</td>\n",
       "      <td>NaN</td>\n",
       "      <td>9</td>\n",
       "      <td>NaN</td>\n",
       "      <td>NaN</td>\n",
       "      <td>9</td>\n",
       "      <td>NaN</td>\n",
       "      <td>56.54660</td>\n",
       "    </tr>\n",
       "    <tr>\n",
       "      <th>19</th>\n",
       "      <td>2013-08-05 03:01:10</td>\n",
       "      <td>317W20130803</td>\n",
       "      <td>WCOA2013</td>\n",
       "      <td>1</td>\n",
       "      <td>2</td>\n",
       "      <td>11</td>\n",
       "      <td>1</td>\n",
       "      <td>20</td>\n",
       "      <td>2</td>\n",
       "      <td>48.20</td>\n",
       "      <td>...</td>\n",
       "      <td>2</td>\n",
       "      <td>2189.1</td>\n",
       "      <td>6</td>\n",
       "      <td>7.983</td>\n",
       "      <td>3</td>\n",
       "      <td>25.0</td>\n",
       "      <td>155.043</td>\n",
       "      <td>2</td>\n",
       "      <td>NaN</td>\n",
       "      <td>56.54570</td>\n",
       "    </tr>\n",
       "    <tr>\n",
       "      <th>38</th>\n",
       "      <td>2013-08-05 06:37:22</td>\n",
       "      <td>317W20130803</td>\n",
       "      <td>WCOA2013</td>\n",
       "      <td>1</td>\n",
       "      <td>2</td>\n",
       "      <td>12</td>\n",
       "      <td>1</td>\n",
       "      <td>19</td>\n",
       "      <td>2</td>\n",
       "      <td>48.30</td>\n",
       "      <td>...</td>\n",
       "      <td>9</td>\n",
       "      <td>2180.0</td>\n",
       "      <td>6</td>\n",
       "      <td>7.980</td>\n",
       "      <td>3</td>\n",
       "      <td>25.0</td>\n",
       "      <td>152.868</td>\n",
       "      <td>2</td>\n",
       "      <td>NaN</td>\n",
       "      <td>57.72218</td>\n",
       "    </tr>\n",
       "    <tr>\n",
       "      <th>39</th>\n",
       "      <td>2013-08-05 06:37:42</td>\n",
       "      <td>317W20130803</td>\n",
       "      <td>WCOA2013</td>\n",
       "      <td>1</td>\n",
       "      <td>2</td>\n",
       "      <td>12</td>\n",
       "      <td>1</td>\n",
       "      <td>20</td>\n",
       "      <td>2</td>\n",
       "      <td>48.30</td>\n",
       "      <td>...</td>\n",
       "      <td>2</td>\n",
       "      <td>NaN</td>\n",
       "      <td>9</td>\n",
       "      <td>7.981</td>\n",
       "      <td>2</td>\n",
       "      <td>25.0</td>\n",
       "      <td>NaN</td>\n",
       "      <td>5</td>\n",
       "      <td>NaN</td>\n",
       "      <td>57.72290</td>\n",
       "    </tr>\n",
       "    <tr>\n",
       "      <th>58</th>\n",
       "      <td>2013-08-05 10:41:19</td>\n",
       "      <td>317W20130803</td>\n",
       "      <td>WCOA2013</td>\n",
       "      <td>1</td>\n",
       "      <td>2</td>\n",
       "      <td>13</td>\n",
       "      <td>1</td>\n",
       "      <td>19</td>\n",
       "      <td>2</td>\n",
       "      <td>48.37</td>\n",
       "      <td>...</td>\n",
       "      <td>2</td>\n",
       "      <td>2178.7</td>\n",
       "      <td>2</td>\n",
       "      <td>7.931</td>\n",
       "      <td>2</td>\n",
       "      <td>25.0</td>\n",
       "      <td>142.629</td>\n",
       "      <td>2</td>\n",
       "      <td>NaN</td>\n",
       "      <td>55.69844</td>\n",
       "    </tr>\n",
       "  </tbody>\n",
       "</table>\n",
       "<p>5 rows × 43 columns</p>\n",
       "</div>"
      ],
      "text/plain": [
       "             DATE_TIME      EXPOCODE   SECT_ID  LEG LINE  STNNBR  CASTNO  \\\n",
       "18 2013-08-05 03:00:52  317W20130803  WCOA2013    1    2      11       1   \n",
       "19 2013-08-05 03:01:10  317W20130803  WCOA2013    1    2      11       1   \n",
       "38 2013-08-05 06:37:22  317W20130803  WCOA2013    1    2      12       1   \n",
       "39 2013-08-05 06:37:42  317W20130803  WCOA2013    1    2      12       1   \n",
       "58 2013-08-05 10:41:19  317W20130803  WCOA2013    1    2      13       1   \n",
       "\n",
       "    BTLNBR  BTLNBR_FLAG_W  LATITUDE  ...  TCARBN_FLAG_W  ALKALI  \\\n",
       "18      19              4     48.20  ...              9     NaN   \n",
       "19      20              2     48.20  ...              2  2189.1   \n",
       "38      19              2     48.30  ...              9  2180.0   \n",
       "39      20              2     48.30  ...              2     NaN   \n",
       "58      19              2     48.37  ...              2  2178.7   \n",
       "\n",
       "    ALKALI_FLAG_W  PH_TOT  PH_TOT_FLAG_W  PH_TMP     CO32  CO32__FLAG_W  \\\n",
       "18              9     NaN              9     NaN      NaN             9   \n",
       "19              6   7.983              3    25.0  155.043             2   \n",
       "38              6   7.980              3    25.0  152.868             2   \n",
       "39              9   7.981              2    25.0      NaN             5   \n",
       "58              2   7.931              2    25.0  142.629             2   \n",
       "\n",
       "    CHLORA  CTDTMP_F  \n",
       "18     NaN  56.54660  \n",
       "19     NaN  56.54570  \n",
       "38     NaN  57.72218  \n",
       "39     NaN  57.72290  \n",
       "58     NaN  55.69844  \n",
       "\n",
       "[5 rows x 43 columns]"
      ]
     },
     "execution_count": 29,
     "metadata": {},
     "output_type": "execute_result"
    }
   ],
   "source": [
    "dfsub.head()"
   ]
  },
  {
   "cell_type": "markdown",
   "metadata": {},
   "source": [
    "### Exercises\n",
    "\n",
    "* Select a subset of rows in the `df` DataFrame that contains data from a pressure range between 500 and 1000 dbar. How many rows did you end up with? What did your neighbor get?\n",
    "\n",
    "* You can use the isin command in Python to query a DataFrame based upon a list of values as follows:\n",
    "```\n",
    "df[df['STNNBR'].isin([listGoesHere])]\n",
    "```\n",
    "Use the `isin` function to find all samples from station numbers 11 and 12."
   ]
  },
  {
   "cell_type": "markdown",
   "metadata": {},
   "source": [
    "### Exercises\n",
    "\n",
    "pH values are contained in the `df['PH_TOT']` DataArray\n",
    "\n",
    "Quality control flags for pH are contained in the `df['PH_TOT_FLAG_W']` DataArray.\n",
    "\n",
    "World Ocean Circulation Experiment (WOCE) quality control flags are used: \n",
    "* 2 = good value\n",
    "* 3 = questionable value\n",
    "* 4 = bad value \n",
    "* 5 = value not reported\n",
    "* 6 = mean of replicate measurements\n",
    "* 9 = sample not drawn.\n",
    "\n",
    "\n",
    "1. Create a new DataFrame called `dfsub1` that excludes all bad, questionable and missing pH values. Plot the probability density function for pH."
   ]
  },
  {
   "cell_type": "code",
   "execution_count": 30,
   "metadata": {
    "tags": [
     "hide-input"
    ]
   },
   "outputs": [],
   "source": [
    "dfsub = df[(df['CTDPRS'] > 10) & (df['LATITUDE'] > 40)]"
   ]
  },
  {
   "cell_type": "markdown",
   "metadata": {},
   "source": [
    "2. Create a new DataFrame called `dfsub2` that excludes all bad, questionable and missing pH and CTD oxygen values. Plot oxygen vs. pH."
   ]
  },
  {
   "cell_type": "code",
   "execution_count": 36,
   "metadata": {
    "tags": [
     "hide-input"
    ]
   },
   "outputs": [],
   "source": [
    "dfsub2 = df[(df['CTDOXY_FLAG_W'] == 2) & (df['PH_TOT_FLAG_W'] == 2)]"
   ]
  },
  {
   "cell_type": "markdown",
   "metadata": {},
   "source": [
    "### Fit a linear model in Python"
   ]
  },
  {
   "cell_type": "code",
   "execution_count": 37,
   "metadata": {},
   "outputs": [
    {
     "data": {
      "text/plain": [
       "Text(0, 0.5, 'pH$_{Tot}$')"
      ]
     },
     "execution_count": 37,
     "metadata": {},
     "output_type": "execute_result"
    },
    {
     "data": {
      "image/png": "[encoded data removed]",
      "text/plain": [
       "<Figure size 432x288 with 1 Axes>"
      ]
     },
     "metadata": {
      "needs_background": "light"
     },
     "output_type": "display_data"
    }
   ],
   "source": [
    "plt.plot(df['CTDOXY'],df['PH_TOT'],'.')\n",
    "plt.xlabel('dissolved oxygen [$\\mu$mol/kg]')\n",
    "plt.ylabel('pH$_{Tot}$')"
   ]
  },
  {
   "cell_type": "code",
   "execution_count": 40,
   "metadata": {},
   "outputs": [],
   "source": [
    "result = stats.linregress(dfsub2['CTDOXY'],dfsub2['PH_TOT'])"
   ]
  },
  {
   "cell_type": "code",
   "execution_count": 41,
   "metadata": {},
   "outputs": [
    {
     "data": {
      "text/plain": [
       "LinregressResult(slope=0.0023050765461032387, intercept=7.202036145940104, rvalue=0.951063101996966, pvalue=0.0, stderr=2.7737424376777215e-05, intercept_stderr=0.00497780264159739)"
      ]
     },
     "execution_count": 41,
     "metadata": {},
     "output_type": "execute_result"
    }
   ],
   "source": [
    "result"
   ]
  },
  {
   "cell_type": "markdown",
   "metadata": {},
   "source": [
    "### Exercise\n",
    "\n",
    "Plot the linear model with the data."
   ]
  }
 ],
 "metadata": {
  "kernelspec": {
   "display_name": "Python 3.10.6 ('data-book')",
   "language": "python",
   "name": "python3"
  },
  "language_info": {
   "codemirror_mode": {
    "name": "ipython",
    "version": 3
   },
   "file_extension": ".py",
   "mimetype": "text/x-python",
   "name": "python",
   "nbconvert_exporter": "python",
   "pygments_lexer": "ipython3",
   "version": "3.10.6"
  },
  "vscode": {
   "interpreter": {
    "hash": "0ef88d3abb6b62f34a20525ce337090c4512fe8aecf32c74604482b944e1c3bd"
   }
  }
 },
 "nbformat": 4,
 "nbformat_minor": 4
}
