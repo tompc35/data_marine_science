{
 "cells": [
  {
   "cell_type": "markdown",
   "id": "7f0ab03c-86a3-443b-a0f2-e4ca95118834",
   "metadata": {},
   "source": [
    "# Exercises\n",
    "\n",
    "## Week 5"
   ]
  },
  {
   "cell_type": "markdown",
   "id": "c6263f8a-e753-4435-a619-8af991a5cd6b",
   "metadata": {},
   "source": [
    "### Conditional execution\n",
    "a. Calculate the absolute value of a number (not using the built-in abs function). Use the following code as a template (replace the dashes ----- with code).\n",
    "\n",
    "```\n",
    "x = ------\n",
    "if -----:\n",
    "    absx = -----\n",
    "else:\n",
    "    absx = -----\n",
    "\n",
    "print('the absolute value of x is',absx)\n",
    "```"
   ]
  },
  {
   "cell_type": "markdown",
   "id": "85542368-0817-4fb8-a872-69eef5a88a7c",
   "metadata": {},
   "source": [
    "b. Using conditional execution, determine whether a user-provided integer x is even or odd and print the result (hint: the % operator calculates the remainder that occurs when dividing two numbers, e.g. the result of    7 % 3 is equal to 1).\n",
    "\n",
    "```\n",
    "xin = input('Please enter a number:')\n",
    "x = int(xin)\n",
    "if ------:\n",
    "    --------\n",
    "else:\n",
    "    print(‘The number is odd’)\n",
    "```\n",
    "\n",
    "c. Modify the code written in part b to use try and except statements to handle non-integer input gracefully. If the input is not an integer, the program should print a friendly message explaining what went wrong. \n",
    "\n",
    "d. (if time) Modify the code written in part b above to continue requesting input until an integer is provided.\n",
    "\n",
    "### Grain size classification (if time)\n",
    "\n",
    "Write a function that takes sediment grain size as an input, then returns the Wentworth grain size classification based on the table below.\n",
    "\n",
    "|  Grain Size   | Classification   |\n",
    "| ------------- | ------- |\n",
    "| >= 256 mm     | Boulder |\n",
    "| 64-256 mm     | Cobble  |\n",
    "| 2-64 mm       | Gravel  |\n",
    "| 62.5 &mu;m - 2 mm| Sand    |\n",
    "| 3.9-62.5 &mu;m   | Silt    |\n",
    "| 0.98-3.9 &mu;m   | Clay    |\n",
    "\n",
    "Test the program repeatedly to make sure it works for different input values."
   ]
  }
 ],
 "metadata": {
  "kernelspec": {
   "display_name": "Python 3.10.6 ('data-book')",
   "language": "python",
   "name": "python3"
  },
  "language_info": {
   "codemirror_mode": {
    "name": "ipython",
    "version": 3
   },
   "file_extension": ".py",
   "mimetype": "text/x-python",
   "name": "python",
   "nbconvert_exporter": "python",
   "pygments_lexer": "ipython3",
   "version": "3.10.6"
  },
  "vscode": {
   "interpreter": {
    "hash": "0ef88d3abb6b62f34a20525ce337090c4512fe8aecf32c74604482b944e1c3bd"
   }
  }
 },
 "nbformat": 4,
 "nbformat_minor": 5
}