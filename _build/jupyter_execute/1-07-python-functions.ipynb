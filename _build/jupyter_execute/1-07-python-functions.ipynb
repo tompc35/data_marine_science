{
 "cells": [
  {
   "cell_type": "markdown",
   "metadata": {},
   "source": [
    "# Functions\n",
    "\n",
    "Functions can be used to package a set of instructions. These instructions can then be reused for different inputs. Using functions can save you a lot of copying and pasting. Also, if you find a bug in your set of instructions, you only have to fix it once if you use a function instead of copying and pasting."
   ]
  },
  {
   "cell_type": "code",
   "execution_count": 1,
   "metadata": {},
   "outputs": [],
   "source": [
    "def fahr_to_celsius(temp_fahr):\n",
    "    ''' Convert temperature from degrees F to C '''\n",
    "    temp_celsius = (temp_fahr - 32) * (5/9)\n",
    "    return temp_celsius"
   ]
  },
  {
   "cell_type": "code",
   "execution_count": 2,
   "metadata": {},
   "outputs": [
    {
     "name": "stdout",
     "output_type": "stream",
     "text": [
      "Help on function fahr_to_celsius in module __main__:\n",
      "\n",
      "fahr_to_celsius(temp_fahr)\n",
      "    Convert temperature from degrees F to C\n",
      "\n"
     ]
    }
   ],
   "source": [
    "help(fahr_to_celsius)"
   ]
  },
  {
   "attachments": {},
   "cell_type": "markdown",
   "metadata": {},
   "source": [
    "In IPython (and Jupyter notebooks) there is another way of asking for help by typing the function name with a question mark."
   ]
  },
  {
   "cell_type": "code",
   "execution_count": 3,
   "metadata": {},
   "outputs": [],
   "source": [
    "fahr_to_celsius?"
   ]
  },
  {
   "cell_type": "markdown",
   "metadata": {},
   "source": [
    "To use the function:"
   ]
  },
  {
   "cell_type": "code",
   "execution_count": 4,
   "metadata": {},
   "outputs": [
    {
     "data": {
      "text/plain": [
       "0.0"
      ]
     },
     "execution_count": 4,
     "metadata": {},
     "output_type": "execute_result"
    }
   ],
   "source": [
    "fahr_to_celsius(32)"
   ]
  },
  {
   "cell_type": "code",
   "execution_count": 5,
   "metadata": {},
   "outputs": [
    {
     "name": "stdout",
     "output_type": "stream",
     "text": [
      "Temperature in Celsius is: 100.0\n"
     ]
    }
   ],
   "source": [
    "tempF = 212\n",
    "\n",
    "tempC = fahr_to_celsius(tempF)\n",
    "print('Temperature in Celsius is:',tempC)"
   ]
  },
  {
   "cell_type": "markdown",
   "metadata": {},
   "source": [
    "#### Multiple outputs"
   ]
  },
  {
   "cell_type": "code",
   "execution_count": 6,
   "metadata": {},
   "outputs": [],
   "source": [
    "def fahr_to_celsius_kelvin(temp_fahr):\n",
    "    ''' Convert temperature from degrees F to Celsius and Kelvin '''\n",
    "    temp_celsius = (temp_fahr - 32) * (5/9)\n",
    "    temp_kelvin = temp_celsius + 273\n",
    "    return temp_celsius,temp_kelvin"
   ]
  },
  {
   "cell_type": "code",
   "execution_count": 7,
   "metadata": {},
   "outputs": [
    {
     "data": {
      "text/plain": [
       "(25.0, 298.0)"
      ]
     },
     "execution_count": 7,
     "metadata": {},
     "output_type": "execute_result"
    }
   ],
   "source": [
    "fahr_to_celsius_kelvin(77)"
   ]
  },
  {
   "cell_type": "markdown",
   "metadata": {},
   "source": [
    "#### Specifying default values for inputs"
   ]
  },
  {
   "cell_type": "code",
   "execution_count": 8,
   "metadata": {},
   "outputs": [],
   "source": [
    "def fahr_to_celsius_kelvin(temp_fahr=32):\n",
    "    ''' Convert temperature from degrees F to Celsius and Kelvin '''\n",
    "    temp_celsius = (temp_fahr - 32) * (5/9)\n",
    "    temp_kelvin = temp_celsius + 273\n",
    "    return temp_celsius,temp_kelvin"
   ]
  },
  {
   "cell_type": "code",
   "execution_count": 9,
   "metadata": {},
   "outputs": [
    {
     "data": {
      "text/plain": [
       "(0.0, 273.0)"
      ]
     },
     "execution_count": 9,
     "metadata": {},
     "output_type": "execute_result"
    }
   ],
   "source": [
    "fahr_to_celsius_kelvin()"
   ]
  },
  {
   "cell_type": "markdown",
   "metadata": {},
   "source": [
    "__Exercises:__\n",
    "    \n",
    "* Create a function that takes a number as input, and returns the square of that number.\n",
    "* Create a function to calculate the standard deviation of an array (not using the `np.sqrt` function)."
   ]
  },
  {
   "attachments": {},
   "cell_type": "markdown",
   "metadata": {
    "jp-MarkdownHeadingCollapsed": true,
    "tags": []
   },
   "source": [
    "### Exercise: temperature conversion\n",
    "\n",
    "Create a function that converts temperature from degrees Celsius to degrees Fahrenheit.\n",
    "\n",
    "Use the function created above to convert the following array of temperature values from degrees F to degrees C. Avoid using a for loop.\n",
    "\n",
    "```python\n",
    "temps_f = np.array([50.5, 58.4, 62.3, 49.2])\n",
    "``` "
   ]
  },
  {
   "attachments": {},
   "cell_type": "markdown",
   "metadata": {},
   "source": [
    "### Exercise: Stokes law function\n",
    "\n",
    "Stokes' law predicts the settling velocity (or \"terminal velocity\") of a sinking sphere, $v$ (units: m/s). The theoretical velocity is based on the radius of the particle, $r$ (units: m), the density of the particle  $\\rho_p$ (units: kg/m$^3$), the density of the ambient fluid $\\rho_f$, the dynamic viscosity of the ambient fluid $\\mu$ (units: kg/(m*s)), and the acceleration due to gravity $g$ (units: m/s$^2$):\n",
    "\n",
    "$$v = \\frac{2}{9}\\frac{(\\rho_p-\\rho_f)}{\\mu}g r^2$$\n",
    "\n",
    "Use the following template to create a function that calculates the velocity predicted by Stokes law:"
   ]
  },
  {
   "cell_type": "markdown",
   "metadata": {},
   "source": [
    "``` python\n",
    "def stokes_law(r,rho_p,rho_f,mu,g):\n",
    "    # insert code here\n",
    "    return v\n",
    "```"
   ]
  },
  {
   "attachments": {},
   "cell_type": "markdown",
   "metadata": {},
   "source": [
    "Use your `stokes_law` function to estimate the settling velocity of the single-cell alga *Phaeocystis globosa*, assuming it is spherical. The radius of a typical cell is 46 $\\mu m$ and the typical cell density is 1091 kg/m<sup>3</sup>. For standard seawater conditions (temperature = 10 deg C, practical salinity = 35) $\\rho_f$ = 1025 kg/m<sup>3</sup>$, $\\mu =$ 1.51 × 10<sup>−3</sup> kg/(m*s).\n",
    "\n",
    "Source: L. Peperzak, F. Colijn, R. Koeman, W. W. C. Gieskes, J. C. A. Joordens, Phytoplankton sinking rates in the Rhine region of freshwater influence, Journal of Plankton Research, Volume 25, Issue 4, April 2003, Pages 365–383, https://doi.org/10.1093/plankt/25.4.365"
   ]
  },
  {
   "cell_type": "markdown",
   "metadata": {},
   "source": [
    "10. Edit your function to use typical seawater values as defaults for  `rho_f` and `mu`."
   ]
  }
 ],
 "metadata": {
  "anaconda-cloud": {},
  "kernelspec": {
   "display_name": "Python 3.10.6 ('data-book')",
   "language": "python",
   "name": "python3"
  },
  "language_info": {
   "codemirror_mode": {
    "name": "ipython",
    "version": 3
   },
   "file_extension": ".py",
   "mimetype": "text/x-python",
   "name": "python",
   "nbconvert_exporter": "python",
   "pygments_lexer": "ipython3",
   "version": "3.10.6"
  },
  "vscode": {
   "interpreter": {
    "hash": "0ef88d3abb6b62f34a20525ce337090c4512fe8aecf32c74604482b944e1c3bd"
   }
  }
 },
 "nbformat": 4,
 "nbformat_minor": 4
}