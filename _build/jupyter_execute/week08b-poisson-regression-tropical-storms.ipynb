{
 "cells": [
  {
   "cell_type": "markdown",
   "metadata": {},
   "source": [
    "# Poisson regression example\n",
    "\n",
    "## Modeling tropical storm counts\n",
    "\n",
    "The number of tropical storms is an example of a variable that is not expected to be normally distributed. Counts cannot be negative, are often skewed and tend to follow a Poisson distribution.\n",
    "\n",
    "This example follows the general approach of [Villarini et al. (2010)](https://journals.ametsoc.org/view/journals/mwre/138/7/2010mwr3315.1.xml) in using Poisson regression to model the number of tropical storms based on climate indices.\n",
    "\n",
    "The goal of Poisson regression is to model a rate of occurrence, $\\Lambda_i$, where the rate changes for each observation $i$. This model can be expressed as a generalized linear model (GLM) with a *logarithmic link function*.\n",
    "\n",
    "$$\\log(\\Lambda_i) = \\beta_0 + \\beta_1 x_{1i} + \\beta_2 x_{2i} + ... + \\beta_n x_{ki}$$\n",
    "\n",
    "which is the same as\n",
    "\n",
    "$$\\Lambda_i = \\exp(\\beta_0 + \\beta_1 x_{1i} + \\beta_2 x_{2i} + ... + \\beta_n x_{ki})$$\n",
    "\n",
    "This is a model for the rate of occurrence $\\Lambda_i$ as a function of $k$ predictor variables. In this example, the rate of occurrence $\\Lambda_i$ is the number of storm counts per year and each climate index is a predictor variable. \n",
    "\n",
    "* The logarithmic link function is useful because $\\log(\\Lambda_i)$ can be positive or negative, but $\\Lambda_i$ must be positive\n",
    "\n",
    "* If the data being modeled is a standard Poisson random variable, the model simplifies to $\\Lambda_i = \\exp({\\beta_0})$"
   ]
  },
  {
   "cell_type": "code",
   "execution_count": 1,
   "metadata": {},
   "outputs": [],
   "source": [
    "import numpy as np\n",
    "import pandas as pd\n",
    "from matplotlib import pyplot as plt\n",
    "from scipy import stats\n",
    "import statsmodels.api as sm\n",
    "import statsmodels.formula.api as smf"
   ]
  },
  {
   "cell_type": "markdown",
   "metadata": {},
   "source": [
    "We use a special function to load the climate indices from NOAA."
   ]
  },
  {
   "cell_type": "code",
   "execution_count": 2,
   "metadata": {},
   "outputs": [],
   "source": [
    "def read_psl_file(psl_file):\n",
    "    '''\n",
    "    Read a data file in in NOAA Physical Sciences Laboratory (PSL) format\n",
    "    \n",
    "    Input: String containing the path to a PSL data file\n",
    "    Returns: Pandas dataframe with monthly data in columns and the year as the index\n",
    "    \n",
    "    For a description of the PSL format see: https://psl.noaa.gov/gcos_wgsp/Timeseries/standard/\n",
    "    '''\n",
    "    \n",
    "    f = open(psl_file, \"r\")\n",
    "    all_lines = f.readlines()\n",
    "    start_year = all_lines[0].split()[0]\n",
    "    end_year = all_lines[0].split()[1]\n",
    "\n",
    "    for i in range(1,len(all_lines)):\n",
    "        stri = all_lines[i].find(end_year)\n",
    "        if stri>=0:\n",
    "            end_index = i\n",
    "\n",
    "    missing_val = float(all_lines[end_index+1])\n",
    "    nrows = int(end_year)-int(start_year)+1\n",
    "    df = pd.read_csv(psl_file,skiprows=1,nrows=nrows,sep='\\s+',header=None,na_values=missing_val)\n",
    "    df = df.rename(columns={0:'year'})\n",
    "    df = df.set_index('year',drop=True)\n",
    "    \n",
    "    return df"
   ]
  },
  {
   "cell_type": "code",
   "execution_count": 3,
   "metadata": {},
   "outputs": [],
   "source": [
    "dfsoi = read_psl_file('data/tropical-storms/soi.data')\n",
    "dftna = read_psl_file('data/tropical-storms/tna.data')\n",
    "dfnao = read_psl_file('data/tropical-storms/nao.data')"
   ]
  },
  {
   "cell_type": "markdown",
   "metadata": {},
   "source": [
    "Load the tropical storm data."
   ]
  },
  {
   "cell_type": "code",
   "execution_count": 4,
   "metadata": {},
   "outputs": [],
   "source": [
    "dftrop = pd.read_csv('data/tropical-storms/tropical.txt',sep='\\t')\n",
    "dftrop = dftrop.set_index('Year',drop=False)"
   ]
  },
  {
   "cell_type": "markdown",
   "metadata": {},
   "source": [
    "Tropical storms do not happen in winter, so we average the climate indices during the relevant months."
   ]
  },
  {
   "cell_type": "code",
   "execution_count": 5,
   "metadata": {},
   "outputs": [],
   "source": [
    "dftrop['SOI'] = dfsoi.loc[:,5:6].mean(axis=1)\n",
    "dftrop['TNA'] = dftna.loc[:,5:6].mean(axis=1)\n",
    "dftrop['NAO'] = dfnao.loc[:,5:6].mean(axis=1)"
   ]
  },
  {
   "cell_type": "markdown",
   "metadata": {},
   "source": [
    "##### Exercises\n",
    "* How would you find the NAO averaged over July-September?\n",
    "* How would you find the NAO for years 2010-2020, averaged over July-September?\n",
    "* How would you use `dfnao.iloc` to achieve the same result?"
   ]
  },
  {
   "cell_type": "markdown",
   "metadata": {},
   "source": [
    "Drop all rows with any NaN values."
   ]
  },
  {
   "cell_type": "code",
   "execution_count": 6,
   "metadata": {},
   "outputs": [],
   "source": [
    "df = dftrop.dropna()"
   ]
  },
  {
   "cell_type": "code",
   "execution_count": 7,
   "metadata": {},
   "outputs": [
    {
     "data": {
      "text/html": [
       "<div>\n",
       "<style scoped>\n",
       "    .dataframe tbody tr th:only-of-type {\n",
       "        vertical-align: middle;\n",
       "    }\n",
       "\n",
       "    .dataframe tbody tr th {\n",
       "        vertical-align: top;\n",
       "    }\n",
       "\n",
       "    .dataframe thead th {\n",
       "        text-align: right;\n",
       "    }\n",
       "</style>\n",
       "<table border=\"1\" class=\"dataframe\">\n",
       "  <thead>\n",
       "    <tr style=\"text-align: right;\">\n",
       "      <th></th>\n",
       "      <th>Year</th>\n",
       "      <th>NamedStorms</th>\n",
       "      <th>NamedStormDays</th>\n",
       "      <th>Hurricanes</th>\n",
       "      <th>HurricaneDays</th>\n",
       "      <th>MajorHurricanes</th>\n",
       "      <th>MajorHurricaneDays</th>\n",
       "      <th>AccumulatedCycloneEnergy</th>\n",
       "      <th>SOI</th>\n",
       "      <th>TNA</th>\n",
       "      <th>NAO</th>\n",
       "    </tr>\n",
       "    <tr>\n",
       "      <th>Year</th>\n",
       "      <th></th>\n",
       "      <th></th>\n",
       "      <th></th>\n",
       "      <th></th>\n",
       "      <th></th>\n",
       "      <th></th>\n",
       "      <th></th>\n",
       "      <th></th>\n",
       "      <th></th>\n",
       "      <th></th>\n",
       "      <th></th>\n",
       "    </tr>\n",
       "  </thead>\n",
       "  <tbody>\n",
       "    <tr>\n",
       "      <th>1951</th>\n",
       "      <td>1951</td>\n",
       "      <td>12</td>\n",
       "      <td>67.00</td>\n",
       "      <td>8</td>\n",
       "      <td>34.25</td>\n",
       "      <td>3</td>\n",
       "      <td>4.50</td>\n",
       "      <td>126.3</td>\n",
       "      <td>-0.40</td>\n",
       "      <td>0.155</td>\n",
       "      <td>-0.925</td>\n",
       "    </tr>\n",
       "    <tr>\n",
       "      <th>1952</th>\n",
       "      <td>1952</td>\n",
       "      <td>11</td>\n",
       "      <td>45.75</td>\n",
       "      <td>5</td>\n",
       "      <td>15.50</td>\n",
       "      <td>2</td>\n",
       "      <td>2.50</td>\n",
       "      <td>69.1</td>\n",
       "      <td>1.20</td>\n",
       "      <td>0.205</td>\n",
       "      <td>-0.545</td>\n",
       "    </tr>\n",
       "    <tr>\n",
       "      <th>1953</th>\n",
       "      <td>1953</td>\n",
       "      <td>14</td>\n",
       "      <td>61.75</td>\n",
       "      <td>7</td>\n",
       "      <td>19.00</td>\n",
       "      <td>3</td>\n",
       "      <td>5.00</td>\n",
       "      <td>98.5</td>\n",
       "      <td>-1.30</td>\n",
       "      <td>0.120</td>\n",
       "      <td>0.425</td>\n",
       "    </tr>\n",
       "    <tr>\n",
       "      <th>1954</th>\n",
       "      <td>1954</td>\n",
       "      <td>16</td>\n",
       "      <td>57.00</td>\n",
       "      <td>7</td>\n",
       "      <td>26.00</td>\n",
       "      <td>3</td>\n",
       "      <td>7.00</td>\n",
       "      <td>104.4</td>\n",
       "      <td>0.50</td>\n",
       "      <td>0.045</td>\n",
       "      <td>0.015</td>\n",
       "    </tr>\n",
       "    <tr>\n",
       "      <th>1955</th>\n",
       "      <td>1955</td>\n",
       "      <td>13</td>\n",
       "      <td>85.50</td>\n",
       "      <td>9</td>\n",
       "      <td>43.00</td>\n",
       "      <td>4</td>\n",
       "      <td>8.50</td>\n",
       "      <td>164.7</td>\n",
       "      <td>1.95</td>\n",
       "      <td>-0.065</td>\n",
       "      <td>-0.530</td>\n",
       "    </tr>\n",
       "    <tr>\n",
       "      <th>...</th>\n",
       "      <td>...</td>\n",
       "      <td>...</td>\n",
       "      <td>...</td>\n",
       "      <td>...</td>\n",
       "      <td>...</td>\n",
       "      <td>...</td>\n",
       "      <td>...</td>\n",
       "      <td>...</td>\n",
       "      <td>...</td>\n",
       "      <td>...</td>\n",
       "      <td>...</td>\n",
       "    </tr>\n",
       "    <tr>\n",
       "      <th>2016</th>\n",
       "      <td>2016</td>\n",
       "      <td>15</td>\n",
       "      <td>81.00</td>\n",
       "      <td>7</td>\n",
       "      <td>27.75</td>\n",
       "      <td>4</td>\n",
       "      <td>10.25</td>\n",
       "      <td>141.3</td>\n",
       "      <td>0.90</td>\n",
       "      <td>0.385</td>\n",
       "      <td>-0.400</td>\n",
       "    </tr>\n",
       "    <tr>\n",
       "      <th>2017</th>\n",
       "      <td>2017</td>\n",
       "      <td>17</td>\n",
       "      <td>93.00</td>\n",
       "      <td>10</td>\n",
       "      <td>51.75</td>\n",
       "      <td>6</td>\n",
       "      <td>19.25</td>\n",
       "      <td>224.9</td>\n",
       "      <td>-0.15</td>\n",
       "      <td>0.590</td>\n",
       "      <td>-0.685</td>\n",
       "    </tr>\n",
       "    <tr>\n",
       "      <th>2018</th>\n",
       "      <td>2018</td>\n",
       "      <td>15</td>\n",
       "      <td>87.25</td>\n",
       "      <td>8</td>\n",
       "      <td>26.75</td>\n",
       "      <td>2</td>\n",
       "      <td>5.00</td>\n",
       "      <td>129.0</td>\n",
       "      <td>0.20</td>\n",
       "      <td>-0.440</td>\n",
       "      <td>1.715</td>\n",
       "    </tr>\n",
       "    <tr>\n",
       "      <th>2019</th>\n",
       "      <td>2019</td>\n",
       "      <td>18</td>\n",
       "      <td>68.50</td>\n",
       "      <td>6</td>\n",
       "      <td>23.25</td>\n",
       "      <td>3</td>\n",
       "      <td>10.00</td>\n",
       "      <td>129.8</td>\n",
       "      <td>-0.70</td>\n",
       "      <td>0.210</td>\n",
       "      <td>-1.585</td>\n",
       "    </tr>\n",
       "    <tr>\n",
       "      <th>2020</th>\n",
       "      <td>2020</td>\n",
       "      <td>30</td>\n",
       "      <td>118.00</td>\n",
       "      <td>13</td>\n",
       "      <td>34.75</td>\n",
       "      <td>6</td>\n",
       "      <td>8.75</td>\n",
       "      <td>179.8</td>\n",
       "      <td>0.05</td>\n",
       "      <td>0.620</td>\n",
       "      <td>-0.085</td>\n",
       "    </tr>\n",
       "  </tbody>\n",
       "</table>\n",
       "<p>70 rows × 11 columns</p>\n",
       "</div>"
      ],
      "text/plain": [
       "      Year  NamedStorms  NamedStormDays  Hurricanes  HurricaneDays  \\\n",
       "Year                                                                 \n",
       "1951  1951           12           67.00           8          34.25   \n",
       "1952  1952           11           45.75           5          15.50   \n",
       "1953  1953           14           61.75           7          19.00   \n",
       "1954  1954           16           57.00           7          26.00   \n",
       "1955  1955           13           85.50           9          43.00   \n",
       "...    ...          ...             ...         ...            ...   \n",
       "2016  2016           15           81.00           7          27.75   \n",
       "2017  2017           17           93.00          10          51.75   \n",
       "2018  2018           15           87.25           8          26.75   \n",
       "2019  2019           18           68.50           6          23.25   \n",
       "2020  2020           30          118.00          13          34.75   \n",
       "\n",
       "      MajorHurricanes  MajorHurricaneDays  AccumulatedCycloneEnergy   SOI  \\\n",
       "Year                                                                        \n",
       "1951                3                4.50                     126.3 -0.40   \n",
       "1952                2                2.50                      69.1  1.20   \n",
       "1953                3                5.00                      98.5 -1.30   \n",
       "1954                3                7.00                     104.4  0.50   \n",
       "1955                4                8.50                     164.7  1.95   \n",
       "...               ...                 ...                       ...   ...   \n",
       "2016                4               10.25                     141.3  0.90   \n",
       "2017                6               19.25                     224.9 -0.15   \n",
       "2018                2                5.00                     129.0  0.20   \n",
       "2019                3               10.00                     129.8 -0.70   \n",
       "2020                6                8.75                     179.8  0.05   \n",
       "\n",
       "        TNA    NAO  \n",
       "Year                \n",
       "1951  0.155 -0.925  \n",
       "1952  0.205 -0.545  \n",
       "1953  0.120  0.425  \n",
       "1954  0.045  0.015  \n",
       "1955 -0.065 -0.530  \n",
       "...     ...    ...  \n",
       "2016  0.385 -0.400  \n",
       "2017  0.590 -0.685  \n",
       "2018 -0.440  1.715  \n",
       "2019  0.210 -1.585  \n",
       "2020  0.620 -0.085  \n",
       "\n",
       "[70 rows x 11 columns]"
      ]
     },
     "execution_count": 7,
     "metadata": {},
     "output_type": "execute_result"
    }
   ],
   "source": [
    "df"
   ]
  },
  {
   "cell_type": "markdown",
   "metadata": {},
   "source": [
    "Histogram of the named storm counts."
   ]
  },
  {
   "cell_type": "code",
   "execution_count": 8,
   "metadata": {},
   "outputs": [
    {
     "data": {
      "text/plain": [
       "<AxesSubplot:>"
      ]
     },
     "execution_count": 8,
     "metadata": {},
     "output_type": "execute_result"
    },
    {
     "data": {
      "image/png": "[encoded data removed]",
      "text/plain": [
       "<Figure size 640x480 with 1 Axes>"
      ]
     },
     "metadata": {
      "filenames": {
       "image/png": "/Users/tconnolly/work/Books/data_marine_science/_build/jupyter_execute/week08b-poisson-regression-tropical-storms_14_1.png"
      }
     },
     "output_type": "display_data"
    }
   ],
   "source": [
    "plt.figure()\n",
    "df['NamedStorms'].hist()"
   ]
  },
  {
   "cell_type": "markdown",
   "metadata": {},
   "source": [
    "Poisson distribution - model as a constant"
   ]
  },
  {
   "cell_type": "code",
   "execution_count": 9,
   "metadata": {},
   "outputs": [
    {
     "data": {
      "text/html": [
       "<table class=\"simpletable\">\n",
       "<caption>Generalized Linear Model Regression Results</caption>\n",
       "<tr>\n",
       "  <th>Dep. Variable:</th>      <td>NamedStorms</td>   <th>  No. Observations:  </th>   <td>    70</td>  \n",
       "</tr>\n",
       "<tr>\n",
       "  <th>Model:</th>                  <td>GLM</td>       <th>  Df Residuals:      </th>   <td>    69</td>  \n",
       "</tr>\n",
       "<tr>\n",
       "  <th>Model Family:</th>         <td>Poisson</td>     <th>  Df Model:          </th>   <td>     0</td>  \n",
       "</tr>\n",
       "<tr>\n",
       "  <th>Link Function:</th>          <td>Log</td>       <th>  Scale:             </th>  <td>  1.0000</td> \n",
       "</tr>\n",
       "<tr>\n",
       "  <th>Method:</th>                <td>IRLS</td>       <th>  Log-Likelihood:    </th>  <td> -206.92</td> \n",
       "</tr>\n",
       "<tr>\n",
       "  <th>Date:</th>            <td>Wed, 24 Aug 2022</td> <th>  Deviance:          </th>  <td>  113.91</td> \n",
       "</tr>\n",
       "<tr>\n",
       "  <th>Time:</th>                <td>08:49:33</td>     <th>  Pearson chi2:      </th>   <td>  123.</td>  \n",
       "</tr>\n",
       "<tr>\n",
       "  <th>No. Iterations:</th>          <td>4</td>        <th>  Pseudo R-squ. (CS):</th> <td>-1.554e-15</td>\n",
       "</tr>\n",
       "<tr>\n",
       "  <th>Covariance Type:</th>     <td>nonrobust</td>    <th>                     </th>      <td> </td>    \n",
       "</tr>\n",
       "</table>\n",
       "<table class=\"simpletable\">\n",
       "<tr>\n",
       "      <td></td>         <th>coef</th>     <th>std err</th>      <th>z</th>      <th>P>|z|</th>  <th>[0.025</th>    <th>0.975]</th>  \n",
       "</tr>\n",
       "<tr>\n",
       "  <th>Intercept</th> <td>    2.4979</td> <td>    0.034</td> <td>   72.869</td> <td> 0.000</td> <td>    2.431</td> <td>    2.565</td>\n",
       "</tr>\n",
       "</table>"
      ],
      "text/plain": [
       "<class 'statsmodels.iolib.summary.Summary'>\n",
       "\"\"\"\n",
       "                 Generalized Linear Model Regression Results                  \n",
       "==============================================================================\n",
       "Dep. Variable:            NamedStorms   No. Observations:                   70\n",
       "Model:                            GLM   Df Residuals:                       69\n",
       "Model Family:                 Poisson   Df Model:                            0\n",
       "Link Function:                    Log   Scale:                          1.0000\n",
       "Method:                          IRLS   Log-Likelihood:                -206.92\n",
       "Date:                Wed, 24 Aug 2022   Deviance:                       113.91\n",
       "Time:                        08:49:33   Pearson chi2:                     123.\n",
       "No. Iterations:                     4   Pseudo R-squ. (CS):         -1.554e-15\n",
       "Covariance Type:            nonrobust                                         \n",
       "==============================================================================\n",
       "                 coef    std err          z      P>|z|      [0.025      0.975]\n",
       "------------------------------------------------------------------------------\n",
       "Intercept      2.4979      0.034     72.869      0.000       2.431       2.565\n",
       "==============================================================================\n",
       "\"\"\""
      ]
     },
     "execution_count": 9,
     "metadata": {},
     "output_type": "execute_result"
    }
   ],
   "source": [
    "result = smf.glm(formula='NamedStorms ~ 1',\n",
    "                 data=df,\n",
    "                 family=sm.families.Poisson()).fit()\n",
    "result.summary()"
   ]
  },
  {
   "cell_type": "code",
   "execution_count": 10,
   "metadata": {},
   "outputs": [
    {
     "data": {
      "text/plain": [
       "[<matplotlib.lines.Line2D at 0x1328a7310>]"
      ]
     },
     "execution_count": 10,
     "metadata": {},
     "output_type": "execute_result"
    },
    {
     "data": {
      "image/png": "[encoded data removed]",
      "text/plain": [
       "<Figure size 640x480 with 1 Axes>"
      ]
     },
     "metadata": {
      "filenames": {
       "image/png": "/Users/tconnolly/work/Books/data_marine_science/_build/jupyter_execute/week08b-poisson-regression-tropical-storms_17_1.png"
      }
     },
     "output_type": "display_data"
    }
   ],
   "source": [
    "k = np.arange(0,30)\n",
    "mu = np.exp(result.params.Intercept)\n",
    "pmf_poisson = stats.poisson.pmf(k,mu)\n",
    "\n",
    "plt.figure()\n",
    "df['NamedStorms'].hist(density=True)\n",
    "plt.plot(k,pmf_poisson)"
   ]
  },
  {
   "cell_type": "markdown",
   "metadata": {},
   "source": [
    "Poisson regression model, including a linear temporal trend."
   ]
  },
  {
   "cell_type": "code",
   "execution_count": 11,
   "metadata": {},
   "outputs": [
    {
     "data": {
      "text/html": [
       "<table class=\"simpletable\">\n",
       "<caption>Generalized Linear Model Regression Results</caption>\n",
       "<tr>\n",
       "  <th>Dep. Variable:</th>      <td>NamedStorms</td>   <th>  No. Observations:  </th>  <td>    70</td> \n",
       "</tr>\n",
       "<tr>\n",
       "  <th>Model:</th>                  <td>GLM</td>       <th>  Df Residuals:      </th>  <td>    65</td> \n",
       "</tr>\n",
       "<tr>\n",
       "  <th>Model Family:</th>         <td>Poisson</td>     <th>  Df Model:          </th>  <td>     4</td> \n",
       "</tr>\n",
       "<tr>\n",
       "  <th>Link Function:</th>          <td>Log</td>       <th>  Scale:             </th> <td>  1.0000</td>\n",
       "</tr>\n",
       "<tr>\n",
       "  <th>Method:</th>                <td>IRLS</td>       <th>  Log-Likelihood:    </th> <td> -186.77</td>\n",
       "</tr>\n",
       "<tr>\n",
       "  <th>Date:</th>            <td>Wed, 24 Aug 2022</td> <th>  Deviance:          </th> <td>  73.614</td>\n",
       "</tr>\n",
       "<tr>\n",
       "  <th>Time:</th>                <td>08:49:33</td>     <th>  Pearson chi2:      </th>  <td>  73.3</td> \n",
       "</tr>\n",
       "<tr>\n",
       "  <th>No. Iterations:</th>          <td>4</td>        <th>  Pseudo R-squ. (CS):</th>  <td>0.4377</td> \n",
       "</tr>\n",
       "<tr>\n",
       "  <th>Covariance Type:</th>     <td>nonrobust</td>    <th>                     </th>     <td> </td>   \n",
       "</tr>\n",
       "</table>\n",
       "<table class=\"simpletable\">\n",
       "<tr>\n",
       "      <td></td>         <th>coef</th>     <th>std err</th>      <th>z</th>      <th>P>|z|</th>  <th>[0.025</th>    <th>0.975]</th>  \n",
       "</tr>\n",
       "<tr>\n",
       "  <th>Intercept</th> <td>   -8.9786</td> <td>    3.621</td> <td>   -2.480</td> <td> 0.013</td> <td>  -16.076</td> <td>   -1.881</td>\n",
       "</tr>\n",
       "<tr>\n",
       "  <th>Year</th>      <td>    0.0057</td> <td>    0.002</td> <td>    3.154</td> <td> 0.002</td> <td>    0.002</td> <td>    0.009</td>\n",
       "</tr>\n",
       "<tr>\n",
       "  <th>NAO</th>       <td>   -0.0267</td> <td>    0.048</td> <td>   -0.558</td> <td> 0.577</td> <td>   -0.120</td> <td>    0.067</td>\n",
       "</tr>\n",
       "<tr>\n",
       "  <th>SOI</th>       <td>    0.0620</td> <td>    0.037</td> <td>    1.654</td> <td> 0.098</td> <td>   -0.011</td> <td>    0.135</td>\n",
       "</tr>\n",
       "<tr>\n",
       "  <th>TNA</th>       <td>    0.3563</td> <td>    0.096</td> <td>    3.729</td> <td> 0.000</td> <td>    0.169</td> <td>    0.544</td>\n",
       "</tr>\n",
       "</table>"
      ],
      "text/plain": [
       "<class 'statsmodels.iolib.summary.Summary'>\n",
       "\"\"\"\n",
       "                 Generalized Linear Model Regression Results                  \n",
       "==============================================================================\n",
       "Dep. Variable:            NamedStorms   No. Observations:                   70\n",
       "Model:                            GLM   Df Residuals:                       65\n",
       "Model Family:                 Poisson   Df Model:                            4\n",
       "Link Function:                    Log   Scale:                          1.0000\n",
       "Method:                          IRLS   Log-Likelihood:                -186.77\n",
       "Date:                Wed, 24 Aug 2022   Deviance:                       73.614\n",
       "Time:                        08:49:33   Pearson chi2:                     73.3\n",
       "No. Iterations:                     4   Pseudo R-squ. (CS):             0.4377\n",
       "Covariance Type:            nonrobust                                         \n",
       "==============================================================================\n",
       "                 coef    std err          z      P>|z|      [0.025      0.975]\n",
       "------------------------------------------------------------------------------\n",
       "Intercept     -8.9786      3.621     -2.480      0.013     -16.076      -1.881\n",
       "Year           0.0057      0.002      3.154      0.002       0.002       0.009\n",
       "NAO           -0.0267      0.048     -0.558      0.577      -0.120       0.067\n",
       "SOI            0.0620      0.037      1.654      0.098      -0.011       0.135\n",
       "TNA            0.3563      0.096      3.729      0.000       0.169       0.544\n",
       "==============================================================================\n",
       "\"\"\""
      ]
     },
     "execution_count": 11,
     "metadata": {},
     "output_type": "execute_result"
    }
   ],
   "source": [
    "result = smf.glm(formula='NamedStorms ~ Year + NAO + SOI + TNA',\n",
    "                 data=df,\n",
    "                 family=sm.families.Poisson()).fit()\n",
    "result.summary()"
   ]
  },
  {
   "cell_type": "code",
   "execution_count": 12,
   "metadata": {},
   "outputs": [],
   "source": [
    "beta = result.params"
   ]
  },
  {
   "cell_type": "code",
   "execution_count": 13,
   "metadata": {},
   "outputs": [
    {
     "data": {
      "text/plain": [
       "Intercept   -8.978558\n",
       "Year         0.005747\n",
       "NAO         -0.026677\n",
       "SOI          0.061967\n",
       "TNA          0.356328\n",
       "dtype: float64"
      ]
     },
     "execution_count": 13,
     "metadata": {},
     "output_type": "execute_result"
    }
   ],
   "source": [
    "beta"
   ]
  },
  {
   "cell_type": "markdown",
   "metadata": {},
   "source": [
    "#### Exercises\n",
    "* Create a Python variable `y` that contains the observed count data.\n",
    "* Create a Python variable `yhat` that contains the modeled count data (use the parameters in `beta`).\n",
    "* Make plots comparing the observed and modeled counts."
   ]
  }
 ],
 "metadata": {
  "kernelspec": {
   "display_name": "Python 3.10.6 ('data-book')",
   "language": "python",
   "name": "python3"
  },
  "language_info": {
   "codemirror_mode": {
    "name": "ipython",
    "version": 3
   },
   "file_extension": ".py",
   "mimetype": "text/x-python",
   "name": "python",
   "nbconvert_exporter": "python",
   "pygments_lexer": "ipython3",
   "version": "3.10.6"
  },
  "vscode": {
   "interpreter": {
    "hash": "0ef88d3abb6b62f34a20525ce337090c4512fe8aecf32c74604482b944e1c3bd"
   }
  }
 },
 "nbformat": 4,
 "nbformat_minor": 4
}