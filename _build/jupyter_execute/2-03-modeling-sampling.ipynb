{
 "cells": [
  {
   "cell_type": "markdown",
   "metadata": {
    "editable": true,
    "slideshow": {
     "slide_type": ""
    },
    "tags": []
   },
   "source": [
    "# Modeling, sampling, confidence intervals\n",
    "\n",
    "## Recommended reading\n",
    "\n",
    "* http://statsthinking21.org/index.html\n",
    "Chapters 7,8\n",
    "\n",
    "* Glover, Jenkins and Doney: Section 2.7 - The central limit theorem\n",
    "\n",
    "* Emery and Thomson: Confidence intervals, 3.8.1, 3.8.2 – Confidence interval for mean"
   ]
  },
  {
   "cell_type": "markdown",
   "metadata": {},
   "source": [
    "## Probability Density Function (PDF) review with example data set\n",
    "\n",
    "### Probability density function\n",
    "\n",
    "$N$ = 10623 anchovy weight samples\n",
    "\n",
    "$\\Delta x$ = 5 g\n",
    "\n",
    "**Review**: How to calculate PDF from counts, N and $\\Delta x$?\n",
    "\n",
    "* With the histogram we have the following information: counts, bin width ( $\\Delta x$ = 5g), $N$ (samples).  \n",
    "\n",
    "PDF = fraction/$\\Delta x$  = counts/($N \\Delta x$)\n",
    "\n",
    "![Trawl_Life_Hist_Samp_Data](images/Trawl_Life_Hist_Samp_Data.png) \n",
    "\n",
    "### NOAA SWFSC - Trawl Life History Specimen Data \n",
    "\n",
    "fishery independent trawl surveys of coastal pelagic species\n",
    "\n",
    "Surveys: 2003-2019"
   ]
  },
  {
   "cell_type": "code",
   "execution_count": 1,
   "metadata": {
    "tags": [
     "remove-input"
    ]
   },
   "outputs": [],
   "source": [
    "import numpy as np\n",
    "import matplotlib.pyplot as plt\n",
    "import netCDF4 as nc4\n",
    "from ipywidgets import interact, interactive, fixed, interact_manual, IntSlider\n",
    "import ipywidgets as widgets\n",
    "from scipy.stats import norm, mode\n",
    "from scipy import stats\n",
    "\n",
    "species_name = 'Engraulis mordax'\n",
    "file_name = 'data/trawl_swfsc/FRDCPSTrawlLHSpecimen_8b4e_b841_9c81.nc'\n",
    "\n",
    "def read_trawl_data_file(species_name, file_name):\n",
    "    \n",
    "    # open the netcdf file and read in the weight and length data\n",
    "    ds = nc4.Dataset(file_name)\n",
    "    name = ds.variables['scientific_name'][:]\n",
    "    weight = ds.variables['weight'][:]\n",
    "    length = ds.variables['standard_length'][:]\n",
    "    ds.close()\n",
    "    \n",
    "    # subset to the particular species and remove the nan values\n",
    "    indices = np.logical_and(name==species_name, length<4000)\n",
    "    indices = np.logical_and(indices,~np.isnan(weight))\n",
    "    weight = weight[indices]\n",
    "    length = length[indices]\n",
    "    \n",
    "    return(weight,length)\n",
    "\n",
    "def plot_weight_histogram(species_name, normalize_pdf = True, remove_mean = False):\n",
    "    \n",
    "    #species_name = 'Engraulis mordax'\n",
    "\n",
    "    # read in the weight data using \n",
    "    weight, _ = read_trawl_data_file(species_name, file_name)\n",
    "    \n",
    "    fig = plt.figure()\n",
    "    \n",
    "    bins = np.arange(0,65,5)\n",
    "\n",
    "    if remove_mean == True:\n",
    "        weight = weight - np.mean(weight)\n",
    "        bins = bins - np.mean(weight)\n",
    "\n",
    "    if normalize_pdf:\n",
    "        plt.hist(weight, density=True, bins=bins)\n",
    "        plt.ylabel('PDF')\n",
    "    else:\n",
    "        plt.hist(weight, density=False, bins=bins)\n",
    "        plt.ylabel('counts')\n",
    "        \n",
    "    plt.title(species_name+', $\\mu$ = '+'{:.2f}'.format(np.mean(weight))\n",
    "              +', $\\sigma$ = '+'{:.2f}'.format(np.std(weight))\n",
    "              +', N = '+str(len(weight)))\n",
    "    plt.xlabel('weight [g]');\n",
    "    \n",
    "\n",
    "def subsample_weights(weights, N, seed=None):\n",
    "    np.random.seed(seed)\n",
    "    indices = np.random.randint(0, np.size(weights), N)\n",
    "    subsample = weights[indices]\n",
    "    return(subsample)\n",
    "\n",
    "def plot_subsampled_weight_histogram(species_name, N=100):\n",
    "    \n",
    "    #species_name = 'Engraulis mordax'\n",
    "\n",
    "    # read in the weight data using \n",
    "    weight, _ = read_trawl_data_file(species_name, file_name)\n",
    "    \n",
    "    subsampled_weights = subsample_weights(weight, N)\n",
    "    \n",
    "    fig = plt.figure()\n",
    "    plt.hist(subsampled_weights,density=True, bins=np.arange(0,60,5))\n",
    "    plt.title(species_name+', $\\\\bar{x}$ = '+'{:.2f}'.format(np.mean(subsampled_weights))\n",
    "              +', s = '+'{:.2f}'.format(np.std(subsampled_weights))\n",
    "              +', N = '+str(len(subsampled_weights)))\n",
    "    plt.xlabel('weight [g]')\n",
    "    plt.ylabel('PDF');\n",
    "\n",
    "def plot_length_vs_weight_data_with_fit(species_name, N):\n",
    "    \n",
    "    #species_name = 'Engraulis mordax'\n",
    "    #species_name = 'Icichthys lockingtoni'\n",
    "\n",
    "    # read in the weight data using \n",
    "    weight, length = read_trawl_data_file(species_name, file_name)\n",
    "    \n",
    "    z = np.polyfit(length,weight,N)\n",
    "    p = np.poly1d(z)\n",
    "    \n",
    "    x = np.arange(np.min(length),np.max(length)+1)\n",
    "    RMSE = np.sqrt(np.mean((weight-p(length))**2))\n",
    "    \n",
    "    fig = plt.figure()\n",
    "    plt.plot(length,weight,'.')\n",
    "    plt.plot(x,p(x),'-',linewidth=2)\n",
    "    \n",
    "    if species_name == 'Engraulis mordax':\n",
    "        plt.xlim([15,190])\n",
    "        plt.ylim([-20,70])\n",
    "        \n",
    "    plt.xlabel('standard length (mm)')\n",
    "    plt.ylabel('weight [g]')\n",
    "    plt.grid(alpha=0.4,linestyle='--',linewidth='0.8')\n",
    "    plt.title('Model fit with '+str(N)+' polynomial term(s), RMSE = '+'{:.2f}'.format(RMSE)+' g');\n",
    "    \n",
    "\n",
    "def plot_distribution_of_subsampled_weight_means(species_name, N, n_subsamples):\n",
    "\n",
    "    # read in the weight data using \n",
    "    weight, _ = read_trawl_data_file(species_name, file_name)\n",
    "    \n",
    "    sample_means = []\n",
    "    for n in range(n_subsamples):\n",
    "        subsampled_weights = subsample_weights(weight, N)\n",
    "        sample_means.append(np.mean(subsampled_weights))\n",
    "    \n",
    "    fig = plt.figure(figsize = (8, 5))\n",
    "    \n",
    "    plt.subplot(1,2,1)\n",
    "    plt.hist(sample_means, density=True, bins=np.arange(0,60,0.5))\n",
    "    plt.title('a) Distribution\\n of means ($\\\\bar{x}$)')\n",
    "    x = np.arange(0,60,0.1)\n",
    "    plt.plot(x, norm.pdf(x, np.mean(weight), np.std(weight)/np.sqrt(N)))\n",
    "    plt.ylabel('PDF')\n",
    "    plt.gca().set_ylim([0,0.5])\n",
    "    plt.xlabel('weight [g]')\n",
    "    yl = plt.ylim()\n",
    "    \n",
    "    plt.text(25,0.8*np.diff(yl), '$\\mu $ = '+'{:.3f}'.format(np.mean(weight)))\n",
    "    plt.text(25,0.74*np.diff(yl), '$\\sigma/\\sqrt{N} $ = '+'{:.3f}'.format(np.std(weight)/np.sqrt(N)))\n",
    "    plt.text(25,0.5*np.diff(yl), 'Mean of $\\\\bar{x}$\\n = '+'{:.3f}'.format(np.mean(sample_means)))\n",
    "    plt.text(25,0.36*np.diff(yl), 'Std. Dev. of\\n $\\\\bar{x}$ = '+'{:.3f}'.format(np.std(sample_means)))\n",
    "    \n",
    "    plt.subplot(1,2,2)\n",
    "    plt.title('b) Same as a), but zoomed in')\n",
    "    x = np.arange(10,20.1,0.1)\n",
    "    plt.hist(sample_means, density=True, bins=np.arange(0,60,0.5))\n",
    "    plt.plot(x, norm.pdf(x, np.mean(weight), np.std(weight)/np.sqrt(N)))\n",
    "    plt.xlabel('weight [g]')\n",
    "    plt.gca().set_ylim([0, 0.5])\n",
    "    plt.gca().set_xlim([10, 20]);\n"
   ]
  },
  {
   "cell_type": "markdown",
   "metadata": {},
   "source": [
    "### Subsampled data set\n",
    "\n",
    "If we think of the above PDF as repesenting the total poulation of *Engraulis mordax* in the whole ocean, then you can think of the subsample as a result you might get if you just went out and trawled for one day.\n",
    "\n",
    "Click the button to generate a random set of $N$ subsamples from the larger dataset."
   ]
  },
  {
   "cell_type": "code",
   "execution_count": 2,
   "metadata": {
    "tags": [
     "remove-input"
    ]
   },
   "outputs": [
    {
     "data": {
      "application/vnd.jupyter.widget-view+json": {
       "model_id": "29bc22024fac49c09aaabe39b11e73b3",
       "version_major": 2,
       "version_minor": 0
      },
      "text/plain": [
       "interactive(children=(IntSlider(value=100, description='N', max=1000, min=10, step=10), Button(description='cr…"
      ]
     },
     "metadata": {},
     "output_type": "display_data"
    },
    {
     "data": {
      "text/plain": [
       "<function __main__.plot_subsampled_weight_histogram(species_name, N=100)>"
      ]
     },
     "metadata": {},
     "output_type": "display_data"
    }
   ],
   "source": [
    "my_interact_manual = interact_manual.options(manual_name=\"create sub-sample\")\n",
    "\n",
    "im = my_interact_manual(plot_subsampled_weight_histogram, \n",
    "            species_name = fixed(species_name),\n",
    "            N=IntSlider(min=10, max=1000, step=10, value=100),\n",
    "            seed=None);\n",
    "\n",
    "display(im);\n"
   ]
  },
  {
   "cell_type": "markdown",
   "metadata": {},
   "source": [
    "\n",
    "$N$ = 100 anchovy weight samples\n",
    "\n",
    "What are the key differences, similarities of this distribution, compared with all 10623 samples?\n",
    "\n",
    "- *differences*: a pdf of smaller sample sizes are noiser, less smooth.  May see more variability from one bin to the next.\n",
    "\n",
    "- *similarities*: theoretical distribution resembles poisson distribution (skewed data set with a longer tail), scale of y-axis (normalized by the bin width so magnitudes of different data sets are comparable)"
   ]
  },
  {
   "cell_type": "markdown",
   "metadata": {},
   "source": [
    "### Statistical modeling\n",
    "#### What is a model? \n",
    "\n",
    "Physical models (e.g., of a building, of Monterey Bay, of a cell or a molecule) represent something on a different scale to make it easier to understand. They convey the essence of something without having to worry about all the details. A statistical model is same basic idea as a physical model, we want to convey the essence of the dataset without having to use an entire dataset\n",
    "\n",
    "#### Basic structure of a statistical model\n",
    "\n",
    "A statistical model is based off data. Error is an inherent part of of any model prediction. One of the key goals in evaluating a model is to quantify that error. \n",
    "\n",
    "data = model + error\n",
    "\n",
    "$x_i = \\hat{x}_i + \\epsilon_i$\n",
    "\n",
    "where $x_i$ is one data point, $\\hat{x}_i$ is the corresponding model predition, and $\\epsilon_i$ is the difference between them."
   ]
  },
  {
   "cell_type": "markdown",
   "metadata": {},
   "source": [
    "### Example data set: simplest model\n",
    "\n",
    "#### The simplest possible model is a single value \n",
    "* Mode = 5 g\n",
    "\n",
    "* Mean = 15.326 g\n",
    "\n",
    "* Median = 14 g\n",
    "\n",
    "In this case the mean is much bigger than the mode is about 15 grams (data is skewed).  A median describes the central value, or 50th percentile in the data set.\n",
    "\n",
    "If we use the mode as the model, we can write it as:\n",
    "$\\hat{weight_i}$ = 5 g\n",
    "\n",
    "The $\\hat{}$ denotes a value predicted by the model\n",
    "\n",
    "The subscript $_i$ denotes one data point with the model value, a generic observation.  For example, if we specify  $i=1$, it could mean the first row in a spreadsheet.\n",
    "\n",
    "We can describe the error based on the model structure:\n",
    "$error_i = weight_i - \\hat{weight_i}$\n",
    "\n",
    "where $weight_i$ is an observation, or data point, and $\\hat{weight_i}$ is the corresponding model prediction. Each observation has a model prediction and an error associated with it. \n",
    "\n",
    "In the example, if we have 10623 data points, then a model will have 10263 errors."
   ]
  },
  {
   "cell_type": "markdown",
   "metadata": {},
   "source": [
    "### Example data set: mode as a model"
   ]
  },
  {
   "cell_type": "code",
   "execution_count": 3,
   "metadata": {
    "tags": [
     "remove-input"
    ]
   },
   "outputs": [
    {
     "data": {
      "text/plain": [
       "<Figure size 640x480 with 0 Axes>"
      ]
     },
     "metadata": {},
     "output_type": "display_data"
    },
    {
     "data": {
      "image/png": "[encoded data removed]",
      "text/plain": [
       "<Figure size 640x480 with 1 Axes>"
      ]
     },
     "metadata": {},
     "output_type": "display_data"
    }
   ],
   "source": [
    "weight,length = read_trawl_data_file(species_name, file_name)\n",
    "\n",
    "plt.figure()\n",
    "plot_weight_histogram(species_name, normalize_pdf = True)\n",
    "xl = plt.xlim()\n",
    "yl = plt.ylim()\n",
    "plt.plot([mode(weight)[0], mode(weight)[0]],[yl[0], yl[1]], 'r--', lw=2)\n",
    "plt.xlim(xl)\n",
    "plt.ylim(yl);"
   ]
  },
  {
   "cell_type": "markdown",
   "metadata": {},
   "source": [
    "With this model, each model prediction has a constant value of 5 g, that is,\n",
    "\n",
    "$\\hat{x}_i$ = 5 g.\n",
    "\n",
    "The average error, $\\bar{\\epsilon_i} = \\overline{(x_i - \\hat{x}_i)}$, when using mode as model is 10.326 g. In other words the positive errors dominate the average error.\n",
    "\n",
    "If we use the mean as a model, would you expect the average error increase or decrease?"
   ]
  },
  {
   "cell_type": "markdown",
   "metadata": {},
   "source": [
    "### Example data set: mean as a model"
   ]
  },
  {
   "cell_type": "code",
   "execution_count": 4,
   "metadata": {
    "tags": [
     "remove-input"
    ]
   },
   "outputs": [
    {
     "data": {
      "text/plain": [
       "<Figure size 640x480 with 0 Axes>"
      ]
     },
     "metadata": {},
     "output_type": "display_data"
    },
    {
     "data": {
      "image/png": "[encoded data removed]",
      "text/plain": [
       "<Figure size 640x480 with 1 Axes>"
      ]
     },
     "metadata": {},
     "output_type": "display_data"
    }
   ],
   "source": [
    "plt.figure()\n",
    "plot_weight_histogram(species_name, normalize_pdf = True)\n",
    "xl = plt.xlim()\n",
    "yl = plt.ylim()\n",
    "plt.plot([np.mean(weight), np.mean(weight)],[yl[0], yl[1]], 'r--', lw=2)\n",
    "plt.xlim(xl)\n",
    "plt.ylim(yl);"
   ]
  },
  {
   "cell_type": "markdown",
   "metadata": {},
   "source": [
    "\n",
    "\n",
    "If we use the mean as a model, $\\hat{x_i} = \\bar{x_i}$ \n",
    "\n",
    "The average error when using mean as a model is 0.0g.  In this case, the negative errors cancel out the positive errors. In this case, the mean error does not do a good job of describing the distribution of errors. In fact, this metric is a measure of bias but does not say anything about the random errors (precision) of the model.\n",
    "\n",
    "#### What other metrics can we use to quantify model error?\n",
    "\n",
    "Some ways of quantifying the error:\n",
    "\n",
    "We can describe the mean error (average error) as:\n",
    "\n",
    "$ME = \\frac{1}{N} \\sum_{i=1}^N (x_i - \\hat{x_i})$\n",
    "\n",
    "If our model ($\\hat{x_i}$) is the mean of the dataset ($\\bar{x_i}$), then the ME = 0 and the model is *unbiased*.\n",
    "\n",
    "\n",
    "#### Sum of Squared Errors\n",
    "\n",
    "$SSE = \\sum_{i=1}^N (x_i - \\hat{x_i})^2$\n",
    "\n",
    "(This treats the positive and negative values equally)\n",
    "\n",
    "#### Mean Squared Error\n",
    "\n",
    "$MSE = \\frac{1}{N} SSE$\n",
    "\n",
    "#### Root Mean Square Error \n",
    "\n",
    "$RMSE = \\sqrt{MSE}$\n",
    "\n",
    "The units for RMSE will make it easier to understand the error mismatch. This is a summary of all the errors in the dataset by penalizing all errors in the dataset equally. For our two models examined so far, where the model is only a constant value, the RMSE can by summarized as:\n",
    "\n",
    "* RMSE(mean) = 9.71 grams \n",
    "* RMSE(mode) = 14.18 grams"
   ]
  },
  {
   "cell_type": "markdown",
   "metadata": {},
   "source": [
    "### The mean is the single value that minimizes RMSE "
   ]
  },
  {
   "cell_type": "code",
   "execution_count": 5,
   "metadata": {
    "tags": [
     "remove-input"
    ]
   },
   "outputs": [
    {
     "data": {
      "image/png": "[encoded data removed]",
      "text/plain": [
       "<Figure size 640x480 with 1 Axes>"
      ]
     },
     "metadata": {},
     "output_type": "display_data"
    }
   ],
   "source": [
    "xmod = np.arange(0,31,0.1)\n",
    "xsae = np.nan*np.zeros(len(xmod))\n",
    "\n",
    "for i,xmodi in enumerate(xmod):\n",
    "    xsae[i] = np.sqrt(np.mean((weight-xmodi)**2))\n",
    "    \n",
    "plt.figure()\n",
    "plt.plot(xmod,xsae)\n",
    "plt.xlabel('$\\hat{weight}$ [g]')\n",
    "plt.ylabel('RMSE [g]')\n",
    "\n",
    "xl = plt.xlim()\n",
    "yl = plt.ylim()\n",
    "plt.plot([np.mean(weight), np.mean(weight)],[yl[0], yl[1]], 'r--', lw=2)\n",
    "plt.xlim(xl)\n",
    "plt.ylim(yl);"
   ]
  },
  {
   "cell_type": "markdown",
   "metadata": {},
   "source": [
    "* This plot is showing the RMSE as a function of the model value. \n",
    "\n",
    "* This plot is an example of what is called a *cost function*. We have a model parameter on the x-axis and an error, or \"cost\" on the y-axis.  In modeling we are often interested in the parameter that minimizes the cost function.\n",
    "\n",
    "* The vertical dashed line shows the mean value. Out of all possible models defined by a single parameter, the mean is the one the minimizes the RMSE and would be considered most optimal."
   ]
  },
  {
   "cell_type": "markdown",
   "metadata": {},
   "source": [
    "### A simple model with two parameters: linear model \n",
    "\n",
    "Let's say that we want to model fish weight as a function of length for this species. This might be useful in a case where length estimates are common, but weight estimates are more labor-inetensive. Or maybe there is interest in comparine length-weight relationships for different species."
   ]
  },
  {
   "cell_type": "code",
   "execution_count": 6,
   "metadata": {
    "tags": [
     "hide-input"
    ]
   },
   "outputs": [
    {
     "name": "stderr",
     "output_type": "stream",
     "text": [
      "/var/folders/z7/lmyk7sz94177j166ck0x63h80000gr/T/ipykernel_46632/744610339.py:17: FutureWarning: Series.__getitem__ treating keys as positions is deprecated. In a future version, integer keys will always be treated as labels (consistent with DataFrame behavior). To access a value by position, use `ser.iloc[pos]`\n",
      "  err = dfsub['weight']-(results.params[0]+results.params[1]*dfsub['standard_length'])\n",
      "/var/folders/z7/lmyk7sz94177j166ck0x63h80000gr/T/ipykernel_46632/744610339.py:24: FutureWarning: Series.__getitem__ treating keys as positions is deprecated. In a future version, integer keys will always be treated as labels (consistent with DataFrame behavior). To access a value by position, use `ser.iloc[pos]`\n",
      "  results.params[0]+results.params[1]*dfsub['standard_length'],\n"
     ]
    },
    {
     "data": {
      "image/png": "[encoded data removed]",
      "text/plain": [
       "<Figure size 640x480 with 1 Axes>"
      ]
     },
     "metadata": {},
     "output_type": "display_data"
    }
   ],
   "source": [
    "import xarray as xr\n",
    "import pandas as pd\n",
    "import statsmodels.api as sm\n",
    "import statsmodels.formula.api as smf\n",
    "import matplotlib.pyplot as plt\n",
    "\n",
    "# load dataset and convert to Pandas dataframe\n",
    "ds = xr.open_dataset('data/trawl_swfsc/FRDCPSTrawlLHSpecimen_8b4e_b841_9c81.nc')\n",
    "df = ds.to_dataframe()\n",
    "dfsub = df.loc[(df['scientific_name'] == 'Engraulis mordax') & \n",
    "               (ds['standard_length'].values < 1e8)]\n",
    "\n",
    "# linear fit with statsmodels package\n",
    "results = smf.ols('weight ~ 1 + standard_length', dfsub).fit()\n",
    "\n",
    "# RMSE\n",
    "err = dfsub['weight']-(results.params[0]+results.params[1]*dfsub['standard_length'])\n",
    "rmse = np.sqrt(np.mean(err**2))\n",
    "\n",
    "# plot linear model\n",
    "plt.figure()\n",
    "plt.plot(dfsub['standard_length'],dfsub['weight'],'.')\n",
    "plt.plot(dfsub['standard_length'],\n",
    "         results.params[0]+results.params[1]*dfsub['standard_length'],\n",
    "         '-')\n",
    "plt.xlabel('standard length [mm]')\n",
    "plt.ylabel('weight [g]')\n",
    "plt.title('Engraulis mordax, RMSE = '+str(np.round(rmse,2))+ ' g');"
   ]
  },
  {
   "cell_type": "markdown",
   "metadata": {},
   "source": [
    "The linear model has RMSE = 3.57 g\n",
    "\n",
    "Looking at the data, it looks like a linear model only works for part of the data. It tends to be biased low at the smallest and largest length values.  If we were going to use this linear model, our equation would be: \n",
    "\n",
    "$\\hat{weight_i} =  constant + a * length_i$\n",
    "\n",
    "The $\\hat{}$ symbol indicates $\\hat{weight_i}$ is a model\n",
    "\n",
    "Here the $constant$ is the intercept and $a$ is the slope.\n",
    "\n",
    "The intercept and slope are the model parameters. You can think of the error $\\epsilon_i$ for each data point as being the vertical distance between the data point and the model, $x_i - \\hat{x}_i$."
   ]
  },
  {
   "cell_type": "markdown",
   "metadata": {},
   "source": [
    "### Example data set: quadratic model "
   ]
  },
  {
   "cell_type": "code",
   "execution_count": 7,
   "metadata": {
    "tags": [
     "hide-input"
    ]
   },
   "outputs": [
    {
     "name": "stderr",
     "output_type": "stream",
     "text": [
      "/var/folders/z7/lmyk7sz94177j166ck0x63h80000gr/T/ipykernel_46632/2931778582.py:3: FutureWarning: Series.__getitem__ treating keys as positions is deprecated. In a future version, integer keys will always be treated as labels (consistent with DataFrame behavior). To access a value by position, use `ser.iloc[pos]`\n",
      "  errq = dfsub['weight']-(resultsq.params[0]+\n",
      "/var/folders/z7/lmyk7sz94177j166ck0x63h80000gr/T/ipykernel_46632/2931778582.py:4: FutureWarning: Series.__getitem__ treating keys as positions is deprecated. In a future version, integer keys will always be treated as labels (consistent with DataFrame behavior). To access a value by position, use `ser.iloc[pos]`\n",
      "  resultsq.params[1]*dfsub['standard_length']+\n",
      "/var/folders/z7/lmyk7sz94177j166ck0x63h80000gr/T/ipykernel_46632/2931778582.py:5: FutureWarning: Series.__getitem__ treating keys as positions is deprecated. In a future version, integer keys will always be treated as labels (consistent with DataFrame behavior). To access a value by position, use `ser.iloc[pos]`\n",
      "  resultsq.params[2]*dfsub['standard_length']**2)\n",
      "/var/folders/z7/lmyk7sz94177j166ck0x63h80000gr/T/ipykernel_46632/2931778582.py:11: FutureWarning: Series.__getitem__ treating keys as positions is deprecated. In a future version, integer keys will always be treated as labels (consistent with DataFrame behavior). To access a value by position, use `ser.iloc[pos]`\n",
      "  resultsq.params[0]+\n",
      "/var/folders/z7/lmyk7sz94177j166ck0x63h80000gr/T/ipykernel_46632/2931778582.py:12: FutureWarning: Series.__getitem__ treating keys as positions is deprecated. In a future version, integer keys will always be treated as labels (consistent with DataFrame behavior). To access a value by position, use `ser.iloc[pos]`\n",
      "  resultsq.params[1]*dfsub['standard_length']+\n",
      "/var/folders/z7/lmyk7sz94177j166ck0x63h80000gr/T/ipykernel_46632/2931778582.py:13: FutureWarning: Series.__getitem__ treating keys as positions is deprecated. In a future version, integer keys will always be treated as labels (consistent with DataFrame behavior). To access a value by position, use `ser.iloc[pos]`\n",
      "  resultsq.params[2]*dfsub['standard_length']**2,\n"
     ]
    },
    {
     "data": {
      "image/png": "[encoded data removed]",
      "text/plain": [
       "<Figure size 640x480 with 1 Axes>"
      ]
     },
     "metadata": {},
     "output_type": "display_data"
    }
   ],
   "source": [
    "resultsq = smf.ols('weight ~ 1 + standard_length + I(standard_length**2)', dfsub).fit()\n",
    "\n",
    "errq = dfsub['weight']-(resultsq.params[0]+\n",
    "         resultsq.params[1]*dfsub['standard_length']+\n",
    "         resultsq.params[2]*dfsub['standard_length']**2)\n",
    "rmseq = np.sqrt(np.mean(errq**2))\n",
    "\n",
    "plt.figure()\n",
    "plt.plot(dfsub['standard_length'],dfsub['weight'],'.')\n",
    "plt.plot(dfsub['standard_length'],\n",
    "         resultsq.params[0]+\n",
    "         resultsq.params[1]*dfsub['standard_length']+\n",
    "         resultsq.params[2]*dfsub['standard_length']**2,\n",
    "         '.')\n",
    "plt.xlabel('standard length [mm]')\n",
    "plt.ylabel('weight [g]')\n",
    "plt.title('Engraulis mordax, RMSE = '+str(np.round(rmseq,2))+ ' g');"
   ]
  },
  {
   "cell_type": "markdown",
   "metadata": {},
   "source": [
    "The quadratic model has RMSE = 2.11 g. \n",
    "\n",
    "$\\hat{weight_i} =  constant + a * length_i + b * length_i^2$\n",
    "\n",
    "The constant, a, and b are model parameters that describe the structure or the shape of the model. We can find the model that minimizes the RMSE.  This looks like it is doing better than a linear model, but the model indicates that their weight decreases as they get bigger for smaller fish.  It still has some systematic errors where there is some bias."
   ]
  },
  {
   "cell_type": "markdown",
   "metadata": {},
   "source": [
    "### Example data set: data transformation"
   ]
  },
  {
   "cell_type": "code",
   "execution_count": 8,
   "metadata": {
    "tags": [
     "hide-input"
    ]
   },
   "outputs": [
    {
     "data": {
      "image/png": "[encoded data removed]",
      "text/plain": [
       "<Figure size 640x480 with 1 Axes>"
      ]
     },
     "metadata": {},
     "output_type": "display_data"
    }
   ],
   "source": [
    "plt.figure()\n",
    "plt.plot(np.log(dfsub['standard_length']),\n",
    "         np.log(dfsub['weight']),'.')\n",
    "plt.xlabel('ln(standard length [mm])')\n",
    "plt.ylabel('ln(weight [g])')\n",
    "plt.title('Engraulis mordax');"
   ]
  },
  {
   "cell_type": "markdown",
   "metadata": {},
   "source": [
    "This is the same data transformed to a logarithmic scale, and now it appears that a linear model may be appropriate.  Now, we are not minimizing the RMSE, you are minimizing the logarthmic RMSE.\n",
    "\n",
    "#### What makes a model good?\n",
    "\n",
    "- good fit\n",
    "- minimizes error\n",
    "- represents actual scenario of the data \n",
    "- is not overcomplicated"
   ]
  },
  {
   "cell_type": "markdown",
   "metadata": {},
   "source": [
    "### Modeling another species - Overfitting\n",
    "\n",
    "Overfitting occurs when a model is overcomplicated and not representative of the actual scenario. If we add more parameters by adding more terms to the polynomial model equation, we may get an unrealistic model with a low RMSE. Symptoms of overfitting include large swings in model curves where no data points exist.\n",
    "\n",
    "If another datapoint is added without readjusting the model (for example, if a *Icichthys lockingtoni* specimen with 150 mm length were caught), the RMSE will likely be large.  \n",
    "\n",
    "Datasets with large sample sizes are still prone to overfitting. Even with many data points, a model for *Engraulis mordax* with many coefficients is overly sensitive to the extreme data values. "
   ]
  },
  {
   "cell_type": "code",
   "execution_count": 9,
   "metadata": {
    "tags": [
     "hide-input"
    ]
   },
   "outputs": [
    {
     "data": {
      "application/vnd.jupyter.widget-view+json": {
       "model_id": "7270e3c1934d4083964d7a4950a57585",
       "version_major": 2,
       "version_minor": 0
      },
      "text/plain": [
       "interactive(children=(Dropdown(description='species_name', options=('Icichthys lockingtoni', 'Engraulis mordax…"
      ]
     },
     "metadata": {},
     "output_type": "display_data"
    }
   ],
   "source": [
    "interact(plot_length_vs_weight_data_with_fit,\n",
    "        species_name = ['Icichthys lockingtoni', 'Engraulis mordax'],\n",
    "         N=widgets.IntSlider(min=0, max=10, step=1, value=7));"
   ]
  },
  {
   "cell_type": "markdown",
   "metadata": {},
   "source": [
    "### Sampling\n",
    "* *Statistical inference*: One of the foundational ideas in statistics is that we can make inferences about an entire population based on a relatively small sample of individuals from that population.\n",
    "\n",
    "* *Goal of sampling*: determine the value of a statistic for an entire population of interest, using just a small subset of the population.\n",
    "\n",
    "The way in which we select the sample is critical to ensuring that the sample is representative of the entire population.\n",
    "\n",
    "Adapted from: http://statsthinking21.org/sampling.html"
   ]
  },
  {
   "cell_type": "markdown",
   "metadata": {},
   "source": [
    "### Back to the anchovy data example: distribution of means\n",
    "\n",
    "![trawl_pdf_mean_dist](images/trawl_pdf_mean_dist.png)\n",
    "\n",
    "**Blue bars**: distribution of 1000 different sample means ($\\bar{x}$), with N = 100 samples each \n",
    "\n",
    "Mean of $\\bar{x}$ = 15.346 g\n",
    "Std. dev. of $\\bar{x}$ = 0.933 g\n",
    "\n",
    "**Orange curve**: normal distribution \n",
    "  \n",
    "$\\mu$ = 15.327 g (mean of full data set)\n",
    "\n",
    "$\\frac{\\sigma}{\\sqrt{N}}$ = 0.971 g (std. dev. of full data set / √100)\n",
    "      \n",
    "      "
   ]
  },
  {
   "cell_type": "markdown",
   "metadata": {},
   "source": [
    "### Anchovy data: distribution of means (zoomed in)\n",
    "\n",
    "![images/trawl_pdf_mean_dist_zoomed.png](images/trawl_pdf_mean_dist_zoomed.png)\n",
    "\n",
    "\n",
    "#### Blue bars: distribution of 106 different sample means ($\\bar{x}$), with N = 100 samples each \n",
    "\n",
    "Mean of $\\bar{x}$ = 15.358 g\n",
    "Std. dev. of $\\bar{x}$ = 0.822 g\n",
    "\n",
    "#### Orange curve: normal distribution \n",
    "  \n",
    "$\\mu{}$ = 15.327 g (mean of full data set)\n",
    "\n",
    "$\\frac{\\sigma}{\\sqrt{N}}$ = 0.971 g (std. dev. of full data set / √100)\n",
    "\n",
    "This is a consequence of the central limit theorem."
   ]
  },
  {
   "cell_type": "code",
   "execution_count": 10,
   "metadata": {
    "tags": [
     "hide-input"
    ]
   },
   "outputs": [
    {
     "data": {
      "application/vnd.jupyter.widget-view+json": {
       "model_id": "3ba3c1dab5ba4a9e98bd6c48cf8dcf17",
       "version_major": 2,
       "version_minor": 0
      },
      "text/plain": [
       "interactive(children=(IntSlider(value=3, description='N', min=1), IntSlider(value=1000, description='n_subsamp…"
      ]
     },
     "metadata": {},
     "output_type": "display_data"
    },
    {
     "data": {
      "text/plain": [
       "<function __main__.plot_distribution_of_subsampled_weight_means(species_name, N, n_subsamples)>"
      ]
     },
     "execution_count": 10,
     "metadata": {},
     "output_type": "execute_result"
    }
   ],
   "source": [
    "interact(plot_distribution_of_subsampled_weight_means,\n",
    "        species_name = fixed(species_name),\n",
    "        N = widgets.IntSlider(min=1, max=100, step=1, value=3),\n",
    "        n_subsamples = widgets.IntSlider(min=10, max=1000, step=20, value=1000))"
   ]
  },
  {
   "cell_type": "markdown",
   "metadata": {},
   "source": [
    "## The Central Limit Theorem\n",
    "\n",
    "The __central limit theorem__ states that no matter what the probability distribution of parent population is, the _mean of the means_ drawn from the same population is normally distributed for large sample sizes. As $N$ approaches infinity,\n",
    "\n",
    "mean $(\\bar{x}) \\rightarrow \\mu$ (the mean of the sample means approaches the true mean)\n",
    "\n",
    "std $(\\bar{x}) \\rightarrow \\frac{\\sigma}{\\sqrt{N}}$ (the standard deviation of the sample means approaches the true standard error)\n",
    "\n",
    "The important consequence of this theorem is that if you collect enough samples, the sample mean will always provide an unbiased estimate of the true mean and you can calculate confidence intervals with the formulas above.\n",
    "\n",
    "However, if you have too few samples, the sample mean will provide a _biased_ estimate.\n",
    "\n",
    "Some examples of situation where the central limit theorem is applied:\n",
    "\n",
    "* Radiochemists study discrete decay events, which follow a Poisson distribution. A few samples will give a biased estimate of the mean rate of radioactive decay. If enough samples are collected, the sample mean and 95% confidence intervals can be calculated using the formulas described above.\n",
    "\n",
    "\n",
    "* Physical oceanographers routinely take advantage of the central limit theorem when using observations of pressure or velocity measurements to study processes with time scales much longer than individual waves. The probability distribution of a wavy sea surface is not normal at all, but by collecting many samples (a.k.a. an \"ensemble\") over a period of ~10-20 minutes the waves are effectively \"averaged out\" and one can be reasonably confident in the mean of that ensemble. \n",
    "\n",
    "When sampling a noisy environment and ensemble averaging, oceanographers must be careful to choose an ensemble that is long enough to collect enough samples, but not so long that the statistics are changing significantly over longer time scales. If statistics are robust regardless, of the sampling duration, the process is said to be __stationary__. \n",
    "\n",
    "\\*Adapted from: http://statsthinking21.org/sampling.html\n",
    "\n"
   ]
  },
  {
   "cell_type": "markdown",
   "metadata": {},
   "source": [
    "### Central limit theorem (in other words)\n",
    "\n",
    "The distribution of an average tends to be Normal, even when the distribution from which the average is computed is decidedly non-Normal. \n",
    "\n",
    "http://www.statisticalengineering.com/central_limit_theorem.htm\n",
    "\n",
    "The amazing and counter-intuitive thing about the central limit theorem is that no matter what the shape of the original distribution, the sampling distribution of the mean approaches a normal distribution. Furthermore, for most distributions, a normal distribution is approached very quickly as N increases. \n",
    "\n",
    "http://davidmlane.com/hyperstat/A14043.html"
   ]
  },
  {
   "cell_type": "markdown",
   "metadata": {},
   "source": [
    "### Central limit theorem - applications\n",
    "\n",
    "The weight distribution of *Engraulis mordax* is skewed. However, if we have hundreds of samples, the 95% confidence interval for the mean can still be estimated as\n",
    "\n",
    "$\\bar{x}$ ±1.96 $\\frac{s}{\\sqrt{N}}$\n",
    "\n",
    "With very few samples, the mean would not only be uncertain, but also biased."
   ]
  },
  {
   "cell_type": "markdown",
   "metadata": {},
   "source": [
    "<!---### Central limit theorem – dice example\n",
    "\n",
    "If we start to get more samples, we start to get more of a peak in the distribution\n",
    "\n",
    "![images/clt_dice_ex.png](images/clt_dice_ex.png)-->\n"
   ]
  },
  {
   "cell_type": "markdown",
   "metadata": {},
   "source": [
    "### The *z* Distribution\n",
    "\n",
    "<!--![images/zdist_example.png](images/zdist_example.png)-->\n",
    "\n",
    "* According to the central limit theorem, sample means ($\\bar{x}$) are normally distributed for large N.  \n",
    "* This gives you data that is standardized in a way that if we take  z-scores of the sample means ($\\bar{x}$),  95% of them should fall in the range:\n",
    "\n",
    "\t\t-1.96 < z < 1.96\n",
    "        \n",
    "* This is the basis for forming 95% confidence intervals        "
   ]
  },
  {
   "cell_type": "markdown",
   "metadata": {},
   "source": [
    "\n",
    "![images/trawl_pdf_mean_dist_zoomed.png](images/trawl_pdf_mean_dist_zoomed.png)\n",
    "\n",
    "### Confidence intervals for the mean\n",
    "\n",
    "For large sample size $N$:\n",
    "\n",
    "$CI_{95\\%} = \\bar{x} \\pm 1.96 \\times SE$, where SE is the standard error $\\frac{S}{\\sqrt{N}}$\n",
    "\n",
    "With large enough $N$, the 95% confidence interval will contain the true population mean 95% of the time. Here 1.96 is a critical z-score. In theory, if a population is normally distributed then 95% of the z-scores will be between -1.96 and 1.96. \n",
    "\n",
    "This equation is only valid for large samples sizes. For small sample sizes, we use a t-distribution instead of z-distribution (covered later).\n",
    "\n",
    "The 1.96 in the equation above is the critical $z$-value for a *significance level* of $\\alpha$ = 0.05, which corresponds to a 100x(1-$\\alpha$) *confidence level*. \n",
    "\n",
    "This number comes from the standard normal distribution shown below, where 95% of the values in this distribution fall between $z_{0.025} = $ -1.96 and $z_{0.925} = $ 1.96. The subscripts on the critical $z$-values represent the cumulative probability - 97.5% of values fall below 1.96 and 2.5% of values fall below -1.96, with 95% of the values falling between theses critical values. Note that because the distribution is symmetric, $z_{0.025} = -z_{0.025}$.\n",
    "\n",
    "We can therefore write the confidence interval in a few different ways:\n",
    "\n",
    "$CI_{95\\%} = \\bar{x} \\pm 1.96 \\times SE$\n",
    "\n",
    "$CI_{95\\%} = \\bar{x} \\pm z_{crit} \\times SE$\n",
    "\n",
    "$CI_{95\\%} = \\bar{x} \\pm z_{0.975} \\times SE$\n",
    "\n",
    "$CI_{95\\%} = \\bar{x} \\pm z_{1-\\alpha/2} \\times SE$"
   ]
  },
  {
   "cell_type": "code",
   "execution_count": 11,
   "metadata": {
    "tags": [
     "hide-input"
    ]
   },
   "outputs": [
    {
     "data": {
      "image/png": "[encoded data removed]",
      "text/plain": [
       "<Figure size 640x480 with 1 Axes>"
      ]
     },
     "metadata": {},
     "output_type": "display_data"
    }
   ],
   "source": [
    "# significance level\n",
    "\n",
    "alpha = 0.05\n",
    "\n",
    "# plot t-distribution\n",
    "zvalues = np.arange(-4,4,0.01)\n",
    "zpdf = stats.norm.pdf(zvalues)\n",
    "\n",
    "plt.figure()\n",
    "plt.plot(zvalues,zpdf,lw=3)\n",
    "plt.xlabel('$z$')\n",
    "plt.ylabel('probability density')\n",
    "plt.title('standard normal $z$-distribution')\n",
    "plt.gca().set_ylim(bottom=0)\n",
    "\n",
    "# plot rejection regions\n",
    "zcrit = stats.norm.ppf(1-alpha/2)\n",
    "upperi, = np.where(zvalues>zcrit)\n",
    "loweri, = np.where(zvalues<-zcrit)\n",
    "plt.fill_between(zvalues[upperi],zpdf[upperi],facecolor='red')\n",
    "plt.fill_between(zvalues[loweri],zpdf[loweri],facecolor='red');"
   ]
  },
  {
   "cell_type": "markdown",
   "metadata": {},
   "source": [
    "\n",
    "#### Example: fish weight distribution\n",
    "\n",
    "The plot below shows 95% confidence intervals for the mean for different subsets that are randomly selected from the main dataset. The default plot shows results from 100 trials (you can think of this as doing 100 trawls) where $N$ = 10 samples are collected in each trial. The population mean (or true mean) estimated from the larger dataset is shown in blue. This is a fixed parameter and does not change.\n",
    "\n",
    "The confidence intervals generally encompass the population mean. However, there are some trials where the confidence intervals fail. Also, by making the sample size small (e.g. $N$ = 3) you can see that the confidence intervals start to encompass negative values, which is not realistic for this data set. \n"
   ]
  },
  {
   "cell_type": "code",
   "execution_count": 12,
   "metadata": {
    "tags": [
     "hide-input"
    ]
   },
   "outputs": [
    {
     "data": {
      "application/vnd.jupyter.widget-view+json": {
       "model_id": "a657913e8a774587a29c4626941b486a",
       "version_major": 2,
       "version_minor": 0
      },
      "text/plain": [
       "interactive(children=(IntSlider(value=10, description='N', min=5), IntSlider(value=100, description='ntrial', …"
      ]
     },
     "metadata": {},
     "output_type": "display_data"
    }
   ],
   "source": [
    "ntrial = 1000\n",
    "\n",
    "xm = np.nan*np.zeros(ntrial)\n",
    "xs = np.nan*np.zeros(ntrial)\n",
    "xci_lower = np.nan*np.zeros(ntrial)\n",
    "xci_upper = np.nan*np.zeros(ntrial)\n",
    "\n",
    "ii = (ds['scientific_name'] == 'Engraulis mordax') & (ds['standard_length'] < 1e8)\n",
    "\n",
    "\n",
    "xmean = np.mean(ds['weight'][ii])\n",
    "xstd = np.std(ds['weight'][ii],ddof=1)\n",
    "xSE = xstd/np.sqrt(100)\n",
    "\n",
    "def plot_confidence_intervals(N, ntrial):\n",
    "    cnt = 0 \n",
    "    for i in np.arange(ntrial):\n",
    "        subi = np.random.randint(0, len(ds['weight'][ii]), N)\n",
    "        xm[i] = np.mean(ds['weight'][ii][subi])\n",
    "        xs[i] = np.std(ds['weight'][ii][subi], ddof=1)\n",
    "        (lower,upper) = stats.t.interval(0.95, N-1, loc=xm[i], scale=xs[i]/np.sqrt(N))\n",
    "        xci_lower[i] = lower\n",
    "        xci_upper[i] = upper\n",
    "        #xci_lower[i] = xm[i]-1.96*xs[i]/np.sqrt(N)\n",
    "        #xci_upper[i] = xm[i]+1.96*xs[i]/np.sqrt(N)\n",
    "        if (xmean >= xci_lower[i]) & (xmean < xci_upper[i]):\n",
    "            cnt = cnt + 1\n",
    "\n",
    "    plt.figure(figsize=(5,5))\n",
    "\n",
    "    for j in np.arange(0,ntrial):\n",
    "        if (xmean >= xci_lower[j]) & (xmean < xci_upper[j]):\n",
    "            plt.plot([xci_lower[j], xci_upper[j]], [j,j], 'k-')\n",
    "        else:\n",
    "            plt.plot([xci_lower[j], xci_upper[j]], [j,j], 'r-')\n",
    "\n",
    "    yl = plt.ylim()\n",
    "    plt.plot([xmean,xmean], yl, 'b--')\n",
    "    plt.ylim(yl)\n",
    "    plt.title('95% confidence intervals\\nrandom subsets with N = ' + str(N))\n",
    "    plt.xlabel('weight [g]')\n",
    "    plt.ylabel('trial #')\n",
    "    plt.xlim([-10, 50]);\n",
    "\n",
    "interact(plot_confidence_intervals,\n",
    "         N=widgets.IntSlider(min=5, max=100, step=1, value=10),\n",
    "         ntrial=widgets.IntSlider(min=10, max=200, step=1, value=100));"
   ]
  },
  {
   "cell_type": "markdown",
   "metadata": {},
   "source": [
    "The visualization above is inspired by a similar visualization by Kristoffer Magnusson at https://rpsychologist.com/d3/ci/. An excerpt from the description on site is worth keeping in mind:\n",
    "\n",
    "> The take home message is that we must accept that our data are noisy and that our results are uncertain. A single “significant” CI or p-value might provide comfort and make for easy conclusions. I hope this visualization shows that instead of drawing conclusions from a single experiment, we should spend our time replication results, honing scientific arguments, polish theories and form narratives, that taken all together provide evidentiary value for our hypothesis. So that we in the end can make substantive claims about the real world."
   ]
  },
  {
   "cell_type": "markdown",
   "metadata": {},
   "source": [
    "\n",
    "\n",
    "#### Common misinterpretation of confidence intervals*:\n",
    "\n",
    "“There is a 95% chance that the population mean falls within the interval.”\n",
    "\n",
    "What is wrong with this statement, and how does it differ from the correct interpretation?\n",
    "* In the case of confidence intervals, we can't interpret them in this way because the population parameter has a fixed value -  it is or it isn't in the interval\n",
    "\n",
    "* It is the *sample mean* that has a probability of falling within the confidence intervals, not the *true mean* or *population mean* \n",
    "\n",
    "* Confidence intervals treat the parameter as fixed (it has one *true* value) and the interval as variable (it will change based on the subset of data actually collected). \n",
    "\n",
    "\n",
    "\\*Adapted from: http://statsthinking21.org/sampling.html\n"
   ]
  },
  {
   "cell_type": "markdown",
   "metadata": {},
   "source": [
    "“The parameter is an unknown constant and no probability statement concerning its value may be made.”\n",
    "\n",
    "Jerzy Neyman, 1937\n",
    "Inventor of the confidence interval\n"
   ]
  },
  {
   "cell_type": "markdown",
   "metadata": {},
   "source": [
    "Confidence intervals (along with p-values) are examples of *frequentist* statistics, which rely on a set of hypothetical experiments conducted many, many (technically, infinitely many) times. We need to be careful thinking about how we apply and interpret frequentist statistics in the typical case where we only have samples from one experiment."
   ]
  }
 ],
 "metadata": {
  "anaconda-cloud": {},
  "kernelspec": {
   "display_name": "Python 3 (ipykernel)",
   "language": "python",
   "name": "python3"
  },
  "language_info": {
   "codemirror_mode": {
    "name": "ipython",
    "version": 3
   },
   "file_extension": ".py",
   "mimetype": "text/x-python",
   "name": "python",
   "nbconvert_exporter": "python",
   "pygments_lexer": "ipython3",
   "version": "3.11.7"
  },
  "vscode": {
   "interpreter": {
    "hash": "1f45fdcf2eddff97318504b1e3cfb08785222b41a6bfe39eedae558749854b42"
   }
  },
  "widgets": {
   "application/vnd.jupyter.widget-state+json": {
    "state": {
     "03297e52bb6445f3b608acda0abed3c1": {
      "model_module": "@jupyter-widgets/controls",
      "model_module_version": "2.0.0",
      "model_name": "SliderStyleModel",
      "state": {
       "_model_module": "@jupyter-widgets/controls",
       "_model_module_version": "2.0.0",
       "_model_name": "SliderStyleModel",
       "_view_count": null,
       "_view_module": "@jupyter-widgets/base",
       "_view_module_version": "2.0.0",
       "_view_name": "StyleView",
       "description_width": "",
       "handle_color": null
      }
     },
     "0783b6dba6e04ab28b167892645e47c1": {
      "model_module": "@jupyter-widgets/controls",
      "model_module_version": "2.0.0",
      "model_name": "IntSliderModel",
      "state": {
       "_dom_classes": [],
       "_model_module": "@jupyter-widgets/controls",
       "_model_module_version": "2.0.0",
       "_model_name": "IntSliderModel",
       "_view_count": null,
       "_view_module": "@jupyter-widgets/controls",
       "_view_module_version": "2.0.0",
       "_view_name": "IntSliderView",
       "behavior": "drag-tap",
       "continuous_update": true,
       "description": "N",
       "description_allow_html": false,
       "disabled": false,
       "layout": "IPY_MODEL_7f5c65ffd926408188bfdc2b8a824f17",
       "max": 100,
       "min": 5,
       "orientation": "horizontal",
       "readout": true,
       "readout_format": "d",
       "step": 1,
       "style": "IPY_MODEL_8c315c432c6341e5b807b77c0e733d77",
       "tabbable": null,
       "tooltip": null,
       "value": 10
      }
     },
     "0897be812d9f446fa82fa5fcdd79cb27": {
      "model_module": "@jupyter-widgets/controls",
      "model_module_version": "2.0.0",
      "model_name": "DescriptionStyleModel",
      "state": {
       "_model_module": "@jupyter-widgets/controls",
       "_model_module_version": "2.0.0",
       "_model_name": "DescriptionStyleModel",
       "_view_count": null,
       "_view_module": "@jupyter-widgets/base",
       "_view_module_version": "2.0.0",
       "_view_name": "StyleView",
       "description_width": ""
      }
     },
     "0e01f3fb9a9a40ffb1c375e89f5000b4": {
      "model_module": "@jupyter-widgets/base",
      "model_module_version": "2.0.0",
      "model_name": "LayoutModel",
      "state": {
       "_model_module": "@jupyter-widgets/base",
       "_model_module_version": "2.0.0",
       "_model_name": "LayoutModel",
       "_view_count": null,
       "_view_module": "@jupyter-widgets/base",
       "_view_module_version": "2.0.0",
       "_view_name": "LayoutView",
       "align_content": null,
       "align_items": null,
       "align_self": null,
       "border_bottom": null,
       "border_left": null,
       "border_right": null,
       "border_top": null,
       "bottom": null,
       "display": null,
       "flex": null,
       "flex_flow": null,
       "grid_area": null,
       "grid_auto_columns": null,
       "grid_auto_flow": null,
       "grid_auto_rows": null,
       "grid_column": null,
       "grid_gap": null,
       "grid_row": null,
       "grid_template_areas": null,
       "grid_template_columns": null,
       "grid_template_rows": null,
       "height": null,
       "justify_content": null,
       "justify_items": null,
       "left": null,
       "margin": null,
       "max_height": null,
       "max_width": null,
       "min_height": null,
       "min_width": null,
       "object_fit": null,
       "object_position": null,
       "order": null,
       "overflow": null,
       "padding": null,
       "right": null,
       "top": null,
       "visibility": null,
       "width": null
      }
     },
     "1215619221494f3aa7e6a7fca64643c5": {
      "model_module": "@jupyter-widgets/base",
      "model_module_version": "2.0.0",
      "model_name": "LayoutModel",
      "state": {
       "_model_module": "@jupyter-widgets/base",
       "_model_module_version": "2.0.0",
       "_model_name": "LayoutModel",
       "_view_count": null,
       "_view_module": "@jupyter-widgets/base",
       "_view_module_version": "2.0.0",
       "_view_name": "LayoutView",
       "align_content": null,
       "align_items": null,
       "align_self": null,
       "border_bottom": null,
       "border_left": null,
       "border_right": null,
       "border_top": null,
       "bottom": null,
       "display": null,
       "flex": null,
       "flex_flow": null,
       "grid_area": null,
       "grid_auto_columns": null,
       "grid_auto_flow": null,
       "grid_auto_rows": null,
       "grid_column": null,
       "grid_gap": null,
       "grid_row": null,
       "grid_template_areas": null,
       "grid_template_columns": null,
       "grid_template_rows": null,
       "height": null,
       "justify_content": null,
       "justify_items": null,
       "left": null,
       "margin": null,
       "max_height": null,
       "max_width": null,
       "min_height": null,
       "min_width": null,
       "object_fit": null,
       "object_position": null,
       "order": null,
       "overflow": null,
       "padding": null,
       "right": null,
       "top": null,
       "visibility": null,
       "width": null
      }
     },
     "1bf7f6e05ba8455e8cd2d60afc87fa4b": {
      "model_module": "@jupyter-widgets/base",
      "model_module_version": "2.0.0",
      "model_name": "LayoutModel",
      "state": {
       "_model_module": "@jupyter-widgets/base",
       "_model_module_version": "2.0.0",
       "_model_name": "LayoutModel",
       "_view_count": null,
       "_view_module": "@jupyter-widgets/base",
       "_view_module_version": "2.0.0",
       "_view_name": "LayoutView",
       "align_content": null,
       "align_items": null,
       "align_self": null,
       "border_bottom": null,
       "border_left": null,
       "border_right": null,
       "border_top": null,
       "bottom": null,
       "display": null,
       "flex": null,
       "flex_flow": null,
       "grid_area": null,
       "grid_auto_columns": null,
       "grid_auto_flow": null,
       "grid_auto_rows": null,
       "grid_column": null,
       "grid_gap": null,
       "grid_row": null,
       "grid_template_areas": null,
       "grid_template_columns": null,
       "grid_template_rows": null,
       "height": null,
       "justify_content": null,
       "justify_items": null,
       "left": null,
       "margin": null,
       "max_height": null,
       "max_width": null,
       "min_height": null,
       "min_width": null,
       "object_fit": null,
       "object_position": null,
       "order": null,
       "overflow": null,
       "padding": null,
       "right": null,
       "top": null,
       "visibility": null,
       "width": null
      }
     },
     "200c0e9a3f12462e848ea1fb6865beff": {
      "model_module": "@jupyter-widgets/controls",
      "model_module_version": "2.0.0",
      "model_name": "IntSliderModel",
      "state": {
       "_dom_classes": [],
       "_model_module": "@jupyter-widgets/controls",
       "_model_module_version": "2.0.0",
       "_model_name": "IntSliderModel",
       "_view_count": null,
       "_view_module": "@jupyter-widgets/controls",
       "_view_module_version": "2.0.0",
       "_view_name": "IntSliderView",
       "behavior": "drag-tap",
       "continuous_update": true,
       "description": "ntrial",
       "description_allow_html": false,
       "disabled": false,
       "layout": "IPY_MODEL_4f73bbaa09954e9f87475eae94da48ee",
       "max": 200,
       "min": 10,
       "orientation": "horizontal",
       "readout": true,
       "readout_format": "d",
       "step": 1,
       "style": "IPY_MODEL_49933230f78c4c75825ca47f35509dfb",
       "tabbable": null,
       "tooltip": null,
       "value": 100
      }
     },
     "20674befabcc4233b3f070ae48b95d25": {
      "model_module": "@jupyter-widgets/output",
      "model_module_version": "1.0.0",
      "model_name": "OutputModel",
      "state": {
       "_dom_classes": [],
       "_model_module": "@jupyter-widgets/output",
       "_model_module_version": "1.0.0",
       "_model_name": "OutputModel",
       "_view_count": null,
       "_view_module": "@jupyter-widgets/output",
       "_view_module_version": "1.0.0",
       "_view_name": "OutputView",
       "layout": "IPY_MODEL_4eeda1e140df40ca9c3622dacfe96b99",
       "msg_id": "",
       "outputs": [
        {
         "data": {
          "image/png": "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",
          "text/plain": "<Figure size 800x500 with 2 Axes>"
         },
         "metadata": {},
         "output_type": "display_data"
        }
       ],
       "tabbable": null,
       "tooltip": null
      }
     },
     "21edaa2c801848d6a6d46aa8212d976b": {
      "model_module": "@jupyter-widgets/controls",
      "model_module_version": "2.0.0",
      "model_name": "IntSliderModel",
      "state": {
       "_dom_classes": [],
       "_model_module": "@jupyter-widgets/controls",
       "_model_module_version": "2.0.0",
       "_model_name": "IntSliderModel",
       "_view_count": null,
       "_view_module": "@jupyter-widgets/controls",
       "_view_module_version": "2.0.0",
       "_view_name": "IntSliderView",
       "behavior": "drag-tap",
       "continuous_update": true,
       "description": "N",
       "description_allow_html": false,
       "disabled": false,
       "layout": "IPY_MODEL_5234d226d4424a63a7920421ab31addf",
       "max": 100,
       "min": 1,
       "orientation": "horizontal",
       "readout": true,
       "readout_format": "d",
       "step": 1,
       "style": "IPY_MODEL_03297e52bb6445f3b608acda0abed3c1",
       "tabbable": null,
       "tooltip": null,
       "value": 3
      }
     },
     "27582475d39c4ce8820b698710b22250": {
      "model_module": "@jupyter-widgets/controls",
      "model_module_version": "2.0.0",
      "model_name": "IntSliderModel",
      "state": {
       "_dom_classes": [],
       "_model_module": "@jupyter-widgets/controls",
       "_model_module_version": "2.0.0",
       "_model_name": "IntSliderModel",
       "_view_count": null,
       "_view_module": "@jupyter-widgets/controls",
       "_view_module_version": "2.0.0",
       "_view_name": "IntSliderView",
       "behavior": "drag-tap",
       "continuous_update": true,
       "description": "N",
       "description_allow_html": false,
       "disabled": false,
       "layout": "IPY_MODEL_75d717f5b0984daf9c4551baaa22d58b",
       "max": 10,
       "min": 0,
       "orientation": "horizontal",
       "readout": true,
       "readout_format": "d",
       "step": 1,
       "style": "IPY_MODEL_3b6ba0fedd8b4002b063617a01a5175f",
       "tabbable": null,
       "tooltip": null,
       "value": 7
      }
     },
     "29bc22024fac49c09aaabe39b11e73b3": {
      "model_module": "@jupyter-widgets/controls",
      "model_module_version": "2.0.0",
      "model_name": "VBoxModel",
      "state": {
       "_dom_classes": [
        "widget-interact"
       ],
       "_model_module": "@jupyter-widgets/controls",
       "_model_module_version": "2.0.0",
       "_model_name": "VBoxModel",
       "_view_count": null,
       "_view_module": "@jupyter-widgets/controls",
       "_view_module_version": "2.0.0",
       "_view_name": "VBoxView",
       "box_style": "",
       "children": [
        "IPY_MODEL_957d8fba50e9425eadf97b0f4dfb60ab",
        "IPY_MODEL_acb3835b39854474af893dca0267afa7",
        "IPY_MODEL_3a25cd63df3d4c6a87939f85cfb7593f"
       ],
       "layout": "IPY_MODEL_5a15aef9121d4cba901435836f3664d5",
       "tabbable": null,
       "tooltip": null
      }
     },
     "2a456472393441da9115716eb1f2f55d": {
      "model_module": "@jupyter-widgets/controls",
      "model_module_version": "2.0.0",
      "model_name": "DropdownModel",
      "state": {
       "_dom_classes": [],
       "_model_module": "@jupyter-widgets/controls",
       "_model_module_version": "2.0.0",
       "_model_name": "DropdownModel",
       "_options_labels": [
        "Icichthys lockingtoni",
        "Engraulis mordax"
       ],
       "_view_count": null,
       "_view_module": "@jupyter-widgets/controls",
       "_view_module_version": "2.0.0",
       "_view_name": "DropdownView",
       "description": "species_name",
       "description_allow_html": false,
       "disabled": false,
       "index": 0,
       "layout": "IPY_MODEL_fabc3cd199594b0494b581ab2d5075ec",
       "style": "IPY_MODEL_0897be812d9f446fa82fa5fcdd79cb27",
       "tabbable": null,
       "tooltip": null
      }
     },
     "3a25cd63df3d4c6a87939f85cfb7593f": {
      "model_module": "@jupyter-widgets/output",
      "model_module_version": "1.0.0",
      "model_name": "OutputModel",
      "state": {
       "_dom_classes": [],
       "_model_module": "@jupyter-widgets/output",
       "_model_module_version": "1.0.0",
       "_model_name": "OutputModel",
       "_view_count": null,
       "_view_module": "@jupyter-widgets/output",
       "_view_module_version": "1.0.0",
       "_view_name": "OutputView",
       "layout": "IPY_MODEL_adde239be04a41a7a96331797f39db53",
       "msg_id": "",
       "outputs": [],
       "tabbable": null,
       "tooltip": null
      }
     },
     "3b6ba0fedd8b4002b063617a01a5175f": {
      "model_module": "@jupyter-widgets/controls",
      "model_module_version": "2.0.0",
      "model_name": "SliderStyleModel",
      "state": {
       "_model_module": "@jupyter-widgets/controls",
       "_model_module_version": "2.0.0",
       "_model_name": "SliderStyleModel",
       "_view_count": null,
       "_view_module": "@jupyter-widgets/base",
       "_view_module_version": "2.0.0",
       "_view_name": "StyleView",
       "description_width": "",
       "handle_color": null
      }
     },
     "3ba3c1dab5ba4a9e98bd6c48cf8dcf17": {
      "model_module": "@jupyter-widgets/controls",
      "model_module_version": "2.0.0",
      "model_name": "VBoxModel",
      "state": {
       "_dom_classes": [
        "widget-interact"
       ],
       "_model_module": "@jupyter-widgets/controls",
       "_model_module_version": "2.0.0",
       "_model_name": "VBoxModel",
       "_view_count": null,
       "_view_module": "@jupyter-widgets/controls",
       "_view_module_version": "2.0.0",
       "_view_name": "VBoxView",
       "box_style": "",
       "children": [
        "IPY_MODEL_21edaa2c801848d6a6d46aa8212d976b",
        "IPY_MODEL_e014701fae8f44408d3727a89bdd52a4",
        "IPY_MODEL_20674befabcc4233b3f070ae48b95d25"
       ],
       "layout": "IPY_MODEL_e56256b34c5a4951aa8a51e6c758e943",
       "tabbable": null,
       "tooltip": null
      }
     },
     "41d9a7d6d3cd45c8943859c89206ce5e": {
      "model_module": "@jupyter-widgets/base",
      "model_module_version": "2.0.0",
      "model_name": "LayoutModel",
      "state": {
       "_model_module": "@jupyter-widgets/base",
       "_model_module_version": "2.0.0",
       "_model_name": "LayoutModel",
       "_view_count": null,
       "_view_module": "@jupyter-widgets/base",
       "_view_module_version": "2.0.0",
       "_view_name": "LayoutView",
       "align_content": null,
       "align_items": null,
       "align_self": null,
       "border_bottom": null,
       "border_left": null,
       "border_right": null,
       "border_top": null,
       "bottom": null,
       "display": null,
       "flex": null,
       "flex_flow": null,
       "grid_area": null,
       "grid_auto_columns": null,
       "grid_auto_flow": null,
       "grid_auto_rows": null,
       "grid_column": null,
       "grid_gap": null,
       "grid_row": null,
       "grid_template_areas": null,
       "grid_template_columns": null,
       "grid_template_rows": null,
       "height": null,
       "justify_content": null,
       "justify_items": null,
       "left": null,
       "margin": null,
       "max_height": null,
       "max_width": null,
       "min_height": null,
       "min_width": null,
       "object_fit": null,
       "object_position": null,
       "order": null,
       "overflow": null,
       "padding": null,
       "right": null,
       "top": null,
       "visibility": null,
       "width": null
      }
     },
     "49933230f78c4c75825ca47f35509dfb": {
      "model_module": "@jupyter-widgets/controls",
      "model_module_version": "2.0.0",
      "model_name": "SliderStyleModel",
      "state": {
       "_model_module": "@jupyter-widgets/controls",
       "_model_module_version": "2.0.0",
       "_model_name": "SliderStyleModel",
       "_view_count": null,
       "_view_module": "@jupyter-widgets/base",
       "_view_module_version": "2.0.0",
       "_view_name": "StyleView",
       "description_width": "",
       "handle_color": null
      }
     },
     "4cbfd2149ba548dfb7e5e5b2b37cfd9a": {
      "model_module": "@jupyter-widgets/output",
      "model_module_version": "1.0.0",
      "model_name": "OutputModel",
      "state": {
       "_dom_classes": [],
       "_model_module": "@jupyter-widgets/output",
       "_model_module_version": "1.0.0",
       "_model_name": "OutputModel",
       "_view_count": null,
       "_view_module": "@jupyter-widgets/output",
       "_view_module_version": "1.0.0",
       "_view_name": "OutputView",
       "layout": "IPY_MODEL_0e01f3fb9a9a40ffb1c375e89f5000b4",
       "msg_id": "",
       "outputs": [
        {
         "data": {
          "image/png": "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",
          "text/plain": "<Figure size 640x480 with 1 Axes>"
         },
         "metadata": {},
         "output_type": "display_data"
        }
       ],
       "tabbable": null,
       "tooltip": null
      }
     },
     "4eeda1e140df40ca9c3622dacfe96b99": {
      "model_module": "@jupyter-widgets/base",
      "model_module_version": "2.0.0",
      "model_name": "LayoutModel",
      "state": {
       "_model_module": "@jupyter-widgets/base",
       "_model_module_version": "2.0.0",
       "_model_name": "LayoutModel",
       "_view_count": null,
       "_view_module": "@jupyter-widgets/base",
       "_view_module_version": "2.0.0",
       "_view_name": "LayoutView",
       "align_content": null,
       "align_items": null,
       "align_self": null,
       "border_bottom": null,
       "border_left": null,
       "border_right": null,
       "border_top": null,
       "bottom": null,
       "display": null,
       "flex": null,
       "flex_flow": null,
       "grid_area": null,
       "grid_auto_columns": null,
       "grid_auto_flow": null,
       "grid_auto_rows": null,
       "grid_column": null,
       "grid_gap": null,
       "grid_row": null,
       "grid_template_areas": null,
       "grid_template_columns": null,
       "grid_template_rows": null,
       "height": null,
       "justify_content": null,
       "justify_items": null,
       "left": null,
       "margin": null,
       "max_height": null,
       "max_width": null,
       "min_height": null,
       "min_width": null,
       "object_fit": null,
       "object_position": null,
       "order": null,
       "overflow": null,
       "padding": null,
       "right": null,
       "top": null,
       "visibility": null,
       "width": null
      }
     },
     "4f73bbaa09954e9f87475eae94da48ee": {
      "model_module": "@jupyter-widgets/base",
      "model_module_version": "2.0.0",
      "model_name": "LayoutModel",
      "state": {
       "_model_module": "@jupyter-widgets/base",
       "_model_module_version": "2.0.0",
       "_model_name": "LayoutModel",
       "_view_count": null,
       "_view_module": "@jupyter-widgets/base",
       "_view_module_version": "2.0.0",
       "_view_name": "LayoutView",
       "align_content": null,
       "align_items": null,
       "align_self": null,
       "border_bottom": null,
       "border_left": null,
       "border_right": null,
       "border_top": null,
       "bottom": null,
       "display": null,
       "flex": null,
       "flex_flow": null,
       "grid_area": null,
       "grid_auto_columns": null,
       "grid_auto_flow": null,
       "grid_auto_rows": null,
       "grid_column": null,
       "grid_gap": null,
       "grid_row": null,
       "grid_template_areas": null,
       "grid_template_columns": null,
       "grid_template_rows": null,
       "height": null,
       "justify_content": null,
       "justify_items": null,
       "left": null,
       "margin": null,
       "max_height": null,
       "max_width": null,
       "min_height": null,
       "min_width": null,
       "object_fit": null,
       "object_position": null,
       "order": null,
       "overflow": null,
       "padding": null,
       "right": null,
       "top": null,
       "visibility": null,
       "width": null
      }
     },
     "5234d226d4424a63a7920421ab31addf": {
      "model_module": "@jupyter-widgets/base",
      "model_module_version": "2.0.0",
      "model_name": "LayoutModel",
      "state": {
       "_model_module": "@jupyter-widgets/base",
       "_model_module_version": "2.0.0",
       "_model_name": "LayoutModel",
       "_view_count": null,
       "_view_module": "@jupyter-widgets/base",
       "_view_module_version": "2.0.0",
       "_view_name": "LayoutView",
       "align_content": null,
       "align_items": null,
       "align_self": null,
       "border_bottom": null,
       "border_left": null,
       "border_right": null,
       "border_top": null,
       "bottom": null,
       "display": null,
       "flex": null,
       "flex_flow": null,
       "grid_area": null,
       "grid_auto_columns": null,
       "grid_auto_flow": null,
       "grid_auto_rows": null,
       "grid_column": null,
       "grid_gap": null,
       "grid_row": null,
       "grid_template_areas": null,
       "grid_template_columns": null,
       "grid_template_rows": null,
       "height": null,
       "justify_content": null,
       "justify_items": null,
       "left": null,
       "margin": null,
       "max_height": null,
       "max_width": null,
       "min_height": null,
       "min_width": null,
       "object_fit": null,
       "object_position": null,
       "order": null,
       "overflow": null,
       "padding": null,
       "right": null,
       "top": null,
       "visibility": null,
       "width": null
      }
     },
     "5a15aef9121d4cba901435836f3664d5": {
      "model_module": "@jupyter-widgets/base",
      "model_module_version": "2.0.0",
      "model_name": "LayoutModel",
      "state": {
       "_model_module": "@jupyter-widgets/base",
       "_model_module_version": "2.0.0",
       "_model_name": "LayoutModel",
       "_view_count": null,
       "_view_module": "@jupyter-widgets/base",
       "_view_module_version": "2.0.0",
       "_view_name": "LayoutView",
       "align_content": null,
       "align_items": null,
       "align_self": null,
       "border_bottom": null,
       "border_left": null,
       "border_right": null,
       "border_top": null,
       "bottom": null,
       "display": null,
       "flex": null,
       "flex_flow": null,
       "grid_area": null,
       "grid_auto_columns": null,
       "grid_auto_flow": null,
       "grid_auto_rows": null,
       "grid_column": null,
       "grid_gap": null,
       "grid_row": null,
       "grid_template_areas": null,
       "grid_template_columns": null,
       "grid_template_rows": null,
       "height": null,
       "justify_content": null,
       "justify_items": null,
       "left": null,
       "margin": null,
       "max_height": null,
       "max_width": null,
       "min_height": null,
       "min_width": null,
       "object_fit": null,
       "object_position": null,
       "order": null,
       "overflow": null,
       "padding": null,
       "right": null,
       "top": null,
       "visibility": null,
       "width": null
      }
     },
     "5c0d2a9ca6a244d8922b644b8e03d78b": {
      "model_module": "@jupyter-widgets/base",
      "model_module_version": "2.0.0",
      "model_name": "LayoutModel",
      "state": {
       "_model_module": "@jupyter-widgets/base",
       "_model_module_version": "2.0.0",
       "_model_name": "LayoutModel",
       "_view_count": null,
       "_view_module": "@jupyter-widgets/base",
       "_view_module_version": "2.0.0",
       "_view_name": "LayoutView",
       "align_content": null,
       "align_items": null,
       "align_self": null,
       "border_bottom": null,
       "border_left": null,
       "border_right": null,
       "border_top": null,
       "bottom": null,
       "display": null,
       "flex": null,
       "flex_flow": null,
       "grid_area": null,
       "grid_auto_columns": null,
       "grid_auto_flow": null,
       "grid_auto_rows": null,
       "grid_column": null,
       "grid_gap": null,
       "grid_row": null,
       "grid_template_areas": null,
       "grid_template_columns": null,
       "grid_template_rows": null,
       "height": null,
       "justify_content": null,
       "justify_items": null,
       "left": null,
       "margin": null,
       "max_height": null,
       "max_width": null,
       "min_height": null,
       "min_width": null,
       "object_fit": null,
       "object_position": null,
       "order": null,
       "overflow": null,
       "padding": null,
       "right": null,
       "top": null,
       "visibility": null,
       "width": null
      }
     },
     "65a81acf028145989d9ae5d99da16aa9": {
      "model_module": "@jupyter-widgets/base",
      "model_module_version": "2.0.0",
      "model_name": "LayoutModel",
      "state": {
       "_model_module": "@jupyter-widgets/base",
       "_model_module_version": "2.0.0",
       "_model_name": "LayoutModel",
       "_view_count": null,
       "_view_module": "@jupyter-widgets/base",
       "_view_module_version": "2.0.0",
       "_view_name": "LayoutView",
       "align_content": null,
       "align_items": null,
       "align_self": null,
       "border_bottom": null,
       "border_left": null,
       "border_right": null,
       "border_top": null,
       "bottom": null,
       "display": null,
       "flex": null,
       "flex_flow": null,
       "grid_area": null,
       "grid_auto_columns": null,
       "grid_auto_flow": null,
       "grid_auto_rows": null,
       "grid_column": null,
       "grid_gap": null,
       "grid_row": null,
       "grid_template_areas": null,
       "grid_template_columns": null,
       "grid_template_rows": null,
       "height": null,
       "justify_content": null,
       "justify_items": null,
       "left": null,
       "margin": null,
       "max_height": null,
       "max_width": null,
       "min_height": null,
       "min_width": null,
       "object_fit": null,
       "object_position": null,
       "order": null,
       "overflow": null,
       "padding": null,
       "right": null,
       "top": null,
       "visibility": null,
       "width": null
      }
     },
     "680f5455955c46a08caad37663a4e53d": {
      "model_module": "@jupyter-widgets/base",
      "model_module_version": "2.0.0",
      "model_name": "LayoutModel",
      "state": {
       "_model_module": "@jupyter-widgets/base",
       "_model_module_version": "2.0.0",
       "_model_name": "LayoutModel",
       "_view_count": null,
       "_view_module": "@jupyter-widgets/base",
       "_view_module_version": "2.0.0",
       "_view_name": "LayoutView",
       "align_content": null,
       "align_items": null,
       "align_self": null,
       "border_bottom": null,
       "border_left": null,
       "border_right": null,
       "border_top": null,
       "bottom": null,
       "display": null,
       "flex": null,
       "flex_flow": null,
       "grid_area": null,
       "grid_auto_columns": null,
       "grid_auto_flow": null,
       "grid_auto_rows": null,
       "grid_column": null,
       "grid_gap": null,
       "grid_row": null,
       "grid_template_areas": null,
       "grid_template_columns": null,
       "grid_template_rows": null,
       "height": null,
       "justify_content": null,
       "justify_items": null,
       "left": null,
       "margin": null,
       "max_height": null,
       "max_width": null,
       "min_height": null,
       "min_width": null,
       "object_fit": null,
       "object_position": null,
       "order": null,
       "overflow": null,
       "padding": null,
       "right": null,
       "top": null,
       "visibility": null,
       "width": null
      }
     },
     "7270e3c1934d4083964d7a4950a57585": {
      "model_module": "@jupyter-widgets/controls",
      "model_module_version": "2.0.0",
      "model_name": "VBoxModel",
      "state": {
       "_dom_classes": [
        "widget-interact"
       ],
       "_model_module": "@jupyter-widgets/controls",
       "_model_module_version": "2.0.0",
       "_model_name": "VBoxModel",
       "_view_count": null,
       "_view_module": "@jupyter-widgets/controls",
       "_view_module_version": "2.0.0",
       "_view_name": "VBoxView",
       "box_style": "",
       "children": [
        "IPY_MODEL_2a456472393441da9115716eb1f2f55d",
        "IPY_MODEL_27582475d39c4ce8820b698710b22250",
        "IPY_MODEL_4cbfd2149ba548dfb7e5e5b2b37cfd9a"
       ],
       "layout": "IPY_MODEL_5c0d2a9ca6a244d8922b644b8e03d78b",
       "tabbable": null,
       "tooltip": null
      }
     },
     "75d717f5b0984daf9c4551baaa22d58b": {
      "model_module": "@jupyter-widgets/base",
      "model_module_version": "2.0.0",
      "model_name": "LayoutModel",
      "state": {
       "_model_module": "@jupyter-widgets/base",
       "_model_module_version": "2.0.0",
       "_model_name": "LayoutModel",
       "_view_count": null,
       "_view_module": "@jupyter-widgets/base",
       "_view_module_version": "2.0.0",
       "_view_name": "LayoutView",
       "align_content": null,
       "align_items": null,
       "align_self": null,
       "border_bottom": null,
       "border_left": null,
       "border_right": null,
       "border_top": null,
       "bottom": null,
       "display": null,
       "flex": null,
       "flex_flow": null,
       "grid_area": null,
       "grid_auto_columns": null,
       "grid_auto_flow": null,
       "grid_auto_rows": null,
       "grid_column": null,
       "grid_gap": null,
       "grid_row": null,
       "grid_template_areas": null,
       "grid_template_columns": null,
       "grid_template_rows": null,
       "height": null,
       "justify_content": null,
       "justify_items": null,
       "left": null,
       "margin": null,
       "max_height": null,
       "max_width": null,
       "min_height": null,
       "min_width": null,
       "object_fit": null,
       "object_position": null,
       "order": null,
       "overflow": null,
       "padding": null,
       "right": null,
       "top": null,
       "visibility": null,
       "width": null
      }
     },
     "7f5c65ffd926408188bfdc2b8a824f17": {
      "model_module": "@jupyter-widgets/base",
      "model_module_version": "2.0.0",
      "model_name": "LayoutModel",
      "state": {
       "_model_module": "@jupyter-widgets/base",
       "_model_module_version": "2.0.0",
       "_model_name": "LayoutModel",
       "_view_count": null,
       "_view_module": "@jupyter-widgets/base",
       "_view_module_version": "2.0.0",
       "_view_name": "LayoutView",
       "align_content": null,
       "align_items": null,
       "align_self": null,
       "border_bottom": null,
       "border_left": null,
       "border_right": null,
       "border_top": null,
       "bottom": null,
       "display": null,
       "flex": null,
       "flex_flow": null,
       "grid_area": null,
       "grid_auto_columns": null,
       "grid_auto_flow": null,
       "grid_auto_rows": null,
       "grid_column": null,
       "grid_gap": null,
       "grid_row": null,
       "grid_template_areas": null,
       "grid_template_columns": null,
       "grid_template_rows": null,
       "height": null,
       "justify_content": null,
       "justify_items": null,
       "left": null,
       "margin": null,
       "max_height": null,
       "max_width": null,
       "min_height": null,
       "min_width": null,
       "object_fit": null,
       "object_position": null,
       "order": null,
       "overflow": null,
       "padding": null,
       "right": null,
       "top": null,
       "visibility": null,
       "width": null
      }
     },
     "8c315c432c6341e5b807b77c0e733d77": {
      "model_module": "@jupyter-widgets/controls",
      "model_module_version": "2.0.0",
      "model_name": "SliderStyleModel",
      "state": {
       "_model_module": "@jupyter-widgets/controls",
       "_model_module_version": "2.0.0",
       "_model_name": "SliderStyleModel",
       "_view_count": null,
       "_view_module": "@jupyter-widgets/base",
       "_view_module_version": "2.0.0",
       "_view_name": "StyleView",
       "description_width": "",
       "handle_color": null
      }
     },
     "903116f7e3964db09b8500a71ce8e0ee": {
      "model_module": "@jupyter-widgets/controls",
      "model_module_version": "2.0.0",
      "model_name": "SliderStyleModel",
      "state": {
       "_model_module": "@jupyter-widgets/controls",
       "_model_module_version": "2.0.0",
       "_model_name": "SliderStyleModel",
       "_view_count": null,
       "_view_module": "@jupyter-widgets/base",
       "_view_module_version": "2.0.0",
       "_view_name": "StyleView",
       "description_width": "",
       "handle_color": null
      }
     },
     "908ca53b4ada44baad8a3d5e79a6d447": {
      "model_module": "@jupyter-widgets/controls",
      "model_module_version": "2.0.0",
      "model_name": "SliderStyleModel",
      "state": {
       "_model_module": "@jupyter-widgets/controls",
       "_model_module_version": "2.0.0",
       "_model_name": "SliderStyleModel",
       "_view_count": null,
       "_view_module": "@jupyter-widgets/base",
       "_view_module_version": "2.0.0",
       "_view_name": "StyleView",
       "description_width": "",
       "handle_color": null
      }
     },
     "957d8fba50e9425eadf97b0f4dfb60ab": {
      "model_module": "@jupyter-widgets/controls",
      "model_module_version": "2.0.0",
      "model_name": "IntSliderModel",
      "state": {
       "_dom_classes": [],
       "_model_module": "@jupyter-widgets/controls",
       "_model_module_version": "2.0.0",
       "_model_name": "IntSliderModel",
       "_view_count": null,
       "_view_module": "@jupyter-widgets/controls",
       "_view_module_version": "2.0.0",
       "_view_name": "IntSliderView",
       "behavior": "drag-tap",
       "continuous_update": true,
       "description": "N",
       "description_allow_html": false,
       "disabled": false,
       "layout": "IPY_MODEL_65a81acf028145989d9ae5d99da16aa9",
       "max": 1000,
       "min": 10,
       "orientation": "horizontal",
       "readout": true,
       "readout_format": "d",
       "step": 10,
       "style": "IPY_MODEL_903116f7e3964db09b8500a71ce8e0ee",
       "tabbable": null,
       "tooltip": null,
       "value": 100
      }
     },
     "a1ca1024befc4665ae9132bbe3452188": {
      "model_module": "@jupyter-widgets/controls",
      "model_module_version": "2.0.0",
      "model_name": "ButtonStyleModel",
      "state": {
       "_model_module": "@jupyter-widgets/controls",
       "_model_module_version": "2.0.0",
       "_model_name": "ButtonStyleModel",
       "_view_count": null,
       "_view_module": "@jupyter-widgets/base",
       "_view_module_version": "2.0.0",
       "_view_name": "StyleView",
       "button_color": null,
       "font_family": null,
       "font_size": null,
       "font_style": null,
       "font_variant": null,
       "font_weight": null,
       "text_color": null,
       "text_decoration": null
      }
     },
     "a657913e8a774587a29c4626941b486a": {
      "model_module": "@jupyter-widgets/controls",
      "model_module_version": "2.0.0",
      "model_name": "VBoxModel",
      "state": {
       "_dom_classes": [
        "widget-interact"
       ],
       "_model_module": "@jupyter-widgets/controls",
       "_model_module_version": "2.0.0",
       "_model_name": "VBoxModel",
       "_view_count": null,
       "_view_module": "@jupyter-widgets/controls",
       "_view_module_version": "2.0.0",
       "_view_name": "VBoxView",
       "box_style": "",
       "children": [
        "IPY_MODEL_0783b6dba6e04ab28b167892645e47c1",
        "IPY_MODEL_200c0e9a3f12462e848ea1fb6865beff",
        "IPY_MODEL_d1882affe8634444991981443c62a999"
       ],
       "layout": "IPY_MODEL_1bf7f6e05ba8455e8cd2d60afc87fa4b",
       "tabbable": null,
       "tooltip": null
      }
     },
     "acb3835b39854474af893dca0267afa7": {
      "model_module": "@jupyter-widgets/controls",
      "model_module_version": "2.0.0",
      "model_name": "ButtonModel",
      "state": {
       "_dom_classes": [],
       "_model_module": "@jupyter-widgets/controls",
       "_model_module_version": "2.0.0",
       "_model_name": "ButtonModel",
       "_view_count": null,
       "_view_module": "@jupyter-widgets/controls",
       "_view_module_version": "2.0.0",
       "_view_name": "ButtonView",
       "button_style": "",
       "description": "create sub-sample",
       "disabled": false,
       "icon": "",
       "layout": "IPY_MODEL_1215619221494f3aa7e6a7fca64643c5",
       "style": "IPY_MODEL_a1ca1024befc4665ae9132bbe3452188",
       "tabbable": null,
       "tooltip": null
      }
     },
     "adde239be04a41a7a96331797f39db53": {
      "model_module": "@jupyter-widgets/base",
      "model_module_version": "2.0.0",
      "model_name": "LayoutModel",
      "state": {
       "_model_module": "@jupyter-widgets/base",
       "_model_module_version": "2.0.0",
       "_model_name": "LayoutModel",
       "_view_count": null,
       "_view_module": "@jupyter-widgets/base",
       "_view_module_version": "2.0.0",
       "_view_name": "LayoutView",
       "align_content": null,
       "align_items": null,
       "align_self": null,
       "border_bottom": null,
       "border_left": null,
       "border_right": null,
       "border_top": null,
       "bottom": null,
       "display": null,
       "flex": null,
       "flex_flow": null,
       "grid_area": null,
       "grid_auto_columns": null,
       "grid_auto_flow": null,
       "grid_auto_rows": null,
       "grid_column": null,
       "grid_gap": null,
       "grid_row": null,
       "grid_template_areas": null,
       "grid_template_columns": null,
       "grid_template_rows": null,
       "height": null,
       "justify_content": null,
       "justify_items": null,
       "left": null,
       "margin": null,
       "max_height": null,
       "max_width": null,
       "min_height": null,
       "min_width": null,
       "object_fit": null,
       "object_position": null,
       "order": null,
       "overflow": null,
       "padding": null,
       "right": null,
       "top": null,
       "visibility": null,
       "width": null
      }
     },
     "d1882affe8634444991981443c62a999": {
      "model_module": "@jupyter-widgets/output",
      "model_module_version": "1.0.0",
      "model_name": "OutputModel",
      "state": {
       "_dom_classes": [],
       "_model_module": "@jupyter-widgets/output",
       "_model_module_version": "1.0.0",
       "_model_name": "OutputModel",
       "_view_count": null,
       "_view_module": "@jupyter-widgets/output",
       "_view_module_version": "1.0.0",
       "_view_name": "OutputView",
       "layout": "IPY_MODEL_680f5455955c46a08caad37663a4e53d",
       "msg_id": "",
       "outputs": [
        {
         "data": {
          "image/png": "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",
          "text/plain": "<Figure size 500x500 with 1 Axes>"
         },
         "metadata": {},
         "output_type": "display_data"
        }
       ],
       "tabbable": null,
       "tooltip": null
      }
     },
     "e014701fae8f44408d3727a89bdd52a4": {
      "model_module": "@jupyter-widgets/controls",
      "model_module_version": "2.0.0",
      "model_name": "IntSliderModel",
      "state": {
       "_dom_classes": [],
       "_model_module": "@jupyter-widgets/controls",
       "_model_module_version": "2.0.0",
       "_model_name": "IntSliderModel",
       "_view_count": null,
       "_view_module": "@jupyter-widgets/controls",
       "_view_module_version": "2.0.0",
       "_view_name": "IntSliderView",
       "behavior": "drag-tap",
       "continuous_update": true,
       "description": "n_subsamples",
       "description_allow_html": false,
       "disabled": false,
       "layout": "IPY_MODEL_41d9a7d6d3cd45c8943859c89206ce5e",
       "max": 1000,
       "min": 10,
       "orientation": "horizontal",
       "readout": true,
       "readout_format": "d",
       "step": 20,
       "style": "IPY_MODEL_908ca53b4ada44baad8a3d5e79a6d447",
       "tabbable": null,
       "tooltip": null,
       "value": 1000
      }
     },
     "e56256b34c5a4951aa8a51e6c758e943": {
      "model_module": "@jupyter-widgets/base",
      "model_module_version": "2.0.0",
      "model_name": "LayoutModel",
      "state": {
       "_model_module": "@jupyter-widgets/base",
       "_model_module_version": "2.0.0",
       "_model_name": "LayoutModel",
       "_view_count": null,
       "_view_module": "@jupyter-widgets/base",
       "_view_module_version": "2.0.0",
       "_view_name": "LayoutView",
       "align_content": null,
       "align_items": null,
       "align_self": null,
       "border_bottom": null,
       "border_left": null,
       "border_right": null,
       "border_top": null,
       "bottom": null,
       "display": null,
       "flex": null,
       "flex_flow": null,
       "grid_area": null,
       "grid_auto_columns": null,
       "grid_auto_flow": null,
       "grid_auto_rows": null,
       "grid_column": null,
       "grid_gap": null,
       "grid_row": null,
       "grid_template_areas": null,
       "grid_template_columns": null,
       "grid_template_rows": null,
       "height": null,
       "justify_content": null,
       "justify_items": null,
       "left": null,
       "margin": null,
       "max_height": null,
       "max_width": null,
       "min_height": null,
       "min_width": null,
       "object_fit": null,
       "object_position": null,
       "order": null,
       "overflow": null,
       "padding": null,
       "right": null,
       "top": null,
       "visibility": null,
       "width": null
      }
     },
     "fabc3cd199594b0494b581ab2d5075ec": {
      "model_module": "@jupyter-widgets/base",
      "model_module_version": "2.0.0",
      "model_name": "LayoutModel",
      "state": {
       "_model_module": "@jupyter-widgets/base",
       "_model_module_version": "2.0.0",
       "_model_name": "LayoutModel",
       "_view_count": null,
       "_view_module": "@jupyter-widgets/base",
       "_view_module_version": "2.0.0",
       "_view_name": "LayoutView",
       "align_content": null,
       "align_items": null,
       "align_self": null,
       "border_bottom": null,
       "border_left": null,
       "border_right": null,
       "border_top": null,
       "bottom": null,
       "display": null,
       "flex": null,
       "flex_flow": null,
       "grid_area": null,
       "grid_auto_columns": null,
       "grid_auto_flow": null,
       "grid_auto_rows": null,
       "grid_column": null,
       "grid_gap": null,
       "grid_row": null,
       "grid_template_areas": null,
       "grid_template_columns": null,
       "grid_template_rows": null,
       "height": null,
       "justify_content": null,
       "justify_items": null,
       "left": null,
       "margin": null,
       "max_height": null,
       "max_width": null,
       "min_height": null,
       "min_width": null,
       "object_fit": null,
       "object_position": null,
       "order": null,
       "overflow": null,
       "padding": null,
       "right": null,
       "top": null,
       "visibility": null,
       "width": null
      }
     }
    },
    "version_major": 2,
    "version_minor": 0
   }
  }
 },
 "nbformat": 4,
 "nbformat_minor": 4
}