{
 "cells": [
  {
   "cell_type": "markdown",
   "metadata": {
    "editable": true,
    "slideshow": {
     "slide_type": ""
    },
    "tags": []
   },
   "source": [
    "# Modeling, sampling, confidence intervals\n",
    "\n",
    "## Recommended reading\n",
    "\n",
    "* http://statsthinking21.org/index.html\n",
    "Chapters 7,8\n",
    "\n",
    "* Glover, Jenkins and Doney: Section 2.7 - The central limit theorem\n",
    "\n",
    "* Emery and Thomson: Confidence intervals, 3.8.1, 3.8.2 – Confidence interval for mean"
   ]
  },
  {
   "cell_type": "markdown",
   "metadata": {},
   "source": [
    "## Probability Density Function (PDF) review with example data set\n",
    "\n",
    "### Probability density function\n",
    "\n",
    "$N$ = 10623 anchovy weight samples\n",
    "\n",
    "$\\Delta x$ = 5 g\n",
    "\n",
    "**Review**: How to calculate PDF from counts, N and $\\Delta x$?\n",
    "\n",
    "* With the histogram we have the following information: counts, bin width ( $\\Delta x$ = 5g), $N$ (samples).  \n",
    "\n",
    "PDF = fraction/$\\Delta x$  = counts/($N \\Delta x$)\n",
    "\n",
    "![Trawl_Life_Hist_Samp_Data](images/Trawl_Life_Hist_Samp_Data.png) \n",
    "\n",
    "### NOAA SWFSC - Trawl Life History Specimen Data \n",
    "\n",
    "fishery independent trawl surveys of coastal pelagic species\n",
    "\n",
    "Surveys: 2003-2019"
   ]
  },
  {
   "cell_type": "code",
   "execution_count": 1,
   "metadata": {
    "tags": [
     "remove-input"
    ]
   },
   "outputs": [],
   "source": [
    "import numpy as np\n",
    "import matplotlib.pyplot as plt\n",
    "import netCDF4 as nc4\n",
    "from ipywidgets import interact, interactive, fixed, interact_manual, IntSlider\n",
    "import ipywidgets as widgets\n",
    "from scipy.stats import norm, mode\n",
    "from scipy import stats\n",
    "\n",
    "species_name = 'Engraulis mordax'\n",
    "file_name = 'data/trawl_swfsc/FRDCPSTrawlLHSpecimen_8b4e_b841_9c81.nc'\n",
    "\n",
    "def read_trawl_data_file(species_name, file_name):\n",
    "    \n",
    "    # open the netcdf file and read in the weight and length data\n",
    "    ds = nc4.Dataset(file_name)\n",
    "    name = ds.variables['scientific_name'][:]\n",
    "    weight = ds.variables['weight'][:]\n",
    "    length = ds.variables['standard_length'][:]\n",
    "    ds.close()\n",
    "    \n",
    "    # subset to the particular species and remove the nan values\n",
    "    indices = np.logical_and(name==species_name, length<4000)\n",
    "    indices = np.logical_and(indices,~np.isnan(weight))\n",
    "    weight = weight[indices]\n",
    "    length = length[indices]\n",
    "    \n",
    "    return(weight,length)\n",
    "\n",
    "def plot_weight_histogram(species_name, normalize_pdf = True, remove_mean = False):\n",
    "    \n",
    "    #species_name = 'Engraulis mordax'\n",
    "\n",
    "    # read in the weight data using \n",
    "    weight, _ = read_trawl_data_file(species_name, file_name)\n",
    "    \n",
    "    fig = plt.figure()\n",
    "    \n",
    "    bins = np.arange(0,65,5)\n",
    "\n",
    "    if remove_mean == True:\n",
    "        weight = weight - np.mean(weight)\n",
    "        bins = bins - np.mean(weight)\n",
    "\n",
    "    if normalize_pdf:\n",
    "        plt.hist(weight, density=True, bins=bins)\n",
    "        plt.ylabel('PDF')\n",
    "    else:\n",
    "        plt.hist(weight, density=False, bins=bins)\n",
    "        plt.ylabel('counts')\n",
    "        \n",
    "    plt.title(species_name+', $\\mu$ = '+'{:.2f}'.format(np.mean(weight))\n",
    "              +', $\\sigma$ = '+'{:.2f}'.format(np.std(weight))\n",
    "              +', N = '+str(len(weight)))\n",
    "    plt.xlabel('weight [g]');\n",
    "    \n",
    "\n",
    "def subsample_weights(weights, N, seed=None):\n",
    "    np.random.seed(seed)\n",
    "    indices = np.random.randint(0, np.size(weights), N)\n",
    "    subsample = weights[indices]\n",
    "    return(subsample)\n",
    "\n",
    "def plot_subsampled_weight_histogram(species_name, N=100):\n",
    "    \n",
    "    #species_name = 'Engraulis mordax'\n",
    "\n",
    "    # read in the weight data using \n",
    "    weight, _ = read_trawl_data_file(species_name, file_name)\n",
    "    \n",
    "    subsampled_weights = subsample_weights(weight, N)\n",
    "    \n",
    "    fig = plt.figure()\n",
    "    plt.hist(subsampled_weights,density=True, bins=np.arange(0,60,5))\n",
    "    plt.title(species_name+', $\\\\bar{x}$ = '+'{:.2f}'.format(np.mean(subsampled_weights))\n",
    "              +', s = '+'{:.2f}'.format(np.std(subsampled_weights))\n",
    "              +', N = '+str(len(subsampled_weights)))\n",
    "    plt.xlabel('weight [g]')\n",
    "    plt.ylabel('PDF');\n",
    "\n",
    "def plot_length_vs_weight_data_with_fit(species_name, N):\n",
    "    \n",
    "    #species_name = 'Engraulis mordax'\n",
    "    #species_name = 'Icichthys lockingtoni'\n",
    "\n",
    "    # read in the weight data using \n",
    "    weight, length = read_trawl_data_file(species_name, file_name)\n",
    "    \n",
    "    z = np.polyfit(length,weight,N)\n",
    "    p = np.poly1d(z)\n",
    "    \n",
    "    x = np.arange(np.min(length),np.max(length)+1)\n",
    "    RMSE = np.sqrt(np.mean((weight-p(length))**2))\n",
    "    \n",
    "    fig = plt.figure()\n",
    "    plt.plot(length,weight,'.')\n",
    "    plt.plot(x,p(x),'-',linewidth=2)\n",
    "    \n",
    "    if species_name == 'Engraulis mordax':\n",
    "        plt.xlim([15,190])\n",
    "        plt.ylim([-20,70])\n",
    "        \n",
    "    plt.xlabel('standard length (mm)')\n",
    "    plt.ylabel('weight [g]')\n",
    "    plt.grid(alpha=0.4,linestyle='--',linewidth='0.8')\n",
    "    plt.title('Model fit with '+str(N)+' polynomial term(s), RMSE = '+'{:.2f}'.format(RMSE)+' g');\n",
    "    \n",
    "\n",
    "def plot_distribution_of_subsampled_weight_means(species_name, N, n_subsamples):\n",
    "\n",
    "    # read in the weight data using \n",
    "    weight, _ = read_trawl_data_file(species_name, file_name)\n",
    "    \n",
    "    sample_means = []\n",
    "    for n in range(n_subsamples):\n",
    "        subsampled_weights = subsample_weights(weight, N)\n",
    "        sample_means.append(np.mean(subsampled_weights))\n",
    "    \n",
    "    fig = plt.figure(figsize = (8, 5))\n",
    "    \n",
    "    plt.subplot(1,2,1)\n",
    "    plt.hist(sample_means, density=True, bins=np.arange(0,60,0.5))\n",
    "    plt.title('a) Distribution\\n of means ($\\\\bar{x}$)')\n",
    "    x = np.arange(0,60,0.1)\n",
    "    plt.plot(x, norm.pdf(x, np.mean(weight), np.std(weight)/np.sqrt(N)))\n",
    "    plt.ylabel('PDF')\n",
    "    plt.gca().set_ylim([0,0.5])\n",
    "    plt.xlabel('weight [g]')\n",
    "    yl = plt.ylim()\n",
    "    \n",
    "    plt.text(25,0.8*np.diff(yl), '$\\mu $ = '+'{:.3f}'.format(np.mean(weight)))\n",
    "    plt.text(25,0.74*np.diff(yl), '$\\sigma/\\sqrt{N} $ = '+'{:.3f}'.format(np.std(weight)/np.sqrt(N)))\n",
    "    plt.text(25,0.5*np.diff(yl), 'Mean of $\\\\bar{x}$\\n = '+'{:.3f}'.format(np.mean(sample_means)))\n",
    "    plt.text(25,0.36*np.diff(yl), 'Std. Dev. of\\n $\\\\bar{x}$ = '+'{:.3f}'.format(np.std(sample_means)))\n",
    "    \n",
    "    plt.subplot(1,2,2)\n",
    "    plt.title('b) Same as a), but zoomed in')\n",
    "    x = np.arange(10,20.1,0.1)\n",
    "    plt.hist(sample_means, density=True, bins=np.arange(0,60,0.5))\n",
    "    plt.plot(x, norm.pdf(x, np.mean(weight), np.std(weight)/np.sqrt(N)))\n",
    "    plt.xlabel('weight [g]')\n",
    "    plt.gca().set_ylim([0, 0.5])\n",
    "    plt.gca().set_xlim([10, 20]);\n"
   ]
  },
  {
   "cell_type": "markdown",
   "metadata": {},
   "source": [
    "### Subsampled data set\n",
    "\n",
    "If we think of the above PDF as repesenting the total poulation of *Engraulis mordax* in the whole ocean, then you can think of the subsample as a result you might get if you just went out and trawled for one day.\n",
    "\n",
    "Click the button to generate a random set of $N$ subsamples from the larger dataset."
   ]
  },
  {
   "cell_type": "code",
   "execution_count": 2,
   "metadata": {
    "tags": [
     "remove-input"
    ]
   },
   "outputs": [
    {
     "data": {
      "application/vnd.jupyter.widget-view+json": {
       "model_id": "e4d9471a759145ab8d7d14fc9b5b7db2",
       "version_major": 2,
       "version_minor": 0
      },
      "text/plain": [
       "interactive(children=(IntSlider(value=100, description='N', max=1000, min=10, step=10), Button(description='cr…"
      ]
     },
     "metadata": {},
     "output_type": "display_data"
    },
    {
     "data": {
      "text/plain": [
       "<function __main__.plot_subsampled_weight_histogram(species_name, N=100)>"
      ]
     },
     "metadata": {},
     "output_type": "display_data"
    }
   ],
   "source": [
    "my_interact_manual = interact_manual.options(manual_name=\"create sub-sample\")\n",
    "\n",
    "im = my_interact_manual(plot_subsampled_weight_histogram, \n",
    "            species_name = fixed(species_name),\n",
    "            N=IntSlider(min=10, max=1000, step=10, value=100),\n",
    "            seed=None);\n",
    "\n",
    "display(im);\n"
   ]
  },
  {
   "cell_type": "markdown",
   "metadata": {},
   "source": [
    "\n",
    "$N$ = 100 anchovy weight samples\n",
    "\n",
    "What are the key differences, similarities of this distribution, compared with all 10623 samples?\n",
    "\n",
    "- *differences*: a pdf of smaller sample sizes are noiser, less smooth.  May see more variability from one bin to the next.\n",
    "\n",
    "- *similarities*: theoretical distribution resembles poisson distribution (skewed data set with a longer tail), scale of y-axis (normalized by the bin width so magnitudes of different data sets are comparable)"
   ]
  },
  {
   "cell_type": "markdown",
   "metadata": {},
   "source": [
    "### Statistical modeling\n",
    "#### What is a model? \n",
    "\n",
    "Physical models (e.g., of a building, of Monterey Bay, of a cell or a molecule) represent something on a different scale to make it easier to understand. They convey the essence of something without having to worry about all the details. A statistical model is same basic idea as a physical model, we want to convey the essence of the dataset without having to use an entire dataset\n",
    "\n",
    "#### Basic structure of a statistical model\n",
    "\n",
    "A statistical model is based off data. Error is an inherent part of of any model prediction. One of the key goals in evaluating a model is to quantify that error. \n",
    "\n",
    "data = model + error\n",
    "\n",
    "$x_i = \\hat{x}_i + \\epsilon_i$\n",
    "\n",
    "where $x_i$ is one data point, $\\hat{x}_i$ is the corresponding model predition, and $\\epsilon_i$ is the difference between them."
   ]
  },
  {
   "cell_type": "markdown",
   "metadata": {},
   "source": [
    "### Example data set: simplest model\n",
    "\n",
    "#### The simplest possible model is a single value \n",
    "* Mode = 5 g\n",
    "\n",
    "* Mean = 15.326 g\n",
    "\n",
    "* Median = 14 g\n",
    "\n",
    "In this case the mean is much bigger than the mode is about 15 grams (data is skewed).  A median describes the central value, or 50th percentile in the data set.\n",
    "\n",
    "If we use the mode as the model, we can write it as:\n",
    "$\\hat{weight_i}$ = 5 g\n",
    "\n",
    "The $\\hat{}$ denotes a value predicted by the model\n",
    "\n",
    "The subscript $_i$ denotes one data point with the model value, a generic observation.  For example, if we specify  $i=1$, it could mean the first row in a spreadsheet.\n",
    "\n",
    "We can describe the error based on the model structure:\n",
    "$error_i = weight_i - \\hat{weight_i}$\n",
    "\n",
    "where $weight_i$ is an observation, or data point, and $\\hat{weight_i}$ is the corresponding model prediction. Each observation has a model prediction and an error associated with it. \n",
    "\n",
    "In the example, if we have 10623 data points, then a model will have 10263 errors."
   ]
  },
  {
   "cell_type": "markdown",
   "metadata": {},
   "source": [
    "### Example data set: mode as a model"
   ]
  },
  {
   "cell_type": "code",
   "execution_count": 3,
   "metadata": {
    "tags": [
     "remove-input"
    ]
   },
   "outputs": [
    {
     "data": {
      "text/plain": [
       "<Figure size 640x480 with 0 Axes>"
      ]
     },
     "metadata": {},
     "output_type": "display_data"
    },
    {
     "data": {
      "image/png": "[encoded data removed]",
      "text/plain": [
       "<Figure size 640x480 with 1 Axes>"
      ]
     },
     "metadata": {},
     "output_type": "display_data"
    }
   ],
   "source": [
    "weight,length = read_trawl_data_file(species_name, file_name)\n",
    "\n",
    "plt.figure()\n",
    "plot_weight_histogram(species_name, normalize_pdf = True)\n",
    "xl = plt.xlim()\n",
    "yl = plt.ylim()\n",
    "plt.plot([mode(weight)[0], mode(weight)[0]],[yl[0], yl[1]], 'r--', lw=2)\n",
    "plt.xlim(xl)\n",
    "plt.ylim(yl);"
   ]
  },
  {
   "cell_type": "markdown",
   "metadata": {},
   "source": [
    "With this model, each model prediction has a constant value of 5 g, that is,\n",
    "\n",
    "$\\hat{x}_i$ = 5 g.\n",
    "\n",
    "The average error, $\\bar{\\epsilon_i} = \\overline{(x_i - \\hat{x}_i)}$, when using mode as model is 10.326 g. In other words the positive errors dominate the average error.\n",
    "\n",
    "If we use the mean as a model, would you expect the average error increase or decrease?"
   ]
  },
  {
   "cell_type": "markdown",
   "metadata": {},
   "source": [
    "### Example data set: mean as a model"
   ]
  },
  {
   "cell_type": "code",
   "execution_count": 4,
   "metadata": {
    "tags": [
     "remove-input"
    ]
   },
   "outputs": [
    {
     "data": {
      "text/plain": [
       "<Figure size 640x480 with 0 Axes>"
      ]
     },
     "metadata": {},
     "output_type": "display_data"
    },
    {
     "data": {
      "image/png": "[encoded data removed]",
      "text/plain": [
       "<Figure size 640x480 with 1 Axes>"
      ]
     },
     "metadata": {},
     "output_type": "display_data"
    }
   ],
   "source": [
    "plt.figure()\n",
    "plot_weight_histogram(species_name, normalize_pdf = True)\n",
    "xl = plt.xlim()\n",
    "yl = plt.ylim()\n",
    "plt.plot([np.mean(weight), np.mean(weight)],[yl[0], yl[1]], 'r--', lw=2)\n",
    "plt.xlim(xl)\n",
    "plt.ylim(yl);"
   ]
  },
  {
   "cell_type": "markdown",
   "metadata": {},
   "source": [
    "\n",
    "\n",
    "If we use the mean as a model, $\\hat{x_i} = \\bar{x_i}$ \n",
    "\n",
    "The average error when using mean as a model is 0.0g.  In this case, the negative errors cancel out the positive errors. In this case, the mean error does not do a good job of describing the distribution of errors. In fact, this metric is a measure of bias but does not say anything about the random errors (precision) of the model.\n",
    "\n",
    "#### What other metrics can we use to quantify model error?\n",
    "\n",
    "Some ways of quantifying the error:\n",
    "\n",
    "We can describe the mean error (average error) as:\n",
    "\n",
    "$ME = \\frac{1}{N} \\sum_{i=1}^N (x_i - \\hat{x_i})$\n",
    "\n",
    "If our model ($\\hat{x_i}$) is the mean of the dataset ($\\bar{x_i}$), then the ME = 0 and the model is *unbiased*.\n",
    "\n",
    "\n",
    "#### Sum of Squared Errors\n",
    "\n",
    "$SSE = \\sum_{i=1}^N (x_i - \\hat{x_i})^2$\n",
    "\n",
    "(This treats the positive and negative values equally)\n",
    "\n",
    "#### Mean Squared Error\n",
    "\n",
    "$MSE = \\frac{1}{N} SSE$\n",
    "\n",
    "#### Root Mean Square Error \n",
    "\n",
    "$RMSE = \\sqrt{MSE}$\n",
    "\n",
    "The units for RMSE will make it easier to understand the error mismatch. This is a summary of all the errors in the dataset by penalizing all errors in the dataset equally. For our two models examined so far, where the model is only a constant value, the RMSE can by summarized as:\n",
    "\n",
    "* RMSE(mean) = 9.71 grams \n",
    "* RMSE(mode) = 14.18 grams"
   ]
  },
  {
   "cell_type": "markdown",
   "metadata": {},
   "source": [
    "### The mean is the single value that minimizes RMSE "
   ]
  },
  {
   "cell_type": "code",
   "execution_count": 5,
   "metadata": {
    "tags": [
     "remove-input"
    ]
   },
   "outputs": [
    {
     "data": {
      "image/png": "[encoded data removed]",
      "text/plain": [
       "<Figure size 640x480 with 1 Axes>"
      ]
     },
     "metadata": {},
     "output_type": "display_data"
    }
   ],
   "source": [
    "xmod = np.arange(0,31,0.1)\n",
    "xsae = np.nan*np.zeros(len(xmod))\n",
    "\n",
    "for i,xmodi in enumerate(xmod):\n",
    "    xsae[i] = np.sqrt(np.mean((weight-xmodi)**2))\n",
    "    \n",
    "plt.figure()\n",
    "plt.plot(xmod,xsae)\n",
    "plt.xlabel('$\\hat{weight}$ [g]')\n",
    "plt.ylabel('RMSE [g]')\n",
    "\n",
    "xl = plt.xlim()\n",
    "yl = plt.ylim()\n",
    "plt.plot([np.mean(weight), np.mean(weight)],[yl[0], yl[1]], 'r--', lw=2)\n",
    "plt.xlim(xl)\n",
    "plt.ylim(yl);"
   ]
  },
  {
   "cell_type": "markdown",
   "metadata": {},
   "source": [
    "* This plot is showing the RMSE as a function of the model value. \n",
    "\n",
    "* This plot is an example of what is called a *cost function*. We have a model parameter on the x-axis and an error, or \"cost\" on the y-axis.  In modeling we are often interested in the parameter that minimizes the cost function.\n",
    "\n",
    "* The vertical dashed line shows the mean value. Out of all possible models defined by a single parameter, the mean is the one the minimizes the RMSE and would be considered most optimal."
   ]
  },
  {
   "cell_type": "markdown",
   "metadata": {},
   "source": [
    "### A simple model with two parameters: linear model \n",
    "\n",
    "Let's say that we want to model fish weight as a function of length for this species. This might be useful in a case where length estimates are common, but weight estimates are more labor-inetensive. Or maybe there is interest in comparine length-weight relationships for different species."
   ]
  },
  {
   "cell_type": "code",
   "execution_count": 6,
   "metadata": {
    "tags": [
     "hide-input"
    ]
   },
   "outputs": [
    {
     "name": "stderr",
     "output_type": "stream",
     "text": [
      "/var/folders/z7/lmyk7sz94177j166ck0x63h80000gr/T/ipykernel_28378/744610339.py:17: FutureWarning: Series.__getitem__ treating keys as positions is deprecated. In a future version, integer keys will always be treated as labels (consistent with DataFrame behavior). To access a value by position, use `ser.iloc[pos]`\n",
      "  err = dfsub['weight']-(results.params[0]+results.params[1]*dfsub['standard_length'])\n",
      "/var/folders/z7/lmyk7sz94177j166ck0x63h80000gr/T/ipykernel_28378/744610339.py:24: FutureWarning: Series.__getitem__ treating keys as positions is deprecated. In a future version, integer keys will always be treated as labels (consistent with DataFrame behavior). To access a value by position, use `ser.iloc[pos]`\n",
      "  results.params[0]+results.params[1]*dfsub['standard_length'],\n"
     ]
    },
    {
     "data": {
      "image/png": "[encoded data removed]",
      "text/plain": [
       "<Figure size 640x480 with 1 Axes>"
      ]
     },
     "metadata": {},
     "output_type": "display_data"
    }
   ],
   "source": [
    "import xarray as xr\n",
    "import pandas as pd\n",
    "import statsmodels.api as sm\n",
    "import statsmodels.formula.api as smf\n",
    "import matplotlib.pyplot as plt\n",
    "\n",
    "# load dataset and convert to Pandas dataframe\n",
    "ds = xr.open_dataset('data/trawl_swfsc/FRDCPSTrawlLHSpecimen_8b4e_b841_9c81.nc')\n",
    "df = ds.to_dataframe()\n",
    "dfsub = df.loc[(df['scientific_name'] == 'Engraulis mordax') & \n",
    "               (ds['standard_length'].values < 1e8)]\n",
    "\n",
    "# linear fit with statsmodels package\n",
    "results = smf.ols('weight ~ 1 + standard_length', dfsub).fit()\n",
    "\n",
    "# RMSE\n",
    "err = dfsub['weight']-(results.params[0]+results.params[1]*dfsub['standard_length'])\n",
    "rmse = np.sqrt(np.mean(err**2))\n",
    "\n",
    "# plot linear model\n",
    "plt.figure()\n",
    "plt.plot(dfsub['standard_length'],dfsub['weight'],'.')\n",
    "plt.plot(dfsub['standard_length'],\n",
    "         results.params[0]+results.params[1]*dfsub['standard_length'],\n",
    "         '-')\n",
    "plt.xlabel('standard length [mm]')\n",
    "plt.ylabel('weight [g]')\n",
    "plt.title('Engraulis mordax, RMSE = '+str(np.round(rmse,2))+ ' g');"
   ]
  },
  {
   "cell_type": "markdown",
   "metadata": {},
   "source": [
    "The linear model has RMSE = 3.57 g\n",
    "\n",
    "Looking at the data, it looks like a linear model only works for part of the data. It tends to be biased low at the smallest and largest length values.  If we were going to use this linear model, our equation would be: \n",
    "\n",
    "$\\hat{weight_i} =  constant + a * length_i$\n",
    "\n",
    "The $\\hat{}$ symbol indicates $\\hat{weight_i}$ is a model\n",
    "\n",
    "Here the $constant$ is the intercept and $a$ is the slope.\n",
    "\n",
    "The intercept and slope are the model parameters. You can think of the error $\\epsilon_i$ for each data point as being the vertical distance between the data point and the model, $x_i - \\hat{x}_i$."
   ]
  },
  {
   "cell_type": "markdown",
   "metadata": {},
   "source": [
    "### Example data set: quadratic model "
   ]
  },
  {
   "cell_type": "code",
   "execution_count": 7,
   "metadata": {
    "tags": [
     "hide-input"
    ]
   },
   "outputs": [
    {
     "name": "stderr",
     "output_type": "stream",
     "text": [
      "/var/folders/z7/lmyk7sz94177j166ck0x63h80000gr/T/ipykernel_28378/2931778582.py:3: FutureWarning: Series.__getitem__ treating keys as positions is deprecated. In a future version, integer keys will always be treated as labels (consistent with DataFrame behavior). To access a value by position, use `ser.iloc[pos]`\n",
      "  errq = dfsub['weight']-(resultsq.params[0]+\n",
      "/var/folders/z7/lmyk7sz94177j166ck0x63h80000gr/T/ipykernel_28378/2931778582.py:4: FutureWarning: Series.__getitem__ treating keys as positions is deprecated. In a future version, integer keys will always be treated as labels (consistent with DataFrame behavior). To access a value by position, use `ser.iloc[pos]`\n",
      "  resultsq.params[1]*dfsub['standard_length']+\n",
      "/var/folders/z7/lmyk7sz94177j166ck0x63h80000gr/T/ipykernel_28378/2931778582.py:5: FutureWarning: Series.__getitem__ treating keys as positions is deprecated. In a future version, integer keys will always be treated as labels (consistent with DataFrame behavior). To access a value by position, use `ser.iloc[pos]`\n",
      "  resultsq.params[2]*dfsub['standard_length']**2)\n",
      "/var/folders/z7/lmyk7sz94177j166ck0x63h80000gr/T/ipykernel_28378/2931778582.py:11: FutureWarning: Series.__getitem__ treating keys as positions is deprecated. In a future version, integer keys will always be treated as labels (consistent with DataFrame behavior). To access a value by position, use `ser.iloc[pos]`\n",
      "  resultsq.params[0]+\n",
      "/var/folders/z7/lmyk7sz94177j166ck0x63h80000gr/T/ipykernel_28378/2931778582.py:12: FutureWarning: Series.__getitem__ treating keys as positions is deprecated. In a future version, integer keys will always be treated as labels (consistent with DataFrame behavior). To access a value by position, use `ser.iloc[pos]`\n",
      "  resultsq.params[1]*dfsub['standard_length']+\n",
      "/var/folders/z7/lmyk7sz94177j166ck0x63h80000gr/T/ipykernel_28378/2931778582.py:13: FutureWarning: Series.__getitem__ treating keys as positions is deprecated. In a future version, integer keys will always be treated as labels (consistent with DataFrame behavior). To access a value by position, use `ser.iloc[pos]`\n",
      "  resultsq.params[2]*dfsub['standard_length']**2,\n"
     ]
    },
    {
     "data": {
      "image/png": "[encoded data removed]",
      "text/plain": [
       "<Figure size 640x480 with 1 Axes>"
      ]
     },
     "metadata": {},
     "output_type": "display_data"
    }
   ],
   "source": [
    "resultsq = smf.ols('weight ~ 1 + standard_length + I(standard_length**2)', dfsub).fit()\n",
    "\n",
    "errq = dfsub['weight']-(resultsq.params[0]+\n",
    "         resultsq.params[1]*dfsub['standard_length']+\n",
    "         resultsq.params[2]*dfsub['standard_length']**2)\n",
    "rmseq = np.sqrt(np.mean(errq**2))\n",
    "\n",
    "plt.figure()\n",
    "plt.plot(dfsub['standard_length'],dfsub['weight'],'.')\n",
    "plt.plot(dfsub['standard_length'],\n",
    "         resultsq.params[0]+\n",
    "         resultsq.params[1]*dfsub['standard_length']+\n",
    "         resultsq.params[2]*dfsub['standard_length']**2,\n",
    "         '.')\n",
    "plt.xlabel('standard length [mm]')\n",
    "plt.ylabel('weight [g]')\n",
    "plt.title('Engraulis mordax, RMSE = '+str(np.round(rmseq,2))+ ' g');"
   ]
  },
  {
   "cell_type": "markdown",
   "metadata": {},
   "source": [
    "The quadratic model has RMSE = 2.11 g. \n",
    "\n",
    "$\\hat{weight_i} =  constant + a * length_i + b * length_i^2$\n",
    "\n",
    "The constant, a, and b are model parameters that describe the structure or the shape of the model. We can find the model that minimizes the RMSE.  This looks like it is doing better than a linear model, but the model indicates that their weight decreases as they get bigger for smaller fish.  It still has some systematic errors where there is some bias."
   ]
  },
  {
   "cell_type": "markdown",
   "metadata": {},
   "source": [
    "### Example data set: data transformation"
   ]
  },
  {
   "cell_type": "code",
   "execution_count": 8,
   "metadata": {
    "tags": [
     "hide-input"
    ]
   },
   "outputs": [
    {
     "data": {
      "image/png": "[encoded data removed]",
      "text/plain": [
       "<Figure size 640x480 with 1 Axes>"
      ]
     },
     "metadata": {},
     "output_type": "display_data"
    }
   ],
   "source": [
    "plt.figure()\n",
    "plt.plot(np.log(dfsub['standard_length']),\n",
    "         np.log(dfsub['weight']),'.')\n",
    "plt.xlabel('ln(standard length [mm])')\n",
    "plt.ylabel('ln(weight [g])')\n",
    "plt.title('Engraulis mordax');"
   ]
  },
  {
   "cell_type": "markdown",
   "metadata": {},
   "source": [
    "This is the same data transformed to a logarithmic scale, and now it appears that a linear model may be appropriate.  Now, we are not minimizing the RMSE, you are minimizing the logarthmic RMSE.\n",
    "\n",
    "#### What makes a model good?\n",
    "\n",
    "- good fit\n",
    "- minimizes error\n",
    "- represents actual scenario of the data \n",
    "- is not overcomplicated"
   ]
  },
  {
   "cell_type": "markdown",
   "metadata": {},
   "source": [
    "### Modeling another species - Overfitting\n",
    "\n",
    "Overfitting occurs when a model is overcomplicated and not representative of the actual scenario. If we add more parameters by adding more terms to the polynomial model equation, we may get an unrealistic model with a low RMSE. Symptoms of overfitting include large swings in model curves where no data points exist.\n",
    "\n",
    "If another datapoint is added without readjusting the model (for example, if a *Icichthys lockingtoni* specimen with 150 mm length were caught), the RMSE will likely be large.  \n",
    "\n",
    "Datasets with large sample sizes are still prone to overfitting. Even with many data points, a model for *Engraulis mordax* with many coefficients is overly sensitive to the extreme data values. "
   ]
  },
  {
   "cell_type": "code",
   "execution_count": 9,
   "metadata": {
    "tags": [
     "hide-input"
    ]
   },
   "outputs": [
    {
     "data": {
      "application/vnd.jupyter.widget-view+json": {
       "model_id": "450826046576420c92312648525d7a6b",
       "version_major": 2,
       "version_minor": 0
      },
      "text/plain": [
       "interactive(children=(Dropdown(description='species_name', options=('Icichthys lockingtoni', 'Engraulis mordax…"
      ]
     },
     "metadata": {},
     "output_type": "display_data"
    }
   ],
   "source": [
    "interact(plot_length_vs_weight_data_with_fit,\n",
    "        species_name = ['Icichthys lockingtoni', 'Engraulis mordax'],\n",
    "         N=widgets.IntSlider(min=0, max=10, step=1, value=7));"
   ]
  },
  {
   "cell_type": "markdown",
   "metadata": {},
   "source": [
    "### Sampling\n",
    "* *Statistical inference*: One of the foundational ideas in statistics is that we can make inferences about an entire population based on a relatively small sample of individuals from that population.\n",
    "\n",
    "* *Goal of sampling*: determine the value of a statistic for an entire population of interest, using just a small subset of the population.\n",
    "\n",
    "The way in which we select the sample is critical to ensuring that the sample is representative of the entire population.\n",
    "\n",
    "Adapted from: http://statsthinking21.org/sampling.html"
   ]
  },
  {
   "cell_type": "markdown",
   "metadata": {},
   "source": [
    "### Back to the anchovy data example: distribution of means\n",
    "\n",
    "![trawl_pdf_mean_dist](images/trawl_pdf_mean_dist.png)\n",
    "\n",
    "**Blue bars**: distribution of 1000 different sample means ($\\bar{x}$), with N = 100 samples each \n",
    "\n",
    "Mean of $\\bar{x}$ = 15.346 g\n",
    "Std. dev. of $\\bar{x}$ = 0.933 g\n",
    "\n",
    "**Orange curve**: normal distribution \n",
    "  \n",
    "$\\mu$ = 15.327 g (mean of full data set)\n",
    "\n",
    "$\\frac{\\sigma}{\\sqrt{N}}$ = 0.971 g (std. dev. of full data set / √100)\n",
    "      \n",
    "      "
   ]
  },
  {
   "cell_type": "markdown",
   "metadata": {},
   "source": [
    "### Anchovy data: distribution of means (zoomed in)\n",
    "\n",
    "![images/trawl_pdf_mean_dist_zoomed.png](images/trawl_pdf_mean_dist_zoomed.png)\n",
    "\n",
    "\n",
    "#### Blue bars: distribution of 106 different sample means ($\\bar{x}$), with N = 100 samples each \n",
    "\n",
    "Mean of $\\bar{x}$ = 15.358 g\n",
    "Std. dev. of $\\bar{x}$ = 0.822 g\n",
    "\n",
    "#### Orange curve: normal distribution \n",
    "  \n",
    "$\\mu{}$ = 15.327 g (mean of full data set)\n",
    "\n",
    "$\\frac{\\sigma}{\\sqrt{N}}$ = 0.971 g (std. dev. of full data set / √100)\n",
    "\n",
    "This is a consequence of the central limit theorem."
   ]
  },
  {
   "cell_type": "code",
   "execution_count": 10,
   "metadata": {},
   "outputs": [
    {
     "data": {
      "application/vnd.jupyter.widget-view+json": {
       "model_id": "b5b270c65f024e109ea584c54ef3bac8",
       "version_major": 2,
       "version_minor": 0
      },
      "text/plain": [
       "interactive(children=(IntSlider(value=3, description='N', min=1), IntSlider(value=1000, description='n_subsamp…"
      ]
     },
     "metadata": {},
     "output_type": "display_data"
    },
    {
     "data": {
      "text/plain": [
       "<function __main__.plot_distribution_of_subsampled_weight_means(species_name, N, n_subsamples)>"
      ]
     },
     "execution_count": 10,
     "metadata": {},
     "output_type": "execute_result"
    }
   ],
   "source": [
    "interact(plot_distribution_of_subsampled_weight_means,\n",
    "        species_name = fixed(species_name),\n",
    "        N = widgets.IntSlider(min=1, max=100, step=1, value=3),\n",
    "        n_subsamples = widgets.IntSlider(min=10, max=1000, step=20, value=1000))"
   ]
  },
  {
   "cell_type": "markdown",
   "metadata": {},
   "source": [
    "## The Central Limit Theorem\n",
    "\n",
    "The __central limit theorem__ states that no matter what the probability distribution of parent population is, the _mean of the means_ drawn from the same population is normally distributed for large sample sizes. As $N$ approaches infinity,\n",
    "\n",
    "mean $(\\bar{x}) \\rightarrow \\mu$ (the mean of the sample means approaches the true mean)\n",
    "\n",
    "std $(\\bar{x}) \\rightarrow \\frac{\\sigma}{\\sqrt{N}}$ (the standard deviation of the sample means approaches the true standard error)\n",
    "\n",
    "The important consequence of this theorem is that if you collect enough samples, the sample mean will always provide an unbiased estimate of the true mean and you can calculate confidence intervals with the formulas above.\n",
    "\n",
    "However, if you have too few samples, the sample mean will provide a _biased_ estimate.\n",
    "\n",
    "Some examples of situation where the central limit theorem is applied:\n",
    "\n",
    "* Radiochemists study discrete decay events, which follow a Poisson distribution. A few samples will give a biased estimate of the mean rate of radioactive decay. If enough samples are collected, the sample mean and 95% confidence intervals can be calculated using the formulas described above.\n",
    "\n",
    "\n",
    "* Physical oceanographers routinely take advantage of the central limit theorem when using observations of pressure or velocity measurements to study processes with time scales much longer than individual waves. The probability distribution of a wavy sea surface is not normal at all, but by collecting many samples (a.k.a. an \"ensemble\") over a period of ~10-20 minutes the waves are effectively \"averaged out\" and one can be reasonably confident in the mean of that ensemble. \n",
    "\n",
    "When sampling a noisy environment and ensemble averaging, oceanographers must be careful to choose an ensemble that is long enough to collect enough samples, but not so long that the statistics are changing significantly over longer time scales. If statistics are robust regardless, of the sampling duration, the process is said to be __stationary__. \n",
    "\n",
    "\\*Adapted from: http://statsthinking21.org/sampling.html\n",
    "\n"
   ]
  },
  {
   "cell_type": "markdown",
   "metadata": {},
   "source": [
    "### Central limit theorem (in other words)\n",
    "\n",
    "The distribution of an average tends to be Normal, even when the distribution from which the average is computed is decidedly non-Normal. \n",
    "\n",
    "http://www.statisticalengineering.com/central_limit_theorem.htm\n",
    "\n",
    "The amazing and counter-intuitive thing about the central limit theorem is that no matter what the shape of the original distribution, the sampling distribution of the mean approaches a normal distribution. Furthermore, for most distributions, a normal distribution is approached very quickly as N increases. \n",
    "\n",
    "http://davidmlane.com/hyperstat/A14043.html"
   ]
  },
  {
   "cell_type": "markdown",
   "metadata": {},
   "source": [
    "### Central limit theorem - applications\n",
    "\n",
    "The weight distribution of *Engraulis mordax* is skewed. However, if we have hundreds of samples, the 95% confidence interval for the mean can still be estimated as\n",
    "\n",
    "$\\bar{x}$ ±1.96 $\\frac{s}{\\sqrt{N}}$\n",
    "\n",
    "With very few samples, the mean would not only be uncertain, but also biased."
   ]
  },
  {
   "cell_type": "markdown",
   "metadata": {},
   "source": [
    "<!---### Central limit theorem – dice example\n",
    "\n",
    "If we start to get more samples, we start to get more of a peak in the distribution\n",
    "\n",
    "![images/clt_dice_ex.png](images/clt_dice_ex.png)-->\n"
   ]
  },
  {
   "cell_type": "markdown",
   "metadata": {},
   "source": [
    "### The *z* Distribution\n",
    "\n",
    "<!--![images/zdist_example.png](images/zdist_example.png)-->\n",
    "\n",
    "* According to the central limit theorem, sample means ($\\bar{x}$) are normally distributed for large N.  \n",
    "* This gives you data that is standardized in a way that if we take  z-scores of the sample means ($\\bar{x}$),  95% of them should fall in the range:\n",
    "\n",
    "\t\t-1.96 < z < 1.96\n",
    "        \n",
    "* This is the basis for forming 95% confidence intervals        "
   ]
  },
  {
   "cell_type": "markdown",
   "metadata": {},
   "source": [
    "\n",
    "![images/trawl_pdf_mean_dist_zoomed.png](images/trawl_pdf_mean_dist_zoomed.png)\n",
    "\n",
    "### Confidence intervals for the mean\n",
    "\n",
    "$CI_{95\\%} = \\bar{x} \\pm 1.96 \\times SE$, where SE is the standard error $\\frac{S}{\\sqrt{N}}$\n",
    "\n",
    "With large enough sampling size N, the 95% confidence interval will contain the true population mean 95% of the time. Here 1.96 is a critical z-score. In theory, if a population is normally distributed then 95% of the z-scores will be between -1.96 and 1.96. \n",
    "\n",
    "This equation is only valid for large samples sizes. For small sample sizes, we use a t-distribution instead of z-distribution (covered later).\n",
    "\n",
    "#### Example: fish weight distribution\n",
    "\n",
    "The plot below shows 95% confidence intervals for the mean for different subsets that are randomly selected from the main dataset. The default plot shows results from 100 trials (you can think of this as doing 100 trawls) where $N$ = 10 samples are collected in each trial. The population mean (or true mean) estimated from the larger dataset is shown in blue. This is a fixed parameter and does not change.\n",
    "\n",
    "The confidence intervals generally encompass the population mean. However, there are some trials where the confidence intervals fail. Also, by making the sample size small (e.g. $N$ = 3) you can see that the confidence intervals start to encompass negative values, which is not realistic for this data set. \n"
   ]
  },
  {
   "cell_type": "code",
   "execution_count": 11,
   "metadata": {
    "tags": [
     "hide-input"
    ]
   },
   "outputs": [
    {
     "data": {
      "application/vnd.jupyter.widget-view+json": {
       "model_id": "d139ce7c49b041e38af49b6d8a899460",
       "version_major": 2,
       "version_minor": 0
      },
      "text/plain": [
       "interactive(children=(IntSlider(value=10, description='N', min=5), IntSlider(value=100, description='ntrial', …"
      ]
     },
     "metadata": {},
     "output_type": "display_data"
    }
   ],
   "source": [
    "ntrial = 1000\n",
    "\n",
    "xm = np.nan*np.zeros(ntrial)\n",
    "xs = np.nan*np.zeros(ntrial)\n",
    "xci_lower = np.nan*np.zeros(ntrial)\n",
    "xci_upper = np.nan*np.zeros(ntrial)\n",
    "\n",
    "ii = (ds['scientific_name'] == 'Engraulis mordax') & (ds['standard_length'] < 1e8)\n",
    "\n",
    "\n",
    "xmean = np.mean(ds['weight'][ii])\n",
    "xstd = np.std(ds['weight'][ii],ddof=1)\n",
    "xSE = xstd/np.sqrt(100)\n",
    "\n",
    "def plot_confidence_intervals(N, ntrial):\n",
    "    cnt = 0 \n",
    "    for i in np.arange(ntrial):\n",
    "        subi = np.random.randint(0, len(ds['weight'][ii]), N)\n",
    "        xm[i] = np.mean(ds['weight'][ii][subi])\n",
    "        xs[i] = np.std(ds['weight'][ii][subi], ddof=1)\n",
    "        (lower,upper) = stats.t.interval(0.95, N-1, loc=xm[i], scale=xs[i]/np.sqrt(N))\n",
    "        xci_lower[i] = lower\n",
    "        xci_upper[i] = upper\n",
    "        #xci_lower[i] = xm[i]-1.96*xs[i]/np.sqrt(N)\n",
    "        #xci_upper[i] = xm[i]+1.96*xs[i]/np.sqrt(N)\n",
    "        if (xmean >= xci_lower[i]) & (xmean < xci_upper[i]):\n",
    "            cnt = cnt + 1\n",
    "\n",
    "    plt.figure(figsize=(5,5))\n",
    "\n",
    "    for j in np.arange(0,ntrial):\n",
    "        if (xmean >= xci_lower[j]) & (xmean < xci_upper[j]):\n",
    "            plt.plot([xci_lower[j], xci_upper[j]], [j,j], 'k-')\n",
    "        else:\n",
    "            plt.plot([xci_lower[j], xci_upper[j]], [j,j], 'r-')\n",
    "\n",
    "    yl = plt.ylim()\n",
    "    plt.plot([xmean,xmean], yl, 'b--')\n",
    "    plt.ylim(yl)\n",
    "    plt.title('95% confidence intervals\\nrandom subsets with N = ' + str(N))\n",
    "    plt.xlabel('weight [g]')\n",
    "    plt.ylabel('trial #')\n",
    "    plt.xlim([-10, 50]);\n",
    "\n",
    "interact(plot_confidence_intervals,\n",
    "         N=widgets.IntSlider(min=5, max=100, step=1, value=10),\n",
    "         ntrial=widgets.IntSlider(min=10, max=200, step=1, value=100));"
   ]
  },
  {
   "cell_type": "markdown",
   "metadata": {},
   "source": [
    "\n",
    "\n",
    "#### Common misinterpretation of confidence intervals*:\n",
    "\n",
    "“There is a 95% chance that the population mean falls within the interval.”\n",
    "\n",
    "What is wrong with this statement, and how does it differ from the correct interpretation?\n",
    "* In the case of confidence intervals, we can't interpret them in this way because the population parameter has a fixed value -  it is or it isn't in the interval\n",
    "\n",
    "* It is the *sample mean* that has a probability of falling within the confidence intervals, not the *true mean* or *population mean* \n",
    "\n",
    "* Confidence intervals treat the parameter as fixed (it has one *true* value) and the interval as variable (it will change based on the subset of data actually collected). \n",
    "\n",
    "\n",
    "\\*Adapted from: http://statsthinking21.org/sampling.html\n"
   ]
  }
 ],
 "metadata": {
  "anaconda-cloud": {},
  "kernelspec": {
   "display_name": "Python 3 (ipykernel)",
   "language": "python",
   "name": "python3"
  },
  "language_info": {
   "codemirror_mode": {
    "name": "ipython",
    "version": 3
   },
   "file_extension": ".py",
   "mimetype": "text/x-python",
   "name": "python",
   "nbconvert_exporter": "python",
   "pygments_lexer": "ipython3",
   "version": "3.11.7"
  },
  "vscode": {
   "interpreter": {
    "hash": "1f45fdcf2eddff97318504b1e3cfb08785222b41a6bfe39eedae558749854b42"
   }
  },
  "widgets": {
   "application/vnd.jupyter.widget-state+json": {
    "state": {
     "050c24585bf34afba885ccc315e230a3": {
      "model_module": "@jupyter-widgets/output",
      "model_module_version": "1.0.0",
      "model_name": "OutputModel",
      "state": {
       "_dom_classes": [],
       "_model_module": "@jupyter-widgets/output",
       "_model_module_version": "1.0.0",
       "_model_name": "OutputModel",
       "_view_count": null,
       "_view_module": "@jupyter-widgets/output",
       "_view_module_version": "1.0.0",
       "_view_name": "OutputView",
       "layout": "IPY_MODEL_54584451980248e08668509dc4869d92",
       "msg_id": "",
       "outputs": [
        {
         "data": {
          "image/png": "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",
          "text/plain": "<Figure size 500x500 with 1 Axes>"
         },
         "metadata": {},
         "output_type": "display_data"
        }
       ],
       "tabbable": null,
       "tooltip": null
      }
     },
     "1ea1d083d91e4e5a859430a739660106": {
      "model_module": "@jupyter-widgets/controls",
      "model_module_version": "2.0.0",
      "model_name": "IntSliderModel",
      "state": {
       "_dom_classes": [],
       "_model_module": "@jupyter-widgets/controls",
       "_model_module_version": "2.0.0",
       "_model_name": "IntSliderModel",
       "_view_count": null,
       "_view_module": "@jupyter-widgets/controls",
       "_view_module_version": "2.0.0",
       "_view_name": "IntSliderView",
       "behavior": "drag-tap",
       "continuous_update": true,
       "description": "ntrial",
       "description_allow_html": false,
       "disabled": false,
       "layout": "IPY_MODEL_e0492de619984f9fac811cacedae868a",
       "max": 200,
       "min": 10,
       "orientation": "horizontal",
       "readout": true,
       "readout_format": "d",
       "step": 1,
       "style": "IPY_MODEL_203efbdfea584037a51a544a22f8beed",
       "tabbable": null,
       "tooltip": null,
       "value": 100
      }
     },
     "203efbdfea584037a51a544a22f8beed": {
      "model_module": "@jupyter-widgets/controls",
      "model_module_version": "2.0.0",
      "model_name": "SliderStyleModel",
      "state": {
       "_model_module": "@jupyter-widgets/controls",
       "_model_module_version": "2.0.0",
       "_model_name": "SliderStyleModel",
       "_view_count": null,
       "_view_module": "@jupyter-widgets/base",
       "_view_module_version": "2.0.0",
       "_view_name": "StyleView",
       "description_width": "",
       "handle_color": null
      }
     },
     "25dec035d47840e1bc54db810dab5a39": {
      "model_module": "@jupyter-widgets/controls",
      "model_module_version": "2.0.0",
      "model_name": "DropdownModel",
      "state": {
       "_dom_classes": [],
       "_model_module": "@jupyter-widgets/controls",
       "_model_module_version": "2.0.0",
       "_model_name": "DropdownModel",
       "_options_labels": [
        "Icichthys lockingtoni",
        "Engraulis mordax"
       ],
       "_view_count": null,
       "_view_module": "@jupyter-widgets/controls",
       "_view_module_version": "2.0.0",
       "_view_name": "DropdownView",
       "description": "species_name",
       "description_allow_html": false,
       "disabled": false,
       "index": 0,
       "layout": "IPY_MODEL_f263444696a048f29bad29c7b14dd5b2",
       "style": "IPY_MODEL_f5d6f408875843769df014970a82e8b0",
       "tabbable": null,
       "tooltip": null
      }
     },
     "2a7927bb57364a8a8ad971b075bfdea1": {
      "model_module": "@jupyter-widgets/base",
      "model_module_version": "2.0.0",
      "model_name": "LayoutModel",
      "state": {
       "_model_module": "@jupyter-widgets/base",
       "_model_module_version": "2.0.0",
       "_model_name": "LayoutModel",
       "_view_count": null,
       "_view_module": "@jupyter-widgets/base",
       "_view_module_version": "2.0.0",
       "_view_name": "LayoutView",
       "align_content": null,
       "align_items": null,
       "align_self": null,
       "border_bottom": null,
       "border_left": null,
       "border_right": null,
       "border_top": null,
       "bottom": null,
       "display": null,
       "flex": null,
       "flex_flow": null,
       "grid_area": null,
       "grid_auto_columns": null,
       "grid_auto_flow": null,
       "grid_auto_rows": null,
       "grid_column": null,
       "grid_gap": null,
       "grid_row": null,
       "grid_template_areas": null,
       "grid_template_columns": null,
       "grid_template_rows": null,
       "height": null,
       "justify_content": null,
       "justify_items": null,
       "left": null,
       "margin": null,
       "max_height": null,
       "max_width": null,
       "min_height": null,
       "min_width": null,
       "object_fit": null,
       "object_position": null,
       "order": null,
       "overflow": null,
       "padding": null,
       "right": null,
       "top": null,
       "visibility": null,
       "width": null
      }
     },
     "332de0e043764b3494d07c0f579cffec": {
      "model_module": "@jupyter-widgets/base",
      "model_module_version": "2.0.0",
      "model_name": "LayoutModel",
      "state": {
       "_model_module": "@jupyter-widgets/base",
       "_model_module_version": "2.0.0",
       "_model_name": "LayoutModel",
       "_view_count": null,
       "_view_module": "@jupyter-widgets/base",
       "_view_module_version": "2.0.0",
       "_view_name": "LayoutView",
       "align_content": null,
       "align_items": null,
       "align_self": null,
       "border_bottom": null,
       "border_left": null,
       "border_right": null,
       "border_top": null,
       "bottom": null,
       "display": null,
       "flex": null,
       "flex_flow": null,
       "grid_area": null,
       "grid_auto_columns": null,
       "grid_auto_flow": null,
       "grid_auto_rows": null,
       "grid_column": null,
       "grid_gap": null,
       "grid_row": null,
       "grid_template_areas": null,
       "grid_template_columns": null,
       "grid_template_rows": null,
       "height": null,
       "justify_content": null,
       "justify_items": null,
       "left": null,
       "margin": null,
       "max_height": null,
       "max_width": null,
       "min_height": null,
       "min_width": null,
       "object_fit": null,
       "object_position": null,
       "order": null,
       "overflow": null,
       "padding": null,
       "right": null,
       "top": null,
       "visibility": null,
       "width": null
      }
     },
     "38b084be287747af8fd3a4238eefd927": {
      "model_module": "@jupyter-widgets/controls",
      "model_module_version": "2.0.0",
      "model_name": "IntSliderModel",
      "state": {
       "_dom_classes": [],
       "_model_module": "@jupyter-widgets/controls",
       "_model_module_version": "2.0.0",
       "_model_name": "IntSliderModel",
       "_view_count": null,
       "_view_module": "@jupyter-widgets/controls",
       "_view_module_version": "2.0.0",
       "_view_name": "IntSliderView",
       "behavior": "drag-tap",
       "continuous_update": true,
       "description": "N",
       "description_allow_html": false,
       "disabled": false,
       "layout": "IPY_MODEL_332de0e043764b3494d07c0f579cffec",
       "max": 100,
       "min": 5,
       "orientation": "horizontal",
       "readout": true,
       "readout_format": "d",
       "step": 1,
       "style": "IPY_MODEL_dd6258ecb432404d80359bcbfd6f9363",
       "tabbable": null,
       "tooltip": null,
       "value": 10
      }
     },
     "43edad21cfc549dea91d07ec856bcefa": {
      "model_module": "@jupyter-widgets/controls",
      "model_module_version": "2.0.0",
      "model_name": "SliderStyleModel",
      "state": {
       "_model_module": "@jupyter-widgets/controls",
       "_model_module_version": "2.0.0",
       "_model_name": "SliderStyleModel",
       "_view_count": null,
       "_view_module": "@jupyter-widgets/base",
       "_view_module_version": "2.0.0",
       "_view_name": "StyleView",
       "description_width": "",
       "handle_color": null
      }
     },
     "450826046576420c92312648525d7a6b": {
      "model_module": "@jupyter-widgets/controls",
      "model_module_version": "2.0.0",
      "model_name": "VBoxModel",
      "state": {
       "_dom_classes": [
        "widget-interact"
       ],
       "_model_module": "@jupyter-widgets/controls",
       "_model_module_version": "2.0.0",
       "_model_name": "VBoxModel",
       "_view_count": null,
       "_view_module": "@jupyter-widgets/controls",
       "_view_module_version": "2.0.0",
       "_view_name": "VBoxView",
       "box_style": "",
       "children": [
        "IPY_MODEL_25dec035d47840e1bc54db810dab5a39",
        "IPY_MODEL_4a18ba0036d34d0ab8bb0a15fd4b45f4",
        "IPY_MODEL_d101d68b1e30434ea0513e05b71a2ce9"
       ],
       "layout": "IPY_MODEL_93600539e9254fbc83bbcb1fab955271",
       "tabbable": null,
       "tooltip": null
      }
     },
     "479250285a854e80ad1635375ef55158": {
      "model_module": "@jupyter-widgets/base",
      "model_module_version": "2.0.0",
      "model_name": "LayoutModel",
      "state": {
       "_model_module": "@jupyter-widgets/base",
       "_model_module_version": "2.0.0",
       "_model_name": "LayoutModel",
       "_view_count": null,
       "_view_module": "@jupyter-widgets/base",
       "_view_module_version": "2.0.0",
       "_view_name": "LayoutView",
       "align_content": null,
       "align_items": null,
       "align_self": null,
       "border_bottom": null,
       "border_left": null,
       "border_right": null,
       "border_top": null,
       "bottom": null,
       "display": null,
       "flex": null,
       "flex_flow": null,
       "grid_area": null,
       "grid_auto_columns": null,
       "grid_auto_flow": null,
       "grid_auto_rows": null,
       "grid_column": null,
       "grid_gap": null,
       "grid_row": null,
       "grid_template_areas": null,
       "grid_template_columns": null,
       "grid_template_rows": null,
       "height": null,
       "justify_content": null,
       "justify_items": null,
       "left": null,
       "margin": null,
       "max_height": null,
       "max_width": null,
       "min_height": null,
       "min_width": null,
       "object_fit": null,
       "object_position": null,
       "order": null,
       "overflow": null,
       "padding": null,
       "right": null,
       "top": null,
       "visibility": null,
       "width": null
      }
     },
     "4a18ba0036d34d0ab8bb0a15fd4b45f4": {
      "model_module": "@jupyter-widgets/controls",
      "model_module_version": "2.0.0",
      "model_name": "IntSliderModel",
      "state": {
       "_dom_classes": [],
       "_model_module": "@jupyter-widgets/controls",
       "_model_module_version": "2.0.0",
       "_model_name": "IntSliderModel",
       "_view_count": null,
       "_view_module": "@jupyter-widgets/controls",
       "_view_module_version": "2.0.0",
       "_view_name": "IntSliderView",
       "behavior": "drag-tap",
       "continuous_update": true,
       "description": "N",
       "description_allow_html": false,
       "disabled": false,
       "layout": "IPY_MODEL_ac725d0fd03e4486a109e93e1e42d3c5",
       "max": 10,
       "min": 0,
       "orientation": "horizontal",
       "readout": true,
       "readout_format": "d",
       "step": 1,
       "style": "IPY_MODEL_43edad21cfc549dea91d07ec856bcefa",
       "tabbable": null,
       "tooltip": null,
       "value": 7
      }
     },
     "4a2d5a37cf50470da34a19cdc1a78dff": {
      "model_module": "@jupyter-widgets/base",
      "model_module_version": "2.0.0",
      "model_name": "LayoutModel",
      "state": {
       "_model_module": "@jupyter-widgets/base",
       "_model_module_version": "2.0.0",
       "_model_name": "LayoutModel",
       "_view_count": null,
       "_view_module": "@jupyter-widgets/base",
       "_view_module_version": "2.0.0",
       "_view_name": "LayoutView",
       "align_content": null,
       "align_items": null,
       "align_self": null,
       "border_bottom": null,
       "border_left": null,
       "border_right": null,
       "border_top": null,
       "bottom": null,
       "display": null,
       "flex": null,
       "flex_flow": null,
       "grid_area": null,
       "grid_auto_columns": null,
       "grid_auto_flow": null,
       "grid_auto_rows": null,
       "grid_column": null,
       "grid_gap": null,
       "grid_row": null,
       "grid_template_areas": null,
       "grid_template_columns": null,
       "grid_template_rows": null,
       "height": null,
       "justify_content": null,
       "justify_items": null,
       "left": null,
       "margin": null,
       "max_height": null,
       "max_width": null,
       "min_height": null,
       "min_width": null,
       "object_fit": null,
       "object_position": null,
       "order": null,
       "overflow": null,
       "padding": null,
       "right": null,
       "top": null,
       "visibility": null,
       "width": null
      }
     },
     "4c3d219482204a409c3f204b731a32fd": {
      "model_module": "@jupyter-widgets/controls",
      "model_module_version": "2.0.0",
      "model_name": "IntSliderModel",
      "state": {
       "_dom_classes": [],
       "_model_module": "@jupyter-widgets/controls",
       "_model_module_version": "2.0.0",
       "_model_name": "IntSliderModel",
       "_view_count": null,
       "_view_module": "@jupyter-widgets/controls",
       "_view_module_version": "2.0.0",
       "_view_name": "IntSliderView",
       "behavior": "drag-tap",
       "continuous_update": true,
       "description": "N",
       "description_allow_html": false,
       "disabled": false,
       "layout": "IPY_MODEL_c8122c29e3c94696902fa1ebd8da9b8d",
       "max": 1000,
       "min": 10,
       "orientation": "horizontal",
       "readout": true,
       "readout_format": "d",
       "step": 10,
       "style": "IPY_MODEL_dc46935eda434e90a5aa6289d37ef304",
       "tabbable": null,
       "tooltip": null,
       "value": 100
      }
     },
     "54584451980248e08668509dc4869d92": {
      "model_module": "@jupyter-widgets/base",
      "model_module_version": "2.0.0",
      "model_name": "LayoutModel",
      "state": {
       "_model_module": "@jupyter-widgets/base",
       "_model_module_version": "2.0.0",
       "_model_name": "LayoutModel",
       "_view_count": null,
       "_view_module": "@jupyter-widgets/base",
       "_view_module_version": "2.0.0",
       "_view_name": "LayoutView",
       "align_content": null,
       "align_items": null,
       "align_self": null,
       "border_bottom": null,
       "border_left": null,
       "border_right": null,
       "border_top": null,
       "bottom": null,
       "display": null,
       "flex": null,
       "flex_flow": null,
       "grid_area": null,
       "grid_auto_columns": null,
       "grid_auto_flow": null,
       "grid_auto_rows": null,
       "grid_column": null,
       "grid_gap": null,
       "grid_row": null,
       "grid_template_areas": null,
       "grid_template_columns": null,
       "grid_template_rows": null,
       "height": null,
       "justify_content": null,
       "justify_items": null,
       "left": null,
       "margin": null,
       "max_height": null,
       "max_width": null,
       "min_height": null,
       "min_width": null,
       "object_fit": null,
       "object_position": null,
       "order": null,
       "overflow": null,
       "padding": null,
       "right": null,
       "top": null,
       "visibility": null,
       "width": null
      }
     },
     "7ad97b2a488e470bb885fde66213ac89": {
      "model_module": "@jupyter-widgets/base",
      "model_module_version": "2.0.0",
      "model_name": "LayoutModel",
      "state": {
       "_model_module": "@jupyter-widgets/base",
       "_model_module_version": "2.0.0",
       "_model_name": "LayoutModel",
       "_view_count": null,
       "_view_module": "@jupyter-widgets/base",
       "_view_module_version": "2.0.0",
       "_view_name": "LayoutView",
       "align_content": null,
       "align_items": null,
       "align_self": null,
       "border_bottom": null,
       "border_left": null,
       "border_right": null,
       "border_top": null,
       "bottom": null,
       "display": null,
       "flex": null,
       "flex_flow": null,
       "grid_area": null,
       "grid_auto_columns": null,
       "grid_auto_flow": null,
       "grid_auto_rows": null,
       "grid_column": null,
       "grid_gap": null,
       "grid_row": null,
       "grid_template_areas": null,
       "grid_template_columns": null,
       "grid_template_rows": null,
       "height": null,
       "justify_content": null,
       "justify_items": null,
       "left": null,
       "margin": null,
       "max_height": null,
       "max_width": null,
       "min_height": null,
       "min_width": null,
       "object_fit": null,
       "object_position": null,
       "order": null,
       "overflow": null,
       "padding": null,
       "right": null,
       "top": null,
       "visibility": null,
       "width": null
      }
     },
     "7b407ddd26a3494ea03b476d3d5a716a": {
      "model_module": "@jupyter-widgets/base",
      "model_module_version": "2.0.0",
      "model_name": "LayoutModel",
      "state": {
       "_model_module": "@jupyter-widgets/base",
       "_model_module_version": "2.0.0",
       "_model_name": "LayoutModel",
       "_view_count": null,
       "_view_module": "@jupyter-widgets/base",
       "_view_module_version": "2.0.0",
       "_view_name": "LayoutView",
       "align_content": null,
       "align_items": null,
       "align_self": null,
       "border_bottom": null,
       "border_left": null,
       "border_right": null,
       "border_top": null,
       "bottom": null,
       "display": null,
       "flex": null,
       "flex_flow": null,
       "grid_area": null,
       "grid_auto_columns": null,
       "grid_auto_flow": null,
       "grid_auto_rows": null,
       "grid_column": null,
       "grid_gap": null,
       "grid_row": null,
       "grid_template_areas": null,
       "grid_template_columns": null,
       "grid_template_rows": null,
       "height": null,
       "justify_content": null,
       "justify_items": null,
       "left": null,
       "margin": null,
       "max_height": null,
       "max_width": null,
       "min_height": null,
       "min_width": null,
       "object_fit": null,
       "object_position": null,
       "order": null,
       "overflow": null,
       "padding": null,
       "right": null,
       "top": null,
       "visibility": null,
       "width": null
      }
     },
     "80cf411936ef4a4ea3d9ac2f3dcc2233": {
      "model_module": "@jupyter-widgets/output",
      "model_module_version": "1.0.0",
      "model_name": "OutputModel",
      "state": {
       "_dom_classes": [],
       "_model_module": "@jupyter-widgets/output",
       "_model_module_version": "1.0.0",
       "_model_name": "OutputModel",
       "_view_count": null,
       "_view_module": "@jupyter-widgets/output",
       "_view_module_version": "1.0.0",
       "_view_name": "OutputView",
       "layout": "IPY_MODEL_2a7927bb57364a8a8ad971b075bfdea1",
       "msg_id": "",
       "outputs": [
        {
         "data": {
          "image/png": "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",
          "text/plain": "<Figure size 800x500 with 2 Axes>"
         },
         "metadata": {},
         "output_type": "display_data"
        }
       ],
       "tabbable": null,
       "tooltip": null
      }
     },
     "93600539e9254fbc83bbcb1fab955271": {
      "model_module": "@jupyter-widgets/base",
      "model_module_version": "2.0.0",
      "model_name": "LayoutModel",
      "state": {
       "_model_module": "@jupyter-widgets/base",
       "_model_module_version": "2.0.0",
       "_model_name": "LayoutModel",
       "_view_count": null,
       "_view_module": "@jupyter-widgets/base",
       "_view_module_version": "2.0.0",
       "_view_name": "LayoutView",
       "align_content": null,
       "align_items": null,
       "align_self": null,
       "border_bottom": null,
       "border_left": null,
       "border_right": null,
       "border_top": null,
       "bottom": null,
       "display": null,
       "flex": null,
       "flex_flow": null,
       "grid_area": null,
       "grid_auto_columns": null,
       "grid_auto_flow": null,
       "grid_auto_rows": null,
       "grid_column": null,
       "grid_gap": null,
       "grid_row": null,
       "grid_template_areas": null,
       "grid_template_columns": null,
       "grid_template_rows": null,
       "height": null,
       "justify_content": null,
       "justify_items": null,
       "left": null,
       "margin": null,
       "max_height": null,
       "max_width": null,
       "min_height": null,
       "min_width": null,
       "object_fit": null,
       "object_position": null,
       "order": null,
       "overflow": null,
       "padding": null,
       "right": null,
       "top": null,
       "visibility": null,
       "width": null
      }
     },
     "9602f624c3e640abb8a75ddf57223dae": {
      "model_module": "@jupyter-widgets/base",
      "model_module_version": "2.0.0",
      "model_name": "LayoutModel",
      "state": {
       "_model_module": "@jupyter-widgets/base",
       "_model_module_version": "2.0.0",
       "_model_name": "LayoutModel",
       "_view_count": null,
       "_view_module": "@jupyter-widgets/base",
       "_view_module_version": "2.0.0",
       "_view_name": "LayoutView",
       "align_content": null,
       "align_items": null,
       "align_self": null,
       "border_bottom": null,
       "border_left": null,
       "border_right": null,
       "border_top": null,
       "bottom": null,
       "display": null,
       "flex": null,
       "flex_flow": null,
       "grid_area": null,
       "grid_auto_columns": null,
       "grid_auto_flow": null,
       "grid_auto_rows": null,
       "grid_column": null,
       "grid_gap": null,
       "grid_row": null,
       "grid_template_areas": null,
       "grid_template_columns": null,
       "grid_template_rows": null,
       "height": null,
       "justify_content": null,
       "justify_items": null,
       "left": null,
       "margin": null,
       "max_height": null,
       "max_width": null,
       "min_height": null,
       "min_width": null,
       "object_fit": null,
       "object_position": null,
       "order": null,
       "overflow": null,
       "padding": null,
       "right": null,
       "top": null,
       "visibility": null,
       "width": null
      }
     },
     "ac725d0fd03e4486a109e93e1e42d3c5": {
      "model_module": "@jupyter-widgets/base",
      "model_module_version": "2.0.0",
      "model_name": "LayoutModel",
      "state": {
       "_model_module": "@jupyter-widgets/base",
       "_model_module_version": "2.0.0",
       "_model_name": "LayoutModel",
       "_view_count": null,
       "_view_module": "@jupyter-widgets/base",
       "_view_module_version": "2.0.0",
       "_view_name": "LayoutView",
       "align_content": null,
       "align_items": null,
       "align_self": null,
       "border_bottom": null,
       "border_left": null,
       "border_right": null,
       "border_top": null,
       "bottom": null,
       "display": null,
       "flex": null,
       "flex_flow": null,
       "grid_area": null,
       "grid_auto_columns": null,
       "grid_auto_flow": null,
       "grid_auto_rows": null,
       "grid_column": null,
       "grid_gap": null,
       "grid_row": null,
       "grid_template_areas": null,
       "grid_template_columns": null,
       "grid_template_rows": null,
       "height": null,
       "justify_content": null,
       "justify_items": null,
       "left": null,
       "margin": null,
       "max_height": null,
       "max_width": null,
       "min_height": null,
       "min_width": null,
       "object_fit": null,
       "object_position": null,
       "order": null,
       "overflow": null,
       "padding": null,
       "right": null,
       "top": null,
       "visibility": null,
       "width": null
      }
     },
     "b5b270c65f024e109ea584c54ef3bac8": {
      "model_module": "@jupyter-widgets/controls",
      "model_module_version": "2.0.0",
      "model_name": "VBoxModel",
      "state": {
       "_dom_classes": [
        "widget-interact"
       ],
       "_model_module": "@jupyter-widgets/controls",
       "_model_module_version": "2.0.0",
       "_model_name": "VBoxModel",
       "_view_count": null,
       "_view_module": "@jupyter-widgets/controls",
       "_view_module_version": "2.0.0",
       "_view_name": "VBoxView",
       "box_style": "",
       "children": [
        "IPY_MODEL_d07a5ccf98ab4311b8bbb86e200ee413",
        "IPY_MODEL_bb7e3307e1914165ae97e5a40121aeef",
        "IPY_MODEL_80cf411936ef4a4ea3d9ac2f3dcc2233"
       ],
       "layout": "IPY_MODEL_479250285a854e80ad1635375ef55158",
       "tabbable": null,
       "tooltip": null
      }
     },
     "b5da52dde09e48b19ebeaa4b23a0a349": {
      "model_module": "@jupyter-widgets/output",
      "model_module_version": "1.0.0",
      "model_name": "OutputModel",
      "state": {
       "_dom_classes": [],
       "_model_module": "@jupyter-widgets/output",
       "_model_module_version": "1.0.0",
       "_model_name": "OutputModel",
       "_view_count": null,
       "_view_module": "@jupyter-widgets/output",
       "_view_module_version": "1.0.0",
       "_view_name": "OutputView",
       "layout": "IPY_MODEL_d0bd1ab6a70b437896a82f7c999dc8c0",
       "msg_id": "",
       "outputs": [],
       "tabbable": null,
       "tooltip": null
      }
     },
     "bb7e3307e1914165ae97e5a40121aeef": {
      "model_module": "@jupyter-widgets/controls",
      "model_module_version": "2.0.0",
      "model_name": "IntSliderModel",
      "state": {
       "_dom_classes": [],
       "_model_module": "@jupyter-widgets/controls",
       "_model_module_version": "2.0.0",
       "_model_name": "IntSliderModel",
       "_view_count": null,
       "_view_module": "@jupyter-widgets/controls",
       "_view_module_version": "2.0.0",
       "_view_name": "IntSliderView",
       "behavior": "drag-tap",
       "continuous_update": true,
       "description": "n_subsamples",
       "description_allow_html": false,
       "disabled": false,
       "layout": "IPY_MODEL_7ad97b2a488e470bb885fde66213ac89",
       "max": 1000,
       "min": 10,
       "orientation": "horizontal",
       "readout": true,
       "readout_format": "d",
       "step": 20,
       "style": "IPY_MODEL_fcbf6342857341b2bcc05a3b61d01db9",
       "tabbable": null,
       "tooltip": null,
       "value": 1000
      }
     },
     "c5a3ec44ba824674bc8205e29f9ba41e": {
      "model_module": "@jupyter-widgets/base",
      "model_module_version": "2.0.0",
      "model_name": "LayoutModel",
      "state": {
       "_model_module": "@jupyter-widgets/base",
       "_model_module_version": "2.0.0",
       "_model_name": "LayoutModel",
       "_view_count": null,
       "_view_module": "@jupyter-widgets/base",
       "_view_module_version": "2.0.0",
       "_view_name": "LayoutView",
       "align_content": null,
       "align_items": null,
       "align_self": null,
       "border_bottom": null,
       "border_left": null,
       "border_right": null,
       "border_top": null,
       "bottom": null,
       "display": null,
       "flex": null,
       "flex_flow": null,
       "grid_area": null,
       "grid_auto_columns": null,
       "grid_auto_flow": null,
       "grid_auto_rows": null,
       "grid_column": null,
       "grid_gap": null,
       "grid_row": null,
       "grid_template_areas": null,
       "grid_template_columns": null,
       "grid_template_rows": null,
       "height": null,
       "justify_content": null,
       "justify_items": null,
       "left": null,
       "margin": null,
       "max_height": null,
       "max_width": null,
       "min_height": null,
       "min_width": null,
       "object_fit": null,
       "object_position": null,
       "order": null,
       "overflow": null,
       "padding": null,
       "right": null,
       "top": null,
       "visibility": null,
       "width": null
      }
     },
     "c8122c29e3c94696902fa1ebd8da9b8d": {
      "model_module": "@jupyter-widgets/base",
      "model_module_version": "2.0.0",
      "model_name": "LayoutModel",
      "state": {
       "_model_module": "@jupyter-widgets/base",
       "_model_module_version": "2.0.0",
       "_model_name": "LayoutModel",
       "_view_count": null,
       "_view_module": "@jupyter-widgets/base",
       "_view_module_version": "2.0.0",
       "_view_name": "LayoutView",
       "align_content": null,
       "align_items": null,
       "align_self": null,
       "border_bottom": null,
       "border_left": null,
       "border_right": null,
       "border_top": null,
       "bottom": null,
       "display": null,
       "flex": null,
       "flex_flow": null,
       "grid_area": null,
       "grid_auto_columns": null,
       "grid_auto_flow": null,
       "grid_auto_rows": null,
       "grid_column": null,
       "grid_gap": null,
       "grid_row": null,
       "grid_template_areas": null,
       "grid_template_columns": null,
       "grid_template_rows": null,
       "height": null,
       "justify_content": null,
       "justify_items": null,
       "left": null,
       "margin": null,
       "max_height": null,
       "max_width": null,
       "min_height": null,
       "min_width": null,
       "object_fit": null,
       "object_position": null,
       "order": null,
       "overflow": null,
       "padding": null,
       "right": null,
       "top": null,
       "visibility": null,
       "width": null
      }
     },
     "c8ea3382db2d42b491621fef2e0ad0f0": {
      "model_module": "@jupyter-widgets/controls",
      "model_module_version": "2.0.0",
      "model_name": "ButtonModel",
      "state": {
       "_dom_classes": [],
       "_model_module": "@jupyter-widgets/controls",
       "_model_module_version": "2.0.0",
       "_model_name": "ButtonModel",
       "_view_count": null,
       "_view_module": "@jupyter-widgets/controls",
       "_view_module_version": "2.0.0",
       "_view_name": "ButtonView",
       "button_style": "",
       "description": "create sub-sample",
       "disabled": false,
       "icon": "",
       "layout": "IPY_MODEL_4a2d5a37cf50470da34a19cdc1a78dff",
       "style": "IPY_MODEL_f98ef48b58bf4282baea37cc7583e0ee",
       "tabbable": null,
       "tooltip": null
      }
     },
     "d07a5ccf98ab4311b8bbb86e200ee413": {
      "model_module": "@jupyter-widgets/controls",
      "model_module_version": "2.0.0",
      "model_name": "IntSliderModel",
      "state": {
       "_dom_classes": [],
       "_model_module": "@jupyter-widgets/controls",
       "_model_module_version": "2.0.0",
       "_model_name": "IntSliderModel",
       "_view_count": null,
       "_view_module": "@jupyter-widgets/controls",
       "_view_module_version": "2.0.0",
       "_view_name": "IntSliderView",
       "behavior": "drag-tap",
       "continuous_update": true,
       "description": "N",
       "description_allow_html": false,
       "disabled": false,
       "layout": "IPY_MODEL_9602f624c3e640abb8a75ddf57223dae",
       "max": 100,
       "min": 1,
       "orientation": "horizontal",
       "readout": true,
       "readout_format": "d",
       "step": 1,
       "style": "IPY_MODEL_f9dd56af8c7c4a6cba0644c890a3702f",
       "tabbable": null,
       "tooltip": null,
       "value": 3
      }
     },
     "d0aad7b1b710476b89bf9482b833f53d": {
      "model_module": "@jupyter-widgets/base",
      "model_module_version": "2.0.0",
      "model_name": "LayoutModel",
      "state": {
       "_model_module": "@jupyter-widgets/base",
       "_model_module_version": "2.0.0",
       "_model_name": "LayoutModel",
       "_view_count": null,
       "_view_module": "@jupyter-widgets/base",
       "_view_module_version": "2.0.0",
       "_view_name": "LayoutView",
       "align_content": null,
       "align_items": null,
       "align_self": null,
       "border_bottom": null,
       "border_left": null,
       "border_right": null,
       "border_top": null,
       "bottom": null,
       "display": null,
       "flex": null,
       "flex_flow": null,
       "grid_area": null,
       "grid_auto_columns": null,
       "grid_auto_flow": null,
       "grid_auto_rows": null,
       "grid_column": null,
       "grid_gap": null,
       "grid_row": null,
       "grid_template_areas": null,
       "grid_template_columns": null,
       "grid_template_rows": null,
       "height": null,
       "justify_content": null,
       "justify_items": null,
       "left": null,
       "margin": null,
       "max_height": null,
       "max_width": null,
       "min_height": null,
       "min_width": null,
       "object_fit": null,
       "object_position": null,
       "order": null,
       "overflow": null,
       "padding": null,
       "right": null,
       "top": null,
       "visibility": null,
       "width": null
      }
     },
     "d0bd1ab6a70b437896a82f7c999dc8c0": {
      "model_module": "@jupyter-widgets/base",
      "model_module_version": "2.0.0",
      "model_name": "LayoutModel",
      "state": {
       "_model_module": "@jupyter-widgets/base",
       "_model_module_version": "2.0.0",
       "_model_name": "LayoutModel",
       "_view_count": null,
       "_view_module": "@jupyter-widgets/base",
       "_view_module_version": "2.0.0",
       "_view_name": "LayoutView",
       "align_content": null,
       "align_items": null,
       "align_self": null,
       "border_bottom": null,
       "border_left": null,
       "border_right": null,
       "border_top": null,
       "bottom": null,
       "display": null,
       "flex": null,
       "flex_flow": null,
       "grid_area": null,
       "grid_auto_columns": null,
       "grid_auto_flow": null,
       "grid_auto_rows": null,
       "grid_column": null,
       "grid_gap": null,
       "grid_row": null,
       "grid_template_areas": null,
       "grid_template_columns": null,
       "grid_template_rows": null,
       "height": null,
       "justify_content": null,
       "justify_items": null,
       "left": null,
       "margin": null,
       "max_height": null,
       "max_width": null,
       "min_height": null,
       "min_width": null,
       "object_fit": null,
       "object_position": null,
       "order": null,
       "overflow": null,
       "padding": null,
       "right": null,
       "top": null,
       "visibility": null,
       "width": null
      }
     },
     "d101d68b1e30434ea0513e05b71a2ce9": {
      "model_module": "@jupyter-widgets/output",
      "model_module_version": "1.0.0",
      "model_name": "OutputModel",
      "state": {
       "_dom_classes": [],
       "_model_module": "@jupyter-widgets/output",
       "_model_module_version": "1.0.0",
       "_model_name": "OutputModel",
       "_view_count": null,
       "_view_module": "@jupyter-widgets/output",
       "_view_module_version": "1.0.0",
       "_view_name": "OutputView",
       "layout": "IPY_MODEL_c5a3ec44ba824674bc8205e29f9ba41e",
       "msg_id": "",
       "outputs": [
        {
         "data": {
          "image/png": "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",
          "text/plain": "<Figure size 640x480 with 1 Axes>"
         },
         "metadata": {},
         "output_type": "display_data"
        }
       ],
       "tabbable": null,
       "tooltip": null
      }
     },
     "d139ce7c49b041e38af49b6d8a899460": {
      "model_module": "@jupyter-widgets/controls",
      "model_module_version": "2.0.0",
      "model_name": "VBoxModel",
      "state": {
       "_dom_classes": [
        "widget-interact"
       ],
       "_model_module": "@jupyter-widgets/controls",
       "_model_module_version": "2.0.0",
       "_model_name": "VBoxModel",
       "_view_count": null,
       "_view_module": "@jupyter-widgets/controls",
       "_view_module_version": "2.0.0",
       "_view_name": "VBoxView",
       "box_style": "",
       "children": [
        "IPY_MODEL_38b084be287747af8fd3a4238eefd927",
        "IPY_MODEL_1ea1d083d91e4e5a859430a739660106",
        "IPY_MODEL_050c24585bf34afba885ccc315e230a3"
       ],
       "layout": "IPY_MODEL_7b407ddd26a3494ea03b476d3d5a716a",
       "tabbable": null,
       "tooltip": null
      }
     },
     "dc46935eda434e90a5aa6289d37ef304": {
      "model_module": "@jupyter-widgets/controls",
      "model_module_version": "2.0.0",
      "model_name": "SliderStyleModel",
      "state": {
       "_model_module": "@jupyter-widgets/controls",
       "_model_module_version": "2.0.0",
       "_model_name": "SliderStyleModel",
       "_view_count": null,
       "_view_module": "@jupyter-widgets/base",
       "_view_module_version": "2.0.0",
       "_view_name": "StyleView",
       "description_width": "",
       "handle_color": null
      }
     },
     "dd6258ecb432404d80359bcbfd6f9363": {
      "model_module": "@jupyter-widgets/controls",
      "model_module_version": "2.0.0",
      "model_name": "SliderStyleModel",
      "state": {
       "_model_module": "@jupyter-widgets/controls",
       "_model_module_version": "2.0.0",
       "_model_name": "SliderStyleModel",
       "_view_count": null,
       "_view_module": "@jupyter-widgets/base",
       "_view_module_version": "2.0.0",
       "_view_name": "StyleView",
       "description_width": "",
       "handle_color": null
      }
     },
     "e0492de619984f9fac811cacedae868a": {
      "model_module": "@jupyter-widgets/base",
      "model_module_version": "2.0.0",
      "model_name": "LayoutModel",
      "state": {
       "_model_module": "@jupyter-widgets/base",
       "_model_module_version": "2.0.0",
       "_model_name": "LayoutModel",
       "_view_count": null,
       "_view_module": "@jupyter-widgets/base",
       "_view_module_version": "2.0.0",
       "_view_name": "LayoutView",
       "align_content": null,
       "align_items": null,
       "align_self": null,
       "border_bottom": null,
       "border_left": null,
       "border_right": null,
       "border_top": null,
       "bottom": null,
       "display": null,
       "flex": null,
       "flex_flow": null,
       "grid_area": null,
       "grid_auto_columns": null,
       "grid_auto_flow": null,
       "grid_auto_rows": null,
       "grid_column": null,
       "grid_gap": null,
       "grid_row": null,
       "grid_template_areas": null,
       "grid_template_columns": null,
       "grid_template_rows": null,
       "height": null,
       "justify_content": null,
       "justify_items": null,
       "left": null,
       "margin": null,
       "max_height": null,
       "max_width": null,
       "min_height": null,
       "min_width": null,
       "object_fit": null,
       "object_position": null,
       "order": null,
       "overflow": null,
       "padding": null,
       "right": null,
       "top": null,
       "visibility": null,
       "width": null
      }
     },
     "e4d9471a759145ab8d7d14fc9b5b7db2": {
      "model_module": "@jupyter-widgets/controls",
      "model_module_version": "2.0.0",
      "model_name": "VBoxModel",
      "state": {
       "_dom_classes": [
        "widget-interact"
       ],
       "_model_module": "@jupyter-widgets/controls",
       "_model_module_version": "2.0.0",
       "_model_name": "VBoxModel",
       "_view_count": null,
       "_view_module": "@jupyter-widgets/controls",
       "_view_module_version": "2.0.0",
       "_view_name": "VBoxView",
       "box_style": "",
       "children": [
        "IPY_MODEL_4c3d219482204a409c3f204b731a32fd",
        "IPY_MODEL_c8ea3382db2d42b491621fef2e0ad0f0",
        "IPY_MODEL_b5da52dde09e48b19ebeaa4b23a0a349"
       ],
       "layout": "IPY_MODEL_d0aad7b1b710476b89bf9482b833f53d",
       "tabbable": null,
       "tooltip": null
      }
     },
     "f263444696a048f29bad29c7b14dd5b2": {
      "model_module": "@jupyter-widgets/base",
      "model_module_version": "2.0.0",
      "model_name": "LayoutModel",
      "state": {
       "_model_module": "@jupyter-widgets/base",
       "_model_module_version": "2.0.0",
       "_model_name": "LayoutModel",
       "_view_count": null,
       "_view_module": "@jupyter-widgets/base",
       "_view_module_version": "2.0.0",
       "_view_name": "LayoutView",
       "align_content": null,
       "align_items": null,
       "align_self": null,
       "border_bottom": null,
       "border_left": null,
       "border_right": null,
       "border_top": null,
       "bottom": null,
       "display": null,
       "flex": null,
       "flex_flow": null,
       "grid_area": null,
       "grid_auto_columns": null,
       "grid_auto_flow": null,
       "grid_auto_rows": null,
       "grid_column": null,
       "grid_gap": null,
       "grid_row": null,
       "grid_template_areas": null,
       "grid_template_columns": null,
       "grid_template_rows": null,
       "height": null,
       "justify_content": null,
       "justify_items": null,
       "left": null,
       "margin": null,
       "max_height": null,
       "max_width": null,
       "min_height": null,
       "min_width": null,
       "object_fit": null,
       "object_position": null,
       "order": null,
       "overflow": null,
       "padding": null,
       "right": null,
       "top": null,
       "visibility": null,
       "width": null
      }
     },
     "f5d6f408875843769df014970a82e8b0": {
      "model_module": "@jupyter-widgets/controls",
      "model_module_version": "2.0.0",
      "model_name": "DescriptionStyleModel",
      "state": {
       "_model_module": "@jupyter-widgets/controls",
       "_model_module_version": "2.0.0",
       "_model_name": "DescriptionStyleModel",
       "_view_count": null,
       "_view_module": "@jupyter-widgets/base",
       "_view_module_version": "2.0.0",
       "_view_name": "StyleView",
       "description_width": ""
      }
     },
     "f98ef48b58bf4282baea37cc7583e0ee": {
      "model_module": "@jupyter-widgets/controls",
      "model_module_version": "2.0.0",
      "model_name": "ButtonStyleModel",
      "state": {
       "_model_module": "@jupyter-widgets/controls",
       "_model_module_version": "2.0.0",
       "_model_name": "ButtonStyleModel",
       "_view_count": null,
       "_view_module": "@jupyter-widgets/base",
       "_view_module_version": "2.0.0",
       "_view_name": "StyleView",
       "button_color": null,
       "font_family": null,
       "font_size": null,
       "font_style": null,
       "font_variant": null,
       "font_weight": null,
       "text_color": null,
       "text_decoration": null
      }
     },
     "f9dd56af8c7c4a6cba0644c890a3702f": {
      "model_module": "@jupyter-widgets/controls",
      "model_module_version": "2.0.0",
      "model_name": "SliderStyleModel",
      "state": {
       "_model_module": "@jupyter-widgets/controls",
       "_model_module_version": "2.0.0",
       "_model_name": "SliderStyleModel",
       "_view_count": null,
       "_view_module": "@jupyter-widgets/base",
       "_view_module_version": "2.0.0",
       "_view_name": "StyleView",
       "description_width": "",
       "handle_color": null
      }
     },
     "fcbf6342857341b2bcc05a3b61d01db9": {
      "model_module": "@jupyter-widgets/controls",
      "model_module_version": "2.0.0",
      "model_name": "SliderStyleModel",
      "state": {
       "_model_module": "@jupyter-widgets/controls",
       "_model_module_version": "2.0.0",
       "_model_name": "SliderStyleModel",
       "_view_count": null,
       "_view_module": "@jupyter-widgets/base",
       "_view_module_version": "2.0.0",
       "_view_name": "StyleView",
       "description_width": "",
       "handle_color": null
      }
     }
    },
    "version_major": 2,
    "version_minor": 0
   }
  }
 },
 "nbformat": 4,
 "nbformat_minor": 4
}