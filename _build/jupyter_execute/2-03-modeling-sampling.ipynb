{
 "cells": [
  {
   "cell_type": "markdown",
   "metadata": {
    "editable": true,
    "slideshow": {
     "slide_type": ""
    },
    "tags": []
   },
   "source": [
    "# Modeling, sampling, confidence intervals\n",
    "\n",
    "## Recommended reading\n",
    "\n",
    "* http://statsthinking21.org/index.html\n",
    "Chapters 7,8\n",
    "\n",
    "* Glover, Jenkins and Doney: Section 2.7 - The central limit theorem\n",
    "\n",
    "* Emery and Thomson: Confidence intervals, 3.8.1, 3.8.2 – Confidence interval for mean"
   ]
  },
  {
   "cell_type": "markdown",
   "metadata": {},
   "source": [
    "## Probability Density Function (PDF) review with example data set\n",
    "\n",
    "### Probability density function\n",
    "\n",
    "$N$ = 10623 anchovy weight samples\n",
    "\n",
    "$\\Delta x$ = 5 g\n",
    "\n",
    "**Review**: How to calculate PDF from counts, N and $\\Delta x$?\n",
    "\n",
    "* With the histogram we have the following information: counts, bin width ( $\\Delta x$ = 5g), $N$ (samples).  \n",
    "\n",
    "PDF = fraction/$\\Delta x$  = counts/($N \\Delta x$)\n",
    "\n",
    "![Trawl_Life_Hist_Samp_Data](images/Trawl_Life_Hist_Samp_Data.png) \n",
    "\n",
    "### NOAA SWFSC - Trawl Life History Specimen Data \n",
    "\n",
    "fishery independent trawl surveys of coastal pelagic species\n",
    "\n",
    "Surveys: 2003-2019"
   ]
  },
  {
   "cell_type": "code",
   "execution_count": 1,
   "metadata": {
    "tags": [
     "remove-input"
    ]
   },
   "outputs": [],
   "source": [
    "import numpy as np\n",
    "import matplotlib.pyplot as plt\n",
    "import netCDF4 as nc4\n",
    "from ipywidgets import interact, interactive, fixed, interact_manual, IntSlider\n",
    "import ipywidgets as widgets\n",
    "from scipy.stats import norm, mode\n",
    "from scipy import stats\n",
    "\n",
    "species_name = 'Engraulis mordax'\n",
    "file_name = 'data/trawl_swfsc/FRDCPSTrawlLHSpecimen_8b4e_b841_9c81.nc'\n",
    "\n",
    "def read_trawl_data_file(species_name, file_name):\n",
    "    \n",
    "    # open the netcdf file and read in the weight and length data\n",
    "    ds = nc4.Dataset(file_name)\n",
    "    name = ds.variables['scientific_name'][:]\n",
    "    weight = ds.variables['weight'][:]\n",
    "    length = ds.variables['standard_length'][:]\n",
    "    ds.close()\n",
    "    \n",
    "    # subset to the particular species and remove the nan values\n",
    "    indices = np.logical_and(name==species_name, length<4000)\n",
    "    indices = np.logical_and(indices,~np.isnan(weight))\n",
    "    weight = weight[indices]\n",
    "    length = length[indices]\n",
    "    \n",
    "    return(weight,length)\n",
    "\n",
    "def plot_weight_histogram(species_name, normalize_pdf = True, remove_mean = False):\n",
    "    \n",
    "    #species_name = 'Engraulis mordax'\n",
    "\n",
    "    # read in the weight data using \n",
    "    weight, _ = read_trawl_data_file(species_name, file_name)\n",
    "    \n",
    "    fig = plt.figure()\n",
    "    \n",
    "    bins = np.arange(0,65,5)\n",
    "\n",
    "    if remove_mean == True:\n",
    "        weight = weight - np.mean(weight)\n",
    "        bins = bins - np.mean(weight)\n",
    "\n",
    "    if normalize_pdf:\n",
    "        plt.hist(weight, density=True, bins=bins)\n",
    "        plt.ylabel('PDF')\n",
    "    else:\n",
    "        plt.hist(weight, density=False, bins=bins)\n",
    "        plt.ylabel('counts')\n",
    "        \n",
    "    plt.title(species_name+', $\\mu$ = '+'{:.2f}'.format(np.mean(weight))\n",
    "              +', $\\sigma$ = '+'{:.2f}'.format(np.std(weight))\n",
    "              +', N = '+str(len(weight)))\n",
    "    plt.xlabel('weight [g]');\n",
    "    \n",
    "\n",
    "def subsample_weights(weights, N, seed=None):\n",
    "    np.random.seed(seed)\n",
    "    indices = np.random.randint(0, np.size(weights), N)\n",
    "    subsample = weights[indices]\n",
    "    return(subsample)\n",
    "\n",
    "def plot_subsampled_weight_histogram(species_name, N=100):\n",
    "    \n",
    "    #species_name = 'Engraulis mordax'\n",
    "\n",
    "    # read in the weight data using \n",
    "    weight, _ = read_trawl_data_file(species_name, file_name)\n",
    "    \n",
    "    subsampled_weights = subsample_weights(weight, N)\n",
    "    \n",
    "    fig = plt.figure()\n",
    "    plt.hist(subsampled_weights,density=True, bins=np.arange(0,60,5))\n",
    "    plt.title(species_name+', $\\\\bar{x}$ = '+'{:.2f}'.format(np.mean(subsampled_weights))\n",
    "              +', s = '+'{:.2f}'.format(np.std(subsampled_weights))\n",
    "              +', N = '+str(len(subsampled_weights)))\n",
    "    plt.xlabel('weight [g]')\n",
    "    plt.ylabel('PDF');\n",
    "\n",
    "def plot_length_vs_weight_data_with_fit(species_name, N):\n",
    "    \n",
    "    #species_name = 'Engraulis mordax'\n",
    "    #species_name = 'Icichthys lockingtoni'\n",
    "\n",
    "    # read in the weight data using \n",
    "    weight, length = read_trawl_data_file(species_name, file_name)\n",
    "    \n",
    "    z = np.polyfit(length,weight,N)\n",
    "    p = np.poly1d(z)\n",
    "    \n",
    "    x = np.arange(np.min(length),np.max(length)+1)\n",
    "    RMSE = np.sqrt(np.mean((weight-p(length))**2))\n",
    "    \n",
    "    fig = plt.figure()\n",
    "    plt.plot(length,weight,'.')\n",
    "    plt.plot(x,p(x),'-',linewidth=2)\n",
    "    \n",
    "    if species_name == 'Engraulis mordax':\n",
    "        plt.xlim([15,190])\n",
    "        plt.ylim([-20,70])\n",
    "        \n",
    "    plt.xlabel('standard length (mm)')\n",
    "    plt.ylabel('weight [g]')\n",
    "    plt.grid(alpha=0.4,linestyle='--',linewidth='0.8')\n",
    "    plt.title('Model fit with '+str(N)+' polynomial term(s), RMSE = '+'{:.2f}'.format(RMSE)+' g');\n",
    "    \n",
    "\n",
    "def plot_distribution_of_subsampled_weight_means(species_name, N, n_subsamples):\n",
    "\n",
    "    # read in the weight data using \n",
    "    weight, _ = read_trawl_data_file(species_name, file_name)\n",
    "    \n",
    "    sample_means = []\n",
    "    for n in range(n_subsamples):\n",
    "        subsampled_weights = subsample_weights(weight, N)\n",
    "        sample_means.append(np.mean(subsampled_weights))\n",
    "    \n",
    "    fig = plt.figure(figsize = (8, 5))\n",
    "    \n",
    "    plt.subplot(1,2,1)\n",
    "    plt.hist(sample_means, density=True, bins=np.arange(0,60,0.5))\n",
    "    plt.title('a) Distribution\\n of means ($\\\\bar{x}$)')\n",
    "    x = np.arange(0,60,0.1)\n",
    "    plt.plot(x, norm.pdf(x, np.mean(weight), np.std(weight)/np.sqrt(N)))\n",
    "    plt.ylabel('PDF')\n",
    "    plt.gca().set_ylim([0,0.5])\n",
    "    plt.xlabel('weight [g]')\n",
    "    yl = plt.ylim()\n",
    "    \n",
    "    plt.text(25,0.8*np.diff(yl), '$\\mu $ = '+'{:.3f}'.format(np.mean(weight)))\n",
    "    plt.text(25,0.74*np.diff(yl), '$\\sigma/\\sqrt{N} $ = '+'{:.3f}'.format(np.std(weight)/np.sqrt(N)))\n",
    "    plt.text(25,0.5*np.diff(yl), 'Mean of $\\\\bar{x}$\\n = '+'{:.3f}'.format(np.mean(sample_means)))\n",
    "    plt.text(25,0.36*np.diff(yl), 'Std. Dev. of\\n $\\\\bar{x}$ = '+'{:.3f}'.format(np.std(sample_means)))\n",
    "    \n",
    "    plt.subplot(1,2,2)\n",
    "    plt.title('b) Same as a), but zoomed in')\n",
    "    x = np.arange(10,20.1,0.1)\n",
    "    plt.hist(sample_means, density=True, bins=np.arange(0,60,0.5))\n",
    "    plt.plot(x, norm.pdf(x, np.mean(weight), np.std(weight)/np.sqrt(N)))\n",
    "    plt.xlabel('weight [g]')\n",
    "    plt.gca().set_ylim([0, 0.5])\n",
    "    plt.gca().set_xlim([10, 20]);\n"
   ]
  },
  {
   "cell_type": "markdown",
   "metadata": {},
   "source": [
    "### Subsampled data set\n",
    "\n",
    "If we think of the above PDF as repesenting the total poulation of *Engraulis mordax* in the whole ocean, then you can think of the subsample as a result you might get if you just went out and trawled for one day.\n",
    "\n",
    "Click the button to generate a random set of $N$ subsamples from the larger dataset."
   ]
  },
  {
   "cell_type": "code",
   "execution_count": 2,
   "metadata": {
    "tags": [
     "remove-input"
    ]
   },
   "outputs": [
    {
     "data": {
      "application/vnd.jupyter.widget-view+json": {
       "model_id": "e47d43ce7ad34d30b52032e21327a2f6",
       "version_major": 2,
       "version_minor": 0
      },
      "text/plain": [
       "interactive(children=(IntSlider(value=100, description='N', max=1000, min=10, step=10), Button(description='cr…"
      ]
     },
     "metadata": {},
     "output_type": "display_data"
    },
    {
     "data": {
      "text/plain": [
       "<function __main__.plot_subsampled_weight_histogram(species_name, N=100)>"
      ]
     },
     "metadata": {},
     "output_type": "display_data"
    }
   ],
   "source": [
    "my_interact_manual = interact_manual.options(manual_name=\"create sub-sample\")\n",
    "\n",
    "im = my_interact_manual(plot_subsampled_weight_histogram, \n",
    "            species_name = fixed(species_name),\n",
    "            N=IntSlider(min=10, max=1000, step=10, value=100),\n",
    "            seed=None);\n",
    "\n",
    "display(im);\n"
   ]
  },
  {
   "cell_type": "markdown",
   "metadata": {},
   "source": [
    "\n",
    "$N$ = 100 anchovy weight samples\n",
    "\n",
    "What are the key differences, similarities of this distribution, compared with all 10623 samples?\n",
    "\n",
    "- *differences*: a pdf of smaller sample sizes are noiser, less smooth.  May see more variability from one bin to the next.\n",
    "\n",
    "- *similarities*: theoretical distribution resembles poisson distribution (skewed data set with a longer tail), scale of y-axis (normalized by the bin width so magnitudes of different data sets are comparable)"
   ]
  },
  {
   "cell_type": "markdown",
   "metadata": {},
   "source": [
    "### Statistical modeling\n",
    "#### What is a model? \n",
    "\n",
    "Physical models (e.g., of a building, of Monterey Bay, of a cell or a molecule) represent something on a different scale to make it easier to understand. They convey the essence of something without having to worry about all the details. A statistical model is same basic idea as a physical model, we want to convey the essence of the dataset without having to use an entire dataset\n",
    "\n",
    "#### Basic structure of a statistical model\n",
    "\n",
    "A statistical model is based off data. Error is an inherent part of of any model prediction. One of the key goals in evaluating a model is to quantify that error. \n",
    "\n",
    "data = model + error\n",
    "\n",
    "$x_i = \\hat{x}_i + \\epsilon_i$\n",
    "\n",
    "where $x_i$ is one data point, $\\hat{x}_i$ is the corresponding model predition, and $\\epsilon_i$ is the difference between them."
   ]
  },
  {
   "cell_type": "markdown",
   "metadata": {},
   "source": [
    "### Example data set: simplest model\n",
    "\n",
    "#### The simplest possible model is a single value \n",
    "* Mode = 5 g\n",
    "\n",
    "* Mean = 15.326 g\n",
    "\n",
    "* Median = 14 g\n",
    "\n",
    "In this case the mean is much bigger than the mode is about 15 grams (data is skewed).  A median describes the central value, or 50th percentile in the data set.\n",
    "\n",
    "If we use the mode as the model, we can write it as:\n",
    "$\\hat{weight_i}$ = 5 g\n",
    "\n",
    "The $\\hat{}$ denotes a value predicted by the model\n",
    "\n",
    "The subscript $_i$ denotes one data point with the model value, a generic observation.  For example, if we specify  $i=1$, it could mean the first row in a spreadsheet.\n",
    "\n",
    "We can describe the error based on the model structure:\n",
    "$error_i = weight_i - \\hat{weight_i}$\n",
    "\n",
    "where $weight_i$ is an observation, or data point, and $\\hat{weight_i}$ is the corresponding model prediction. Each observation has a model prediction and an error associated with it. \n",
    "\n",
    "In the example, if we have 10623 data points, then a model will have 10263 errors."
   ]
  },
  {
   "cell_type": "markdown",
   "metadata": {},
   "source": [
    "### Example data set: mode as a model"
   ]
  },
  {
   "cell_type": "code",
   "execution_count": 3,
   "metadata": {
    "tags": [
     "remove-input"
    ]
   },
   "outputs": [
    {
     "data": {
      "text/plain": [
       "<Figure size 640x480 with 0 Axes>"
      ]
     },
     "metadata": {},
     "output_type": "display_data"
    },
    {
     "data": {
      "image/png": "[encoded data removed]",
      "text/plain": [
       "<Figure size 640x480 with 1 Axes>"
      ]
     },
     "metadata": {},
     "output_type": "display_data"
    }
   ],
   "source": [
    "weight,length = read_trawl_data_file(species_name, file_name)\n",
    "\n",
    "plt.figure()\n",
    "plot_weight_histogram(species_name, normalize_pdf = True)\n",
    "xl = plt.xlim()\n",
    "yl = plt.ylim()\n",
    "plt.plot([mode(weight)[0], mode(weight)[0]],[yl[0], yl[1]], 'r--', lw=2)\n",
    "plt.xlim(xl)\n",
    "plt.ylim(yl);"
   ]
  },
  {
   "cell_type": "markdown",
   "metadata": {},
   "source": [
    "With this model, each model prediction has a constant value of 5 g, that is,\n",
    "\n",
    "$\\hat{x}_i$ = 5 g.\n",
    "\n",
    "The average error, $\\bar{\\epsilon_i} = \\overline{(x_i - \\hat{x}_i)}$, when using mode as model is 10.326 g. In other words the positive errors dominate the average error.\n",
    "\n",
    "If we use the mean as a model, would you expect the average error increase or decrease?"
   ]
  },
  {
   "cell_type": "markdown",
   "metadata": {},
   "source": [
    "### Example data set: mean as a model"
   ]
  },
  {
   "cell_type": "code",
   "execution_count": 4,
   "metadata": {
    "tags": [
     "remove-input"
    ]
   },
   "outputs": [
    {
     "data": {
      "text/plain": [
       "<Figure size 640x480 with 0 Axes>"
      ]
     },
     "metadata": {},
     "output_type": "display_data"
    },
    {
     "data": {
      "image/png": "[encoded data removed]",
      "text/plain": [
       "<Figure size 640x480 with 1 Axes>"
      ]
     },
     "metadata": {},
     "output_type": "display_data"
    }
   ],
   "source": [
    "plt.figure()\n",
    "plot_weight_histogram(species_name, normalize_pdf = True)\n",
    "xl = plt.xlim()\n",
    "yl = plt.ylim()\n",
    "plt.plot([np.mean(weight), np.mean(weight)],[yl[0], yl[1]], 'r--', lw=2)\n",
    "plt.xlim(xl)\n",
    "plt.ylim(yl);"
   ]
  },
  {
   "cell_type": "markdown",
   "metadata": {},
   "source": [
    "\n",
    "\n",
    "If we use the mean as a model, $\\hat{x_i} = \\bar{x_i}$ \n",
    "\n",
    "The average error when using mean as a model is 0.0g.  In this case, the negative errors cancel out the positive errors. In this case, the mean error does not do a good job of describing the distribution of errors. In fact, this metric is a measure of bias but does not say anything about the random errors (precision) of the model.\n",
    "\n",
    "#### What other metrics can we use to quantify model error?\n",
    "\n",
    "Some ways of quantifying the error:\n",
    "\n",
    "We can describe the mean error (average error) as:\n",
    "\n",
    "$ME = \\frac{1}{N} \\sum_{i=1}^N (x_i - \\hat{x_i})$\n",
    "\n",
    "If our model ($\\hat{x_i}$) is the mean of the dataset ($\\bar{x_i}$), then the ME = 0 and the model is *unbiased*.\n",
    "\n",
    "\n",
    "#### Sum of Squared Errors\n",
    "\n",
    "$SSE = \\sum_{i=1}^N (x_i - \\hat{x_i})^2$\n",
    "\n",
    "(This treats the positive and negative values equally)\n",
    "\n",
    "#### Mean Squared Error\n",
    "\n",
    "$MSE = \\frac{1}{N} SSE$\n",
    "\n",
    "#### Root Mean Square Error \n",
    "\n",
    "$RMSE = \\sqrt{MSE}$\n",
    "\n",
    "The units for RMSE will make it easier to understand the error mismatch. This is a summary of all the errors in the dataset by penalizing all errors in the dataset equally. For our two models examined so far, where the model is only a constant value, the RMSE can by summarized as:\n",
    "\n",
    "* RMSE(mean) = 9.71 grams \n",
    "* RMSE(mode) = 14.18 grams"
   ]
  },
  {
   "cell_type": "markdown",
   "metadata": {},
   "source": [
    "### The mean is the single value that minimizes RMSE "
   ]
  },
  {
   "cell_type": "code",
   "execution_count": 5,
   "metadata": {
    "tags": [
     "remove-input"
    ]
   },
   "outputs": [
    {
     "data": {
      "image/png": "[encoded data removed]",
      "text/plain": [
       "<Figure size 640x480 with 1 Axes>"
      ]
     },
     "metadata": {},
     "output_type": "display_data"
    }
   ],
   "source": [
    "xmod = np.arange(0,31,0.1)\n",
    "xsae = np.nan*np.zeros(len(xmod))\n",
    "\n",
    "for i,xmodi in enumerate(xmod):\n",
    "    xsae[i] = np.sqrt(np.mean((weight-xmodi)**2))\n",
    "    \n",
    "plt.figure()\n",
    "plt.plot(xmod,xsae)\n",
    "plt.xlabel('$\\hat{weight}$ [g]')\n",
    "plt.ylabel('RMSE [g]')\n",
    "\n",
    "xl = plt.xlim()\n",
    "yl = plt.ylim()\n",
    "plt.plot([np.mean(weight), np.mean(weight)],[yl[0], yl[1]], 'r--', lw=2)\n",
    "plt.xlim(xl)\n",
    "plt.ylim(yl);"
   ]
  },
  {
   "cell_type": "markdown",
   "metadata": {},
   "source": [
    "* This plot is showing the RMSE as a function of the model value. \n",
    "\n",
    "* This plot is an example of what is called a *cost function*. We have a model parameter on the x-axis and an error, or \"cost\" on the y-axis.  In modeling we are often interested in the parameter that minimizes the cost function.\n",
    "\n",
    "* The vertical dashed line shows the mean value. Out of all possible models defined by a single parameter, the mean is the one the minimizes the RMSE and would be considered most optimal."
   ]
  },
  {
   "cell_type": "markdown",
   "metadata": {},
   "source": [
    "### A simple model with two parameters: linear model \n",
    "\n",
    "Let's say that we want to model fish weight as a function of length for this species. This might be useful in a case where length estimates are common, but weight estimates are more labor-inetensive. Or maybe there is interest in comparine length-weight relationships for different species."
   ]
  },
  {
   "cell_type": "code",
   "execution_count": 6,
   "metadata": {
    "tags": [
     "hide-input"
    ]
   },
   "outputs": [
    {
     "name": "stderr",
     "output_type": "stream",
     "text": [
      "/var/folders/z7/lmyk7sz94177j166ck0x63h80000gr/T/ipykernel_47250/744610339.py:17: FutureWarning: Series.__getitem__ treating keys as positions is deprecated. In a future version, integer keys will always be treated as labels (consistent with DataFrame behavior). To access a value by position, use `ser.iloc[pos]`\n",
      "  err = dfsub['weight']-(results.params[0]+results.params[1]*dfsub['standard_length'])\n",
      "/var/folders/z7/lmyk7sz94177j166ck0x63h80000gr/T/ipykernel_47250/744610339.py:24: FutureWarning: Series.__getitem__ treating keys as positions is deprecated. In a future version, integer keys will always be treated as labels (consistent with DataFrame behavior). To access a value by position, use `ser.iloc[pos]`\n",
      "  results.params[0]+results.params[1]*dfsub['standard_length'],\n"
     ]
    },
    {
     "data": {
      "image/png": "[encoded data removed]",
      "text/plain": [
       "<Figure size 640x480 with 1 Axes>"
      ]
     },
     "metadata": {},
     "output_type": "display_data"
    }
   ],
   "source": [
    "import xarray as xr\n",
    "import pandas as pd\n",
    "import statsmodels.api as sm\n",
    "import statsmodels.formula.api as smf\n",
    "import matplotlib.pyplot as plt\n",
    "\n",
    "# load dataset and convert to Pandas dataframe\n",
    "ds = xr.open_dataset('data/trawl_swfsc/FRDCPSTrawlLHSpecimen_8b4e_b841_9c81.nc')\n",
    "df = ds.to_dataframe()\n",
    "dfsub = df.loc[(df['scientific_name'] == 'Engraulis mordax') & \n",
    "               (ds['standard_length'].values < 1e8)]\n",
    "\n",
    "# linear fit with statsmodels package\n",
    "results = smf.ols('weight ~ 1 + standard_length', dfsub).fit()\n",
    "\n",
    "# RMSE\n",
    "err = dfsub['weight']-(results.params[0]+results.params[1]*dfsub['standard_length'])\n",
    "rmse = np.sqrt(np.mean(err**2))\n",
    "\n",
    "# plot linear model\n",
    "plt.figure()\n",
    "plt.plot(dfsub['standard_length'],dfsub['weight'],'.')\n",
    "plt.plot(dfsub['standard_length'],\n",
    "         results.params[0]+results.params[1]*dfsub['standard_length'],\n",
    "         '-')\n",
    "plt.xlabel('standard length [mm]')\n",
    "plt.ylabel('weight [g]')\n",
    "plt.title('Engraulis mordax, RMSE = '+str(np.round(rmse,2))+ ' g');"
   ]
  },
  {
   "cell_type": "markdown",
   "metadata": {},
   "source": [
    "The linear model has RMSE = 3.57 g\n",
    "\n",
    "Looking at the data, it looks like a linear model only works for part of the data. It tends to be biased low at the smallest and largest length values.  If we were going to use this linear model, our equation would be: \n",
    "\n",
    "$\\hat{weight_i} =  constant + a * length_i$\n",
    "\n",
    "The $\\hat{}$ symbol indicates $\\hat{weight_i}$ is a model\n",
    "\n",
    "Here the $constant$ is the intercept and $a$ is the slope.\n",
    "\n",
    "The intercept and slope are the model parameters. You can think of the error $\\epsilon_i$ for each data point as being the vertical distance between the data point and the model, $x_i - \\hat{x}_i$."
   ]
  },
  {
   "cell_type": "markdown",
   "metadata": {},
   "source": [
    "### Example data set: quadratic model "
   ]
  },
  {
   "cell_type": "code",
   "execution_count": 7,
   "metadata": {
    "tags": [
     "hide-input"
    ]
   },
   "outputs": [
    {
     "name": "stderr",
     "output_type": "stream",
     "text": [
      "/var/folders/z7/lmyk7sz94177j166ck0x63h80000gr/T/ipykernel_47250/2931778582.py:3: FutureWarning: Series.__getitem__ treating keys as positions is deprecated. In a future version, integer keys will always be treated as labels (consistent with DataFrame behavior). To access a value by position, use `ser.iloc[pos]`\n",
      "  errq = dfsub['weight']-(resultsq.params[0]+\n",
      "/var/folders/z7/lmyk7sz94177j166ck0x63h80000gr/T/ipykernel_47250/2931778582.py:4: FutureWarning: Series.__getitem__ treating keys as positions is deprecated. In a future version, integer keys will always be treated as labels (consistent with DataFrame behavior). To access a value by position, use `ser.iloc[pos]`\n",
      "  resultsq.params[1]*dfsub['standard_length']+\n",
      "/var/folders/z7/lmyk7sz94177j166ck0x63h80000gr/T/ipykernel_47250/2931778582.py:5: FutureWarning: Series.__getitem__ treating keys as positions is deprecated. In a future version, integer keys will always be treated as labels (consistent with DataFrame behavior). To access a value by position, use `ser.iloc[pos]`\n",
      "  resultsq.params[2]*dfsub['standard_length']**2)\n",
      "/var/folders/z7/lmyk7sz94177j166ck0x63h80000gr/T/ipykernel_47250/2931778582.py:11: FutureWarning: Series.__getitem__ treating keys as positions is deprecated. In a future version, integer keys will always be treated as labels (consistent with DataFrame behavior). To access a value by position, use `ser.iloc[pos]`\n",
      "  resultsq.params[0]+\n",
      "/var/folders/z7/lmyk7sz94177j166ck0x63h80000gr/T/ipykernel_47250/2931778582.py:12: FutureWarning: Series.__getitem__ treating keys as positions is deprecated. In a future version, integer keys will always be treated as labels (consistent with DataFrame behavior). To access a value by position, use `ser.iloc[pos]`\n",
      "  resultsq.params[1]*dfsub['standard_length']+\n",
      "/var/folders/z7/lmyk7sz94177j166ck0x63h80000gr/T/ipykernel_47250/2931778582.py:13: FutureWarning: Series.__getitem__ treating keys as positions is deprecated. In a future version, integer keys will always be treated as labels (consistent with DataFrame behavior). To access a value by position, use `ser.iloc[pos]`\n",
      "  resultsq.params[2]*dfsub['standard_length']**2,\n"
     ]
    },
    {
     "data": {
      "image/png": "[encoded data removed]",
      "text/plain": [
       "<Figure size 640x480 with 1 Axes>"
      ]
     },
     "metadata": {},
     "output_type": "display_data"
    }
   ],
   "source": [
    "resultsq = smf.ols('weight ~ 1 + standard_length + I(standard_length**2)', dfsub).fit()\n",
    "\n",
    "errq = dfsub['weight']-(resultsq.params[0]+\n",
    "         resultsq.params[1]*dfsub['standard_length']+\n",
    "         resultsq.params[2]*dfsub['standard_length']**2)\n",
    "rmseq = np.sqrt(np.mean(errq**2))\n",
    "\n",
    "plt.figure()\n",
    "plt.plot(dfsub['standard_length'],dfsub['weight'],'.')\n",
    "plt.plot(dfsub['standard_length'],\n",
    "         resultsq.params[0]+\n",
    "         resultsq.params[1]*dfsub['standard_length']+\n",
    "         resultsq.params[2]*dfsub['standard_length']**2,\n",
    "         '.')\n",
    "plt.xlabel('standard length [mm]')\n",
    "plt.ylabel('weight [g]')\n",
    "plt.title('Engraulis mordax, RMSE = '+str(np.round(rmseq,2))+ ' g');"
   ]
  },
  {
   "cell_type": "markdown",
   "metadata": {},
   "source": [
    "The quadratic model has RMSE = 2.11 g. \n",
    "\n",
    "$\\hat{weight_i} =  constant + a * length_i + b * length_i^2$\n",
    "\n",
    "The constant, a, and b are model parameters that describe the structure or the shape of the model. We can find the model that minimizes the RMSE.  This looks like it is doing better than a linear model, but the model indicates that their weight decreases as they get bigger for smaller fish.  It still has some systematic errors where there is some bias."
   ]
  },
  {
   "cell_type": "markdown",
   "metadata": {},
   "source": [
    "### Example data set: data transformation"
   ]
  },
  {
   "cell_type": "code",
   "execution_count": 8,
   "metadata": {
    "tags": [
     "hide-input"
    ]
   },
   "outputs": [
    {
     "data": {
      "image/png": "[encoded data removed]",
      "text/plain": [
       "<Figure size 640x480 with 1 Axes>"
      ]
     },
     "metadata": {},
     "output_type": "display_data"
    }
   ],
   "source": [
    "plt.figure()\n",
    "plt.plot(np.log(dfsub['standard_length']),\n",
    "         np.log(dfsub['weight']),'.')\n",
    "plt.xlabel('ln(standard length [mm])')\n",
    "plt.ylabel('ln(weight [g])')\n",
    "plt.title('Engraulis mordax');"
   ]
  },
  {
   "cell_type": "markdown",
   "metadata": {},
   "source": [
    "This is the same data transformed to a logarithmic scale, and now it appears that a linear model may be appropriate.  Now, we are not minimizing the RMSE, you are minimizing the logarthmic RMSE.\n",
    "\n",
    "#### What makes a model good?\n",
    "\n",
    "- good fit\n",
    "- minimizes error\n",
    "- represents actual scenario of the data \n",
    "- is not overcomplicated"
   ]
  },
  {
   "cell_type": "markdown",
   "metadata": {},
   "source": [
    "### Modeling another species - Overfitting\n",
    "\n",
    "Overfitting occurs when a model is overcomplicated and not representative of the actual scenario. If we add more parameters by adding more terms to the polynomial model equation, we may get an unrealistic model with a low RMSE. Symptoms of overfitting include large swings in model curves where no data points exist.\n",
    "\n",
    "If another datapoint is added without readjusting the model (for example, if a *Icichthys lockingtoni* specimen with 150 mm length were caught), the RMSE will likely be large.  \n",
    "\n",
    "Datasets with large sample sizes are still prone to overfitting. Even with many data points, a model for *Engraulis mordax* with many coefficients is overly sensitive to the extreme data values. "
   ]
  },
  {
   "cell_type": "code",
   "execution_count": 9,
   "metadata": {
    "tags": [
     "hide-input"
    ]
   },
   "outputs": [
    {
     "data": {
      "application/vnd.jupyter.widget-view+json": {
       "model_id": "7fa11f9e2fb042dcbba5e88bce30b16a",
       "version_major": 2,
       "version_minor": 0
      },
      "text/plain": [
       "interactive(children=(Dropdown(description='species_name', options=('Icichthys lockingtoni', 'Engraulis mordax…"
      ]
     },
     "metadata": {},
     "output_type": "display_data"
    }
   ],
   "source": [
    "interact(plot_length_vs_weight_data_with_fit,\n",
    "        species_name = ['Icichthys lockingtoni', 'Engraulis mordax'],\n",
    "         N=widgets.IntSlider(min=0, max=10, step=1, value=7));"
   ]
  },
  {
   "cell_type": "markdown",
   "metadata": {},
   "source": [
    "### Sampling\n",
    "* *Statistical inference*: One of the foundational ideas in statistics is that we can make inferences about an entire population based on a relatively small sample of individuals from that population.\n",
    "\n",
    "* *Goal of sampling*: determine the value of a statistic for an entire population of interest, using just a small subset of the population.\n",
    "\n",
    "The way in which we select the sample is critical to ensuring that the sample is representative of the entire population.\n",
    "\n",
    "Adapted from: http://statsthinking21.org/sampling.html"
   ]
  },
  {
   "cell_type": "markdown",
   "metadata": {},
   "source": [
    "### Back to the anchovy data example: distribution of means\n",
    "\n",
    "![trawl_pdf_mean_dist](images/trawl_pdf_mean_dist.png)\n",
    "\n",
    "**Blue bars**: distribution of 1000 different sample means ($\\bar{x}$), with N = 100 samples each \n",
    "\n",
    "Mean of $\\bar{x}$ = 15.346 g\n",
    "Std. dev. of $\\bar{x}$ = 0.933 g\n",
    "\n",
    "**Orange curve**: normal distribution \n",
    "  \n",
    "$\\mu$ = 15.327 g (mean of full data set)\n",
    "\n",
    "$\\frac{\\sigma}{\\sqrt{N}}$ = 0.971 g (std. dev. of full data set / √100)\n",
    "      \n",
    "      "
   ]
  },
  {
   "cell_type": "markdown",
   "metadata": {},
   "source": [
    "### Anchovy data: distribution of means (zoomed in)\n",
    "\n",
    "![images/trawl_pdf_mean_dist_zoomed.png](images/trawl_pdf_mean_dist_zoomed.png)\n",
    "\n",
    "\n",
    "#### Blue bars: distribution of 106 different sample means ($\\bar{x}$), with N = 100 samples each \n",
    "\n",
    "Mean of $\\bar{x}$ = 15.358 g\n",
    "Std. dev. of $\\bar{x}$ = 0.822 g\n",
    "\n",
    "#### Orange curve: normal distribution \n",
    "  \n",
    "$\\mu{}$ = 15.327 g (mean of full data set)\n",
    "\n",
    "$\\frac{\\sigma}{\\sqrt{N}}$ = 0.971 g (std. dev. of full data set / √100)\n",
    "\n",
    "This is a consequence of the central limit theorem."
   ]
  },
  {
   "cell_type": "code",
   "execution_count": 10,
   "metadata": {
    "tags": [
     "hide-input"
    ]
   },
   "outputs": [
    {
     "data": {
      "application/vnd.jupyter.widget-view+json": {
       "model_id": "5a3cb8cf726a4359bca1f0fc5eceeeb9",
       "version_major": 2,
       "version_minor": 0
      },
      "text/plain": [
       "interactive(children=(IntSlider(value=3, description='N', min=1), IntSlider(value=1000, description='n_subsamp…"
      ]
     },
     "metadata": {},
     "output_type": "display_data"
    },
    {
     "data": {
      "text/plain": [
       "<function __main__.plot_distribution_of_subsampled_weight_means(species_name, N, n_subsamples)>"
      ]
     },
     "execution_count": 10,
     "metadata": {},
     "output_type": "execute_result"
    }
   ],
   "source": [
    "interact(plot_distribution_of_subsampled_weight_means,\n",
    "        species_name = fixed(species_name),\n",
    "        N = widgets.IntSlider(min=1, max=100, step=1, value=3),\n",
    "        n_subsamples = widgets.IntSlider(min=10, max=1000, step=20, value=1000))"
   ]
  },
  {
   "cell_type": "markdown",
   "metadata": {},
   "source": [
    "## The Central Limit Theorem\n",
    "\n",
    "The __central limit theorem__ states that no matter what the probability distribution of parent population is, the _mean of the means_ drawn from the same population is normally distributed for large sample sizes. As $N$ approaches infinity,\n",
    "\n",
    "mean $(\\bar{x}) \\rightarrow \\mu$ (the mean of the sample means approaches the true mean)\n",
    "\n",
    "std $(\\bar{x}) \\rightarrow \\frac{\\sigma}{\\sqrt{N}}$ (the standard deviation of the sample means approaches the true standard error)\n",
    "\n",
    "The important consequence of this theorem is that if you collect enough samples, the sample mean will always provide an unbiased estimate of the true mean and you can calculate confidence intervals with the formulas above.\n",
    "\n",
    "However, if you have too few samples, the sample mean will provide a _biased_ estimate.\n",
    "\n",
    "Some examples of situation where the central limit theorem is applied:\n",
    "\n",
    "* Radiochemists study discrete decay events, which follow a Poisson distribution. A few samples will give a biased estimate of the mean rate of radioactive decay. If enough samples are collected, the sample mean and 95% confidence intervals can be calculated using the formulas described above.\n",
    "\n",
    "\n",
    "* Physical oceanographers routinely take advantage of the central limit theorem when using observations of pressure or velocity measurements to study processes with time scales much longer than individual waves. The probability distribution of a wavy sea surface is not normal at all, but by collecting many samples (a.k.a. an \"ensemble\") over a period of ~10-20 minutes the waves are effectively \"averaged out\" and one can be reasonably confident in the mean of that ensemble. \n",
    "\n",
    "When sampling a noisy environment and ensemble averaging, oceanographers must be careful to choose an ensemble that is long enough to collect enough samples, but not so long that the statistics are changing significantly over longer time scales. If statistics are robust regardless, of the sampling duration, the process is said to be __stationary__. \n",
    "\n",
    "\\*Adapted from: http://statsthinking21.org/sampling.html\n",
    "\n"
   ]
  },
  {
   "cell_type": "markdown",
   "metadata": {},
   "source": [
    "### Central limit theorem (in other words)\n",
    "\n",
    "The distribution of an average tends to be Normal, even when the distribution from which the average is computed is decidedly non-Normal. \n",
    "\n",
    "http://www.statisticalengineering.com/central_limit_theorem.htm\n",
    "\n",
    "The amazing and counter-intuitive thing about the central limit theorem is that no matter what the shape of the original distribution, the sampling distribution of the mean approaches a normal distribution. Furthermore, for most distributions, a normal distribution is approached very quickly as N increases. \n",
    "\n",
    "http://davidmlane.com/hyperstat/A14043.html"
   ]
  },
  {
   "cell_type": "markdown",
   "metadata": {},
   "source": [
    "### Central limit theorem - applications\n",
    "\n",
    "The weight distribution of *Engraulis mordax* is skewed. However, if we have hundreds of samples, the 95% confidence interval for the mean can still be estimated as\n",
    "\n",
    "$\\bar{x}$ ±1.96 $\\frac{s}{\\sqrt{N}}$\n",
    "\n",
    "With very few samples, the mean would not only be uncertain, but also biased."
   ]
  },
  {
   "cell_type": "markdown",
   "metadata": {},
   "source": [
    "<!---### Central limit theorem – dice example\n",
    "\n",
    "If we start to get more samples, we start to get more of a peak in the distribution\n",
    "\n",
    "![images/clt_dice_ex.png](images/clt_dice_ex.png)-->\n"
   ]
  },
  {
   "cell_type": "markdown",
   "metadata": {},
   "source": [
    "### The *z* Distribution\n",
    "\n",
    "<!--![images/zdist_example.png](images/zdist_example.png)-->\n",
    "\n",
    "* According to the central limit theorem, sample means ($\\bar{x}$) are normally distributed for large N.  \n",
    "* This gives you data that is standardized in a way that if we take  z-scores of the sample means ($\\bar{x}$),  95% of them should fall in the range:\n",
    "\n",
    "\t\t-1.96 < z < 1.96\n",
    "        \n",
    "* This is the basis for forming 95% confidence intervals        "
   ]
  },
  {
   "cell_type": "markdown",
   "metadata": {},
   "source": [
    "\n",
    "![images/trawl_pdf_mean_dist_zoomed.png](images/trawl_pdf_mean_dist_zoomed.png)\n",
    "\n",
    "### Confidence intervals for the mean\n",
    "\n",
    "For large sample size $N$:\n",
    "\n",
    "$CI_{95\\%} = \\bar{x} \\pm 1.96 \\times SE$, where SE is the standard error $\\frac{S}{\\sqrt{N}}$\n",
    "\n",
    "With large enough $N$, the 95% confidence interval will contain the true population mean 95% of the time. Here 1.96 is a critical z-score. In theory, if a population is normally distributed then 95% of the z-scores will be between -1.96 and 1.96. \n",
    "\n",
    "This equation is only valid for large samples sizes. For small sample sizes, we use a t-distribution instead of z-distribution (covered later).\n",
    "\n",
    "The 1.96 in the equation above is the critical $z$-value for a *significance level* of $\\alpha$ = 0.05, which corresponds to a 100x(1-$\\alpha$) *confidence level*. \n",
    "\n",
    "This number comes from the standard normal distribution shown below, where 95% of the values in this distribution fall between $z_{0.025} = $ -1.96 and $z_{0.925} = $ 1.96. The subscripts on the critical $z$-values represent the cumulative probability - 97.5% of values fall below 1.96 and 2.5% of values fall below -1.96, with 95% of the values falling between theses critical values. Note that because the distribution is symmetric, $z_{0.025} = -z_{0.025}$.\n",
    "\n",
    "We can therefore write the confidence interval in a few different ways:\n",
    "\n",
    "$CI_{95\\%} = \\bar{x} \\pm 1.96 \\times SE$\n",
    "\n",
    "$CI_{95\\%} = \\bar{x} \\pm z_{crit} \\times SE$\n",
    "\n",
    "$CI_{95\\%} = \\bar{x} \\pm z_{0.975} \\times SE$\n",
    "\n",
    "$CI_{95\\%} = \\bar{x} \\pm z_{1-\\alpha/2} \\times SE$"
   ]
  },
  {
   "cell_type": "code",
   "execution_count": 11,
   "metadata": {
    "tags": [
     "hide-input"
    ]
   },
   "outputs": [
    {
     "data": {
      "image/png": "[encoded data removed]",
      "text/plain": [
       "<Figure size 640x480 with 1 Axes>"
      ]
     },
     "metadata": {},
     "output_type": "display_data"
    }
   ],
   "source": [
    "# significance level\n",
    "\n",
    "alpha = 0.05\n",
    "\n",
    "# plot t-distribution\n",
    "zvalues = np.arange(-4,4,0.01)\n",
    "zpdf = stats.norm.pdf(zvalues)\n",
    "\n",
    "plt.figure()\n",
    "plt.plot(zvalues,zpdf,lw=3)\n",
    "plt.xlabel('$z$')\n",
    "plt.ylabel('probability density')\n",
    "plt.title('standard normal $z$-distribution')\n",
    "plt.gca().set_ylim(bottom=0)\n",
    "\n",
    "# plot rejection regions\n",
    "zcrit = stats.norm.ppf(1-alpha/2)\n",
    "upperi, = np.where(zvalues>zcrit)\n",
    "loweri, = np.where(zvalues<-zcrit)\n",
    "plt.fill_between(zvalues[upperi],zpdf[upperi],facecolor='red')\n",
    "plt.fill_between(zvalues[loweri],zpdf[loweri],facecolor='red');"
   ]
  },
  {
   "cell_type": "markdown",
   "metadata": {},
   "source": [
    "\n",
    "#### Example: fish weight distribution\n",
    "\n",
    "The plot below shows 95% confidence intervals for the mean for different subsets that are randomly selected from the main dataset. The default plot shows results from 100 trials (you can think of this as doing 100 trawls) where $N$ = 10 samples are collected in each trial. The population mean (or true mean) estimated from the larger dataset is shown in blue. This is a fixed parameter and does not change.\n",
    "\n",
    "The confidence intervals generally encompass the population mean. However, there are some trials where the confidence intervals fail. Also, by making the sample size small (e.g. $N$ = 3) you can see that the confidence intervals start to encompass negative values, which is not realistic for this data set. \n"
   ]
  },
  {
   "cell_type": "code",
   "execution_count": 12,
   "metadata": {
    "tags": [
     "hide-input"
    ]
   },
   "outputs": [
    {
     "data": {
      "application/vnd.jupyter.widget-view+json": {
       "model_id": "b31440aab4fb4275905f9ab29597cf4a",
       "version_major": 2,
       "version_minor": 0
      },
      "text/plain": [
       "interactive(children=(IntSlider(value=10, description='N', min=5), IntSlider(value=100, description='ntrial', …"
      ]
     },
     "metadata": {},
     "output_type": "display_data"
    }
   ],
   "source": [
    "ntrial = 1000\n",
    "\n",
    "xm = np.nan*np.zeros(ntrial)\n",
    "xs = np.nan*np.zeros(ntrial)\n",
    "xci_lower = np.nan*np.zeros(ntrial)\n",
    "xci_upper = np.nan*np.zeros(ntrial)\n",
    "\n",
    "ii = (ds['scientific_name'] == 'Engraulis mordax') & (ds['standard_length'] < 1e8)\n",
    "\n",
    "\n",
    "xmean = np.mean(ds['weight'][ii])\n",
    "xstd = np.std(ds['weight'][ii],ddof=1)\n",
    "xSE = xstd/np.sqrt(100)\n",
    "\n",
    "def plot_confidence_intervals(N, ntrial):\n",
    "    cnt = 0 \n",
    "    for i in np.arange(ntrial):\n",
    "        subi = np.random.randint(0, len(ds['weight'][ii]), N)\n",
    "        xm[i] = np.mean(ds['weight'][ii][subi])\n",
    "        xs[i] = np.std(ds['weight'][ii][subi], ddof=1)\n",
    "        (lower,upper) = stats.t.interval(0.95, N-1, loc=xm[i], scale=xs[i]/np.sqrt(N))\n",
    "        xci_lower[i] = lower\n",
    "        xci_upper[i] = upper\n",
    "        #xci_lower[i] = xm[i]-1.96*xs[i]/np.sqrt(N)\n",
    "        #xci_upper[i] = xm[i]+1.96*xs[i]/np.sqrt(N)\n",
    "        if (xmean >= xci_lower[i]) & (xmean < xci_upper[i]):\n",
    "            cnt = cnt + 1\n",
    "\n",
    "    plt.figure(figsize=(5,5))\n",
    "\n",
    "    for j in np.arange(0,ntrial):\n",
    "        if (xmean >= xci_lower[j]) & (xmean < xci_upper[j]):\n",
    "            plt.plot([xci_lower[j], xci_upper[j]], [j,j], 'k-')\n",
    "        else:\n",
    "            plt.plot([xci_lower[j], xci_upper[j]], [j,j], 'r-')\n",
    "\n",
    "    yl = plt.ylim()\n",
    "    plt.plot([xmean,xmean], yl, 'b--')\n",
    "    plt.ylim(yl)\n",
    "    plt.title('95% confidence intervals\\nrandom subsets with N = ' + str(N))\n",
    "    plt.xlabel('weight [g]')\n",
    "    plt.ylabel('trial #')\n",
    "    plt.xlim([-10, 50]);\n",
    "\n",
    "interact(plot_confidence_intervals,\n",
    "         N=widgets.IntSlider(min=5, max=100, step=1, value=10),\n",
    "         ntrial=widgets.IntSlider(min=10, max=200, step=1, value=100));"
   ]
  },
  {
   "cell_type": "markdown",
   "metadata": {},
   "source": [
    "The visualization above is inspired by a similar visualization by Kristoffer Magnusson at https://rpsychologist.com/d3/ci/. An excerpt from the description on site is worth keeping in mind:\n",
    "\n",
    "> The take home message is that we must accept that our data are noisy and that our results are uncertain. A single “significant” CI or p-value might provide comfort and make for easy conclusions. I hope this visualization shows that instead of drawing conclusions from a single experiment, we should spend our time replication results, honing scientific arguments, polish theories and form narratives, that taken all together provide evidentiary value for our hypothesis. So that we in the end can make substantive claims about the real world."
   ]
  },
  {
   "cell_type": "markdown",
   "metadata": {},
   "source": [
    "\n",
    "\n",
    "#### Common misinterpretation of confidence intervals*:\n",
    "\n",
    "“There is a 95% chance that the population mean falls within the interval.”\n",
    "\n",
    "What is wrong with this statement, and how does it differ from the correct interpretation?\n",
    "* In the case of confidence intervals, we can't interpret them in this way because the population parameter has a fixed value -  it is or it isn't in the interval\n",
    "\n",
    "* It is the *sample mean* that has a probability of falling within the confidence intervals, not the *true mean* or *population mean* \n",
    "\n",
    "* Confidence intervals treat the parameter as fixed (it has one *true* value) and the interval as variable (it will change based on the subset of data actually collected). \n",
    "\n",
    "\n",
    "\\*Adapted from: http://statsthinking21.org/sampling.html\n"
   ]
  },
  {
   "cell_type": "markdown",
   "metadata": {},
   "source": [
    "“The parameter is an unknown constant and no probability statement concerning its value may be made.”\n",
    "\n",
    "Jerzy Neyman, 1937\n",
    "Inventor of the confidence interval\n"
   ]
  },
  {
   "cell_type": "markdown",
   "metadata": {},
   "source": [
    "Confidence intervals (along with p-values) are examples of *frequentist* statistics, which rely on a set of hypothetical experiments conducted many, many (technically, infinitely many) times. We need to be careful thinking about how we apply and interpret frequentist statistics in the typical case where we only have samples from one experiment."
   ]
  }
 ],
 "metadata": {
  "anaconda-cloud": {},
  "kernelspec": {
   "display_name": "Python 3 (ipykernel)",
   "language": "python",
   "name": "python3"
  },
  "language_info": {
   "codemirror_mode": {
    "name": "ipython",
    "version": 3
   },
   "file_extension": ".py",
   "mimetype": "text/x-python",
   "name": "python",
   "nbconvert_exporter": "python",
   "pygments_lexer": "ipython3",
   "version": "3.11.7"
  },
  "vscode": {
   "interpreter": {
    "hash": "1f45fdcf2eddff97318504b1e3cfb08785222b41a6bfe39eedae558749854b42"
   }
  },
  "widgets": {
   "application/vnd.jupyter.widget-state+json": {
    "state": {
     "02516c334c914123bee3e8038eee8197": {
      "model_module": "@jupyter-widgets/controls",
      "model_module_version": "2.0.0",
      "model_name": "SliderStyleModel",
      "state": {
       "_model_module": "@jupyter-widgets/controls",
       "_model_module_version": "2.0.0",
       "_model_name": "SliderStyleModel",
       "_view_count": null,
       "_view_module": "@jupyter-widgets/base",
       "_view_module_version": "2.0.0",
       "_view_name": "StyleView",
       "description_width": "",
       "handle_color": null
      }
     },
     "0dda00a7bc3545379318bed2290bb69c": {
      "model_module": "@jupyter-widgets/base",
      "model_module_version": "2.0.0",
      "model_name": "LayoutModel",
      "state": {
       "_model_module": "@jupyter-widgets/base",
       "_model_module_version": "2.0.0",
       "_model_name": "LayoutModel",
       "_view_count": null,
       "_view_module": "@jupyter-widgets/base",
       "_view_module_version": "2.0.0",
       "_view_name": "LayoutView",
       "align_content": null,
       "align_items": null,
       "align_self": null,
       "border_bottom": null,
       "border_left": null,
       "border_right": null,
       "border_top": null,
       "bottom": null,
       "display": null,
       "flex": null,
       "flex_flow": null,
       "grid_area": null,
       "grid_auto_columns": null,
       "grid_auto_flow": null,
       "grid_auto_rows": null,
       "grid_column": null,
       "grid_gap": null,
       "grid_row": null,
       "grid_template_areas": null,
       "grid_template_columns": null,
       "grid_template_rows": null,
       "height": null,
       "justify_content": null,
       "justify_items": null,
       "left": null,
       "margin": null,
       "max_height": null,
       "max_width": null,
       "min_height": null,
       "min_width": null,
       "object_fit": null,
       "object_position": null,
       "order": null,
       "overflow": null,
       "padding": null,
       "right": null,
       "top": null,
       "visibility": null,
       "width": null
      }
     },
     "1a517e86bdd44036af2f12a7ca1b2c88": {
      "model_module": "@jupyter-widgets/base",
      "model_module_version": "2.0.0",
      "model_name": "LayoutModel",
      "state": {
       "_model_module": "@jupyter-widgets/base",
       "_model_module_version": "2.0.0",
       "_model_name": "LayoutModel",
       "_view_count": null,
       "_view_module": "@jupyter-widgets/base",
       "_view_module_version": "2.0.0",
       "_view_name": "LayoutView",
       "align_content": null,
       "align_items": null,
       "align_self": null,
       "border_bottom": null,
       "border_left": null,
       "border_right": null,
       "border_top": null,
       "bottom": null,
       "display": null,
       "flex": null,
       "flex_flow": null,
       "grid_area": null,
       "grid_auto_columns": null,
       "grid_auto_flow": null,
       "grid_auto_rows": null,
       "grid_column": null,
       "grid_gap": null,
       "grid_row": null,
       "grid_template_areas": null,
       "grid_template_columns": null,
       "grid_template_rows": null,
       "height": null,
       "justify_content": null,
       "justify_items": null,
       "left": null,
       "margin": null,
       "max_height": null,
       "max_width": null,
       "min_height": null,
       "min_width": null,
       "object_fit": null,
       "object_position": null,
       "order": null,
       "overflow": null,
       "padding": null,
       "right": null,
       "top": null,
       "visibility": null,
       "width": null
      }
     },
     "22507b2aabe1483093b9c089d0dad5f9": {
      "model_module": "@jupyter-widgets/output",
      "model_module_version": "1.0.0",
      "model_name": "OutputModel",
      "state": {
       "_dom_classes": [],
       "_model_module": "@jupyter-widgets/output",
       "_model_module_version": "1.0.0",
       "_model_name": "OutputModel",
       "_view_count": null,
       "_view_module": "@jupyter-widgets/output",
       "_view_module_version": "1.0.0",
       "_view_name": "OutputView",
       "layout": "IPY_MODEL_556b867c4b87427caeaf01ef561850da",
       "msg_id": "",
       "outputs": [
        {
         "data": {
          "image/png": "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",
          "text/plain": "<Figure size 640x480 with 1 Axes>"
         },
         "metadata": {},
         "output_type": "display_data"
        }
       ],
       "tabbable": null,
       "tooltip": null
      }
     },
     "2ef48e56c1d74ae8886f8541c82f71cd": {
      "model_module": "@jupyter-widgets/controls",
      "model_module_version": "2.0.0",
      "model_name": "IntSliderModel",
      "state": {
       "_dom_classes": [],
       "_model_module": "@jupyter-widgets/controls",
       "_model_module_version": "2.0.0",
       "_model_name": "IntSliderModel",
       "_view_count": null,
       "_view_module": "@jupyter-widgets/controls",
       "_view_module_version": "2.0.0",
       "_view_name": "IntSliderView",
       "behavior": "drag-tap",
       "continuous_update": true,
       "description": "N",
       "description_allow_html": false,
       "disabled": false,
       "layout": "IPY_MODEL_cffbf92eee034921910b537916c0e181",
       "max": 10,
       "min": 0,
       "orientation": "horizontal",
       "readout": true,
       "readout_format": "d",
       "step": 1,
       "style": "IPY_MODEL_ca6e798327d244949914dc569c19c675",
       "tabbable": null,
       "tooltip": null,
       "value": 7
      }
     },
     "345085efc4a542eabd570ba3ad75e702": {
      "model_module": "@jupyter-widgets/controls",
      "model_module_version": "2.0.0",
      "model_name": "IntSliderModel",
      "state": {
       "_dom_classes": [],
       "_model_module": "@jupyter-widgets/controls",
       "_model_module_version": "2.0.0",
       "_model_name": "IntSliderModel",
       "_view_count": null,
       "_view_module": "@jupyter-widgets/controls",
       "_view_module_version": "2.0.0",
       "_view_name": "IntSliderView",
       "behavior": "drag-tap",
       "continuous_update": true,
       "description": "ntrial",
       "description_allow_html": false,
       "disabled": false,
       "layout": "IPY_MODEL_424afeca55d94bce92eabc35581b6b8c",
       "max": 200,
       "min": 10,
       "orientation": "horizontal",
       "readout": true,
       "readout_format": "d",
       "step": 1,
       "style": "IPY_MODEL_d033cfb7259244a998351554d5b12218",
       "tabbable": null,
       "tooltip": null,
       "value": 100
      }
     },
     "424afeca55d94bce92eabc35581b6b8c": {
      "model_module": "@jupyter-widgets/base",
      "model_module_version": "2.0.0",
      "model_name": "LayoutModel",
      "state": {
       "_model_module": "@jupyter-widgets/base",
       "_model_module_version": "2.0.0",
       "_model_name": "LayoutModel",
       "_view_count": null,
       "_view_module": "@jupyter-widgets/base",
       "_view_module_version": "2.0.0",
       "_view_name": "LayoutView",
       "align_content": null,
       "align_items": null,
       "align_self": null,
       "border_bottom": null,
       "border_left": null,
       "border_right": null,
       "border_top": null,
       "bottom": null,
       "display": null,
       "flex": null,
       "flex_flow": null,
       "grid_area": null,
       "grid_auto_columns": null,
       "grid_auto_flow": null,
       "grid_auto_rows": null,
       "grid_column": null,
       "grid_gap": null,
       "grid_row": null,
       "grid_template_areas": null,
       "grid_template_columns": null,
       "grid_template_rows": null,
       "height": null,
       "justify_content": null,
       "justify_items": null,
       "left": null,
       "margin": null,
       "max_height": null,
       "max_width": null,
       "min_height": null,
       "min_width": null,
       "object_fit": null,
       "object_position": null,
       "order": null,
       "overflow": null,
       "padding": null,
       "right": null,
       "top": null,
       "visibility": null,
       "width": null
      }
     },
     "479bd62824e544b0ab73f54a1fe382ba": {
      "model_module": "@jupyter-widgets/base",
      "model_module_version": "2.0.0",
      "model_name": "LayoutModel",
      "state": {
       "_model_module": "@jupyter-widgets/base",
       "_model_module_version": "2.0.0",
       "_model_name": "LayoutModel",
       "_view_count": null,
       "_view_module": "@jupyter-widgets/base",
       "_view_module_version": "2.0.0",
       "_view_name": "LayoutView",
       "align_content": null,
       "align_items": null,
       "align_self": null,
       "border_bottom": null,
       "border_left": null,
       "border_right": null,
       "border_top": null,
       "bottom": null,
       "display": null,
       "flex": null,
       "flex_flow": null,
       "grid_area": null,
       "grid_auto_columns": null,
       "grid_auto_flow": null,
       "grid_auto_rows": null,
       "grid_column": null,
       "grid_gap": null,
       "grid_row": null,
       "grid_template_areas": null,
       "grid_template_columns": null,
       "grid_template_rows": null,
       "height": null,
       "justify_content": null,
       "justify_items": null,
       "left": null,
       "margin": null,
       "max_height": null,
       "max_width": null,
       "min_height": null,
       "min_width": null,
       "object_fit": null,
       "object_position": null,
       "order": null,
       "overflow": null,
       "padding": null,
       "right": null,
       "top": null,
       "visibility": null,
       "width": null
      }
     },
     "51628dd806734203a13a938613b809d4": {
      "model_module": "@jupyter-widgets/output",
      "model_module_version": "1.0.0",
      "model_name": "OutputModel",
      "state": {
       "_dom_classes": [],
       "_model_module": "@jupyter-widgets/output",
       "_model_module_version": "1.0.0",
       "_model_name": "OutputModel",
       "_view_count": null,
       "_view_module": "@jupyter-widgets/output",
       "_view_module_version": "1.0.0",
       "_view_name": "OutputView",
       "layout": "IPY_MODEL_f0a3da33d61b4e6481cccf278b175d5e",
       "msg_id": "",
       "outputs": [
        {
         "data": {
          "image/png": "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",
          "text/plain": "<Figure size 500x500 with 1 Axes>"
         },
         "metadata": {},
         "output_type": "display_data"
        }
       ],
       "tabbable": null,
       "tooltip": null
      }
     },
     "556b867c4b87427caeaf01ef561850da": {
      "model_module": "@jupyter-widgets/base",
      "model_module_version": "2.0.0",
      "model_name": "LayoutModel",
      "state": {
       "_model_module": "@jupyter-widgets/base",
       "_model_module_version": "2.0.0",
       "_model_name": "LayoutModel",
       "_view_count": null,
       "_view_module": "@jupyter-widgets/base",
       "_view_module_version": "2.0.0",
       "_view_name": "LayoutView",
       "align_content": null,
       "align_items": null,
       "align_self": null,
       "border_bottom": null,
       "border_left": null,
       "border_right": null,
       "border_top": null,
       "bottom": null,
       "display": null,
       "flex": null,
       "flex_flow": null,
       "grid_area": null,
       "grid_auto_columns": null,
       "grid_auto_flow": null,
       "grid_auto_rows": null,
       "grid_column": null,
       "grid_gap": null,
       "grid_row": null,
       "grid_template_areas": null,
       "grid_template_columns": null,
       "grid_template_rows": null,
       "height": null,
       "justify_content": null,
       "justify_items": null,
       "left": null,
       "margin": null,
       "max_height": null,
       "max_width": null,
       "min_height": null,
       "min_width": null,
       "object_fit": null,
       "object_position": null,
       "order": null,
       "overflow": null,
       "padding": null,
       "right": null,
       "top": null,
       "visibility": null,
       "width": null
      }
     },
     "57ec5972c6fc4b4793d372a61003be71": {
      "model_module": "@jupyter-widgets/base",
      "model_module_version": "2.0.0",
      "model_name": "LayoutModel",
      "state": {
       "_model_module": "@jupyter-widgets/base",
       "_model_module_version": "2.0.0",
       "_model_name": "LayoutModel",
       "_view_count": null,
       "_view_module": "@jupyter-widgets/base",
       "_view_module_version": "2.0.0",
       "_view_name": "LayoutView",
       "align_content": null,
       "align_items": null,
       "align_self": null,
       "border_bottom": null,
       "border_left": null,
       "border_right": null,
       "border_top": null,
       "bottom": null,
       "display": null,
       "flex": null,
       "flex_flow": null,
       "grid_area": null,
       "grid_auto_columns": null,
       "grid_auto_flow": null,
       "grid_auto_rows": null,
       "grid_column": null,
       "grid_gap": null,
       "grid_row": null,
       "grid_template_areas": null,
       "grid_template_columns": null,
       "grid_template_rows": null,
       "height": null,
       "justify_content": null,
       "justify_items": null,
       "left": null,
       "margin": null,
       "max_height": null,
       "max_width": null,
       "min_height": null,
       "min_width": null,
       "object_fit": null,
       "object_position": null,
       "order": null,
       "overflow": null,
       "padding": null,
       "right": null,
       "top": null,
       "visibility": null,
       "width": null
      }
     },
     "5a3cb8cf726a4359bca1f0fc5eceeeb9": {
      "model_module": "@jupyter-widgets/controls",
      "model_module_version": "2.0.0",
      "model_name": "VBoxModel",
      "state": {
       "_dom_classes": [
        "widget-interact"
       ],
       "_model_module": "@jupyter-widgets/controls",
       "_model_module_version": "2.0.0",
       "_model_name": "VBoxModel",
       "_view_count": null,
       "_view_module": "@jupyter-widgets/controls",
       "_view_module_version": "2.0.0",
       "_view_name": "VBoxView",
       "box_style": "",
       "children": [
        "IPY_MODEL_66f7ce069ea34f2aae4b83c0d597a082",
        "IPY_MODEL_8e164de818db43df93e3b958b5d48a2c",
        "IPY_MODEL_af074debe2f84f1aa37006d5bf10178f"
       ],
       "layout": "IPY_MODEL_0dda00a7bc3545379318bed2290bb69c",
       "tabbable": null,
       "tooltip": null
      }
     },
     "66f7ce069ea34f2aae4b83c0d597a082": {
      "model_module": "@jupyter-widgets/controls",
      "model_module_version": "2.0.0",
      "model_name": "IntSliderModel",
      "state": {
       "_dom_classes": [],
       "_model_module": "@jupyter-widgets/controls",
       "_model_module_version": "2.0.0",
       "_model_name": "IntSliderModel",
       "_view_count": null,
       "_view_module": "@jupyter-widgets/controls",
       "_view_module_version": "2.0.0",
       "_view_name": "IntSliderView",
       "behavior": "drag-tap",
       "continuous_update": true,
       "description": "N",
       "description_allow_html": false,
       "disabled": false,
       "layout": "IPY_MODEL_e0e4658e55be454993e4eb46a844a272",
       "max": 100,
       "min": 1,
       "orientation": "horizontal",
       "readout": true,
       "readout_format": "d",
       "step": 1,
       "style": "IPY_MODEL_7831d71c97fc4c2c8e4d1a5f26d0e9a0",
       "tabbable": null,
       "tooltip": null,
       "value": 3
      }
     },
     "6ad38a38b343436ca140dc0090d72ee2": {
      "model_module": "@jupyter-widgets/base",
      "model_module_version": "2.0.0",
      "model_name": "LayoutModel",
      "state": {
       "_model_module": "@jupyter-widgets/base",
       "_model_module_version": "2.0.0",
       "_model_name": "LayoutModel",
       "_view_count": null,
       "_view_module": "@jupyter-widgets/base",
       "_view_module_version": "2.0.0",
       "_view_name": "LayoutView",
       "align_content": null,
       "align_items": null,
       "align_self": null,
       "border_bottom": null,
       "border_left": null,
       "border_right": null,
       "border_top": null,
       "bottom": null,
       "display": null,
       "flex": null,
       "flex_flow": null,
       "grid_area": null,
       "grid_auto_columns": null,
       "grid_auto_flow": null,
       "grid_auto_rows": null,
       "grid_column": null,
       "grid_gap": null,
       "grid_row": null,
       "grid_template_areas": null,
       "grid_template_columns": null,
       "grid_template_rows": null,
       "height": null,
       "justify_content": null,
       "justify_items": null,
       "left": null,
       "margin": null,
       "max_height": null,
       "max_width": null,
       "min_height": null,
       "min_width": null,
       "object_fit": null,
       "object_position": null,
       "order": null,
       "overflow": null,
       "padding": null,
       "right": null,
       "top": null,
       "visibility": null,
       "width": null
      }
     },
     "7831d71c97fc4c2c8e4d1a5f26d0e9a0": {
      "model_module": "@jupyter-widgets/controls",
      "model_module_version": "2.0.0",
      "model_name": "SliderStyleModel",
      "state": {
       "_model_module": "@jupyter-widgets/controls",
       "_model_module_version": "2.0.0",
       "_model_name": "SliderStyleModel",
       "_view_count": null,
       "_view_module": "@jupyter-widgets/base",
       "_view_module_version": "2.0.0",
       "_view_name": "StyleView",
       "description_width": "",
       "handle_color": null
      }
     },
     "7fa11f9e2fb042dcbba5e88bce30b16a": {
      "model_module": "@jupyter-widgets/controls",
      "model_module_version": "2.0.0",
      "model_name": "VBoxModel",
      "state": {
       "_dom_classes": [
        "widget-interact"
       ],
       "_model_module": "@jupyter-widgets/controls",
       "_model_module_version": "2.0.0",
       "_model_name": "VBoxModel",
       "_view_count": null,
       "_view_module": "@jupyter-widgets/controls",
       "_view_module_version": "2.0.0",
       "_view_name": "VBoxView",
       "box_style": "",
       "children": [
        "IPY_MODEL_c47b2e962cd54ee7adfcae86a7d0bb9f",
        "IPY_MODEL_2ef48e56c1d74ae8886f8541c82f71cd",
        "IPY_MODEL_22507b2aabe1483093b9c089d0dad5f9"
       ],
       "layout": "IPY_MODEL_a5a0246b888549d9818c54e0b7b2ba0c",
       "tabbable": null,
       "tooltip": null
      }
     },
     "8724e6ba2dc1454e8725c2c3f60438e4": {
      "model_module": "@jupyter-widgets/controls",
      "model_module_version": "2.0.0",
      "model_name": "IntSliderModel",
      "state": {
       "_dom_classes": [],
       "_model_module": "@jupyter-widgets/controls",
       "_model_module_version": "2.0.0",
       "_model_name": "IntSliderModel",
       "_view_count": null,
       "_view_module": "@jupyter-widgets/controls",
       "_view_module_version": "2.0.0",
       "_view_name": "IntSliderView",
       "behavior": "drag-tap",
       "continuous_update": true,
       "description": "N",
       "description_allow_html": false,
       "disabled": false,
       "layout": "IPY_MODEL_1a517e86bdd44036af2f12a7ca1b2c88",
       "max": 100,
       "min": 5,
       "orientation": "horizontal",
       "readout": true,
       "readout_format": "d",
       "step": 1,
       "style": "IPY_MODEL_8923b9b2430b4a3cad6513799c7f6c0d",
       "tabbable": null,
       "tooltip": null,
       "value": 10
      }
     },
     "8923b9b2430b4a3cad6513799c7f6c0d": {
      "model_module": "@jupyter-widgets/controls",
      "model_module_version": "2.0.0",
      "model_name": "SliderStyleModel",
      "state": {
       "_model_module": "@jupyter-widgets/controls",
       "_model_module_version": "2.0.0",
       "_model_name": "SliderStyleModel",
       "_view_count": null,
       "_view_module": "@jupyter-widgets/base",
       "_view_module_version": "2.0.0",
       "_view_name": "StyleView",
       "description_width": "",
       "handle_color": null
      }
     },
     "8e164de818db43df93e3b958b5d48a2c": {
      "model_module": "@jupyter-widgets/controls",
      "model_module_version": "2.0.0",
      "model_name": "IntSliderModel",
      "state": {
       "_dom_classes": [],
       "_model_module": "@jupyter-widgets/controls",
       "_model_module_version": "2.0.0",
       "_model_name": "IntSliderModel",
       "_view_count": null,
       "_view_module": "@jupyter-widgets/controls",
       "_view_module_version": "2.0.0",
       "_view_name": "IntSliderView",
       "behavior": "drag-tap",
       "continuous_update": true,
       "description": "n_subsamples",
       "description_allow_html": false,
       "disabled": false,
       "layout": "IPY_MODEL_afae964ff3584a4d97220d3ff25fee55",
       "max": 1000,
       "min": 10,
       "orientation": "horizontal",
       "readout": true,
       "readout_format": "d",
       "step": 20,
       "style": "IPY_MODEL_c0a9566d25e14ca982d11c71c013cd7d",
       "tabbable": null,
       "tooltip": null,
       "value": 1000
      }
     },
     "94f63bade90844069b714ce20e7b9470": {
      "model_module": "@jupyter-widgets/controls",
      "model_module_version": "2.0.0",
      "model_name": "ButtonStyleModel",
      "state": {
       "_model_module": "@jupyter-widgets/controls",
       "_model_module_version": "2.0.0",
       "_model_name": "ButtonStyleModel",
       "_view_count": null,
       "_view_module": "@jupyter-widgets/base",
       "_view_module_version": "2.0.0",
       "_view_name": "StyleView",
       "button_color": null,
       "font_family": null,
       "font_size": null,
       "font_style": null,
       "font_variant": null,
       "font_weight": null,
       "text_color": null,
       "text_decoration": null
      }
     },
     "a5a0246b888549d9818c54e0b7b2ba0c": {
      "model_module": "@jupyter-widgets/base",
      "model_module_version": "2.0.0",
      "model_name": "LayoutModel",
      "state": {
       "_model_module": "@jupyter-widgets/base",
       "_model_module_version": "2.0.0",
       "_model_name": "LayoutModel",
       "_view_count": null,
       "_view_module": "@jupyter-widgets/base",
       "_view_module_version": "2.0.0",
       "_view_name": "LayoutView",
       "align_content": null,
       "align_items": null,
       "align_self": null,
       "border_bottom": null,
       "border_left": null,
       "border_right": null,
       "border_top": null,
       "bottom": null,
       "display": null,
       "flex": null,
       "flex_flow": null,
       "grid_area": null,
       "grid_auto_columns": null,
       "grid_auto_flow": null,
       "grid_auto_rows": null,
       "grid_column": null,
       "grid_gap": null,
       "grid_row": null,
       "grid_template_areas": null,
       "grid_template_columns": null,
       "grid_template_rows": null,
       "height": null,
       "justify_content": null,
       "justify_items": null,
       "left": null,
       "margin": null,
       "max_height": null,
       "max_width": null,
       "min_height": null,
       "min_width": null,
       "object_fit": null,
       "object_position": null,
       "order": null,
       "overflow": null,
       "padding": null,
       "right": null,
       "top": null,
       "visibility": null,
       "width": null
      }
     },
     "a9ac544d61ca45f19c3ae7a8ff5d52bc": {
      "model_module": "@jupyter-widgets/base",
      "model_module_version": "2.0.0",
      "model_name": "LayoutModel",
      "state": {
       "_model_module": "@jupyter-widgets/base",
       "_model_module_version": "2.0.0",
       "_model_name": "LayoutModel",
       "_view_count": null,
       "_view_module": "@jupyter-widgets/base",
       "_view_module_version": "2.0.0",
       "_view_name": "LayoutView",
       "align_content": null,
       "align_items": null,
       "align_self": null,
       "border_bottom": null,
       "border_left": null,
       "border_right": null,
       "border_top": null,
       "bottom": null,
       "display": null,
       "flex": null,
       "flex_flow": null,
       "grid_area": null,
       "grid_auto_columns": null,
       "grid_auto_flow": null,
       "grid_auto_rows": null,
       "grid_column": null,
       "grid_gap": null,
       "grid_row": null,
       "grid_template_areas": null,
       "grid_template_columns": null,
       "grid_template_rows": null,
       "height": null,
       "justify_content": null,
       "justify_items": null,
       "left": null,
       "margin": null,
       "max_height": null,
       "max_width": null,
       "min_height": null,
       "min_width": null,
       "object_fit": null,
       "object_position": null,
       "order": null,
       "overflow": null,
       "padding": null,
       "right": null,
       "top": null,
       "visibility": null,
       "width": null
      }
     },
     "aab33d8a09b043a0813779cb8294d700": {
      "model_module": "@jupyter-widgets/controls",
      "model_module_version": "2.0.0",
      "model_name": "ButtonModel",
      "state": {
       "_dom_classes": [],
       "_model_module": "@jupyter-widgets/controls",
       "_model_module_version": "2.0.0",
       "_model_name": "ButtonModel",
       "_view_count": null,
       "_view_module": "@jupyter-widgets/controls",
       "_view_module_version": "2.0.0",
       "_view_name": "ButtonView",
       "button_style": "",
       "description": "create sub-sample",
       "disabled": false,
       "icon": "",
       "layout": "IPY_MODEL_6ad38a38b343436ca140dc0090d72ee2",
       "style": "IPY_MODEL_94f63bade90844069b714ce20e7b9470",
       "tabbable": null,
       "tooltip": null
      }
     },
     "aae598e131354668b488241094c1cb78": {
      "model_module": "@jupyter-widgets/controls",
      "model_module_version": "2.0.0",
      "model_name": "IntSliderModel",
      "state": {
       "_dom_classes": [],
       "_model_module": "@jupyter-widgets/controls",
       "_model_module_version": "2.0.0",
       "_model_name": "IntSliderModel",
       "_view_count": null,
       "_view_module": "@jupyter-widgets/controls",
       "_view_module_version": "2.0.0",
       "_view_name": "IntSliderView",
       "behavior": "drag-tap",
       "continuous_update": true,
       "description": "N",
       "description_allow_html": false,
       "disabled": false,
       "layout": "IPY_MODEL_a9ac544d61ca45f19c3ae7a8ff5d52bc",
       "max": 1000,
       "min": 10,
       "orientation": "horizontal",
       "readout": true,
       "readout_format": "d",
       "step": 10,
       "style": "IPY_MODEL_02516c334c914123bee3e8038eee8197",
       "tabbable": null,
       "tooltip": null,
       "value": 100
      }
     },
     "af074debe2f84f1aa37006d5bf10178f": {
      "model_module": "@jupyter-widgets/output",
      "model_module_version": "1.0.0",
      "model_name": "OutputModel",
      "state": {
       "_dom_classes": [],
       "_model_module": "@jupyter-widgets/output",
       "_model_module_version": "1.0.0",
       "_model_name": "OutputModel",
       "_view_count": null,
       "_view_module": "@jupyter-widgets/output",
       "_view_module_version": "1.0.0",
       "_view_name": "OutputView",
       "layout": "IPY_MODEL_dd8305f67a57422d9a46307448d612a4",
       "msg_id": "",
       "outputs": [
        {
         "data": {
          "image/png": "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",
          "text/plain": "<Figure size 800x500 with 2 Axes>"
         },
         "metadata": {},
         "output_type": "display_data"
        }
       ],
       "tabbable": null,
       "tooltip": null
      }
     },
     "afae964ff3584a4d97220d3ff25fee55": {
      "model_module": "@jupyter-widgets/base",
      "model_module_version": "2.0.0",
      "model_name": "LayoutModel",
      "state": {
       "_model_module": "@jupyter-widgets/base",
       "_model_module_version": "2.0.0",
       "_model_name": "LayoutModel",
       "_view_count": null,
       "_view_module": "@jupyter-widgets/base",
       "_view_module_version": "2.0.0",
       "_view_name": "LayoutView",
       "align_content": null,
       "align_items": null,
       "align_self": null,
       "border_bottom": null,
       "border_left": null,
       "border_right": null,
       "border_top": null,
       "bottom": null,
       "display": null,
       "flex": null,
       "flex_flow": null,
       "grid_area": null,
       "grid_auto_columns": null,
       "grid_auto_flow": null,
       "grid_auto_rows": null,
       "grid_column": null,
       "grid_gap": null,
       "grid_row": null,
       "grid_template_areas": null,
       "grid_template_columns": null,
       "grid_template_rows": null,
       "height": null,
       "justify_content": null,
       "justify_items": null,
       "left": null,
       "margin": null,
       "max_height": null,
       "max_width": null,
       "min_height": null,
       "min_width": null,
       "object_fit": null,
       "object_position": null,
       "order": null,
       "overflow": null,
       "padding": null,
       "right": null,
       "top": null,
       "visibility": null,
       "width": null
      }
     },
     "b31440aab4fb4275905f9ab29597cf4a": {
      "model_module": "@jupyter-widgets/controls",
      "model_module_version": "2.0.0",
      "model_name": "VBoxModel",
      "state": {
       "_dom_classes": [
        "widget-interact"
       ],
       "_model_module": "@jupyter-widgets/controls",
       "_model_module_version": "2.0.0",
       "_model_name": "VBoxModel",
       "_view_count": null,
       "_view_module": "@jupyter-widgets/controls",
       "_view_module_version": "2.0.0",
       "_view_name": "VBoxView",
       "box_style": "",
       "children": [
        "IPY_MODEL_8724e6ba2dc1454e8725c2c3f60438e4",
        "IPY_MODEL_345085efc4a542eabd570ba3ad75e702",
        "IPY_MODEL_51628dd806734203a13a938613b809d4"
       ],
       "layout": "IPY_MODEL_57ec5972c6fc4b4793d372a61003be71",
       "tabbable": null,
       "tooltip": null
      }
     },
     "c0a9566d25e14ca982d11c71c013cd7d": {
      "model_module": "@jupyter-widgets/controls",
      "model_module_version": "2.0.0",
      "model_name": "SliderStyleModel",
      "state": {
       "_model_module": "@jupyter-widgets/controls",
       "_model_module_version": "2.0.0",
       "_model_name": "SliderStyleModel",
       "_view_count": null,
       "_view_module": "@jupyter-widgets/base",
       "_view_module_version": "2.0.0",
       "_view_name": "StyleView",
       "description_width": "",
       "handle_color": null
      }
     },
     "c0e677bb89ba4d809a6f2fd0295c2508": {
      "model_module": "@jupyter-widgets/controls",
      "model_module_version": "2.0.0",
      "model_name": "DescriptionStyleModel",
      "state": {
       "_model_module": "@jupyter-widgets/controls",
       "_model_module_version": "2.0.0",
       "_model_name": "DescriptionStyleModel",
       "_view_count": null,
       "_view_module": "@jupyter-widgets/base",
       "_view_module_version": "2.0.0",
       "_view_name": "StyleView",
       "description_width": ""
      }
     },
     "c14aa1354c1c4961b81d0add3a741951": {
      "model_module": "@jupyter-widgets/base",
      "model_module_version": "2.0.0",
      "model_name": "LayoutModel",
      "state": {
       "_model_module": "@jupyter-widgets/base",
       "_model_module_version": "2.0.0",
       "_model_name": "LayoutModel",
       "_view_count": null,
       "_view_module": "@jupyter-widgets/base",
       "_view_module_version": "2.0.0",
       "_view_name": "LayoutView",
       "align_content": null,
       "align_items": null,
       "align_self": null,
       "border_bottom": null,
       "border_left": null,
       "border_right": null,
       "border_top": null,
       "bottom": null,
       "display": null,
       "flex": null,
       "flex_flow": null,
       "grid_area": null,
       "grid_auto_columns": null,
       "grid_auto_flow": null,
       "grid_auto_rows": null,
       "grid_column": null,
       "grid_gap": null,
       "grid_row": null,
       "grid_template_areas": null,
       "grid_template_columns": null,
       "grid_template_rows": null,
       "height": null,
       "justify_content": null,
       "justify_items": null,
       "left": null,
       "margin": null,
       "max_height": null,
       "max_width": null,
       "min_height": null,
       "min_width": null,
       "object_fit": null,
       "object_position": null,
       "order": null,
       "overflow": null,
       "padding": null,
       "right": null,
       "top": null,
       "visibility": null,
       "width": null
      }
     },
     "c47b2e962cd54ee7adfcae86a7d0bb9f": {
      "model_module": "@jupyter-widgets/controls",
      "model_module_version": "2.0.0",
      "model_name": "DropdownModel",
      "state": {
       "_dom_classes": [],
       "_model_module": "@jupyter-widgets/controls",
       "_model_module_version": "2.0.0",
       "_model_name": "DropdownModel",
       "_options_labels": [
        "Icichthys lockingtoni",
        "Engraulis mordax"
       ],
       "_view_count": null,
       "_view_module": "@jupyter-widgets/controls",
       "_view_module_version": "2.0.0",
       "_view_name": "DropdownView",
       "description": "species_name",
       "description_allow_html": false,
       "disabled": false,
       "index": 0,
       "layout": "IPY_MODEL_c14aa1354c1c4961b81d0add3a741951",
       "style": "IPY_MODEL_c0e677bb89ba4d809a6f2fd0295c2508",
       "tabbable": null,
       "tooltip": null
      }
     },
     "ca6e798327d244949914dc569c19c675": {
      "model_module": "@jupyter-widgets/controls",
      "model_module_version": "2.0.0",
      "model_name": "SliderStyleModel",
      "state": {
       "_model_module": "@jupyter-widgets/controls",
       "_model_module_version": "2.0.0",
       "_model_name": "SliderStyleModel",
       "_view_count": null,
       "_view_module": "@jupyter-widgets/base",
       "_view_module_version": "2.0.0",
       "_view_name": "StyleView",
       "description_width": "",
       "handle_color": null
      }
     },
     "cdbb1e34d0d94149ab4e8e2d265cbbf2": {
      "model_module": "@jupyter-widgets/base",
      "model_module_version": "2.0.0",
      "model_name": "LayoutModel",
      "state": {
       "_model_module": "@jupyter-widgets/base",
       "_model_module_version": "2.0.0",
       "_model_name": "LayoutModel",
       "_view_count": null,
       "_view_module": "@jupyter-widgets/base",
       "_view_module_version": "2.0.0",
       "_view_name": "LayoutView",
       "align_content": null,
       "align_items": null,
       "align_self": null,
       "border_bottom": null,
       "border_left": null,
       "border_right": null,
       "border_top": null,
       "bottom": null,
       "display": null,
       "flex": null,
       "flex_flow": null,
       "grid_area": null,
       "grid_auto_columns": null,
       "grid_auto_flow": null,
       "grid_auto_rows": null,
       "grid_column": null,
       "grid_gap": null,
       "grid_row": null,
       "grid_template_areas": null,
       "grid_template_columns": null,
       "grid_template_rows": null,
       "height": null,
       "justify_content": null,
       "justify_items": null,
       "left": null,
       "margin": null,
       "max_height": null,
       "max_width": null,
       "min_height": null,
       "min_width": null,
       "object_fit": null,
       "object_position": null,
       "order": null,
       "overflow": null,
       "padding": null,
       "right": null,
       "top": null,
       "visibility": null,
       "width": null
      }
     },
     "cffbf92eee034921910b537916c0e181": {
      "model_module": "@jupyter-widgets/base",
      "model_module_version": "2.0.0",
      "model_name": "LayoutModel",
      "state": {
       "_model_module": "@jupyter-widgets/base",
       "_model_module_version": "2.0.0",
       "_model_name": "LayoutModel",
       "_view_count": null,
       "_view_module": "@jupyter-widgets/base",
       "_view_module_version": "2.0.0",
       "_view_name": "LayoutView",
       "align_content": null,
       "align_items": null,
       "align_self": null,
       "border_bottom": null,
       "border_left": null,
       "border_right": null,
       "border_top": null,
       "bottom": null,
       "display": null,
       "flex": null,
       "flex_flow": null,
       "grid_area": null,
       "grid_auto_columns": null,
       "grid_auto_flow": null,
       "grid_auto_rows": null,
       "grid_column": null,
       "grid_gap": null,
       "grid_row": null,
       "grid_template_areas": null,
       "grid_template_columns": null,
       "grid_template_rows": null,
       "height": null,
       "justify_content": null,
       "justify_items": null,
       "left": null,
       "margin": null,
       "max_height": null,
       "max_width": null,
       "min_height": null,
       "min_width": null,
       "object_fit": null,
       "object_position": null,
       "order": null,
       "overflow": null,
       "padding": null,
       "right": null,
       "top": null,
       "visibility": null,
       "width": null
      }
     },
     "d033cfb7259244a998351554d5b12218": {
      "model_module": "@jupyter-widgets/controls",
      "model_module_version": "2.0.0",
      "model_name": "SliderStyleModel",
      "state": {
       "_model_module": "@jupyter-widgets/controls",
       "_model_module_version": "2.0.0",
       "_model_name": "SliderStyleModel",
       "_view_count": null,
       "_view_module": "@jupyter-widgets/base",
       "_view_module_version": "2.0.0",
       "_view_name": "StyleView",
       "description_width": "",
       "handle_color": null
      }
     },
     "dd8305f67a57422d9a46307448d612a4": {
      "model_module": "@jupyter-widgets/base",
      "model_module_version": "2.0.0",
      "model_name": "LayoutModel",
      "state": {
       "_model_module": "@jupyter-widgets/base",
       "_model_module_version": "2.0.0",
       "_model_name": "LayoutModel",
       "_view_count": null,
       "_view_module": "@jupyter-widgets/base",
       "_view_module_version": "2.0.0",
       "_view_name": "LayoutView",
       "align_content": null,
       "align_items": null,
       "align_self": null,
       "border_bottom": null,
       "border_left": null,
       "border_right": null,
       "border_top": null,
       "bottom": null,
       "display": null,
       "flex": null,
       "flex_flow": null,
       "grid_area": null,
       "grid_auto_columns": null,
       "grid_auto_flow": null,
       "grid_auto_rows": null,
       "grid_column": null,
       "grid_gap": null,
       "grid_row": null,
       "grid_template_areas": null,
       "grid_template_columns": null,
       "grid_template_rows": null,
       "height": null,
       "justify_content": null,
       "justify_items": null,
       "left": null,
       "margin": null,
       "max_height": null,
       "max_width": null,
       "min_height": null,
       "min_width": null,
       "object_fit": null,
       "object_position": null,
       "order": null,
       "overflow": null,
       "padding": null,
       "right": null,
       "top": null,
       "visibility": null,
       "width": null
      }
     },
     "e0e4658e55be454993e4eb46a844a272": {
      "model_module": "@jupyter-widgets/base",
      "model_module_version": "2.0.0",
      "model_name": "LayoutModel",
      "state": {
       "_model_module": "@jupyter-widgets/base",
       "_model_module_version": "2.0.0",
       "_model_name": "LayoutModel",
       "_view_count": null,
       "_view_module": "@jupyter-widgets/base",
       "_view_module_version": "2.0.0",
       "_view_name": "LayoutView",
       "align_content": null,
       "align_items": null,
       "align_self": null,
       "border_bottom": null,
       "border_left": null,
       "border_right": null,
       "border_top": null,
       "bottom": null,
       "display": null,
       "flex": null,
       "flex_flow": null,
       "grid_area": null,
       "grid_auto_columns": null,
       "grid_auto_flow": null,
       "grid_auto_rows": null,
       "grid_column": null,
       "grid_gap": null,
       "grid_row": null,
       "grid_template_areas": null,
       "grid_template_columns": null,
       "grid_template_rows": null,
       "height": null,
       "justify_content": null,
       "justify_items": null,
       "left": null,
       "margin": null,
       "max_height": null,
       "max_width": null,
       "min_height": null,
       "min_width": null,
       "object_fit": null,
       "object_position": null,
       "order": null,
       "overflow": null,
       "padding": null,
       "right": null,
       "top": null,
       "visibility": null,
       "width": null
      }
     },
     "e2254041914c4355a3d4521cc1bc54d0": {
      "model_module": "@jupyter-widgets/output",
      "model_module_version": "1.0.0",
      "model_name": "OutputModel",
      "state": {
       "_dom_classes": [],
       "_model_module": "@jupyter-widgets/output",
       "_model_module_version": "1.0.0",
       "_model_name": "OutputModel",
       "_view_count": null,
       "_view_module": "@jupyter-widgets/output",
       "_view_module_version": "1.0.0",
       "_view_name": "OutputView",
       "layout": "IPY_MODEL_479bd62824e544b0ab73f54a1fe382ba",
       "msg_id": "",
       "outputs": [],
       "tabbable": null,
       "tooltip": null
      }
     },
     "e47d43ce7ad34d30b52032e21327a2f6": {
      "model_module": "@jupyter-widgets/controls",
      "model_module_version": "2.0.0",
      "model_name": "VBoxModel",
      "state": {
       "_dom_classes": [
        "widget-interact"
       ],
       "_model_module": "@jupyter-widgets/controls",
       "_model_module_version": "2.0.0",
       "_model_name": "VBoxModel",
       "_view_count": null,
       "_view_module": "@jupyter-widgets/controls",
       "_view_module_version": "2.0.0",
       "_view_name": "VBoxView",
       "box_style": "",
       "children": [
        "IPY_MODEL_aae598e131354668b488241094c1cb78",
        "IPY_MODEL_aab33d8a09b043a0813779cb8294d700",
        "IPY_MODEL_e2254041914c4355a3d4521cc1bc54d0"
       ],
       "layout": "IPY_MODEL_cdbb1e34d0d94149ab4e8e2d265cbbf2",
       "tabbable": null,
       "tooltip": null
      }
     },
     "f0a3da33d61b4e6481cccf278b175d5e": {
      "model_module": "@jupyter-widgets/base",
      "model_module_version": "2.0.0",
      "model_name": "LayoutModel",
      "state": {
       "_model_module": "@jupyter-widgets/base",
       "_model_module_version": "2.0.0",
       "_model_name": "LayoutModel",
       "_view_count": null,
       "_view_module": "@jupyter-widgets/base",
       "_view_module_version": "2.0.0",
       "_view_name": "LayoutView",
       "align_content": null,
       "align_items": null,
       "align_self": null,
       "border_bottom": null,
       "border_left": null,
       "border_right": null,
       "border_top": null,
       "bottom": null,
       "display": null,
       "flex": null,
       "flex_flow": null,
       "grid_area": null,
       "grid_auto_columns": null,
       "grid_auto_flow": null,
       "grid_auto_rows": null,
       "grid_column": null,
       "grid_gap": null,
       "grid_row": null,
       "grid_template_areas": null,
       "grid_template_columns": null,
       "grid_template_rows": null,
       "height": null,
       "justify_content": null,
       "justify_items": null,
       "left": null,
       "margin": null,
       "max_height": null,
       "max_width": null,
       "min_height": null,
       "min_width": null,
       "object_fit": null,
       "object_position": null,
       "order": null,
       "overflow": null,
       "padding": null,
       "right": null,
       "top": null,
       "visibility": null,
       "width": null
      }
     }
    },
    "version_major": 2,
    "version_minor": 0
   }
  }
 },
 "nbformat": 4,
 "nbformat_minor": 4
}