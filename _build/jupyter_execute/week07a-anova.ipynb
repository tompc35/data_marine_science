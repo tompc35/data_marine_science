{
 "cells": [
  {
   "cell_type": "markdown",
   "metadata": {},
   "source": [
    "# Analysis of variance (ANOVA)"
   ]
  },
  {
   "cell_type": "markdown",
   "metadata": {},
   "source": [
    "### Recommended reading ###\n",
    "\n",
    "McDonald, J.H. 2014. Handbook of Biological Statistics (3rd ed.). Sparky House Publishing, Baltimore, Maryland. Freely available online at [www.biostathandbook.com](www.biostathandbook.com)\n",
    "\n",
    "__Analysis of variance__: test for a statistically significant difference between means of 3+ different groups\n",
    "\n",
    "* Does not tell you which group is different\n",
    "* Requires the use of __*post hoc*__ analysis to determine which means are different from each other\n",
    "\n",
    "Example:\n",
    "![images/anova_example.png](images/anova_example.png)\n",
    "\n",
    "__One-Way ANOVA__ \n",
    "Fisher's LSD *post-hoc* test used to determine which populations are different from each other.\n",
    "\n",
    "__Two-Way ANOVA__\n",
    "Data are grouped into different genotypes, within those groupings, sex is segregated. Thus two factors are varying across the examples\n",
    "\n",
    "\n",
    "\n",
    "One-Way example:\n",
    "\n",
    "* J Populations (or \"treatments\")\n",
    "* N samples per population\n",
    "* $H_0: \\mu_1 = \\mu_2 = \\mu_3 = \\mu_4$\n",
    "* $H_a$: One mean will be different from any of the others\n",
    "\n",
    "Three different types of CTDs in a water bath, each has four different measurements\n",
    "(does not require the same number of samples within each population)\n",
    "\n",
    "Use the F-statistic: The ratio of the variances of two groups of samples taken from a normal distribution follows an *F* distribution\n",
    "\n",
    "$$ F = \\frac{s_1^2}{s_2^2}$$\n",
    "\n",
    "The F distribution can be used to test whether variances are  significantly different. In the case of ANOVA, we want to test whether the variance of differences between different groups is larger than the variance within groups.\n",
    "\n",
    "Sum of Squares Between: SSB = $\\sum_{j=1}^J{N_j(\\bar{y_j}-\\bar{y})^2}$ where $\\bar{y_j}$ is the mean of each population and $\\bar{y}$ is the mean of all samples\n",
    "\n",
    "Mean Square Between: MSB = $\\frac{SSB}{J-1}$\n",
    "\n",
    "$J-1$ is the degrees of freedom in calculating MSB.\n",
    "\n",
    "Sum of Squares Within: SSW = $ \\sum_{j=1}^J{\\sum_{i=1}^{N_j}}({y_{ij}} - \\bar{y}_j)^2$\n",
    "\n",
    "Mean Square Within: MSW = $ \\frac{SSW} {(\\sum_{j=1}^J { N_j}) -J }$\n",
    "\n",
    "$\\sum_{j=1}^J ({ N_j} -J )$ is the degrees of freedom in calculating MSW. This is the total number of samples minus the number of groups.\n",
    "\n",
    "F-Distribution: $F =\\frac{MSB}{MSW}$\n",
    "\n",
    "\n",
    "The null hypothesis can be rejected if F is large. This is a one-tailed test, since small values of F do not lead to a rejection of the null hypothesis. The region of rejection is is above some critical level, which is determined by the confidence level and the degrees of freedon in the numerator and denominator.\n"
   ]
  },
  {
   "cell_type": "markdown",
   "metadata": {},
   "source": [
    "### Popular *post-hoc* tests ###\n",
    "\n",
    "* Fisher's LSD (least significant difference)\n",
    "\n",
    "* Tukey HSD (honest significant difference) \n"
   ]
  }
 ],
 "metadata": {
  "anaconda-cloud": {},
  "kernelspec": {
   "display_name": "Python 3.10.6 ('data-book')",
   "language": "python",
   "name": "python3"
  },
  "language_info": {
   "codemirror_mode": {
    "name": "ipython",
    "version": 3
   },
   "file_extension": ".py",
   "mimetype": "text/x-python",
   "name": "python",
   "nbconvert_exporter": "python",
   "pygments_lexer": "ipython3",
   "version": "3.10.6"
  },
  "vscode": {
   "interpreter": {
    "hash": "0ef88d3abb6b62f34a20525ce337090c4512fe8aecf32c74604482b944e1c3bd"
   }
  }
 },
 "nbformat": 4,
 "nbformat_minor": 4
}