{
 "cells": [
  {
   "cell_type": "markdown",
   "metadata": {},
   "source": [
    "# Error propagation \n",
    "\n",
    "## Motivation\n",
    "\n",
    "Say we have some function $f(x)$. We have measurements of the variable $x$ with some error $\\sigma_x$. We want to know the error in $f(x)$.\n",
    "\n",
    "The uncertainty in $f(x)$ depends on $\\sigma_x$ and the derivative $df/dx$."
   ]
  },
  {
   "cell_type": "code",
   "execution_count": 1,
   "metadata": {
    "tags": [
     "remove-input"
    ]
   },
   "outputs": [
    {
     "data": {
      "image/png": "[encoded data removed]",
      "text/plain": [
       "<Figure size 640x480 with 1 Axes>"
      ]
     },
     "metadata": {},
     "output_type": "display_data"
    }
   ],
   "source": [
    "import matplotlib.pyplot as plt\n",
    "import numpy as np\n",
    "\n",
    "x = np.linspace(0, 10)\n",
    "x1 = 3\n",
    "sigma1 = 1\n",
    "\n",
    "def f(x):\n",
    "    f = -x**3 + 10*x**2 + x\n",
    "    return f\n",
    "\n",
    "plt.figure()\n",
    "plt.plot(x, f(x))\n",
    "\n",
    "plt.plot([x1, x1],[0, f(x1)], 'k--')\n",
    "plt.plot([x1 + sigma1, x1 + sigma1],[0, f(x1 + sigma1)], 'k--')\n",
    "\n",
    "plt.plot([0, x1],[f(x1), f(x1)], 'k--')\n",
    "plt.plot([0, x1 + sigma1],[f(x1 + sigma1), f(x1 + sigma1)], 'k--')\n",
    "\n",
    "\n",
    "plt.xlim([0, 7])\n",
    "plt.ylim([0, 160])\n",
    "\n",
    "plt.text(0, f(x1), '$f(x)$', fontsize = 12, verticalalignment = 'bottom')\n",
    "plt.text(0, f(x1 + sigma1), '$f(x + \\sigma_x)$', fontsize = 14, verticalalignment = 'bottom')\n",
    "\n",
    "plt.text(x1, 0, '$x$', fontsize = 12, verticalalignment = 'bottom')\n",
    "plt.text(x1 + sigma1, 0, '$x + \\sigma_x$', fontsize = 12, verticalalignment = 'bottom')\n",
    "\n",
    "plt.xticks([]) \n",
    "plt.yticks([]);"
   ]
  },
  {
   "cell_type": "markdown",
   "metadata": {},
   "source": [
    "$$\\frac{df}{dx} \\approx \\frac{f(x + \\sigma_x) - f(x)}{\\sigma_x} $$\n",
    "\n",
    "$$ \\sigma_x \\frac{df}{dx} \\approx f(x + \\sigma_x) - f(x)$$"
   ]
  },
  {
   "cell_type": "markdown",
   "metadata": {},
   "source": [
    "## How error propagates through calculations and anlysis\n",
    "\n",
    "Now imagine you have three variables: <br>\n",
    "$a$, $b$, $c$ <br>\n",
    "Each of those variables has a measure of uncertainty: <br>\n",
    "$\\sigma_a,\\sigma_b,\\sigma_c$\n",
    "\n",
    "We want to know the uncertainty of a calculated variable $y = f(a,b,c)$ \n",
    "\n",
    "### Oceanographic example\n",
    "\n",
    "An oceanographic example would be density, which is usually expressed as a function of temperature, salinity and pressure. Oceanographers measure these parameters with a CTD (conductivity, temperature and depth) instrument. This instrument does measure salinity directly. Salinity is calculated as a function of conductivity, temperature and pressure. This means that errors in salinity are not independent of errors in temperature. When estimating the uncertainty in density, we have to think about how the errors in salinity and temperature co-vary.\n",
    "\n",
    "### General equation for uncertainty\n",
    "\n",
    "What is the uncertainty of y when measurements are dependant/inter-related?\n",
    "\n",
    "$\\sigma_y^2 \\approx \\sigma_a^2 \\left(\\frac{\\partial y}{\\partial a}\\right)^2 +\\sigma_b^2 \\left(\\frac{\\partial y}{\\partial b}\\right)^2 + \\sigma_c^2\\left(\\frac{\\partial y}{\\partial c}\\right)^2 + 2\\sigma_{ab} ^2 \\left(\\frac{\\partial y}{\\partial a}\\right)\\left(\\frac{\\partial y}{\\partial b}\\right) + 2\\sigma_{bc}^2 \\left(\\frac{\\partial y}{\\partial b}\\right)\\left(\\frac{\\partial y}{\\partial c}\\right) + 2\\sigma_{ac}^2 \\left(\\frac{\\partial y}{\\partial a}\\right) \\left(\\frac{\\partial y}{\\partial c}\\right)$\n",
    "\n",
    "This equation shows that the uncertainty in the calculated variable $y$ depends on:\n",
    "\n",
    "* The uncertainty in the measurement variables ($\\sigma_a,\\sigma_b,\\sigma_c$)\n",
    "\n",
    "* The covariance among measurment variables ($\\sigma_{ab}^2,\\sigma_{bc}^2,\\sigma_{ac}^2$)\n",
    "\n",
    "* The relationship between magnitudes of the measurement variables and calculated variable ($\\partial y$/$\\partial a$, $\\partial y$/$\\partial b$, $\\partial y$/$\\partial c$)\n",
    "\n",
    "### Simplified equation for uncertainty, if errors are uncorrelated\n",
    "\n",
    "If the errors are uncorrelated, the covariance terms are zero and the above equation simplifies to\n",
    "\n",
    "$\\sigma_y^2 \\approx \\sigma_a^2 \\left(\\frac{\\partial y}{\\partial a}\\right)^2 +\\sigma_b^2 \\left(\\frac{\\partial y}{\\partial b}\\right)^2 + \\sigma_c^2\\left(\\frac{\\partial y}{\\partial c}\\right)^2$\n",
    "\n",
    "## Special cases<br>\n",
    "\n",
    "Rules for error propagation in common operations can be derived from the equation above. If there all measurement variables are independent, then the terms involving covariance become zero. The examples listed below assume no correlation between measurement variables.\n",
    "\n",
    "A more complete table, including covariance terms, can be found on Wikipedia:\n",
    "https://en.wikipedia.org/wiki/Propagation_of_uncertainty#Example_formulas\n",
    "\n",
    "\n",
    "### Addition, subtractions \n",
    "\n",
    "$y = a + b - c$\n",
    "\n",
    "_error:_\n",
    "\n",
    "$\\sigma_y ^2  = \\sigma_a ^2(1)^2 + \\sigma_b ^2(1)^2 + \\sigma_c ^2(-1)^2$\n",
    "\n",
    "$\\sigma_y ^2  = \\sigma_a ^2 + \\sigma_b ^2 + \\sigma_c ^2$\n",
    "\n",
    "### Multiplication, division\n",
    "\n",
    "$y = \\frac{ab}{c}$\n",
    "\n",
    "_error_:\n",
    "\n",
    "$\\sigma_y ^2  = \\sigma_a ^2\\left(\\frac{b}{c}\\right)^2 + \\sigma_b ^2\\left(\\frac{a}{c}\\right)^2 + \\sigma_c ^2\\left(\\frac{-ab}{c^2}\\right)^2$\n",
    "\n",
    "_relative error:_\n",
    "\n",
    "$\\left(\\frac{\\sigma_y }{y}\\right)^2 = \\left(\\frac{\\sigma_a }{a}\\right)^2 + \\left(\\frac{\\sigma_b }{b}\\right)^2 + \\left(\\frac{\\sigma_c }{c}\\right)^2$\n",
    "\n",
    "### Multiplying by an exact number\n",
    "\n",
    "$y=ma$\n",
    "\n",
    "_error:_\n",
    "\n",
    "$(\\sigma_y) = m(\\sigma_a)$\n",
    "\n",
    "_relative error:_\n",
    "\n",
    "$\\left(\\frac{\\sigma_y}{y}\\right)^2 = \\left(\\frac{\\sigma_a}{a}\\right)^2$\n",
    "\n",
    "### Power\n",
    "\n",
    "$y = a^m$\n",
    "\n",
    "$(\\frac{\\sigma_y}{y})^2 = (m \\frac{\\sigma_a}{a})^2$\n",
    "\n",
    "### Natural log \n",
    "\n",
    "$y= \\ln{a}$\n",
    "\n",
    "$\\sigma_y = |\\frac{\\sigma_a}{a}|$\n",
    "\n",
    "### Log, base 10\n",
    "\n",
    "$y = \\log_{10}{a}$\n",
    "\n",
    "$\\sigma_y = |0.434 \\frac{\\sigma_a}{a}|$\n",
    "\n",
    "### Exponential\n",
    "\n",
    "$y = e^a$\n",
    "\n",
    "$\\sigma_y = |y \\sigma_a|$\n",
    "\n",
    "### Exponential, base 10\n",
    "\n",
    "$y = 10^a$ \n",
    "\n",
    "$\\sigma_y = |2.303 y \\sigma_a|$"
   ]
  },
  {
   "cell_type": "markdown",
   "metadata": {},
   "source": [
    "## Python uncertainties package\n",
    "\n",
    "The [uncertainties](https://pythonhosted.org/uncertainties/) package in Python makes it easy to keep track of uncertainties in complicated equations and account for correlations, which are ignored in the special cases above."
   ]
  },
  {
   "cell_type": "markdown",
   "metadata": {},
   "source": [
    "### Example"
   ]
  },
  {
   "cell_type": "markdown",
   "metadata": {},
   "source": [
    "__Example__: Measure diameter of a sphere:\n",
    "\n",
    "relative error = 10%\n",
    "\n",
    "Error in calculating volume?\n",
    "\n",
    "$V = \\frac{4}{3} \\pi r^3$"
   ]
  },
  {
   "cell_type": "markdown",
   "metadata": {},
   "source": [
    "This problem can be approached by breaking it into several parts. First, we have the relative error in measuring the diameter, what is the error in calculating the radius, \n",
    "\n",
    "$r = \\frac{1}{2}d$?\n",
    "\n",
    "The _absolute error_ changes when calculating the radius,\n",
    "\n",
    "$$\\sigma_r = \\frac{1}{2} \\sigma_d$$\n",
    "\n",
    "but the _relative error_ does not,\n",
    "\n",
    "$$\\frac{\\sigma_r}{r} = \\frac{\\sigma_d}{d}$$\n",
    "\n",
    "Similarly, the relative error of the volume, $V$, is equal to the relative error in calculating $r^3$,\n",
    "\n",
    "$$\\frac{\\sigma_V}{V} = \\frac{\\sigma_{r^3}}{r^3}$$\n",
    "\n",
    "The error in $r^3$ can be found by using the rule for powers,\n",
    "\n",
    "$$\\left(\\frac{\\sigma_{r^3}}{r^3}\\right) = 3 \\left(\\frac{\\sigma_r}{r}\\right)$$\n",
    "\n",
    "which is equivalent to \n",
    "\n",
    "$$\\left(\\frac{\\sigma_{V}}{V}\\right) = 3 \\left(\\frac{\\sigma_d}{d}\\right)$$\n",
    "\n",
    "$$\\left(\\frac{\\sigma_{V}}{V}\\right) = 3 \\left(0.1\\right) = 0.30$$\n"
   ]
  },
  {
   "cell_type": "markdown",
   "metadata": {},
   "source": [
    "This result can be checked with the uncertainties package."
   ]
  },
  {
   "cell_type": "code",
   "execution_count": 2,
   "metadata": {},
   "outputs": [
    {
     "data": {
      "text/plain": [
       "0.029999999999999995"
      ]
     },
     "execution_count": 2,
     "metadata": {},
     "output_type": "execute_result"
    }
   ],
   "source": [
    "from uncertainties import ufloat\n",
    "import numpy as np\n",
    "\n",
    "d = ufloat(10,0.1)\n",
    "V = (4/3)*np.pi*(0.5*d)**3\n",
    "V.std_dev/V.nominal_value"
   ]
  },
  {
   "cell_type": "markdown",
   "metadata": {},
   "source": [
    "## Application: Marine Carbonate Chemistry\n",
    "\n",
    "![images/carbonate_example.png](images/carbonate_example.png)\n",
    "\n",
    "[source](http://acmg.seas.harvard.edu/people/faculty/djj/book/bookchap6.html)\n",
    "\n",
    "Relative concentrations of dissolved CO2 and carbonate ions in seawater are determined by pH pf seawater and dissociation constants $K_1'$ and $K_2'$\n",
    "\n",
    "DIC = dissolved inorganic carbon\n",
    "\n",
    "DIC = [CO2] + [HCO3-] + [CO3-2]\n",
    "\n",
    "\n",
    "$CO_2 + H_2 O \\iff HCO_{3}^- + H^+$\n",
    "\n",
    "$k_1'= \\frac{[HCO3-][H^+]} {[CO_2]}$\n",
    "\n",
    "$HCO_3 ^- \\iff CO_3 ^2- +H^+$\n",
    "\n",
    "$k_2' =\\frac{ [CO3- ^2-][H^+]}{[HCO_3 ^-]}$\n",
    "\n",
    "\n",
    "partial pressure of CO2\n",
    "\n",
    "$pCO2 = \\frac{[CO2]}{K_{h,CO_2}}$\n",
    "Henry's law constant = 3.24X10$^-2$ $\\frac{mol}{kg atm}$ at 20 degrees C, s=35 PSU\n",
    "\n",
    "$pK_1' = 5.847$\n",
    "\n",
    "$pK_2' = 8.966$\n",
    "\n",
    "$pH = -\\log_{10}{[H^+]} \\to [H^+] = 10^{-pH}$\n",
    "\n",
    "$pK_1' = -\\log_{10}{K_1'} \\to K_1' = 10^{-pK}$\n",
    "\n",
    "We can measure pCO_2 and pH well, but not DIC, but not alkalinity\n",
    "\n",
    "$[CO_2] = \\frac{DIC} {1 + \\frac{k_1'}{H^+} + \\frac{k_1' k_2'}{[H^+]^2}}$\n",
    "\n",
    "\n",
    "Analytical error in pH = 0.0020<br>\n",
    "Analytical error in DIC = umol kg-1\n",
    "\n",
    "What is the $\\sigma_{H^+}$?\n",
    "\n",
    "$\\sigma_{H^+} = 2.303[H^+]\\sigma_{pH}$\n",
    "\n",
    "To get the order of magnitude assume a pH around 8.2 (typical for seawater)\n",
    "\n",
    "$[H^+] \\approx 10^{-8.2}$\n",
    "\n",
    "\n",
    "Chemical oceanographers may be interested in knowing the error in calculating the partial pressure of CO2 in seawater from these measurements. The PYCO2SYS package provides [tools for propagating uncertainty](https://pyco2sys.readthedocs.io/en/latest/uncertainty/) in its carbonate system calculations."
   ]
  },
  {
   "cell_type": "code",
   "execution_count": null,
   "metadata": {},
   "outputs": [],
   "source": []
  }
 ],
 "metadata": {
  "anaconda-cloud": {},
  "kernelspec": {
   "display_name": "Python 3 (ipykernel)",
   "language": "python",
   "name": "python3"
  },
  "language_info": {
   "codemirror_mode": {
    "name": "ipython",
    "version": 3
   },
   "file_extension": ".py",
   "mimetype": "text/x-python",
   "name": "python",
   "nbconvert_exporter": "python",
   "pygments_lexer": "ipython3",
   "version": "3.11.7"
  },
  "vscode": {
   "interpreter": {
    "hash": "0ef88d3abb6b62f34a20525ce337090c4512fe8aecf32c74604482b944e1c3bd"
   }
  }
 },
 "nbformat": 4,
 "nbformat_minor": 4
}