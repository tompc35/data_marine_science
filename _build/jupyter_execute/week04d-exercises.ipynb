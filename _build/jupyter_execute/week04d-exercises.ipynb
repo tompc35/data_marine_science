{
 "cells": [
  {
   "cell_type": "markdown",
   "metadata": {},
   "source": [
    "# Exercises \n",
    "\n",
    "### Interpretation of confidence intervals\n",
    "\n",
    "List your answers to the following true/false questions.\n",
    "\n",
    "![Conf-Int-Q.png](images/Conf-Int-Q.png)\n",
    "![Conf-Int-TF.png](images/Conf-Int-TF.png)\n",
    "\n",
    "### Confidence interval calculation\n",
    "\n",
    "For this problem, avoid using `scipy.stats` or any statistical functions. Feel free to use Python as a calculator.\n",
    "\n",
    "A set of 100 anchovy weight samples has a mean value of 13.95 g and a standard deviation of 9.52 g.\n",
    "\n",
    "a. Calculate the standard error. \n",
    "\n",
    "b. Calculate 95% confidence intervals for the mean.\n"
   ]
  },
  {
   "cell_type": "markdown",
   "metadata": {
    "jp-MarkdownHeadingCollapsed": true,
    "tags": []
   },
   "source": [
    "### Comparing respiration rates\n",
    "\n",
    "For the problem below, use any function in [`scipy.stats`](https://docs.scipy.org/doc/scipy/reference/stats.html) or other libraries such as [Pinguoin](https://pingouin-stats.org/).\n",
    "\n",
    "Water column respiration rates are measured in dark bottle incubations at two different stations on an oceanographic cruise. Three replicates are taken at each station. The values (in units of mL/L d$^{-1}$) are given below:\n",
    "\n",
    "Station A: ```[0.45, 0.77, 0.71]```\n",
    "\n",
    "Station B: ```[0.54, 0.43, 0.36]```\n",
    "\n",
    "Use an appropriate statistical test to determine whether there is a significant difference in the mean respiration rate between the two stations.    "
   ]
  },
  {
   "cell_type": "markdown",
   "metadata": {},
   "source": [
    "### Power analysis and experimental design (if time)\n",
    "\n",
    "You are studying the effects of a marine reserve on juvenile rockfish. Previous literature indicates that the juveniles of the species you are studying have a standard length of 70 +/- 30 mm (mean +/- standard deviation). The marine reserve will allow you to catch and release 20 fish for scientific purposes, and you plan on measuring the same number of fish outside the reserve for comparison.\n",
    "\n",
    "If your target power is 80% and your confidence level is 95%, what is the minimum difference in mean length you can expect to observe in the marine reserve? You can assume that the fish lengths are normally distributed.\n",
    "\n",
    "What is the probability of not observing a significant effect of this magnitude *if* there actually is one?"
   ]
  },
  {
   "cell_type": "markdown",
   "metadata": {
    "jupyter": {
     "outputs_hidden": true
    }
   },
   "source": [
    "```python\n",
    "from statsmodels.stats import power\n",
    "\n",
    "help(power.tt_solve_power)\n",
    "```"
   ]
  },
  {
   "cell_type": "markdown",
   "metadata": {
    "jp-MarkdownHeadingCollapsed": true,
    "tags": []
   },
   "source": [
    "### For loop - cumulative sum 1\n",
    "\n",
    "Write a for loop that prints out the cumulative sum of an array. For example, the cumulative sum of the array\n",
    "\n",
    "```python\n",
    "[1,3,6,4,7]\n",
    "```\n",
    "\n",
    "would be:\n",
    "\n",
    "```python\n",
    "[1,4,10,14,21]\n",
    "```\n",
    "\n",
    "Write out your algorithm first, and use the following code as a template (replace the dashes ----- with code).\n",
    "\n",
    "```python\n",
    "x = [1,3,6,4,7]\n",
    "\n",
    "cumsum = 0\n",
    "for val in x:\n",
    "    cumsum = -------\n",
    "    print(cumsum)\n",
    "```\n",
    "\n",
    "### For loop - cumulative sum 2\n",
    "\n",
    "Write a for loop that stores the cumulative sum of an array in another array. Use the `np.append()` function - see `help(np.append)` - and make sure that you have run `import numpy as np`  at the top of your program in order to use this function.\n",
    "\n",
    "```python\n",
    "x = [1,3,6,4,7]\n",
    "\n",
    "cumsum = 0\n",
    "cumsum_array = []\n",
    "for val in x:\n",
    "    cumsum = -------\n",
    "    cumsum_array = np.append(------,--------)\n",
    "\n",
    "print(cumsum_array)\n",
    "```\n",
    "\n",
    "### Fibonacci sequence (if time)\n",
    "\n",
    "Write a for loop that prints the first n numbers of the Fibonacci sequence:\n",
    "1,1,2,3,5,8,13…\n",
    "Write out your algorithm first, and start with the following minimal code. \n",
    "\n",
    "```python\n",
    "n = 10\n",
    "\n",
    "# insert code here\n",
    "```"
   ]
  },
  {
   "cell_type": "markdown",
   "metadata": {
    "jp-MarkdownHeadingCollapsed": true,
    "tags": []
   },
   "source": [
    "### Python function - temperature conversion\n",
    "\n",
    "Create a function that converts temperature from degrees Celsius to degrees Fahrenheit.\n",
    "\n",
    "Use the function created above to convert the following array of temperature values from degrees F to degrees C. Avoid using a for loop.\n",
    "\n",
    "```python\n",
    "temps_f = np.array([50.5, 58.4, 62.3, 49.2])\n",
    "``` "
   ]
  },
  {
   "cell_type": "markdown",
   "metadata": {},
   "source": [
    "### Stokes law function\n",
    "\n",
    "Stokes' law predicts the settling velocity (or \"terminal velocity\") of a sinking sphere, $v$ (units: m/s). The theoretical velocity is based on the radius of the particle, $r$ (units: m), the density of the particle  $\\rho_p$ (units: kg/m$^3$), the density of the ambient fluid $\\rho_f$, the dynamic viscosity of the ambient fluid $\\mu$ (units: kg/(m*s)), and the acceleration due to gravity $g$ (units: m/s$^2$):\n",
    "\n",
    "$$v = \\frac{2}{9}\\frac{(\\rho_p-\\rho_f)}{\\mu}g r^2$$\n",
    "\n",
    "Use the following template to create a function that calculates the velocity predicted by Stokes law:"
   ]
  },
  {
   "cell_type": "markdown",
   "metadata": {},
   "source": [
    "``` python\n",
    "def stokes_law(r,rho_p,rho_f,mu,g):\n",
    "    # insert code here\n",
    "    return v\n",
    "```"
   ]
  },
  {
   "cell_type": "markdown",
   "metadata": {},
   "source": [
    "Use your `stokes_law` function to estimate the settling velocity of the single-cell alga *Phaeocystis globosa*, assuming it is spherical. The radius of a typical cell is 46 $\\mu m$ and the typical cell density is 1091 kg/m$^3$. For standard seawater conditions (temperature = 10 deg C, practical salinity = 35) $\\rho_f$ = 1025 kg/m$^3$, $\\mu =$ 1.51 × 10$^{−3}$ kg/(m*s).\n",
    "\n",
    "Source: L. Peperzak, F. Colijn, R. Koeman, W. W. C. Gieskes, J. C. A. Joordens, Phytoplankton sinking rates in the Rhine region of freshwater influence, Journal of Plankton Research, Volume 25, Issue 4, April 2003, Pages 365–383, https://doi.org/10.1093/plankt/25.4.365"
   ]
  },
  {
   "cell_type": "markdown",
   "metadata": {},
   "source": [
    "10. Edit your function to use typical seawater values as defaults for  `rho_f` and `mu`."
   ]
  }
 ],
 "metadata": {
  "kernelspec": {
   "display_name": "Python 3.10.6 ('data-book')",
   "language": "python",
   "name": "python3"
  },
  "language_info": {
   "codemirror_mode": {
    "name": "ipython",
    "version": 3
   },
   "file_extension": ".py",
   "mimetype": "text/x-python",
   "name": "python",
   "nbconvert_exporter": "python",
   "pygments_lexer": "ipython3",
   "version": "3.10.6"
  },
  "vscode": {
   "interpreter": {
    "hash": "0ef88d3abb6b62f34a20525ce337090c4512fe8aecf32c74604482b944e1c3bd"
   }
  }
 },
 "nbformat": 4,
 "nbformat_minor": 4
}