{
 "cells": [
  {
   "cell_type": "markdown",
   "metadata": {},
   "source": [
    "## Filtering and Convolution\n",
    "\n",
    "__Convolution__ is a process of blending two functions together to create a third. The convolution of two functions $f$ and $g$ is symbolized mathematically as $(f * g)$.\n",
    "\n",
    "### Convolution steps\n",
    "\n",
    "For each point in $f$:\n",
    "1. Flip $g$ around\n",
    "2. Take product of $f$ and $g$ at all overlapping location times\n",
    "3. Add the resulting values together\n",
    "4. Move on to next point in $f$, repeat for different lag between $f$ and $g$\n",
    "\n",
    "This process is very similar to the procedures for cross-covariance of two functions $f$ and $g$, and auto-covariance of a single function $g$ with itself. "
   ]
  },
  {
   "cell_type": "markdown",
   "metadata": {},
   "source": [
    "![images/convolution2.png](images/convolution2.png)\n",
    "\n",
    "source: https://en.wikipedia.org/wiki/Convolution"
   ]
  },
  {
   "cell_type": "markdown",
   "metadata": {},
   "source": [
    "Expressing this procedure mathematically for two time series $f(t)$ and $g(t)$:\n",
    "\n",
    "- $f$ has M samples, $f_k$ where k = 1,2,3...M\n",
    "- $g$ has N samples, $g_i$ where i = 1,2,3...N\n",
    "    \n",
    "$ (f * g)_j = \\sum_{k=1}^M g_{j-k} f_k $\n",
    "    \n",
    "The resulting function has N+M-1 points."
   ]
  },
  {
   "cell_type": "markdown",
   "metadata": {},
   "source": [
    "### Filtering\n",
    "\n",
    "One of the common applications of convolution is *smoothing* data. Smoothing is used in time series analysis and image analysis to suppress noise or high-frequency variability. Another term for smoothing is *low-pass filter* becuase it suppresses high-frequency variability and allows low-frequency variability to pass through.\n",
    "\n",
    "One of the most common and intuitive smoothing operations is the __running Average__ (or *Box Car filter*). This involves taking the average over a certain block (30 hrs, 5 days ... etc), then moving forward in time and repeating the same process for the next segment of data."
   ]
  },
  {
   "cell_type": "markdown",
   "metadata": {},
   "source": [
    "Filtering is a type of convolution where\n",
    "- $f$ is a time series (observations)<br>\n",
    "- $g$ is a set of weights (filter)\n",
    "\n",
    "For a running average, the weights in $g$ are all identical and sum to one. If you plot the weights, the look like a rectangle, or \"box car\" shape.\n",
    "\n",
    "Another common filtering method is the __Hanning filter__, which is a raised cosine function. All the values are positive (and sum to 1). This weights nearby points more than those that are farther away. Choosing the best filter for a certain situation is a major topic in digital signal processing."
   ]
  },
  {
   "cell_type": "markdown",
   "metadata": {},
   "source": [
    "### What makes an ideal low pass filter? \n",
    "\n",
    "*Note:* Images in this section come from the excellent source at http://www.labbookpages.co.uk/audio/firWindowing.html\n",
    "\n",
    "For white noise (equal energy at all frequencies)\n",
    "* all energy in low frequencies (__pass band__) retrained\n",
    "* all energy in high frequencies (__stop band__) removed\n",
    "\n",
    "![images/filtering2.png](images/filtering2.png)\n",
    "\n",
    "Image source: http://www.labbookpages.co.uk/audio/firWindowing.html\n",
    "\n",
    "__Ideal filter__ <br>\n",
    "Assuming an infinite time series, the filter would look like a sinc function:<br>\n",
    "- sinc function is the FFT of a step function \n",
    "- convolving the sinc function with an infinitely long time series of white noise would give the step function in frequency content shown above\n",
    "- A sinc function would require an infinite number of weights (__this is NOT practical__)\n",
    "![images/filtering3.png](images/filtering3.png)\n",
    "\n",
    "Image source: http://www.labbookpages.co.uk/audio/firWindowing.html\n",
    "\n",
    "__Practical filter__ <br>\n",
    "Ideal filter tapered off a the edges with a window <br>\n",
    "![images/filtering4.png](images/filtering4.png)\n",
    "\n",
    "Image source: http://www.labbookpages.co.uk/audio/firWindowing.html\n",
    "\n",
    "__ Spectral characteristics of filters __ <br>\n",
    "Spectrum of white nose using this approach with two window types (box car and Hamming): <br>\n",
    "- Ripples in frequency response of rectangular box car window (spectral leakage)<br>\n",
    "- Hamming window has less ripples but a broader transition range (trade-off)<br>\n",
    "\n",
    "![images/filtering6.png](images/filtering6.png)\n",
    "\n",
    "Image source: http://www.labbookpages.co.uk/audio/firWindowing.html\n",
    "\n",
    "__dB - decibels __: logogrithmic unit used to describe attenuation (reduction of energy)\n",
    "\n",
    "$$ dB = 10 \\log_{10}\\left(\\frac{A^2}{A_0^2}\\right) $$ Where $ A_0 $ is a reference amplitude\n",
    "\n",
    "![images/filtering7.png](images/filtering7.png)\n",
    "\n",
    "Image source: http://www.labbookpages.co.uk/audio/firWindowing.html"
   ]
  },
  {
   "cell_type": "markdown",
   "metadata": {},
   "source": [
    "## Common oceanographic filters\n",
    "\n",
    "### Cosine-Lanczos Filter\n",
    "- \"Lancz7\" filter: designed to filter out energy at diurnal and tidal fequencies\n",
    "- Half amplitude period = 34.29 hours\n",
    "- Half amplitude frequency = 0.7 cpd\n",
    "![images/cos_lanc.png](images/cos_lanc.png)\n",
    "\n",
    "### PL64 Weights\n",
    "![images/PL64.png](images/PL64.png)\n",
    "\n",
    "source: CODE-2 Moored Array and Large-Scale Data Report, WHOI Tech. Rep. 85-35\n",
    "\n",
    "### Take Home Points: filtering <br>\n",
    "\n",
    "- Boxcar filters (running averages) are simple but not very effective\n",
    "\n",
    "- A normalized Hanning window improves on the boxcar by soothing out the abrupt edges\n",
    "\n",
    "- More sophisticated filters (e.g. cosine-Lanczos) get closer to an ideal spectral response but require a large number of weights; not practical for shorter time series"
   ]
  },
  {
   "cell_type": "markdown",
   "metadata": {},
   "source": [
    "## Practical implementation\n",
    "\n",
    "See example using data from the [Elkhorn Slough LOBO mooring](week11a-lobo-spectral-part2.ipynb)"
   ]
  }
 ],
 "metadata": {
  "kernelspec": {
   "display_name": "Python 3 (ipykernel)",
   "language": "python",
   "name": "python3"
  },
  "language_info": {
   "codemirror_mode": {
    "name": "ipython",
    "version": 3
   },
   "file_extension": ".py",
   "mimetype": "text/x-python",
   "name": "python",
   "nbconvert_exporter": "python",
   "pygments_lexer": "ipython3",
   "version": "3.11.7"
  },
  "vscode": {
   "interpreter": {
    "hash": "0ef88d3abb6b62f34a20525ce337090c4512fe8aecf32c74604482b944e1c3bd"
   }
  }
 },
 "nbformat": 4,
 "nbformat_minor": 4
}