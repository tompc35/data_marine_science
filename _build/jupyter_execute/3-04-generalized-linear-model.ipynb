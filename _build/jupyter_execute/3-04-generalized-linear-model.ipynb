{
 "cells": [
  {
   "cell_type": "markdown",
   "metadata": {},
   "source": [
    "# The generalized linear model ###\n",
    "\n",
    "#### Reference: \n",
    "\n",
    "http://statsthinking21.org\n",
    "\n",
    "* The general linear model\n",
    "* Comparing means"
   ]
  },
  {
   "cell_type": "markdown",
   "metadata": {},
   "source": [
    "## Common statistical tests as linear models ##\n",
    "\n",
    "Many statistical tests can be though of as implementations of the generalized linear model. Thinking of tests as part of a class of linear models can be more intuitive than thinking about how each test works individually.\n",
    "\n",
    "### Resources\n",
    "\n",
    "This approach is taken in Chapter 28 of *Statistical Thinking for the 21st Century* on comparing means:\n",
    "* http://statsthinking21.org/comparing-means.html\n",
    "\n",
    "A blog post by Jonas Kristoffer Lindeløv explains this approach for a wide array of statistical tests. Implementation of the statistical functions and linear models, with interpretations, are provided in both R and Python.\n",
    "* Original post (using R): https://lindeloev.github.io/tests-as-linear/\n",
    "* Python port: https://eigenfoo.xyz/tests-as-linear/\n",
    "\n",
    "### Examples\n",
    "\n",
    "The following examples show different ways of comparing means, using data from the 2007 West Coast Ocean Acidification cruise. The examples use quality controlled data from 0-10 dbar (upper 10m of the water column)."
   ]
  },
  {
   "cell_type": "markdown",
   "metadata": {},
   "source": [
    "#### Comparing two sample means (another example)\n",
    "\n",
    "The following shows the same calculations for temperature. In this case, the null hypothesis can be rejected at the 95% confidence level, and the 95% confidence intervals for the model slope do *not* overlap with zero."
   ]
  },
  {
   "cell_type": "markdown",
   "metadata": {},
   "source": [
    "Load 2007 data"
   ]
  },
  {
   "cell_type": "code",
   "execution_count": 1,
   "metadata": {},
   "outputs": [],
   "source": [
    "import numpy as np\n",
    "import pandas as pd\n",
    "import matplotlib.pyplot as plt\n",
    "\n",
    "from scipy import stats\n",
    "import statsmodels.formula.api as smf\n",
    "import pingouin as pg\n",
    "\n",
    "import PyCO2SYS as pyco2"
   ]
  },
  {
   "cell_type": "code",
   "execution_count": 2,
   "metadata": {},
   "outputs": [],
   "source": [
    "filename07 = 'data/wcoa_cruise_2007/32WC20070511.exc.csv'\n",
    "df07 = pd.read_csv(filename07,header=29,na_values=-999,parse_dates=[[6,7]])"
   ]
  },
  {
   "cell_type": "markdown",
   "metadata": {},
   "source": [
    "Use the PyCO2SYS package to calculate seawater carbon chemistry parameters.\n",
    "\n",
    "https://pyco2sys.readthedocs.io/en/latest/"
   ]
  },
  {
   "cell_type": "code",
   "execution_count": 3,
   "metadata": {},
   "outputs": [
    {
     "name": "stderr",
     "output_type": "stream",
     "text": [
      "/Users/tconnolly/opt/miniconda3/envs/ms263-24/lib/python3.11/site-packages/autograd/tracer.py:48: RuntimeWarning: invalid value encountered in sqrt\n",
      "  return f_raw(*args, **kwargs)\n",
      "/Users/tconnolly/opt/miniconda3/envs/ms263-24/lib/python3.11/site-packages/PyCO2SYS/equilibria/p1atm.py:99: RuntimeWarning: invalid value encountered in sqrt\n",
      "  lnKF = 1590.2 / TempK - 12.641 + 1.525 * IonS**0.5\n",
      "/Users/tconnolly/opt/miniconda3/envs/ms263-24/lib/python3.11/site-packages/PyCO2SYS/equilibria/p1atm.py:577: RuntimeWarning: overflow encountered in power\n",
      "  K1 = 10.0 ** -(pK1)\n",
      "/Users/tconnolly/opt/miniconda3/envs/ms263-24/lib/python3.11/site-packages/PyCO2SYS/equilibria/p1atm.py:583: RuntimeWarning: overflow encountered in power\n",
      "  K2 = 10.0 ** -(pK2)\n",
      "/Users/tconnolly/opt/miniconda3/envs/ms263-24/lib/python3.11/site-packages/PyCO2SYS/equilibria/p1atm.py:603: RuntimeWarning: overflow encountered in power\n",
      "  K1 = 10.0**-pK1\n",
      "/Users/tconnolly/opt/miniconda3/envs/ms263-24/lib/python3.11/site-packages/PyCO2SYS/equilibria/p1atm.py:611: RuntimeWarning: overflow encountered in power\n",
      "  K2 = 10.0**-pK2\n",
      "/Users/tconnolly/opt/miniconda3/envs/ms263-24/lib/python3.11/site-packages/PyCO2SYS/equilibria/p1atm.py:636: RuntimeWarning: overflow encountered in power\n",
      "  K1 = 10.0**-pK1\n",
      "/Users/tconnolly/opt/miniconda3/envs/ms263-24/lib/python3.11/site-packages/PyCO2SYS/equilibria/p1atm.py:641: RuntimeWarning: overflow encountered in power\n",
      "  K2 = 10.0**-pK2\n",
      "/Users/tconnolly/opt/miniconda3/envs/ms263-24/lib/python3.11/site-packages/PyCO2SYS/equilibria/p1atm.py:653: RuntimeWarning: overflow encountered in power\n",
      "  K1 = 10.0**-pK1\n",
      "/Users/tconnolly/opt/miniconda3/envs/ms263-24/lib/python3.11/site-packages/PyCO2SYS/equilibria/p1atm.py:658: RuntimeWarning: overflow encountered in power\n",
      "  K2 = 10.0**-pK2\n",
      "/Users/tconnolly/opt/miniconda3/envs/ms263-24/lib/python3.11/site-packages/PyCO2SYS/equilibria/p1atm.py:715: RuntimeWarning: overflow encountered in power\n",
      "  K2 = 10.0**-pK2\n",
      "/Users/tconnolly/opt/miniconda3/envs/ms263-24/lib/python3.11/site-packages/PyCO2SYS/solubility.py:41: RuntimeWarning: overflow encountered in power\n",
      "  KAr = 10.0**logKAr  # this is in (mol/kg-SW)^2\n",
      "/Users/tconnolly/opt/miniconda3/envs/ms263-24/lib/python3.11/site-packages/PyCO2SYS/solubility.py:25: RuntimeWarning: overflow encountered in power\n",
      "  KCa = 10.0**logKCa  # this is in (mol/kg-SW)^2 at zero pressure\n"
     ]
    }
   ],
   "source": [
    "c07 = pyco2.sys(df07['ALKALI'], df07['TCARBN'], 1, 2,\n",
    "               salinity=df07['CTDSAL'], temperature=df07['CTDTMP'], \n",
    "                pressure=df07['CTDPRS'])\n",
    "\n",
    "df07['OmegaA'] = c07['saturation_aragonite']"
   ]
  },
  {
   "cell_type": "markdown",
   "metadata": {},
   "source": [
    "#### Comparing two sample means (another example)\n",
    "\n",
    "The following shows the same calculations for temperature. In this case, the null hypothesis can be rejected at the 95% confidence level, and the 95% confidence intervals for the model slope do *not* overlap with zero."
   ]
  },
  {
   "cell_type": "markdown",
   "metadata": {},
   "source": [
    "#### Comparing one sample mean to a single value\n",
    "\n",
    "In this example the goal is to test whether the mean aragonite saturation state is different from a value of 1, a critical threshold for the ability of organisms to form calcium carbonate shells.\n",
    "\n",
    "* $H_0$: $\\bar{\\Omega}_A =$ 1\n",
    "* $H_A$: $\\bar{\\Omega}_A \\neq$ 1 \n",
    "\n",
    "The first step is to create a subset of good data from the upper 10m."
   ]
  },
  {
   "cell_type": "code",
   "execution_count": 4,
   "metadata": {},
   "outputs": [],
   "source": [
    "iisurf07 = ((df07['CTDPRS'] <= 10) &\n",
    "      (df07['NITRAT_FLAG_W'] == 2) & (df07['PHSPHT_FLAG_W'] == 2)\n",
    "      & (df07['CTDOXY_FLAG_W'] == 2) & (df07['CTDSAL_FLAG_W'] == 2) \n",
    "        & (df07['ALKALI_FLAG_W'] == 2) & (df07['TCARBN_FLAG_W'] == 2))\n",
    "\n",
    "df07surf = df07[iisurf07]"
   ]
  },
  {
   "cell_type": "markdown",
   "metadata": {},
   "source": [
    "A box plot is one way of showing the distribution of $\\Omega_A$ values.\n",
    "* Orange line: median, or 50th percentile\n",
    "* Upper/lower limits on box: interquartile range, or 75th/25th percentiles\n",
    "* Whiskers: each have length 1.5*interquartile range (pyplot default)\n",
    "* Circles: extreme values\n",
    "* Green triangle: mean\n",
    "* Notches on box: 95% confidence intervals for median"
   ]
  },
  {
   "cell_type": "code",
   "execution_count": 5,
   "metadata": {},
   "outputs": [
    {
     "data": {
      "text/plain": [
       "Text(0.5, 1.0, '$\\\\Omega_A$ - upper 10m 2007')"
      ]
     },
     "execution_count": 5,
     "metadata": {},
     "output_type": "execute_result"
    },
    {
     "data": {
      "image/png": "[encoded data removed]",
      "text/plain": [
       "<Figure size 640x480 with 1 Axes>"
      ]
     },
     "metadata": {},
     "output_type": "display_data"
    }
   ],
   "source": [
    "plt.figure()\n",
    "plt.boxplot(np.array(df07['OmegaA'][iisurf07]),labels=['2007'],showmeans=True,notch=True);\n",
    "plt.title('$\\Omega_A$ - upper 10m 2007')"
   ]
  },
  {
   "cell_type": "markdown",
   "metadata": {},
   "source": [
    "##### Method 1: one sample t-test"
   ]
  },
  {
   "cell_type": "markdown",
   "metadata": {},
   "source": [
    "A one-sample t-test can be used to test whether the null hypothesis can be rejected at the 95% confidence level ($\\alpha$ = 0.05). "
   ]
  },
  {
   "cell_type": "code",
   "execution_count": 6,
   "metadata": {},
   "outputs": [
    {
     "data": {
      "text/plain": [
       "TtestResult(statistic=27.74228835972303, pvalue=4.457126416644382e-58, df=137)"
      ]
     },
     "execution_count": 6,
     "metadata": {},
     "output_type": "execute_result"
    }
   ],
   "source": [
    "stats.ttest_1samp(np.array(df07surf['OmegaA']),popmean=1)"
   ]
  },
  {
   "cell_type": "markdown",
   "metadata": {},
   "source": [
    "##### Method 2: generalized linear model"
   ]
  },
  {
   "cell_type": "markdown",
   "metadata": {},
   "source": [
    "Alternatively, this test can be framed in terms of a general linear model\n",
    "\n",
    "$$ \\hat{y} = \\hat{a}_1 + \\hat{a}_2 x ,$$\n",
    "\n",
    "In this application, $y$ represents the $\\Omega_A$ data. There is only one group, so we can set $x = 0$ for all values, making the slope parameter $\\hat{a}_2$ irrelevant. The model then reduces to\n",
    "\n",
    "$$ \\hat{y} = \\hat{a}_1 ,$$\n",
    "\n",
    "or a model for the intercept parameter only. This equation can also be expressed as\n",
    "\n",
    "$$ \\hat{y} = \\hat{a}_1 \\times 1.$$\n",
    "\n",
    "This model for the data in terms of a constant intercept can be implemented with the `statsmodels` library:"
   ]
  },
  {
   "cell_type": "code",
   "execution_count": 7,
   "metadata": {},
   "outputs": [],
   "source": [
    "res = smf.ols(formula=\"OmegaA ~ 1\", data=df07surf).fit()"
   ]
  },
  {
   "cell_type": "markdown",
   "metadata": {},
   "source": [
    "The summary of the results shows that the intercept is 2.33, which is also the mean of the data. The 95% confidence intervals do not overlap with 1, which means that the null hypothesis can be rejected at $\\alpha$ = 0.05. This approach to hypothesis testing will give the same results as the one sample t-test for $N$ > 14.\n",
    "\n",
    "Notice that the test statistic $t$ is different from the one sample t-test. This is because `statsmodels` automatically tests whether parameters are different from *zero*, while in this case we are interested in whether the mean/intercept is different from *one*."
   ]
  },
  {
   "cell_type": "code",
   "execution_count": 8,
   "metadata": {},
   "outputs": [
    {
     "data": {
      "text/html": [
       "<table class=\"simpletable\">\n",
       "<caption>OLS Regression Results</caption>\n",
       "<tr>\n",
       "  <th>Dep. Variable:</th>         <td>OmegaA</td>      <th>  R-squared:         </th> <td>   0.000</td>\n",
       "</tr>\n",
       "<tr>\n",
       "  <th>Model:</th>                   <td>OLS</td>       <th>  Adj. R-squared:    </th> <td>   0.000</td>\n",
       "</tr>\n",
       "<tr>\n",
       "  <th>Method:</th>             <td>Least Squares</td>  <th>  F-statistic:       </th> <td>     nan</td>\n",
       "</tr>\n",
       "<tr>\n",
       "  <th>Date:</th>             <td>Mon, 05 Feb 2024</td> <th>  Prob (F-statistic):</th>  <td>   nan</td> \n",
       "</tr>\n",
       "<tr>\n",
       "  <th>Time:</th>                 <td>20:47:24</td>     <th>  Log-Likelihood:    </th> <td> -102.08</td>\n",
       "</tr>\n",
       "<tr>\n",
       "  <th>No. Observations:</th>      <td>   138</td>      <th>  AIC:               </th> <td>   206.2</td>\n",
       "</tr>\n",
       "<tr>\n",
       "  <th>Df Residuals:</th>          <td>   137</td>      <th>  BIC:               </th> <td>   209.1</td>\n",
       "</tr>\n",
       "<tr>\n",
       "  <th>Df Model:</th>              <td>     0</td>      <th>                     </th>     <td> </td>   \n",
       "</tr>\n",
       "<tr>\n",
       "  <th>Covariance Type:</th>      <td>nonrobust</td>    <th>                     </th>     <td> </td>   \n",
       "</tr>\n",
       "</table>\n",
       "<table class=\"simpletable\">\n",
       "<tr>\n",
       "      <td></td>         <th>coef</th>     <th>std err</th>      <th>t</th>      <th>P>|t|</th>  <th>[0.025</th>    <th>0.975]</th>  \n",
       "</tr>\n",
       "<tr>\n",
       "  <th>Intercept</th> <td>    2.2017</td> <td>    0.043</td> <td>   50.827</td> <td> 0.000</td> <td>    2.116</td> <td>    2.287</td>\n",
       "</tr>\n",
       "</table>\n",
       "<table class=\"simpletable\">\n",
       "<tr>\n",
       "  <th>Omnibus:</th>       <td> 7.228</td> <th>  Durbin-Watson:     </th> <td>   0.655</td>\n",
       "</tr>\n",
       "<tr>\n",
       "  <th>Prob(Omnibus):</th> <td> 0.027</td> <th>  Jarque-Bera (JB):  </th> <td>  11.596</td>\n",
       "</tr>\n",
       "<tr>\n",
       "  <th>Skew:</th>          <td> 0.177</td> <th>  Prob(JB):          </th> <td> 0.00303</td>\n",
       "</tr>\n",
       "<tr>\n",
       "  <th>Kurtosis:</th>      <td> 4.375</td> <th>  Cond. No.          </th> <td>    1.00</td>\n",
       "</tr>\n",
       "</table><br/><br/>Notes:<br/>[1] Standard Errors assume that the covariance matrix of the errors is correctly specified."
      ],
      "text/latex": [
       "\\begin{center}\n",
       "\\begin{tabular}{lclc}\n",
       "\\toprule\n",
       "\\textbf{Dep. Variable:}    &      OmegaA      & \\textbf{  R-squared:         } &     0.000   \\\\\n",
       "\\textbf{Model:}            &       OLS        & \\textbf{  Adj. R-squared:    } &     0.000   \\\\\n",
       "\\textbf{Method:}           &  Least Squares   & \\textbf{  F-statistic:       } &       nan   \\\\\n",
       "\\textbf{Date:}             & Mon, 05 Feb 2024 & \\textbf{  Prob (F-statistic):} &      nan    \\\\\n",
       "\\textbf{Time:}             &     20:47:24     & \\textbf{  Log-Likelihood:    } &   -102.08   \\\\\n",
       "\\textbf{No. Observations:} &         138      & \\textbf{  AIC:               } &     206.2   \\\\\n",
       "\\textbf{Df Residuals:}     &         137      & \\textbf{  BIC:               } &     209.1   \\\\\n",
       "\\textbf{Df Model:}         &           0      & \\textbf{                     } &             \\\\\n",
       "\\textbf{Covariance Type:}  &    nonrobust     & \\textbf{                     } &             \\\\\n",
       "\\bottomrule\n",
       "\\end{tabular}\n",
       "\\begin{tabular}{lcccccc}\n",
       "                   & \\textbf{coef} & \\textbf{std err} & \\textbf{t} & \\textbf{P$> |$t$|$} & \\textbf{[0.025} & \\textbf{0.975]}  \\\\\n",
       "\\midrule\n",
       "\\textbf{Intercept} &       2.2017  &        0.043     &    50.827  &         0.000        &        2.116    &        2.287     \\\\\n",
       "\\bottomrule\n",
       "\\end{tabular}\n",
       "\\begin{tabular}{lclc}\n",
       "\\textbf{Omnibus:}       &  7.228 & \\textbf{  Durbin-Watson:     } &    0.655  \\\\\n",
       "\\textbf{Prob(Omnibus):} &  0.027 & \\textbf{  Jarque-Bera (JB):  } &   11.596  \\\\\n",
       "\\textbf{Skew:}          &  0.177 & \\textbf{  Prob(JB):          } &  0.00303  \\\\\n",
       "\\textbf{Kurtosis:}      &  4.375 & \\textbf{  Cond. No.          } &     1.00  \\\\\n",
       "\\bottomrule\n",
       "\\end{tabular}\n",
       "%\\caption{OLS Regression Results}\n",
       "\\end{center}\n",
       "\n",
       "Notes: \\newline\n",
       " [1] Standard Errors assume that the covariance matrix of the errors is correctly specified."
      ],
      "text/plain": [
       "<class 'statsmodels.iolib.summary.Summary'>\n",
       "\"\"\"\n",
       "                            OLS Regression Results                            \n",
       "==============================================================================\n",
       "Dep. Variable:                 OmegaA   R-squared:                       0.000\n",
       "Model:                            OLS   Adj. R-squared:                  0.000\n",
       "Method:                 Least Squares   F-statistic:                       nan\n",
       "Date:                Mon, 05 Feb 2024   Prob (F-statistic):                nan\n",
       "Time:                        20:47:24   Log-Likelihood:                -102.08\n",
       "No. Observations:                 138   AIC:                             206.2\n",
       "Df Residuals:                     137   BIC:                             209.1\n",
       "Df Model:                           0                                         \n",
       "Covariance Type:            nonrobust                                         \n",
       "==============================================================================\n",
       "                 coef    std err          t      P>|t|      [0.025      0.975]\n",
       "------------------------------------------------------------------------------\n",
       "Intercept      2.2017      0.043     50.827      0.000       2.116       2.287\n",
       "==============================================================================\n",
       "Omnibus:                        7.228   Durbin-Watson:                   0.655\n",
       "Prob(Omnibus):                  0.027   Jarque-Bera (JB):               11.596\n",
       "Skew:                           0.177   Prob(JB):                      0.00303\n",
       "Kurtosis:                       4.375   Cond. No.                         1.00\n",
       "==============================================================================\n",
       "\n",
       "Notes:\n",
       "[1] Standard Errors assume that the covariance matrix of the errors is correctly specified.\n",
       "\"\"\""
      ]
     },
     "execution_count": 8,
     "metadata": {},
     "output_type": "execute_result"
    }
   ],
   "source": [
    "res.summary()"
   ]
  },
  {
   "cell_type": "markdown",
   "metadata": {},
   "source": [
    "#### Comparing two sample means\n",
    "\n",
    "We can also apply the generalized linear model approach when comparing two means. In this case, we will examine whether there is a statistically significant difference between the mean of $\\Omega_A$ to the north and south of Cape Mendocino. At a latitude of 40.4$^o$N, Cape Mendocino represents a sharp transition point in many oceanographic processes and water masses.\n",
    "\n",
    "The first steps are to make two subsets based on latitude, and then visualize the results in a box plot."
   ]
  },
  {
   "cell_type": "code",
   "execution_count": 9,
   "metadata": {},
   "outputs": [],
   "source": [
    "# create a new boolean variable in the df07surf dataframe\n",
    "df07surf = df07[iisurf07]\n",
    "df07surf = df07surf.assign(is_northern = df07surf['LATITUDE'] > 40.4);\n",
    "\n",
    "iinorth = np.array(df07surf.is_northern == True)\n",
    "iisouth = np.array(df07surf.is_northern == False)"
   ]
  },
  {
   "cell_type": "code",
   "execution_count": 10,
   "metadata": {},
   "outputs": [
    {
     "data": {
      "text/plain": [
       "Text(0.5, 1.0, '$\\\\Omega_A$ - upper 10m 2007')"
      ]
     },
     "execution_count": 10,
     "metadata": {},
     "output_type": "execute_result"
    },
    {
     "data": {
      "image/png": "[encoded data removed]",
      "text/plain": [
       "<Figure size 640x480 with 1 Axes>"
      ]
     },
     "metadata": {},
     "output_type": "display_data"
    }
   ],
   "source": [
    "plt.figure()\n",
    "plt.boxplot([df07surf['OmegaA'][iisouth],df07surf['OmegaA'][iinorth]],\n",
    "            labels=['0\\n(South)','1\\n(North)'],showmeans=True,notch=True)\n",
    "plt.title('$\\Omega_A$ - upper 10m 2007')"
   ]
  },
  {
   "cell_type": "markdown",
   "metadata": {},
   "source": [
    "##### Method 1: t-test"
   ]
  },
  {
   "cell_type": "markdown",
   "metadata": {},
   "source": [
    "There is a difference of 0.104 in the mean of $\\Omega_A$ between the two regions."
   ]
  },
  {
   "cell_type": "code",
   "execution_count": 11,
   "metadata": {},
   "outputs": [
    {
     "data": {
      "text/plain": [
       "-0.03056105006487364"
      ]
     },
     "execution_count": 11,
     "metadata": {},
     "output_type": "execute_result"
    }
   ],
   "source": [
    "np.mean(df07surf['OmegaA'][iinorth]) - np.mean(df07surf['OmegaA'][iisouth])"
   ]
  },
  {
   "cell_type": "markdown",
   "metadata": {},
   "source": [
    "Is this difference statistically significant? A Student's t-test can be used to test whether the null hypothesis of no difference can be rejected at the 95% confidence level. "
   ]
  },
  {
   "cell_type": "code",
   "execution_count": 12,
   "metadata": {},
   "outputs": [
    {
     "data": {
      "text/plain": [
       "TtestResult(statistic=-0.3235609219137568, pvalue=0.7467674907175257, df=136.0)"
      ]
     },
     "execution_count": 12,
     "metadata": {},
     "output_type": "execute_result"
    }
   ],
   "source": [
    "stats.ttest_ind(df07surf['OmegaA'][iinorth],df07surf['OmegaA'][iisouth],equal_var=True)"
   ]
  },
  {
   "cell_type": "markdown",
   "metadata": {},
   "source": [
    "A Welch's t-test relaxes the assumption of equal variance."
   ]
  },
  {
   "cell_type": "code",
   "execution_count": 13,
   "metadata": {},
   "outputs": [
    {
     "data": {
      "text/plain": [
       "TtestResult(statistic=-0.30410900939221397, pvalue=0.7619693293723315, df=68.30826199338686)"
      ]
     },
     "execution_count": 13,
     "metadata": {},
     "output_type": "execute_result"
    }
   ],
   "source": [
    "stats.ttest_ind(df07surf['OmegaA'][iinorth],df07surf['OmegaA'][iisouth],equal_var=False)"
   ]
  },
  {
   "cell_type": "markdown",
   "metadata": {},
   "source": [
    "##### Method 2: generalized linear model\n",
    "\n",
    "This test can also be framed in terms of a general linear model\n",
    "\n",
    "$$ \\hat{y} = \\hat{a}_1 + \\hat{a}_2 x .$$\n",
    "\n",
    "Again, $\\hat{y}$ is a model for the aragonite saturation state data. In this case, we can think of the southern data points as having $x = 0$ and the northern data points as having $x = 1$.\n",
    "\n",
    "In this model, the intercept parameter $\\hat{a}_1$ is the mean of the points with $x = 0$, the southern points.\n",
    "\n",
    "The slope parameter $\\hat{a}_2$ is equal to the difference between the means of the two groups.\n",
    "\n",
    "$$ slope = \\frac{\\Delta\\bar{y}}{\\Delta x} = \\frac{\\Delta\\bar{y}}{1} = \\Delta\\bar{y}$$ "
   ]
  },
  {
   "cell_type": "code",
   "execution_count": 14,
   "metadata": {},
   "outputs": [],
   "source": [
    "res = smf.ols(formula=\"OmegaA ~ is_northern\", data=df07surf).fit()"
   ]
  },
  {
   "cell_type": "markdown",
   "metadata": {},
   "source": [
    "The results are summarized below. The slope parameter $\\hat{a}_2$ in our model is the coefficient for the `is_northern` variable. This is a Boolean variable that is equal to 0 (`False`) for southern points and 1 (`True`) for northern points. Notice that this coefficient is equal to 0.104, which the same as the difference between the two means.\n",
    "\n",
    "Also notice that the 95% confidence intervals (shown as the `[0.025 0.975]` interval) overlap 0 for this parameter. This means that the difference is not statistically significant at the 95% confidence ($\\alpha$ = 0.05) level. This summary also shows a t-statistic and p-value for this parameter, which are equivalent to the Student's t-test result shown above."
   ]
  },
  {
   "cell_type": "code",
   "execution_count": 15,
   "metadata": {},
   "outputs": [
    {
     "data": {
      "text/html": [
       "<table class=\"simpletable\">\n",
       "<caption>OLS Regression Results</caption>\n",
       "<tr>\n",
       "  <th>Dep. Variable:</th>         <td>OmegaA</td>      <th>  R-squared:         </th> <td>   0.001</td>\n",
       "</tr>\n",
       "<tr>\n",
       "  <th>Model:</th>                   <td>OLS</td>       <th>  Adj. R-squared:    </th> <td>  -0.007</td>\n",
       "</tr>\n",
       "<tr>\n",
       "  <th>Method:</th>             <td>Least Squares</td>  <th>  F-statistic:       </th> <td>  0.1047</td>\n",
       "</tr>\n",
       "<tr>\n",
       "  <th>Date:</th>             <td>Mon, 05 Feb 2024</td> <th>  Prob (F-statistic):</th>  <td> 0.747</td> \n",
       "</tr>\n",
       "<tr>\n",
       "  <th>Time:</th>                 <td>20:47:25</td>     <th>  Log-Likelihood:    </th> <td> -102.03</td>\n",
       "</tr>\n",
       "<tr>\n",
       "  <th>No. Observations:</th>      <td>   138</td>      <th>  AIC:               </th> <td>   208.1</td>\n",
       "</tr>\n",
       "<tr>\n",
       "  <th>Df Residuals:</th>          <td>   136</td>      <th>  BIC:               </th> <td>   213.9</td>\n",
       "</tr>\n",
       "<tr>\n",
       "  <th>Df Model:</th>              <td>     1</td>      <th>                     </th>     <td> </td>   \n",
       "</tr>\n",
       "<tr>\n",
       "  <th>Covariance Type:</th>      <td>nonrobust</td>    <th>                     </th>     <td> </td>   \n",
       "</tr>\n",
       "</table>\n",
       "<table class=\"simpletable\">\n",
       "<tr>\n",
       "           <td></td>              <th>coef</th>     <th>std err</th>      <th>t</th>      <th>P>|t|</th>  <th>[0.025</th>    <th>0.975]</th>  \n",
       "</tr>\n",
       "<tr>\n",
       "  <th>Intercept</th>           <td>    2.2110</td> <td>    0.052</td> <td>   42.433</td> <td> 0.000</td> <td>    2.108</td> <td>    2.314</td>\n",
       "</tr>\n",
       "<tr>\n",
       "  <th>is_northern[T.True]</th> <td>   -0.0306</td> <td>    0.094</td> <td>   -0.324</td> <td> 0.747</td> <td>   -0.217</td> <td>    0.156</td>\n",
       "</tr>\n",
       "</table>\n",
       "<table class=\"simpletable\">\n",
       "<tr>\n",
       "  <th>Omnibus:</th>       <td> 7.460</td> <th>  Durbin-Watson:     </th> <td>   0.655</td>\n",
       "</tr>\n",
       "<tr>\n",
       "  <th>Prob(Omnibus):</th> <td> 0.024</td> <th>  Jarque-Bera (JB):  </th> <td>  12.047</td>\n",
       "</tr>\n",
       "<tr>\n",
       "  <th>Skew:</th>          <td> 0.189</td> <th>  Prob(JB):          </th> <td> 0.00242</td>\n",
       "</tr>\n",
       "<tr>\n",
       "  <th>Kurtosis:</th>      <td> 4.397</td> <th>  Cond. No.          </th> <td>    2.42</td>\n",
       "</tr>\n",
       "</table><br/><br/>Notes:<br/>[1] Standard Errors assume that the covariance matrix of the errors is correctly specified."
      ],
      "text/latex": [
       "\\begin{center}\n",
       "\\begin{tabular}{lclc}\n",
       "\\toprule\n",
       "\\textbf{Dep. Variable:}       &      OmegaA      & \\textbf{  R-squared:         } &     0.001   \\\\\n",
       "\\textbf{Model:}               &       OLS        & \\textbf{  Adj. R-squared:    } &    -0.007   \\\\\n",
       "\\textbf{Method:}              &  Least Squares   & \\textbf{  F-statistic:       } &    0.1047   \\\\\n",
       "\\textbf{Date:}                & Mon, 05 Feb 2024 & \\textbf{  Prob (F-statistic):} &    0.747    \\\\\n",
       "\\textbf{Time:}                &     20:47:25     & \\textbf{  Log-Likelihood:    } &   -102.03   \\\\\n",
       "\\textbf{No. Observations:}    &         138      & \\textbf{  AIC:               } &     208.1   \\\\\n",
       "\\textbf{Df Residuals:}        &         136      & \\textbf{  BIC:               } &     213.9   \\\\\n",
       "\\textbf{Df Model:}            &           1      & \\textbf{                     } &             \\\\\n",
       "\\textbf{Covariance Type:}     &    nonrobust     & \\textbf{                     } &             \\\\\n",
       "\\bottomrule\n",
       "\\end{tabular}\n",
       "\\begin{tabular}{lcccccc}\n",
       "                              & \\textbf{coef} & \\textbf{std err} & \\textbf{t} & \\textbf{P$> |$t$|$} & \\textbf{[0.025} & \\textbf{0.975]}  \\\\\n",
       "\\midrule\n",
       "\\textbf{Intercept}            &       2.2110  &        0.052     &    42.433  &         0.000        &        2.108    &        2.314     \\\\\n",
       "\\textbf{is\\_northern[T.True]} &      -0.0306  &        0.094     &    -0.324  &         0.747        &       -0.217    &        0.156     \\\\\n",
       "\\bottomrule\n",
       "\\end{tabular}\n",
       "\\begin{tabular}{lclc}\n",
       "\\textbf{Omnibus:}       &  7.460 & \\textbf{  Durbin-Watson:     } &    0.655  \\\\\n",
       "\\textbf{Prob(Omnibus):} &  0.024 & \\textbf{  Jarque-Bera (JB):  } &   12.047  \\\\\n",
       "\\textbf{Skew:}          &  0.189 & \\textbf{  Prob(JB):          } &  0.00242  \\\\\n",
       "\\textbf{Kurtosis:}      &  4.397 & \\textbf{  Cond. No.          } &     2.42  \\\\\n",
       "\\bottomrule\n",
       "\\end{tabular}\n",
       "%\\caption{OLS Regression Results}\n",
       "\\end{center}\n",
       "\n",
       "Notes: \\newline\n",
       " [1] Standard Errors assume that the covariance matrix of the errors is correctly specified."
      ],
      "text/plain": [
       "<class 'statsmodels.iolib.summary.Summary'>\n",
       "\"\"\"\n",
       "                            OLS Regression Results                            \n",
       "==============================================================================\n",
       "Dep. Variable:                 OmegaA   R-squared:                       0.001\n",
       "Model:                            OLS   Adj. R-squared:                 -0.007\n",
       "Method:                 Least Squares   F-statistic:                    0.1047\n",
       "Date:                Mon, 05 Feb 2024   Prob (F-statistic):              0.747\n",
       "Time:                        20:47:25   Log-Likelihood:                -102.03\n",
       "No. Observations:                 138   AIC:                             208.1\n",
       "Df Residuals:                     136   BIC:                             213.9\n",
       "Df Model:                           1                                         \n",
       "Covariance Type:            nonrobust                                         \n",
       "=======================================================================================\n",
       "                          coef    std err          t      P>|t|      [0.025      0.975]\n",
       "---------------------------------------------------------------------------------------\n",
       "Intercept               2.2110      0.052     42.433      0.000       2.108       2.314\n",
       "is_northern[T.True]    -0.0306      0.094     -0.324      0.747      -0.217       0.156\n",
       "==============================================================================\n",
       "Omnibus:                        7.460   Durbin-Watson:                   0.655\n",
       "Prob(Omnibus):                  0.024   Jarque-Bera (JB):               12.047\n",
       "Skew:                           0.189   Prob(JB):                      0.00242\n",
       "Kurtosis:                       4.397   Cond. No.                         2.42\n",
       "==============================================================================\n",
       "\n",
       "Notes:\n",
       "[1] Standard Errors assume that the covariance matrix of the errors is correctly specified.\n",
       "\"\"\""
      ]
     },
     "execution_count": 15,
     "metadata": {},
     "output_type": "execute_result"
    }
   ],
   "source": [
    "res.summary()"
   ]
  },
  {
   "cell_type": "markdown",
   "metadata": {},
   "source": [
    "#### Comparing two sample means (another example)\n",
    "\n",
    "The following shows the same calculations for temperature. In this case, the null hypothesis can be rejected at the 95% confidence level, and the 95% confidence intervals for the model slope do *not* overlap with zero."
   ]
  },
  {
   "cell_type": "code",
   "execution_count": 16,
   "metadata": {},
   "outputs": [
    {
     "data": {
      "text/plain": [
       "Text(0.5, 1.0, 'CTDTMP - upper 10m 2007')"
      ]
     },
     "execution_count": 16,
     "metadata": {},
     "output_type": "execute_result"
    },
    {
     "data": {
      "image/png": "[encoded data removed]",
      "text/plain": [
       "<Figure size 640x480 with 1 Axes>"
      ]
     },
     "metadata": {},
     "output_type": "display_data"
    }
   ],
   "source": [
    "plt.figure()\n",
    "plt.boxplot([df07surf['CTDTMP'][iisouth],df07surf['CTDTMP'][iinorth]],\n",
    "            labels=['South','North'],showmeans=True,notch=True);\n",
    "plt.title('CTDTMP - upper 10m 2007')"
   ]
  },
  {
   "cell_type": "code",
   "execution_count": 17,
   "metadata": {},
   "outputs": [
    {
     "data": {
      "text/plain": [
       "TtestResult(statistic=-7.375689840798797, pvalue=1.4522086213500351e-11, df=136.0)"
      ]
     },
     "execution_count": 17,
     "metadata": {},
     "output_type": "execute_result"
    }
   ],
   "source": [
    "stats.ttest_ind(df07surf['CTDTMP'][iinorth],df07surf['CTDTMP'][iisouth],equal_var=True)"
   ]
  },
  {
   "cell_type": "code",
   "execution_count": 18,
   "metadata": {},
   "outputs": [
    {
     "data": {
      "text/plain": [
       "TtestResult(statistic=-9.799130523807385, pvalue=1.7823812194777297e-17, df=135.81872638961434)"
      ]
     },
     "execution_count": 18,
     "metadata": {},
     "output_type": "execute_result"
    }
   ],
   "source": [
    "stats.ttest_ind(df07surf['CTDTMP'][iinorth],df07surf['CTDTMP'][iisouth],equal_var=False)"
   ]
  },
  {
   "cell_type": "code",
   "execution_count": 19,
   "metadata": {},
   "outputs": [
    {
     "data": {
      "text/html": [
       "<table class=\"simpletable\">\n",
       "<caption>OLS Regression Results</caption>\n",
       "<tr>\n",
       "  <th>Dep. Variable:</th>         <td>CTDTMP</td>      <th>  R-squared:         </th> <td>   0.286</td>\n",
       "</tr>\n",
       "<tr>\n",
       "  <th>Model:</th>                   <td>OLS</td>       <th>  Adj. R-squared:    </th> <td>   0.280</td>\n",
       "</tr>\n",
       "<tr>\n",
       "  <th>Method:</th>             <td>Least Squares</td>  <th>  F-statistic:       </th> <td>   54.40</td>\n",
       "</tr>\n",
       "<tr>\n",
       "  <th>Date:</th>             <td>Mon, 05 Feb 2024</td> <th>  Prob (F-statistic):</th> <td>1.45e-11</td>\n",
       "</tr>\n",
       "<tr>\n",
       "  <th>Time:</th>                 <td>20:47:25</td>     <th>  Log-Likelihood:    </th> <td> -310.63</td>\n",
       "</tr>\n",
       "<tr>\n",
       "  <th>No. Observations:</th>      <td>   138</td>      <th>  AIC:               </th> <td>   625.3</td>\n",
       "</tr>\n",
       "<tr>\n",
       "  <th>Df Residuals:</th>          <td>   136</td>      <th>  BIC:               </th> <td>   631.1</td>\n",
       "</tr>\n",
       "<tr>\n",
       "  <th>Df Model:</th>              <td>     1</td>      <th>                     </th>     <td> </td>   \n",
       "</tr>\n",
       "<tr>\n",
       "  <th>Covariance Type:</th>      <td>nonrobust</td>    <th>                     </th>     <td> </td>   \n",
       "</tr>\n",
       "</table>\n",
       "<table class=\"simpletable\">\n",
       "<tr>\n",
       "           <td></td>              <th>coef</th>     <th>std err</th>      <th>t</th>      <th>P>|t|</th>  <th>[0.025</th>    <th>0.975]</th>  \n",
       "</tr>\n",
       "<tr>\n",
       "  <th>Intercept</th>           <td>   13.6931</td> <td>    0.236</td> <td>   57.959</td> <td> 0.000</td> <td>   13.226</td> <td>   14.160</td>\n",
       "</tr>\n",
       "<tr>\n",
       "  <th>is_northern[T.True]</th> <td>   -3.1587</td> <td>    0.428</td> <td>   -7.376</td> <td> 0.000</td> <td>   -4.006</td> <td>   -2.312</td>\n",
       "</tr>\n",
       "</table>\n",
       "<table class=\"simpletable\">\n",
       "<tr>\n",
       "  <th>Omnibus:</th>       <td> 4.510</td> <th>  Durbin-Watson:     </th> <td>   0.191</td>\n",
       "</tr>\n",
       "<tr>\n",
       "  <th>Prob(Omnibus):</th> <td> 0.105</td> <th>  Jarque-Bera (JB):  </th> <td>   4.064</td>\n",
       "</tr>\n",
       "<tr>\n",
       "  <th>Skew:</th>          <td>-0.408</td> <th>  Prob(JB):          </th> <td>   0.131</td>\n",
       "</tr>\n",
       "<tr>\n",
       "  <th>Kurtosis:</th>      <td> 3.202</td> <th>  Cond. No.          </th> <td>    2.42</td>\n",
       "</tr>\n",
       "</table><br/><br/>Notes:<br/>[1] Standard Errors assume that the covariance matrix of the errors is correctly specified."
      ],
      "text/latex": [
       "\\begin{center}\n",
       "\\begin{tabular}{lclc}\n",
       "\\toprule\n",
       "\\textbf{Dep. Variable:}       &      CTDTMP      & \\textbf{  R-squared:         } &     0.286   \\\\\n",
       "\\textbf{Model:}               &       OLS        & \\textbf{  Adj. R-squared:    } &     0.280   \\\\\n",
       "\\textbf{Method:}              &  Least Squares   & \\textbf{  F-statistic:       } &     54.40   \\\\\n",
       "\\textbf{Date:}                & Mon, 05 Feb 2024 & \\textbf{  Prob (F-statistic):} &  1.45e-11   \\\\\n",
       "\\textbf{Time:}                &     20:47:25     & \\textbf{  Log-Likelihood:    } &   -310.63   \\\\\n",
       "\\textbf{No. Observations:}    &         138      & \\textbf{  AIC:               } &     625.3   \\\\\n",
       "\\textbf{Df Residuals:}        &         136      & \\textbf{  BIC:               } &     631.1   \\\\\n",
       "\\textbf{Df Model:}            &           1      & \\textbf{                     } &             \\\\\n",
       "\\textbf{Covariance Type:}     &    nonrobust     & \\textbf{                     } &             \\\\\n",
       "\\bottomrule\n",
       "\\end{tabular}\n",
       "\\begin{tabular}{lcccccc}\n",
       "                              & \\textbf{coef} & \\textbf{std err} & \\textbf{t} & \\textbf{P$> |$t$|$} & \\textbf{[0.025} & \\textbf{0.975]}  \\\\\n",
       "\\midrule\n",
       "\\textbf{Intercept}            &      13.6931  &        0.236     &    57.959  &         0.000        &       13.226    &       14.160     \\\\\n",
       "\\textbf{is\\_northern[T.True]} &      -3.1587  &        0.428     &    -7.376  &         0.000        &       -4.006    &       -2.312     \\\\\n",
       "\\bottomrule\n",
       "\\end{tabular}\n",
       "\\begin{tabular}{lclc}\n",
       "\\textbf{Omnibus:}       &  4.510 & \\textbf{  Durbin-Watson:     } &    0.191  \\\\\n",
       "\\textbf{Prob(Omnibus):} &  0.105 & \\textbf{  Jarque-Bera (JB):  } &    4.064  \\\\\n",
       "\\textbf{Skew:}          & -0.408 & \\textbf{  Prob(JB):          } &    0.131  \\\\\n",
       "\\textbf{Kurtosis:}      &  3.202 & \\textbf{  Cond. No.          } &     2.42  \\\\\n",
       "\\bottomrule\n",
       "\\end{tabular}\n",
       "%\\caption{OLS Regression Results}\n",
       "\\end{center}\n",
       "\n",
       "Notes: \\newline\n",
       " [1] Standard Errors assume that the covariance matrix of the errors is correctly specified."
      ],
      "text/plain": [
       "<class 'statsmodels.iolib.summary.Summary'>\n",
       "\"\"\"\n",
       "                            OLS Regression Results                            \n",
       "==============================================================================\n",
       "Dep. Variable:                 CTDTMP   R-squared:                       0.286\n",
       "Model:                            OLS   Adj. R-squared:                  0.280\n",
       "Method:                 Least Squares   F-statistic:                     54.40\n",
       "Date:                Mon, 05 Feb 2024   Prob (F-statistic):           1.45e-11\n",
       "Time:                        20:47:25   Log-Likelihood:                -310.63\n",
       "No. Observations:                 138   AIC:                             625.3\n",
       "Df Residuals:                     136   BIC:                             631.1\n",
       "Df Model:                           1                                         \n",
       "Covariance Type:            nonrobust                                         \n",
       "=======================================================================================\n",
       "                          coef    std err          t      P>|t|      [0.025      0.975]\n",
       "---------------------------------------------------------------------------------------\n",
       "Intercept              13.6931      0.236     57.959      0.000      13.226      14.160\n",
       "is_northern[T.True]    -3.1587      0.428     -7.376      0.000      -4.006      -2.312\n",
       "==============================================================================\n",
       "Omnibus:                        4.510   Durbin-Watson:                   0.191\n",
       "Prob(Omnibus):                  0.105   Jarque-Bera (JB):                4.064\n",
       "Skew:                          -0.408   Prob(JB):                        0.131\n",
       "Kurtosis:                       3.202   Cond. No.                         2.42\n",
       "==============================================================================\n",
       "\n",
       "Notes:\n",
       "[1] Standard Errors assume that the covariance matrix of the errors is correctly specified.\n",
       "\"\"\""
      ]
     },
     "execution_count": 19,
     "metadata": {},
     "output_type": "execute_result"
    }
   ],
   "source": [
    "res = smf.ols(formula=\"CTDTMP ~ is_northern\", data=df07surf).fit()\n",
    "res.summary()"
   ]
  },
  {
   "cell_type": "markdown",
   "metadata": {},
   "source": [
    "#### Comparing three sample means (another example)\n",
    "\n",
    "We can also compare more than two means. This would be an ANOVA analysis, which can also be expessed as a linear model.\n",
    "\n",
    "##### Create a categorical variable for the region\n",
    "\n",
    "We will divide the data into three categories: north if the Columbia River, between the Columbia River and Golden Gate, and south of the Golden Gate."
   ]
  },
  {
   "cell_type": "code",
   "execution_count": 20,
   "metadata": {},
   "outputs": [
    {
     "data": {
      "text/plain": [
       "22      None\n",
       "46      None\n",
       "71      None\n",
       "95      None\n",
       "151     None\n",
       "        ... \n",
       "2275    None\n",
       "2287    None\n",
       "2310    None\n",
       "2334    None\n",
       "2335    None\n",
       "Name: region, Length: 138, dtype: object"
      ]
     },
     "execution_count": 20,
     "metadata": {},
     "output_type": "execute_result"
    }
   ],
   "source": [
    "# create a new variable called \"region\" with no values\n",
    "df07surf = df07surf.assign(region = [None]*len(df07surf))\n",
    "df07surf['region']"
   ]
  },
  {
   "cell_type": "code",
   "execution_count": 21,
   "metadata": {},
   "outputs": [
    {
     "data": {
      "text/plain": [
       "22      north\n",
       "46      north\n",
       "71      north\n",
       "95      north\n",
       "151     north\n",
       "        ...  \n",
       "2275    south\n",
       "2287    south\n",
       "2310    south\n",
       "2334    south\n",
       "2335    south\n",
       "Name: region, Length: 138, dtype: object"
      ]
     },
     "execution_count": 21,
     "metadata": {},
     "output_type": "execute_result"
    }
   ],
   "source": [
    "# assign string values to region based on latitude\n",
    "northern = (df07surf['LATITUDE'] > 46.2)\n",
    "central = (df07surf['LATITUDE'] <= 46.2) & (df07surf['LATITUDE'] >= 37.8)\n",
    "southern = (df07surf['LATITUDE'] < 37.8) \n",
    "\n",
    "df07surf.loc[northern,'region'] = 'north'\n",
    "df07surf.loc[central,'region'] = 'central'\n",
    "df07surf.loc[southern,'region'] = 'south'\n",
    "df07surf['region']"
   ]
  },
  {
   "cell_type": "markdown",
   "metadata": {},
   "source": [
    "##### Box plot"
   ]
  },
  {
   "cell_type": "code",
   "execution_count": 22,
   "metadata": {},
   "outputs": [
    {
     "data": {
      "text/plain": [
       "Text(0.5, 0, 'region')"
      ]
     },
     "execution_count": 22,
     "metadata": {},
     "output_type": "execute_result"
    },
    {
     "data": {
      "image/png": "[encoded data removed]",
      "text/plain": [
       "<Figure size 640x480 with 1 Axes>"
      ]
     },
     "metadata": {},
     "output_type": "display_data"
    }
   ],
   "source": [
    "plt.figure()\n",
    "plt.boxplot([df07surf['CTDTMP'][df07surf['region']=='north'],\n",
    "             df07surf['CTDTMP'][df07surf['region']=='central'],\n",
    "             df07surf['CTDTMP'][df07surf['region']=='south']],\n",
    "            labels=['north','central','south'],showmeans=True,notch=True);\n",
    "plt.title('CTDTMP - upper 10m 2007')\n",
    "plt.ylabel('[deg C]')\n",
    "plt.xlabel('region')"
   ]
  },
  {
   "cell_type": "markdown",
   "metadata": {},
   "source": [
    "##### Analysis\n",
    "\n",
    "Since we have three groups, we can perform a classic Fisher ANOVA on this data set, to test the null hypothesis of no difference."
   ]
  },
  {
   "cell_type": "code",
   "execution_count": 23,
   "metadata": {},
   "outputs": [
    {
     "data": {
      "text/html": [
       "<div>\n",
       "<style scoped>\n",
       "    .dataframe tbody tr th:only-of-type {\n",
       "        vertical-align: middle;\n",
       "    }\n",
       "\n",
       "    .dataframe tbody tr th {\n",
       "        vertical-align: top;\n",
       "    }\n",
       "\n",
       "    .dataframe thead th {\n",
       "        text-align: right;\n",
       "    }\n",
       "</style>\n",
       "<table border=\"1\" class=\"dataframe\">\n",
       "  <thead>\n",
       "    <tr style=\"text-align: right;\">\n",
       "      <th></th>\n",
       "      <th>Source</th>\n",
       "      <th>ddof1</th>\n",
       "      <th>ddof2</th>\n",
       "      <th>F</th>\n",
       "      <th>p-unc</th>\n",
       "      <th>np2</th>\n",
       "    </tr>\n",
       "  </thead>\n",
       "  <tbody>\n",
       "    <tr>\n",
       "      <th>0</th>\n",
       "      <td>region</td>\n",
       "      <td>2</td>\n",
       "      <td>135</td>\n",
       "      <td>86.688737</td>\n",
       "      <td>6.087664e-25</td>\n",
       "      <td>0.562225</td>\n",
       "    </tr>\n",
       "  </tbody>\n",
       "</table>\n",
       "</div>"
      ],
      "text/plain": [
       "   Source  ddof1  ddof2          F         p-unc       np2\n",
       "0  region      2    135  86.688737  6.087664e-25  0.562225"
      ]
     },
     "execution_count": 23,
     "metadata": {},
     "output_type": "execute_result"
    }
   ],
   "source": [
    "pg.anova(data=df07surf,dv='CTDTMP',between='region')"
   ]
  },
  {
   "cell_type": "markdown",
   "metadata": {},
   "source": [
    "However, looking at the box plot, it appears that the groups do not have equal variances (heteroscedesticity). This suggests that a Welch ANOVA may be more appropriate."
   ]
  },
  {
   "cell_type": "code",
   "execution_count": 24,
   "metadata": {},
   "outputs": [
    {
     "data": {
      "text/html": [
       "<div>\n",
       "<style scoped>\n",
       "    .dataframe tbody tr th:only-of-type {\n",
       "        vertical-align: middle;\n",
       "    }\n",
       "\n",
       "    .dataframe tbody tr th {\n",
       "        vertical-align: top;\n",
       "    }\n",
       "\n",
       "    .dataframe thead th {\n",
       "        text-align: right;\n",
       "    }\n",
       "</style>\n",
       "<table border=\"1\" class=\"dataframe\">\n",
       "  <thead>\n",
       "    <tr style=\"text-align: right;\">\n",
       "      <th></th>\n",
       "      <th>Source</th>\n",
       "      <th>ddof1</th>\n",
       "      <th>ddof2</th>\n",
       "      <th>F</th>\n",
       "      <th>p-unc</th>\n",
       "      <th>np2</th>\n",
       "    </tr>\n",
       "  </thead>\n",
       "  <tbody>\n",
       "    <tr>\n",
       "      <th>0</th>\n",
       "      <td>region</td>\n",
       "      <td>2</td>\n",
       "      <td>79.857577</td>\n",
       "      <td>117.8407</td>\n",
       "      <td>1.489427e-24</td>\n",
       "      <td>0.562225</td>\n",
       "    </tr>\n",
       "  </tbody>\n",
       "</table>\n",
       "</div>"
      ],
      "text/plain": [
       "   Source  ddof1      ddof2         F         p-unc       np2\n",
       "0  region      2  79.857577  117.8407  1.489427e-24  0.562225"
      ]
     },
     "execution_count": 24,
     "metadata": {},
     "output_type": "execute_result"
    }
   ],
   "source": [
    "pg.welch_anova(data=df07surf,dv='CTDTMP',between='region')"
   ]
  },
  {
   "cell_type": "markdown",
   "metadata": {},
   "source": [
    "Both have very low p-values. Now we move on to a post-hoc test. Which post-hoc test to use? The Tukey test is a good choice for the classic ANOVA because it corrects for pairwise comparisons. However, it assumes equal variances. A Games-Howell post-hoc test is preferable in this case."
   ]
  },
  {
   "cell_type": "code",
   "execution_count": 25,
   "metadata": {},
   "outputs": [
    {
     "data": {
      "text/html": [
       "<div>\n",
       "<style scoped>\n",
       "    .dataframe tbody tr th:only-of-type {\n",
       "        vertical-align: middle;\n",
       "    }\n",
       "\n",
       "    .dataframe tbody tr th {\n",
       "        vertical-align: top;\n",
       "    }\n",
       "\n",
       "    .dataframe thead th {\n",
       "        text-align: right;\n",
       "    }\n",
       "</style>\n",
       "<table border=\"1\" class=\"dataframe\">\n",
       "  <thead>\n",
       "    <tr style=\"text-align: right;\">\n",
       "      <th></th>\n",
       "      <th>A</th>\n",
       "      <th>B</th>\n",
       "      <th>mean(A)</th>\n",
       "      <th>mean(B)</th>\n",
       "      <th>diff</th>\n",
       "      <th>se</th>\n",
       "      <th>T</th>\n",
       "      <th>df</th>\n",
       "      <th>pval</th>\n",
       "      <th>hedges</th>\n",
       "    </tr>\n",
       "  </thead>\n",
       "  <tbody>\n",
       "    <tr>\n",
       "      <th>0</th>\n",
       "      <td>central</td>\n",
       "      <td>north</td>\n",
       "      <td>10.791951</td>\n",
       "      <td>10.124478</td>\n",
       "      <td>0.667473</td>\n",
       "      <td>0.320915</td>\n",
       "      <td>2.079905</td>\n",
       "      <td>60.998772</td>\n",
       "      <td>1.024835e-01</td>\n",
       "      <td>0.447480</td>\n",
       "    </tr>\n",
       "    <tr>\n",
       "      <th>1</th>\n",
       "      <td>central</td>\n",
       "      <td>south</td>\n",
       "      <td>10.791951</td>\n",
       "      <td>14.616919</td>\n",
       "      <td>-3.824968</td>\n",
       "      <td>0.361271</td>\n",
       "      <td>-10.587518</td>\n",
       "      <td>95.679603</td>\n",
       "      <td>0.000000e+00</td>\n",
       "      <td>-1.944715</td>\n",
       "    </tr>\n",
       "    <tr>\n",
       "      <th>2</th>\n",
       "      <td>north</td>\n",
       "      <td>south</td>\n",
       "      <td>10.124478</td>\n",
       "      <td>14.616919</td>\n",
       "      <td>-4.492441</td>\n",
       "      <td>0.296634</td>\n",
       "      <td>-15.144727</td>\n",
       "      <td>88.746057</td>\n",
       "      <td>2.720046e-14</td>\n",
       "      <td>-2.401071</td>\n",
       "    </tr>\n",
       "  </tbody>\n",
       "</table>\n",
       "</div>"
      ],
      "text/plain": [
       "         A      B    mean(A)    mean(B)      diff        se          T  \\\n",
       "0  central  north  10.791951  10.124478  0.667473  0.320915   2.079905   \n",
       "1  central  south  10.791951  14.616919 -3.824968  0.361271 -10.587518   \n",
       "2    north  south  10.124478  14.616919 -4.492441  0.296634 -15.144727   \n",
       "\n",
       "          df          pval    hedges  \n",
       "0  60.998772  1.024835e-01  0.447480  \n",
       "1  95.679603  0.000000e+00 -1.944715  \n",
       "2  88.746057  2.720046e-14 -2.401071  "
      ]
     },
     "execution_count": 25,
     "metadata": {},
     "output_type": "execute_result"
    }
   ],
   "source": [
    "pg.pairwise_gameshowell(data=df07surf,dv='CTDTMP',between='region')"
   ]
  },
  {
   "cell_type": "markdown",
   "metadata": {},
   "source": [
    "The p-values indicate that there is no statistically significant difference between the northern and central regions.\n",
    "\n",
    "Ho does this compare to pairwise t-tests? The t-test indicates that there is a statistically significant difference (barely) at $\\alpha$=0.05 between the northern and central regions."
   ]
  },
  {
   "cell_type": "code",
   "execution_count": 26,
   "metadata": {},
   "outputs": [
    {
     "name": "stderr",
     "output_type": "stream",
     "text": [
      "/Users/tconnolly/opt/miniconda3/envs/ms263-24/lib/python3.11/site-packages/pingouin/pairwise.py:28: UserWarning: pairwise_ttests is deprecated, use pairwise_tests instead.\n",
      "  warnings.warn(\"pairwise_ttests is deprecated, use pairwise_tests instead.\", UserWarning)\n"
     ]
    },
    {
     "data": {
      "text/html": [
       "<div>\n",
       "<style scoped>\n",
       "    .dataframe tbody tr th:only-of-type {\n",
       "        vertical-align: middle;\n",
       "    }\n",
       "\n",
       "    .dataframe tbody tr th {\n",
       "        vertical-align: top;\n",
       "    }\n",
       "\n",
       "    .dataframe thead th {\n",
       "        text-align: right;\n",
       "    }\n",
       "</style>\n",
       "<table border=\"1\" class=\"dataframe\">\n",
       "  <thead>\n",
       "    <tr style=\"text-align: right;\">\n",
       "      <th></th>\n",
       "      <th>Contrast</th>\n",
       "      <th>A</th>\n",
       "      <th>B</th>\n",
       "      <th>Paired</th>\n",
       "      <th>Parametric</th>\n",
       "      <th>T</th>\n",
       "      <th>dof</th>\n",
       "      <th>alternative</th>\n",
       "      <th>p-unc</th>\n",
       "      <th>BF10</th>\n",
       "      <th>hedges</th>\n",
       "    </tr>\n",
       "  </thead>\n",
       "  <tbody>\n",
       "    <tr>\n",
       "      <th>0</th>\n",
       "      <td>region</td>\n",
       "      <td>central</td>\n",
       "      <td>north</td>\n",
       "      <td>False</td>\n",
       "      <td>True</td>\n",
       "      <td>2.079905</td>\n",
       "      <td>60.998772</td>\n",
       "      <td>two-sided</td>\n",
       "      <td>4.174356e-02</td>\n",
       "      <td>1.575</td>\n",
       "      <td>0.447480</td>\n",
       "    </tr>\n",
       "    <tr>\n",
       "      <th>1</th>\n",
       "      <td>region</td>\n",
       "      <td>central</td>\n",
       "      <td>south</td>\n",
       "      <td>False</td>\n",
       "      <td>True</td>\n",
       "      <td>-10.587518</td>\n",
       "      <td>95.679603</td>\n",
       "      <td>two-sided</td>\n",
       "      <td>8.500978e-18</td>\n",
       "      <td>2.726e+15</td>\n",
       "      <td>-1.944715</td>\n",
       "    </tr>\n",
       "    <tr>\n",
       "      <th>2</th>\n",
       "      <td>region</td>\n",
       "      <td>north</td>\n",
       "      <td>south</td>\n",
       "      <td>False</td>\n",
       "      <td>True</td>\n",
       "      <td>-15.144727</td>\n",
       "      <td>88.746057</td>\n",
       "      <td>two-sided</td>\n",
       "      <td>2.478834e-26</td>\n",
       "      <td>4.026e+23</td>\n",
       "      <td>-2.401071</td>\n",
       "    </tr>\n",
       "  </tbody>\n",
       "</table>\n",
       "</div>"
      ],
      "text/plain": [
       "  Contrast        A      B  Paired  Parametric          T        dof  \\\n",
       "0   region  central  north   False        True   2.079905  60.998772   \n",
       "1   region  central  south   False        True -10.587518  95.679603   \n",
       "2   region    north  south   False        True -15.144727  88.746057   \n",
       "\n",
       "  alternative         p-unc       BF10    hedges  \n",
       "0   two-sided  4.174356e-02      1.575  0.447480  \n",
       "1   two-sided  8.500978e-18  2.726e+15 -1.944715  \n",
       "2   two-sided  2.478834e-26  4.026e+23 -2.401071  "
      ]
     },
     "execution_count": 26,
     "metadata": {},
     "output_type": "execute_result"
    }
   ],
   "source": [
    "pg.pairwise_ttests(data=df07surf,dv='CTDTMP',between='region')"
   ]
  },
  {
   "cell_type": "markdown",
   "metadata": {},
   "source": [
    "We can also use statsmodels to perform this test as a linear model. Note that the F-statistic and Prob (F-statistic), a.k.a. p-value, are the same as the classic ANOVA.\n",
    "\n",
    "The regression coefficients in this case can be thought of as pairwise comparisons with the central region. Note that the confidence intervals of the regression coefficient with the north region overlap with zero."
   ]
  },
  {
   "cell_type": "code",
   "execution_count": 27,
   "metadata": {},
   "outputs": [
    {
     "data": {
      "text/html": [
       "<div>\n",
       "<style scoped>\n",
       "    .dataframe tbody tr th:only-of-type {\n",
       "        vertical-align: middle;\n",
       "    }\n",
       "\n",
       "    .dataframe tbody tr th {\n",
       "        vertical-align: top;\n",
       "    }\n",
       "\n",
       "    .dataframe thead th {\n",
       "        text-align: right;\n",
       "    }\n",
       "</style>\n",
       "<table border=\"1\" class=\"dataframe\">\n",
       "  <thead>\n",
       "    <tr style=\"text-align: right;\">\n",
       "      <th></th>\n",
       "      <th>W</th>\n",
       "      <th>pval</th>\n",
       "      <th>equal_var</th>\n",
       "    </tr>\n",
       "  </thead>\n",
       "  <tbody>\n",
       "    <tr>\n",
       "      <th>levene</th>\n",
       "      <td>9.765584</td>\n",
       "      <td>0.000109</td>\n",
       "      <td>False</td>\n",
       "    </tr>\n",
       "  </tbody>\n",
       "</table>\n",
       "</div>"
      ],
      "text/plain": [
       "               W      pval  equal_var\n",
       "levene  9.765584  0.000109      False"
      ]
     },
     "execution_count": 27,
     "metadata": {},
     "output_type": "execute_result"
    }
   ],
   "source": [
    "pg.homoscedasticity(data=df07surf,dv='CTDTMP',group='region')"
   ]
  },
  {
   "cell_type": "code",
   "execution_count": 28,
   "metadata": {},
   "outputs": [
    {
     "data": {
      "text/html": [
       "<table class=\"simpletable\">\n",
       "<caption>OLS Regression Results</caption>\n",
       "<tr>\n",
       "  <th>Dep. Variable:</th>         <td>CTDTMP</td>      <th>  R-squared:         </th> <td>   0.562</td>\n",
       "</tr>\n",
       "<tr>\n",
       "  <th>Model:</th>                   <td>OLS</td>       <th>  Adj. R-squared:    </th> <td>   0.556</td>\n",
       "</tr>\n",
       "<tr>\n",
       "  <th>Method:</th>             <td>Least Squares</td>  <th>  F-statistic:       </th> <td>   86.69</td>\n",
       "</tr>\n",
       "<tr>\n",
       "  <th>Date:</th>             <td>Mon, 05 Feb 2024</td> <th>  Prob (F-statistic):</th> <td>6.09e-25</td>\n",
       "</tr>\n",
       "<tr>\n",
       "  <th>Time:</th>                 <td>20:47:25</td>     <th>  Log-Likelihood:    </th> <td> -276.85</td>\n",
       "</tr>\n",
       "<tr>\n",
       "  <th>No. Observations:</th>      <td>   138</td>      <th>  AIC:               </th> <td>   559.7</td>\n",
       "</tr>\n",
       "<tr>\n",
       "  <th>Df Residuals:</th>          <td>   135</td>      <th>  BIC:               </th> <td>   568.5</td>\n",
       "</tr>\n",
       "<tr>\n",
       "  <th>Df Model:</th>              <td>     2</td>      <th>                     </th>     <td> </td>   \n",
       "</tr>\n",
       "<tr>\n",
       "  <th>Covariance Type:</th>      <td>nonrobust</td>    <th>                     </th>     <td> </td>   \n",
       "</tr>\n",
       "</table>\n",
       "<table class=\"simpletable\">\n",
       "<tr>\n",
       "         <td></td>            <th>coef</th>     <th>std err</th>      <th>t</th>      <th>P>|t|</th>  <th>[0.025</th>    <th>0.975]</th>  \n",
       "</tr>\n",
       "<tr>\n",
       "  <th>Intercept</th>       <td>   10.7920</td> <td>    0.284</td> <td>   37.991</td> <td> 0.000</td> <td>   10.230</td> <td>   11.354</td>\n",
       "</tr>\n",
       "<tr>\n",
       "  <th>region[T.north]</th> <td>   -0.6675</td> <td>    0.474</td> <td>   -1.409</td> <td> 0.161</td> <td>   -1.605</td> <td>    0.270</td>\n",
       "</tr>\n",
       "<tr>\n",
       "  <th>region[T.south]</th> <td>    3.8250</td> <td>    0.354</td> <td>   10.801</td> <td> 0.000</td> <td>    3.125</td> <td>    4.525</td>\n",
       "</tr>\n",
       "</table>\n",
       "<table class=\"simpletable\">\n",
       "<tr>\n",
       "  <th>Omnibus:</th>       <td> 8.796</td> <th>  Durbin-Watson:     </th> <td>   0.310</td>\n",
       "</tr>\n",
       "<tr>\n",
       "  <th>Prob(Omnibus):</th> <td> 0.012</td> <th>  Jarque-Bera (JB):  </th> <td>   4.392</td>\n",
       "</tr>\n",
       "<tr>\n",
       "  <th>Skew:</th>          <td>-0.204</td> <th>  Prob(JB):          </th> <td>   0.111</td>\n",
       "</tr>\n",
       "<tr>\n",
       "  <th>Kurtosis:</th>      <td> 2.227</td> <th>  Cond. No.          </th> <td>    4.28</td>\n",
       "</tr>\n",
       "</table><br/><br/>Notes:<br/>[1] Standard Errors assume that the covariance matrix of the errors is correctly specified."
      ],
      "text/latex": [
       "\\begin{center}\n",
       "\\begin{tabular}{lclc}\n",
       "\\toprule\n",
       "\\textbf{Dep. Variable:}    &      CTDTMP      & \\textbf{  R-squared:         } &     0.562   \\\\\n",
       "\\textbf{Model:}            &       OLS        & \\textbf{  Adj. R-squared:    } &     0.556   \\\\\n",
       "\\textbf{Method:}           &  Least Squares   & \\textbf{  F-statistic:       } &     86.69   \\\\\n",
       "\\textbf{Date:}             & Mon, 05 Feb 2024 & \\textbf{  Prob (F-statistic):} &  6.09e-25   \\\\\n",
       "\\textbf{Time:}             &     20:47:25     & \\textbf{  Log-Likelihood:    } &   -276.85   \\\\\n",
       "\\textbf{No. Observations:} &         138      & \\textbf{  AIC:               } &     559.7   \\\\\n",
       "\\textbf{Df Residuals:}     &         135      & \\textbf{  BIC:               } &     568.5   \\\\\n",
       "\\textbf{Df Model:}         &           2      & \\textbf{                     } &             \\\\\n",
       "\\textbf{Covariance Type:}  &    nonrobust     & \\textbf{                     } &             \\\\\n",
       "\\bottomrule\n",
       "\\end{tabular}\n",
       "\\begin{tabular}{lcccccc}\n",
       "                         & \\textbf{coef} & \\textbf{std err} & \\textbf{t} & \\textbf{P$> |$t$|$} & \\textbf{[0.025} & \\textbf{0.975]}  \\\\\n",
       "\\midrule\n",
       "\\textbf{Intercept}       &      10.7920  &        0.284     &    37.991  &         0.000        &       10.230    &       11.354     \\\\\n",
       "\\textbf{region[T.north]} &      -0.6675  &        0.474     &    -1.409  &         0.161        &       -1.605    &        0.270     \\\\\n",
       "\\textbf{region[T.south]} &       3.8250  &        0.354     &    10.801  &         0.000        &        3.125    &        4.525     \\\\\n",
       "\\bottomrule\n",
       "\\end{tabular}\n",
       "\\begin{tabular}{lclc}\n",
       "\\textbf{Omnibus:}       &  8.796 & \\textbf{  Durbin-Watson:     } &    0.310  \\\\\n",
       "\\textbf{Prob(Omnibus):} &  0.012 & \\textbf{  Jarque-Bera (JB):  } &    4.392  \\\\\n",
       "\\textbf{Skew:}          & -0.204 & \\textbf{  Prob(JB):          } &    0.111  \\\\\n",
       "\\textbf{Kurtosis:}      &  2.227 & \\textbf{  Cond. No.          } &     4.28  \\\\\n",
       "\\bottomrule\n",
       "\\end{tabular}\n",
       "%\\caption{OLS Regression Results}\n",
       "\\end{center}\n",
       "\n",
       "Notes: \\newline\n",
       " [1] Standard Errors assume that the covariance matrix of the errors is correctly specified."
      ],
      "text/plain": [
       "<class 'statsmodels.iolib.summary.Summary'>\n",
       "\"\"\"\n",
       "                            OLS Regression Results                            \n",
       "==============================================================================\n",
       "Dep. Variable:                 CTDTMP   R-squared:                       0.562\n",
       "Model:                            OLS   Adj. R-squared:                  0.556\n",
       "Method:                 Least Squares   F-statistic:                     86.69\n",
       "Date:                Mon, 05 Feb 2024   Prob (F-statistic):           6.09e-25\n",
       "Time:                        20:47:25   Log-Likelihood:                -276.85\n",
       "No. Observations:                 138   AIC:                             559.7\n",
       "Df Residuals:                     135   BIC:                             568.5\n",
       "Df Model:                           2                                         \n",
       "Covariance Type:            nonrobust                                         \n",
       "===================================================================================\n",
       "                      coef    std err          t      P>|t|      [0.025      0.975]\n",
       "-----------------------------------------------------------------------------------\n",
       "Intercept          10.7920      0.284     37.991      0.000      10.230      11.354\n",
       "region[T.north]    -0.6675      0.474     -1.409      0.161      -1.605       0.270\n",
       "region[T.south]     3.8250      0.354     10.801      0.000       3.125       4.525\n",
       "==============================================================================\n",
       "Omnibus:                        8.796   Durbin-Watson:                   0.310\n",
       "Prob(Omnibus):                  0.012   Jarque-Bera (JB):                4.392\n",
       "Skew:                          -0.204   Prob(JB):                        0.111\n",
       "Kurtosis:                       2.227   Cond. No.                         4.28\n",
       "==============================================================================\n",
       "\n",
       "Notes:\n",
       "[1] Standard Errors assume that the covariance matrix of the errors is correctly specified.\n",
       "\"\"\""
      ]
     },
     "execution_count": 28,
     "metadata": {},
     "output_type": "execute_result"
    }
   ],
   "source": [
    "res = smf.ols(formula=\"CTDTMP ~ region\", data=df07surf).fit()\n",
    "res.summary()"
   ]
  }
 ],
 "metadata": {
  "kernelspec": {
   "display_name": "Python 3.10.6 ('data-book')",
   "language": "python",
   "name": "python3"
  },
  "language_info": {
   "codemirror_mode": {
    "name": "ipython",
    "version": 3
   },
   "file_extension": ".py",
   "mimetype": "text/x-python",
   "name": "python",
   "nbconvert_exporter": "python",
   "pygments_lexer": "ipython3",
   "version": "3.11.7"
  },
  "vscode": {
   "interpreter": {
    "hash": "0ef88d3abb6b62f34a20525ce337090c4512fe8aecf32c74604482b944e1c3bd"
   }
  }
 },
 "nbformat": 4,
 "nbformat_minor": 4
}