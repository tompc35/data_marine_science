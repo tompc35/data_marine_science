{
 "cells": [
  {
   "cell_type": "markdown",
   "metadata": {},
   "source": [
    "# Multivariate regression tutorial: aragonite saturation state\n",
    "\n",
    "Using data from the West Coast Ocean Acidification (WCOA) cruise, create two different multiple linear regression models to calculate aragonite saturation state ($\\Omega_A$) between 30 and 300 dbar as a function of more commonly observed variables. This is similar to \"Model 1\" described in [the previous section](2-06b-implementing-multivariate-regression.ipynb), following [Juranek et al. (2009)](https://agupubs.onlinelibrary.wiley.com/doi/full/10.1029/2009GL040778). Note that there are a couple of issues with this model that led Juranek et al. (2009) to select a different model: bias and multicollinearity.\n",
    "\n",
    "Juranek, L. W., R. A. Feely, W. T. Peterson, S. R. Alin, B. Hales, K. Lee, C. L. Sabine, and J. Peterson, 2009: A novel method for determination of aragonite saturation state on the continental shelf of central Oregon using multi-parameter relationships with hydrographic data. Geophys. Res. Lett., 36, doi:10.1029/2009GL040778.\n",
    "\n",
    "First import the necessary packages and load the data."
   ]
  },
  {
   "cell_type": "code",
   "execution_count": 15,
   "metadata": {},
   "outputs": [],
   "source": [
    "import numpy as np\n",
    "import matplotlib.pyplot as plt\n",
    "import pandas as pd\n",
    "\n",
    "from scipy import stats\n",
    "import statsmodels.api as sm\n",
    "import statsmodels.formula.api as smf\n",
    "import pingouin as pg\n",
    "\n",
    "import PyCO2SYS as pyco2"
   ]
  },
  {
   "cell_type": "code",
   "execution_count": 17,
   "metadata": {},
   "outputs": [],
   "source": [
    "filename07 = 'data/wcoa_cruise_2007/32WC20070511.exc.csv'\n",
    "df07 = pd.read_csv(filename07,header=29,na_values=-999,\n",
    "                  parse_dates=[[6,7]])"
   ]
  },
  {
   "cell_type": "markdown",
   "metadata": {},
   "source": [
    "We use the [PyCO2SYS](https://pyco2sys.readthedocs.io/en/latest/) package to calculate the carbonate system parameters. This gives us values for aragonite saturation state that we can put in our dataframe."
   ]
  },
  {
   "cell_type": "code",
   "execution_count": 18,
   "metadata": {},
   "outputs": [],
   "source": [
    "c07 = pyco2.sys(df07['ALKALI'], df07['TCARBN'], 1, 2,\n",
    "               salinity=df07['CTDSAL'], temperature=df07['CTDTMP'], \n",
    "                pressure=df07['CTDPRS']);\n",
    "df07['OmegaA'] = c07['saturation_aragonite'];"
   ]
  },
  {
   "cell_type": "markdown",
   "metadata": {},
   "source": [
    "## Model 1: Temperature, salinity, pressure, dissolved oxygen and nitrate:\n",
    "\n",
    "* Temperature\n",
    "* Salinity\n",
    "* Pressure\n",
    "* Oxygen\n",
    "* Nitrate\n",
    "\n",
    "$$\\hat{\\Omega}_A = c_{0} + c_{1} \\times T + c_{2} \\times S + c_{3} \\times p + c_{4} \\times O_2 + c_{5} \\times N$$\n",
    "\n",
    "First, create a subset of all good data between 30-300 dbar. "
   ]
  },
  {
   "cell_type": "code",
   "execution_count": 107,
   "metadata": {},
   "outputs": [],
   "source": [
    "ii = ((df07['CTDPRS'] >= 30) & (df07['CTDPRS'] <= 300) &\n",
    "      (df07['NITRAT_FLAG_W'] ==2) & (df07['PHSPHT_FLAG_W'] ==2) &\n",
    "      (df07['CTDOXY_FLAG_W'] == 2) & (df07['CTDSAL_FLAG_W'] ==2) &\n",
    "      (df07['TCARBN_FLAG_W'] == 2) & (df07['ALKALI_FLAG_W'] == 2) & \n",
    "      (df07['LATITUDE'] > 41) & (df07['LATITUDE'] < 48))"
   ]
  },
  {
   "cell_type": "code",
   "execution_count": 108,
   "metadata": {},
   "outputs": [],
   "source": [
    "df07sub = df07[ii]"
   ]
  },
  {
   "cell_type": "code",
   "execution_count": 109,
   "metadata": {},
   "outputs": [],
   "source": [
    "y = df07sub['OmegaA']"
   ]
  },
  {
   "cell_type": "markdown",
   "metadata": {},
   "source": [
    "Solve for the coefficients $\\vec{c}$ in the least squares problem:\n",
    "\n",
    "$$ \\hat{y} = \\textbf{X}\\vec{c} $$ \n",
    "\n",
    "Create a 2-D array `X` that contains a column of all ones, and additional columns containing the explanatory variables. This 2-D array is called the \"design matrix\" and should have six columns. What are the explanatory variables in this case? \n",
    "\n",
    "* Approach: use `np.ones()` to create a 2-D array of correct size, then fill in the columns."
   ]
  },
  {
   "cell_type": "code",
   "execution_count": 110,
   "metadata": {},
   "outputs": [],
   "source": [
    "k = 5 # number of predictor variables\n",
    "N = len(df07sub['OmegaA']) # number of observations "
   ]
  },
  {
   "cell_type": "code",
   "execution_count": 111,
   "metadata": {},
   "outputs": [
    {
     "data": {
      "text/plain": [
       "159"
      ]
     },
     "execution_count": 111,
     "metadata": {},
     "output_type": "execute_result"
    }
   ],
   "source": [
    "N"
   ]
  },
  {
   "cell_type": "code",
   "execution_count": 112,
   "metadata": {},
   "outputs": [],
   "source": [
    "X = np.ones([N, k+1])"
   ]
  },
  {
   "cell_type": "code",
   "execution_count": 113,
   "metadata": {},
   "outputs": [
    {
     "data": {
      "text/plain": [
       "(159, 6)"
      ]
     },
     "execution_count": 113,
     "metadata": {},
     "output_type": "execute_result"
    }
   ],
   "source": [
    "np.shape(X)"
   ]
  },
  {
   "cell_type": "code",
   "execution_count": 114,
   "metadata": {},
   "outputs": [],
   "source": [
    "X[:,1] = df07sub['CTDTMP']\n",
    "X[:,2] = df07sub['CTDSAL']\n",
    "X[:,3] = df07sub['CTDPRS']\n",
    "X[:,4] = df07sub['CTDOXY']\n",
    "X[:,5] = df07sub['NITRAT']"
   ]
  },
  {
   "cell_type": "code",
   "execution_count": 115,
   "metadata": {},
   "outputs": [
    {
     "data": {
      "text/plain": [
       "array([[  1.   ,   6.395,  33.91 , 250.   , 114.9  ,  31.63 ],\n",
       "       [  1.   ,   7.163,  33.8  , 175.2  , 145.2  ,  27.63 ],\n",
       "       [  1.   ,   7.131,  33.65 , 152.2  , 182.3  ,  24.67 ],\n",
       "       [  1.   ,   7.727,  33.38 , 131.2  , 186.5  ,  23.01 ],\n",
       "       [  1.   ,   8.203,  32.7  , 109.3  , 259.9  ,  11.88 ],\n",
       "       [  1.   ,   8.266,  32.47 ,  89.5  , 286.7  ,   7.1  ],\n",
       "       [  1.   ,   8.624,  32.42 ,  70.5  , 294.7  ,   5.9  ],\n",
       "       [  1.   ,   8.754,  32.39 ,  60.6  , 297.5  ,   5.61 ],\n",
       "       [  1.   ,   9.656,  32.39 ,  49.1  , 300.7  ,   4.56 ],\n",
       "       [  1.   ,  10.23 ,  32.39 ,  38.7  , 298.4  ,   4.1  ],\n",
       "       [  1.   ,  10.683,  32.39 ,  30.4  , 295.1  ,   3.95 ],\n",
       "       [  1.   ,   6.877,  33.99 , 249.8  ,  74.6  ,  33.81 ],\n",
       "       [  1.   ,   7.55 ,  33.9  , 174.5  , 101.9  ,  30.   ],\n",
       "       [  1.   ,   8.012,  33.74 , 128.9  , 126.6  ,  27.95 ],\n",
       "       [  1.   ,   7.944,  32.84 ,  89.3  , 234.4  ,  14.97 ],\n",
       "       [  1.   ,   8.507,  32.49 ,  71.1  , 280.5  ,   7.55 ],\n",
       "       [  1.   ,   8.709,  32.44 ,  60.3  , 286.5  ,   6.3  ],\n",
       "       [  1.   ,   8.962,  32.43 ,  49.1  , 294.2  ,   5.69 ],\n",
       "       [  1.   ,   9.713,  32.43 ,  39.7  , 297.   ,   4.4  ],\n",
       "       [  1.   ,  10.6  ,  32.46 ,  30.4  , 292.4  ,   3.79 ],\n",
       "       [  1.   ,   6.863,  33.91 , 174.6  , 108.7  ,  32.75 ],\n",
       "       [  1.   ,   7.171,  33.87 , 150.   , 115.6  ,  30.78 ],\n",
       "       [  1.   ,   7.474,  33.79 , 130.7  , 124.1  ,  29.71 ],\n",
       "       [  1.   ,   7.647,  33.65 , 110.8  , 138.3  ,  28.23 ],\n",
       "       [  1.   ,   7.656,  33.45 ,  89.8  , 159.   ,  26.62 ],\n",
       "       [  1.   ,   7.739,  33.01 ,  70.2  , 196.8  ,  21.97 ],\n",
       "       [  1.   ,   8.035,  32.35 ,  39.6  , 285.3  ,   8.51 ],\n",
       "       [  1.   ,   8.686,  32.22 ,  30.2  , 291.   ,   5.82 ],\n",
       "       [  1.   ,   7.717,  33.65 ,  70.3  , 134.7  ,  27.72 ],\n",
       "       [  1.   ,   7.777,  33.41 ,  60.   , 162.8  ,  24.15 ],\n",
       "       [  1.   ,   8.005,  33.08 ,  50.2  , 197.8  ,  19.16 ],\n",
       "       [  1.   ,   8.037,  32.63 ,  39.9  , 233.5  ,  15.76 ],\n",
       "       [  1.   ,   8.353,  32.29 ,  30.1  , 246.4  ,  11.94 ],\n",
       "       [  1.   ,   8.047,  33.74 , 109.2  ,  95.3  ,  30.47 ],\n",
       "       [  1.   ,   8.366,  33.28 ,  90.2  , 162.6  ,  23.74 ],\n",
       "       [  1.   ,   8.887,  32.52 ,  60.   , 269.1  ,   9.61 ],\n",
       "       [  1.   ,   9.022,  32.44 ,  50.6  , 284.7  ,   6.68 ],\n",
       "       [  1.   ,   9.491,  32.39 ,  40.2  , 289.1  ,   5.68 ],\n",
       "       [  1.   ,  10.132,  32.33 ,  30.8  , 291.4  ,   3.77 ],\n",
       "       [  1.   ,   5.973,  34.08 , 299.5  ,  43.4  ,  37.99 ],\n",
       "       [  1.   ,   6.048,  34.07 , 274.3  ,  45.5  ,  37.83 ],\n",
       "       [  1.   ,   6.078,  34.07 , 250.1  ,  46.3  ,  37.65 ],\n",
       "       [  1.   ,   6.198,  34.06 , 224.9  ,  50.5  ,  37.35 ],\n",
       "       [  1.   ,   7.101,  33.99 , 199.8  ,  73.4  ,  34.1  ],\n",
       "       [  1.   ,   7.471,  33.94 , 174.3  ,  86.6  ,  32.55 ],\n",
       "       [  1.   ,   7.849,  33.84 , 150.2  , 104.7  ,  30.34 ],\n",
       "       [  1.   ,   7.945,  33.77 , 130.1  , 117.6  ,  29.1  ],\n",
       "       [  1.   ,   8.236,  33.63 , 111.8  , 136.9  ,  27.   ],\n",
       "       [  1.   ,   8.547,  33.01 ,  90.1  , 208.5  ,  19.34 ],\n",
       "       [  1.   ,   8.723,  32.48 ,  69.7  , 269.3  ,   9.41 ],\n",
       "       [  1.   ,   8.932,  32.44 ,  60.9  , 283.1  ,   7.24 ],\n",
       "       [  1.   ,   9.243,  32.4  ,  50.2  , 283.3  ,   6.42 ],\n",
       "       [  1.   ,   9.891,  32.39 ,  39.6  , 284.   ,   4.94 ],\n",
       "       [  1.   ,   6.674,  34.03 , 299.6  ,  63.1  ,  35.95 ],\n",
       "       [  1.   ,   7.022,  34.   , 249.9  ,  72.7  ,  34.58 ],\n",
       "       [  1.   ,   8.036,  33.85 , 150.6  , 100.5  ,  30.58 ],\n",
       "       [  1.   ,   8.278,  33.78 , 128.3  , 108.4  ,  29.45 ],\n",
       "       [  1.   ,   8.774,  33.64 , 110.9  , 131.6  ,  26.57 ],\n",
       "       [  1.   ,   9.161,  33.29 ,  89.8  , 176.2  ,  21.3  ],\n",
       "       [  1.   ,   8.87 ,  32.63 ,  69.5  , 254.3  ,  12.13 ],\n",
       "       [  1.   ,   9.006,  32.46 ,  60.5  , 278.9  ,   8.15 ],\n",
       "       [  1.   ,   9.329,  32.43 ,  50.   , 282.6  ,   6.09 ],\n",
       "       [  1.   ,   9.76 ,  32.4  ,  39.4  , 287.6  ,   4.79 ],\n",
       "       [  1.   ,   7.161,  33.99 , 249.5  ,  77.2  ,  32.49 ],\n",
       "       [  1.   ,   7.561,  33.94 , 201.2  ,  90.   ,  30.42 ],\n",
       "       [  1.   ,   7.8  ,  33.92 , 176.2  ,  94.5  ,  29.61 ],\n",
       "       [  1.   ,   8.185,  33.83 , 149.3  , 104.6  ,  28.17 ],\n",
       "       [  1.   ,   8.727,  33.56 , 110.3  , 140.1  ,  24.16 ],\n",
       "       [  1.   ,   9.056,  33.29 ,  90.8  , 185.2  ,  20.77 ],\n",
       "       [  1.   ,   9.009,  32.87 ,  70.3  , 225.7  ,  14.77 ],\n",
       "       [  1.   ,   8.774,  32.54 ,  59.3  , 267.   ,   9.81 ],\n",
       "       [  1.   ,   8.887,  32.43 ,  50.4  , 279.4  ,   7.82 ],\n",
       "       [  1.   ,   9.134,  32.41 ,  40.8  , 284.8  ,   5.94 ],\n",
       "       [  1.   ,   9.379,  32.38 ,  30.1  , 285.6  ,   4.99 ],\n",
       "       [  1.   ,   6.995,  34.01 , 247.6  ,  75.4  ,  32.99 ],\n",
       "       [  1.   ,   7.463,  33.97 , 200.5  ,  84.3  ,  30.97 ],\n",
       "       [  1.   ,   7.703,  33.95 , 175.6  ,  90.7  ,  30.37 ],\n",
       "       [  1.   ,   8.15 ,  33.88 , 148.8  , 100.2  ,  28.94 ],\n",
       "       [  1.   ,   8.434,  33.78 , 129.4  , 112.6  ,  27.46 ],\n",
       "       [  1.   ,   8.692,  33.59 , 110.3  , 136.   ,  25.03 ],\n",
       "       [  1.   ,   9.046,  33.31 ,  91.1  , 179.   ,  20.57 ],\n",
       "       [  1.   ,   9.067,  32.69 ,  70.   , 251.7  ,  11.75 ],\n",
       "       [  1.   ,   9.031,  32.51 ,  59.7  , 269.   ,   8.94 ],\n",
       "       [  1.   ,   9.213,  32.46 ,  49.8  , 276.   ,   7.12 ],\n",
       "       [  1.   ,   9.505,  32.42 ,  40.4  , 282.9  ,   6.02 ],\n",
       "       [  1.   ,   7.125,  34.01 , 250.   ,  77.7  ,  31.73 ],\n",
       "       [  1.   ,   7.73 ,  33.98 , 200.4  ,  87.2  ,  29.81 ],\n",
       "       [  1.   ,   8.08 ,  33.93 , 175.   ,  94.1  ,  28.95 ],\n",
       "       [  1.   ,   8.357,  33.87 , 149.5  , 103.7  ,  28.12 ],\n",
       "       [  1.   ,   8.675,  33.79 , 130.3  , 111.5  ,  26.76 ],\n",
       "       [  1.   ,   8.867,  33.61 , 109.1  , 136.6  ,  25.42 ],\n",
       "       [  1.   ,   9.419,  33.25 ,  88.8  , 181.8  ,  19.62 ],\n",
       "       [  1.   ,  10.006,  32.62 ,  59.9  , 272.6  ,   6.49 ],\n",
       "       [  1.   ,  10.654,  32.6  ,  39.1  , 280.8  ,   4.81 ],\n",
       "       [  1.   ,  11.117,  32.54 ,  30.2  , 283.7  ,   3.34 ],\n",
       "       [  1.   ,   7.192,  33.99 , 249.3  ,  80.4  ,  32.99 ],\n",
       "       [  1.   ,   7.589,  33.95 , 200.8  ,  94.5  ,  31.45 ],\n",
       "       [  1.   ,   8.203,  33.88 , 149.8  , 100.7  ,  29.69 ],\n",
       "       [  1.   ,   8.426,  33.81 , 131.   , 109.1  ,  28.73 ],\n",
       "       [  1.   ,   8.884,  33.62 , 109.5  , 132.6  ,  25.73 ],\n",
       "       [  1.   ,   9.233,  33.31 ,  91.1  , 184.7  ,  21.13 ],\n",
       "       [  1.   ,   9.787,  32.58 ,  59.7  , 273.7  ,   6.55 ],\n",
       "       [  1.   ,  10.961,  32.47 ,  38.8  , 285.8  ,   2.39 ],\n",
       "       [  1.   ,   7.128,  34.02 , 250.4  ,  77.3  ,  33.22 ],\n",
       "       [  1.   ,   7.509,  33.97 , 200.2  ,  95.5  ,  30.73 ],\n",
       "       [  1.   ,   8.225,  33.88 , 174.9  , 122.1  ,  27.73 ],\n",
       "       [  1.   ,   8.434,  33.8  , 151.3  , 132.8  ,  26.27 ],\n",
       "       [  1.   ,   8.695,  33.6  , 129.9  , 155.5  ,  23.05 ],\n",
       "       [  1.   ,   8.975,  33.44 , 110.2  , 185.9  ,  20.3  ],\n",
       "       [  1.   ,   9.301,  33.13 ,  91.7  , 217.2  ,  16.04 ],\n",
       "       [  1.   ,  10.387,  32.8  ,  70.6  , 257.3  ,   8.1  ],\n",
       "       [  1.   ,  11.075,  32.74 ,  59.6  , 279.   ,   4.68 ],\n",
       "       [  1.   ,  11.353,  32.68 ,  50.7  , 278.8  ,   2.86 ],\n",
       "       [  1.   ,  11.515,  32.58 ,  41.5  , 280.7  ,   1.95 ],\n",
       "       [  1.   ,   7.159,  34.02 , 245.6  ,  76.4  ,  32.15 ],\n",
       "       [  1.   ,   7.612,  33.99 , 199.5  ,  85.5  ,  31.04 ],\n",
       "       [  1.   ,  11.468,  32.42 ,  31.9  , 283.7  ,   1.18 ],\n",
       "       [  1.   ,   6.916,  34.02 , 249.7  ,  72.1  ,  34.35 ],\n",
       "       [  1.   ,   7.588,  33.96 , 198.2  ,  88.1  ,  31.7  ],\n",
       "       [  1.   ,   7.804,  33.9  , 175.2  , 113.1  ,  29.2  ],\n",
       "       [  1.   ,   8.154,  33.84 , 150.6  , 119.9  ,  28.59 ],\n",
       "       [  1.   ,   8.253,  33.67 , 130.8  , 141.2  ,  26.22 ],\n",
       "       [  1.   ,   8.787,  33.43 , 110.9  , 173.6  ,  22.13 ],\n",
       "       [  1.   ,   9.58 ,  32.99 ,  89.3  , 220.8  ,  15.01 ],\n",
       "       [  1.   ,   9.907,  32.77 ,  68.6  , 251.3  ,   9.94 ],\n",
       "       [  1.   ,  10.009,  32.69 ,  60.4  , 261.2  ,   7.66 ],\n",
       "       [  1.   ,  10.142,  32.61 ,  49.7  , 271.2  ,   5.53 ],\n",
       "       [  1.   ,  10.291,  32.53 ,  39.8  , 275.1  ,   4.6  ],\n",
       "       [  1.   ,  10.612,  32.4  ,  30.7  , 276.5  ,   2.49 ],\n",
       "       [  1.   ,   6.613,  34.07 , 275.1  ,  56.4  ,  35.61 ],\n",
       "       [  1.   ,   6.818,  34.06 , 250.2  ,  61.9  ,  34.72 ],\n",
       "       [  1.   ,   6.941,  34.04 , 224.1  ,  68.   ,  33.87 ],\n",
       "       [  1.   ,   7.194,  34.01 , 199.9  ,  74.9  ,  33.22 ],\n",
       "       [  1.   ,   7.706,  33.93 , 150.4  ,  96.1  ,  30.59 ],\n",
       "       [  1.   ,   7.821,  33.88 , 130.9  , 110.6  ,  29.1  ],\n",
       "       [  1.   ,   8.02 ,  33.81 , 111.2  , 108.6  ,  28.81 ],\n",
       "       [  1.   ,   8.687,  33.4  ,  90.   , 157.3  ,  24.32 ],\n",
       "       [  1.   ,   9.123,  33.26 ,  69.5  , 200.9  ,  19.99 ],\n",
       "       [  1.   ,   8.999,  33.12 ,  60.3  , 202.7  ,  18.78 ],\n",
       "       [  1.   ,   9.393,  33.04 ,  50.5  , 234.1  ,  15.43 ],\n",
       "       [  1.   ,   9.372,  32.71 ,  39.9  , 259.1  ,  10.76 ],\n",
       "       [  1.   ,   6.311,  34.09 , 274.7  ,  50.6  ,  36.5  ],\n",
       "       [  1.   ,   6.605,  34.07 , 224.2  ,  54.6  ,  35.56 ],\n",
       "       [  1.   ,   6.716,  34.06 , 199.7  ,  55.7  ,  35.07 ],\n",
       "       [  1.   ,   6.959,  34.05 , 175.2  ,  56.   ,  34.28 ],\n",
       "       [  1.   ,   7.377,  33.99 , 129.7  ,  74.9  ,  32.38 ],\n",
       "       [  1.   ,   7.615,  33.95 , 110.7  ,  95.3  ,  31.52 ],\n",
       "       [  1.   ,   8.036,  33.85 ,  89.6  , 128.3  ,  30.   ],\n",
       "       [  1.   ,   8.278,  33.78 ,  70.2  , 135.5  ,  28.84 ],\n",
       "       [  1.   ,   8.454,  33.73 ,  60.   , 146.3  ,  27.54 ],\n",
       "       [  1.   ,   8.667,  33.69 ,  50.   , 183.6  ,  25.74 ],\n",
       "       [  1.   ,   8.833,  33.69 ,  40.   , 197.2  ,  24.37 ],\n",
       "       [  1.   ,   7.36 ,  33.99 ,  80.3  ,  78.5  ,  32.3  ],\n",
       "       [  1.   ,   7.439,  33.97 ,  69.8  ,  86.4  ,  31.94 ],\n",
       "       [  1.   ,   7.582,  33.94 ,  59.9  , 107.1  ,  30.87 ],\n",
       "       [  1.   ,   7.77 ,  33.91 ,  50.3  , 125.   ,  29.57 ],\n",
       "       [  1.   ,   7.872,  33.89 ,  40.2  , 131.2  ,  29.13 ],\n",
       "       [  1.   ,   7.92 ,  33.88 ,  30.7  , 144.8  ,  28.67 ],\n",
       "       [  1.   ,   7.032,  34.03 ,  30.2  ,  68.3  ,  32.9  ]])"
      ]
     },
     "execution_count": 115,
     "metadata": {},
     "output_type": "execute_result"
    }
   ],
   "source": [
    "X"
   ]
  },
  {
   "cell_type": "markdown",
   "metadata": {},
   "source": [
    "Use `np.linalg.lstsq` to compute the set of coefficients, `c`."
   ]
  },
  {
   "cell_type": "code",
   "execution_count": 116,
   "metadata": {},
   "outputs": [],
   "source": [
    "result = np.linalg.lstsq(X,y)"
   ]
  },
  {
   "cell_type": "code",
   "execution_count": 117,
   "metadata": {},
   "outputs": [
    {
     "data": {
      "text/plain": [
       "(array([-1.19029082e+00, -2.51555185e-03,  9.38753728e-02,  3.36570803e-04,\n",
       "         5.61953385e-04, -4.24568174e-02]),\n",
       " array([0.77762969]),\n",
       " 6,\n",
       " array([2.71587204e+03, 1.28264376e+03, 1.19159901e+02, 1.60456253e+01,\n",
       "        4.80243679e+00, 3.53983652e-02]))"
      ]
     },
     "execution_count": 117,
     "metadata": {},
     "output_type": "execute_result"
    }
   ],
   "source": [
    "result"
   ]
  },
  {
   "cell_type": "code",
   "execution_count": 118,
   "metadata": {},
   "outputs": [],
   "source": [
    "c = result[0]"
   ]
  },
  {
   "cell_type": "code",
   "execution_count": 119,
   "metadata": {},
   "outputs": [
    {
     "data": {
      "text/plain": [
       "array([-1.19029082e+00, -2.51555185e-03,  9.38753728e-02,  3.36570803e-04,\n",
       "        5.61953385e-04, -4.24568174e-02])"
      ]
     },
     "execution_count": 119,
     "metadata": {},
     "output_type": "execute_result"
    }
   ],
   "source": [
    "c"
   ]
  },
  {
   "cell_type": "markdown",
   "metadata": {},
   "source": [
    "Alternative solution using matrix multiplication:\n",
    "\n",
    "$$\\hat{c} = (\\textbf{X}^T\\textbf{X})^{-1}\\textbf{X}^T\\vec{y}$$"
   ]
  },
  {
   "cell_type": "code",
   "execution_count": 120,
   "metadata": {},
   "outputs": [],
   "source": [
    "c2 = np.linalg.inv(X.T@X)@X.T@y"
   ]
  },
  {
   "cell_type": "code",
   "execution_count": 121,
   "metadata": {},
   "outputs": [
    {
     "data": {
      "text/plain": [
       "array([-1.19029082e+00, -2.51555185e-03,  9.38753728e-02,  3.36570803e-04,\n",
       "        5.61953385e-04, -4.24568174e-02])"
      ]
     },
     "execution_count": 121,
     "metadata": {},
     "output_type": "execute_result"
    }
   ],
   "source": [
    "c2"
   ]
  },
  {
   "cell_type": "markdown",
   "metadata": {},
   "source": [
    "Now calculate the model values, $\\hat{y}$."
   ]
  },
  {
   "cell_type": "code",
   "execution_count": 122,
   "metadata": {},
   "outputs": [],
   "source": [
    "yhat = X@c"
   ]
  },
  {
   "cell_type": "markdown",
   "metadata": {},
   "source": [
    "## Assessing the model for bias\n",
    "\n",
    "Plot model vs. observations. Note the systematic underestimate at high and low values of $\\Omega_A$. The residual plot shows this even more clearly."
   ]
  },
  {
   "cell_type": "code",
   "execution_count": 123,
   "metadata": {},
   "outputs": [
    {
     "data": {
      "image/png": "[encoded data removed]",
      "text/plain": [
       "<Figure size 640x480 with 1 Axes>"
      ]
     },
     "metadata": {},
     "output_type": "display_data"
    }
   ],
   "source": [
    "plt.figure()\n",
    "plt.plot(y,yhat,'.')\n",
    "xl = plt.xlim()\n",
    "yl = plt.ylim()\n",
    "plt.plot(xl, xl, 'k--')\n",
    "plt.xlim(xl)\n",
    "plt.ylim(yl)\n",
    "plt.xlabel('observed $\\Omega_A$')\n",
    "plt.ylabel('modeled $\\Omega_A$');"
   ]
  },
  {
   "cell_type": "markdown",
   "metadata": {},
   "source": [
    "Plot residuals vs. observations."
   ]
  },
  {
   "cell_type": "code",
   "execution_count": 124,
   "metadata": {},
   "outputs": [
    {
     "data": {
      "image/png": "[encoded data removed]",
      "text/plain": [
       "<Figure size 640x480 with 1 Axes>"
      ]
     },
     "metadata": {},
     "output_type": "display_data"
    }
   ],
   "source": [
    "plt.figure()\n",
    "plt.plot(y, yhat-y,'.')\n",
    "xl = plt.xlim()\n",
    "plt.plot(xl,[0,0],'k--')\n",
    "plt.xlim(xl)\n",
    "plt.xlabel('observed $\\Omega_A$')\n",
    "plt.ylabel('residuals (modeled - observed)');"
   ]
  },
  {
   "cell_type": "markdown",
   "metadata": {},
   "source": [
    "### Alternative approach using statsmodels\n",
    "\n",
    "Use `statsmodels` to get a complete summary of regression statistics. Note that the coefficients are the same as those obtained using Numpy above."
   ]
  },
  {
   "cell_type": "code",
   "execution_count": 125,
   "metadata": {},
   "outputs": [
    {
     "name": "stdout",
     "output_type": "stream",
     "text": [
      "                            OLS Regression Results                            \n",
      "==============================================================================\n",
      "Dep. Variable:                 OmegaA   R-squared:                       0.976\n",
      "Model:                            OLS   Adj. R-squared:                  0.975\n",
      "Method:                 Least Squares   F-statistic:                     1230.\n",
      "Date:                Tue, 27 Feb 2024   Prob (F-statistic):          1.44e-121\n",
      "Time:                        18:14:46   Log-Likelihood:                 197.36\n",
      "No. Observations:                 159   AIC:                            -382.7\n",
      "Df Residuals:                     153   BIC:                            -364.3\n",
      "Df Model:                           5                                         \n",
      "Covariance Type:            nonrobust                                         \n",
      "==============================================================================\n",
      "                 coef    std err          t      P>|t|      [0.025      0.975]\n",
      "------------------------------------------------------------------------------\n",
      "const         -1.1903      2.013     -0.591      0.555      -5.167       2.787\n",
      "x1            -0.0025      0.015     -0.169      0.866      -0.032       0.027\n",
      "x2             0.0939      0.064      1.465      0.145      -0.033       0.220\n",
      "x3             0.0003      0.000      2.105      0.037    2.07e-05       0.001\n",
      "x4             0.0006      0.001      1.100      0.273      -0.000       0.002\n",
      "x5            -0.0425      0.005     -7.968      0.000      -0.053      -0.032\n",
      "==============================================================================\n",
      "Omnibus:                       14.235   Durbin-Watson:                   0.755\n",
      "Prob(Omnibus):                  0.001   Jarque-Bera (JB):               21.787\n",
      "Skew:                           0.487   Prob(JB):                     1.86e-05\n",
      "Kurtosis:                       4.530   Cond. No.                     7.67e+04\n",
      "==============================================================================\n",
      "\n",
      "Notes:\n",
      "[1] Standard Errors assume that the covariance matrix of the errors is correctly specified.\n",
      "[2] The condition number is large, 7.67e+04. This might indicate that there are\n",
      "strong multicollinearity or other numerical problems.\n"
     ]
    }
   ],
   "source": [
    "resultsm  = sm.OLS(y, X).fit()\n",
    "print(resultsm.summary())"
   ]
  },
  {
   "cell_type": "code",
   "execution_count": 126,
   "metadata": {},
   "outputs": [
    {
     "data": {
      "text/plain": [
       "const   -1.190291\n",
       "x1      -0.002516\n",
       "x2       0.093875\n",
       "x3       0.000337\n",
       "x4       0.000562\n",
       "x5      -0.042457\n",
       "dtype: float64"
      ]
     },
     "execution_count": 126,
     "metadata": {},
     "output_type": "execute_result"
    }
   ],
   "source": [
    "resultsm.params"
   ]
  },
  {
   "cell_type": "code",
   "execution_count": 127,
   "metadata": {},
   "outputs": [
    {
     "data": {
      "text/plain": [
       "array([-1.19029082e+00, -2.51555185e-03,  9.38753728e-02,  3.36570803e-04,\n",
       "        5.61953385e-04, -4.24568174e-02])"
      ]
     },
     "execution_count": 127,
     "metadata": {},
     "output_type": "execute_result"
    }
   ],
   "source": [
    "c"
   ]
  },
  {
   "cell_type": "markdown",
   "metadata": {},
   "source": [
    "### Confronting multicollinearity\n",
    "\n",
    "In the output above, statsmodels gave a warning about a high *condition number* - this is an indicator of how much a small change to the matrix $\\textbf{X}$ will change the solution to the least squares problem $\\hat{c} = (\\textbf{X}^T\\textbf{X})^{-1}\\textbf{X}^T\\vec{y}$. It is a measure of the extent to which the columns in $\\textbf{X}$ are linearly independent and closely scaled in magnitude. The same condition number can be calculated using Numpy."
   ]
  },
  {
   "cell_type": "code",
   "execution_count": 128,
   "metadata": {},
   "outputs": [
    {
     "data": {
      "text/plain": [
       "76723.09230168296"
      ]
     },
     "execution_count": 128,
     "metadata": {},
     "output_type": "execute_result"
    }
   ],
   "source": [
    "np.linalg.cond(X)"
   ]
  },
  {
   "cell_type": "markdown",
   "metadata": {},
   "source": [
    "Multiple collinearity can also be assessed by looking at the correlation matrix (R) or calculating the variance inflation factor (VIF)."
   ]
  },
  {
   "cell_type": "code",
   "execution_count": 129,
   "metadata": {},
   "outputs": [],
   "source": [
    "R = df07sub[['CTDTMP', 'CTDSAL', 'CTDPRS', 'CTDOXY', 'NITRAT']].corr()"
   ]
  },
  {
   "cell_type": "code",
   "execution_count": 130,
   "metadata": {},
   "outputs": [
    {
     "data": {
      "text/html": [
       "<div>\n",
       "<style scoped>\n",
       "    .dataframe tbody tr th:only-of-type {\n",
       "        vertical-align: middle;\n",
       "    }\n",
       "\n",
       "    .dataframe tbody tr th {\n",
       "        vertical-align: top;\n",
       "    }\n",
       "\n",
       "    .dataframe thead th {\n",
       "        text-align: right;\n",
       "    }\n",
       "</style>\n",
       "<table border=\"1\" class=\"dataframe\">\n",
       "  <thead>\n",
       "    <tr style=\"text-align: right;\">\n",
       "      <th></th>\n",
       "      <th>CTDTMP</th>\n",
       "      <th>CTDSAL</th>\n",
       "      <th>CTDPRS</th>\n",
       "      <th>CTDOXY</th>\n",
       "      <th>NITRAT</th>\n",
       "    </tr>\n",
       "  </thead>\n",
       "  <tbody>\n",
       "    <tr>\n",
       "      <th>CTDTMP</th>\n",
       "      <td>1.000000</td>\n",
       "      <td>-0.778421</td>\n",
       "      <td>-0.772172</td>\n",
       "      <td>0.822573</td>\n",
       "      <td>-0.863899</td>\n",
       "    </tr>\n",
       "    <tr>\n",
       "      <th>CTDSAL</th>\n",
       "      <td>-0.778421</td>\n",
       "      <td>1.000000</td>\n",
       "      <td>0.770493</td>\n",
       "      <td>-0.980860</td>\n",
       "      <td>0.979989</td>\n",
       "    </tr>\n",
       "    <tr>\n",
       "      <th>CTDPRS</th>\n",
       "      <td>-0.772172</td>\n",
       "      <td>0.770493</td>\n",
       "      <td>1.000000</td>\n",
       "      <td>-0.815279</td>\n",
       "      <td>0.786283</td>\n",
       "    </tr>\n",
       "    <tr>\n",
       "      <th>CTDOXY</th>\n",
       "      <td>0.822573</td>\n",
       "      <td>-0.980860</td>\n",
       "      <td>-0.815279</td>\n",
       "      <td>1.000000</td>\n",
       "      <td>-0.985540</td>\n",
       "    </tr>\n",
       "    <tr>\n",
       "      <th>NITRAT</th>\n",
       "      <td>-0.863899</td>\n",
       "      <td>0.979989</td>\n",
       "      <td>0.786283</td>\n",
       "      <td>-0.985540</td>\n",
       "      <td>1.000000</td>\n",
       "    </tr>\n",
       "  </tbody>\n",
       "</table>\n",
       "</div>"
      ],
      "text/plain": [
       "          CTDTMP    CTDSAL    CTDPRS    CTDOXY    NITRAT\n",
       "CTDTMP  1.000000 -0.778421 -0.772172  0.822573 -0.863899\n",
       "CTDSAL -0.778421  1.000000  0.770493 -0.980860  0.979989\n",
       "CTDPRS -0.772172  0.770493  1.000000 -0.815279  0.786283\n",
       "CTDOXY  0.822573 -0.980860 -0.815279  1.000000 -0.985540\n",
       "NITRAT -0.863899  0.979989  0.786283 -0.985540  1.000000"
      ]
     },
     "execution_count": 130,
     "metadata": {},
     "output_type": "execute_result"
    }
   ],
   "source": [
    "R"
   ]
  },
  {
   "cell_type": "code",
   "execution_count": 131,
   "metadata": {},
   "outputs": [],
   "source": [
    "VIF = 1/(1 - R**2)"
   ]
  },
  {
   "cell_type": "code",
   "execution_count": 132,
   "metadata": {},
   "outputs": [
    {
     "data": {
      "text/html": [
       "<div>\n",
       "<style scoped>\n",
       "    .dataframe tbody tr th:only-of-type {\n",
       "        vertical-align: middle;\n",
       "    }\n",
       "\n",
       "    .dataframe tbody tr th {\n",
       "        vertical-align: top;\n",
       "    }\n",
       "\n",
       "    .dataframe thead th {\n",
       "        text-align: right;\n",
       "    }\n",
       "</style>\n",
       "<table border=\"1\" class=\"dataframe\">\n",
       "  <thead>\n",
       "    <tr style=\"text-align: right;\">\n",
       "      <th></th>\n",
       "      <th>CTDTMP</th>\n",
       "      <th>CTDSAL</th>\n",
       "      <th>CTDPRS</th>\n",
       "      <th>CTDOXY</th>\n",
       "      <th>NITRAT</th>\n",
       "    </tr>\n",
       "  </thead>\n",
       "  <tbody>\n",
       "    <tr>\n",
       "      <th>CTDTMP</th>\n",
       "      <td>inf</td>\n",
       "      <td>2.537683</td>\n",
       "      <td>2.476778</td>\n",
       "      <td>3.092395</td>\n",
       "      <td>3.942003</td>\n",
       "    </tr>\n",
       "    <tr>\n",
       "      <th>CTDSAL</th>\n",
       "      <td>2.537683</td>\n",
       "      <td>inf</td>\n",
       "      <td>2.460989</td>\n",
       "      <td>26.375274</td>\n",
       "      <td>25.238230</td>\n",
       "    </tr>\n",
       "    <tr>\n",
       "      <th>CTDPRS</th>\n",
       "      <td>2.476778</td>\n",
       "      <td>2.460989</td>\n",
       "      <td>inf</td>\n",
       "      <td>2.982225</td>\n",
       "      <td>2.619453</td>\n",
       "    </tr>\n",
       "    <tr>\n",
       "      <th>CTDOXY</th>\n",
       "      <td>3.092395</td>\n",
       "      <td>26.375274</td>\n",
       "      <td>2.982225</td>\n",
       "      <td>inf</td>\n",
       "      <td>34.830366</td>\n",
       "    </tr>\n",
       "    <tr>\n",
       "      <th>NITRAT</th>\n",
       "      <td>3.942003</td>\n",
       "      <td>25.238230</td>\n",
       "      <td>2.619453</td>\n",
       "      <td>34.830366</td>\n",
       "      <td>inf</td>\n",
       "    </tr>\n",
       "  </tbody>\n",
       "</table>\n",
       "</div>"
      ],
      "text/plain": [
       "          CTDTMP     CTDSAL    CTDPRS     CTDOXY     NITRAT\n",
       "CTDTMP       inf   2.537683  2.476778   3.092395   3.942003\n",
       "CTDSAL  2.537683        inf  2.460989  26.375274  25.238230\n",
       "CTDPRS  2.476778   2.460989       inf   2.982225   2.619453\n",
       "CTDOXY  3.092395  26.375274  2.982225        inf  34.830366\n",
       "NITRAT  3.942003  25.238230  2.619453  34.830366        inf"
      ]
     },
     "execution_count": 132,
     "metadata": {},
     "output_type": "execute_result"
    }
   ],
   "source": [
    "VIF"
   ]
  },
  {
   "cell_type": "markdown",
   "metadata": {},
   "source": [
    "### Final model for aragonite saturation state\n",
    "\n",
    "Due to issues with bias and multiple collinearity, the following alternative model proposed by Juranek et al. (2009). It is simpler and contains an interaction term.\n",
    "\n",
    "\n",
    "$ \\hat{\\Omega}_A = a_0 + a_1 \\times (O - Oref) + a_2 \\times (O - Oref) \\times (T - Tref) $\n",
    "\n",
    "An important question is whether this model can predict aragonite saturation state in different years. This model can be tested using an independent data set from later cruises that cover the same region."
   ]
  },
  {
   "cell_type": "code",
   "execution_count": null,
   "metadata": {},
   "outputs": [],
   "source": []
  }
 ],
 "metadata": {
  "anaconda-cloud": {},
  "kernelspec": {
   "display_name": "Python 3 (ipykernel)",
   "language": "python",
   "name": "python3"
  },
  "language_info": {
   "codemirror_mode": {
    "name": "ipython",
    "version": 3
   },
   "file_extension": ".py",
   "mimetype": "text/x-python",
   "name": "python",
   "nbconvert_exporter": "python",
   "pygments_lexer": "ipython3",
   "version": "3.11.7"
  }
 },
 "nbformat": 4,
 "nbformat_minor": 4
}
