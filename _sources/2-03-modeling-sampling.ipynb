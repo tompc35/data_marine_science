{
 "cells": [
  {
   "cell_type": "markdown",
   "metadata": {
    "editable": true,
    "slideshow": {
     "slide_type": ""
    },
    "tags": []
   },
   "source": [
    "# Modeling, sampling, confidence intervals\n",
    "\n",
    "## Recommended reading\n",
    "\n",
    "* http://statsthinking21.org/index.html\n",
    "Chapters 7,8\n",
    "\n",
    "* Glover, Jenkins and Doney: Section 2.7 - The central limit theorem\n",
    "\n",
    "* Emery and Thomson: Confidence intervals, 3.8.1, 3.8.2 – Confidence interval for mean"
   ]
  },
  {
   "cell_type": "markdown",
   "metadata": {},
   "source": [
    "## Probability Density Function (PDF) review with example data set\n",
    "\n",
    "### Probability density function\n",
    "\n",
    "$N$ = 10623 anchovy weight samples\n",
    "\n",
    "$\\Delta x$ = 5 g\n",
    "\n",
    "**Review**: How to calculate PDF from counts, N and $\\Delta x$?\n",
    "\n",
    "* With the histogram we have the following information: counts, bin width ( $\\Delta x$ = 5g), $N$ (samples).  \n",
    "\n",
    "PDF = fraction/$\\Delta x$  = counts/($N \\Delta x$)\n",
    "\n",
    "![Trawl_Life_Hist_Samp_Data](images/Trawl_Life_Hist_Samp_Data.png) \n",
    "\n",
    "### NOAA SWFSC - Trawl Life History Specimen Data \n",
    "\n",
    "fishery independent trawl surveys of coastal pelagic species\n",
    "\n",
    "Surveys: 2003-2019"
   ]
  },
  {
   "cell_type": "code",
   "execution_count": 1,
   "metadata": {
    "tags": [
     "remove-input"
    ]
   },
   "outputs": [],
   "source": [
    "import numpy as np\n",
    "import matplotlib.pyplot as plt\n",
    "import netCDF4 as nc4\n",
    "from ipywidgets import interact, interactive, fixed, interact_manual, IntSlider\n",
    "import ipywidgets as widgets\n",
    "from scipy.stats import norm, mode\n",
    "from scipy import stats\n",
    "\n",
    "species_name = 'Engraulis mordax'\n",
    "file_name = 'data/trawl_swfsc/FRDCPSTrawlLHSpecimen_8b4e_b841_9c81.nc'\n",
    "\n",
    "def read_trawl_data_file(species_name, file_name):\n",
    "    \n",
    "    # open the netcdf file and read in the weight and length data\n",
    "    ds = nc4.Dataset(file_name)\n",
    "    name = ds.variables['scientific_name'][:]\n",
    "    weight = ds.variables['weight'][:]\n",
    "    length = ds.variables['standard_length'][:]\n",
    "    ds.close()\n",
    "    \n",
    "    # subset to the particular species and remove the nan values\n",
    "    indices = np.logical_and(name==species_name, length<4000)\n",
    "    indices = np.logical_and(indices,~np.isnan(weight))\n",
    "    weight = weight[indices]\n",
    "    length = length[indices]\n",
    "    \n",
    "    return(weight,length)\n",
    "\n",
    "def plot_weight_histogram(species_name, normalize_pdf = True, remove_mean = False):\n",
    "    \n",
    "    #species_name = 'Engraulis mordax'\n",
    "\n",
    "    # read in the weight data using \n",
    "    weight, _ = read_trawl_data_file(species_name, file_name)\n",
    "    \n",
    "    fig = plt.figure()\n",
    "    \n",
    "    bins = np.arange(0,65,5)\n",
    "\n",
    "    if remove_mean == True:\n",
    "        weight = weight - np.mean(weight)\n",
    "        bins = bins - np.mean(weight)\n",
    "\n",
    "    if normalize_pdf:\n",
    "        plt.hist(weight, density=True, bins=bins)\n",
    "        plt.ylabel('PDF')\n",
    "    else:\n",
    "        plt.hist(weight, density=False, bins=bins)\n",
    "        plt.ylabel('counts')\n",
    "        \n",
    "    plt.title(species_name+', $\\mu$ = '+'{:.2f}'.format(np.mean(weight))\n",
    "              +', $\\sigma$ = '+'{:.2f}'.format(np.std(weight))\n",
    "              +', N = '+str(len(weight)))\n",
    "    plt.xlabel('weight [g]');\n",
    "    \n",
    "\n",
    "def subsample_weights(weights, N, seed=None):\n",
    "    np.random.seed(seed)\n",
    "    indices = np.random.randint(0, np.size(weights), N)\n",
    "    subsample = weights[indices]\n",
    "    return(subsample)\n",
    "\n",
    "def plot_subsampled_weight_histogram(species_name, N=100):\n",
    "    \n",
    "    #species_name = 'Engraulis mordax'\n",
    "\n",
    "    # read in the weight data using \n",
    "    weight, _ = read_trawl_data_file(species_name, file_name)\n",
    "    \n",
    "    subsampled_weights = subsample_weights(weight, N)\n",
    "    \n",
    "    fig = plt.figure()\n",
    "    plt.hist(subsampled_weights,density=True, bins=np.arange(0,60,5))\n",
    "    plt.title(species_name+', $\\\\bar{x}$ = '+'{:.2f}'.format(np.mean(subsampled_weights))\n",
    "              +', s = '+'{:.2f}'.format(np.std(subsampled_weights))\n",
    "              +', N = '+str(len(subsampled_weights)))\n",
    "    plt.xlabel('weight [g]')\n",
    "    plt.ylabel('PDF');\n",
    "\n",
    "def plot_length_vs_weight_data_with_fit(species_name, N):\n",
    "    \n",
    "    #species_name = 'Engraulis mordax'\n",
    "    #species_name = 'Icichthys lockingtoni'\n",
    "\n",
    "    # read in the weight data using \n",
    "    weight, length = read_trawl_data_file(species_name, file_name)\n",
    "    \n",
    "    z = np.polyfit(length,weight,N)\n",
    "    p = np.poly1d(z)\n",
    "    \n",
    "    x = np.arange(np.min(length),np.max(length)+1)\n",
    "    RMSE = np.sqrt(np.mean((weight-p(length))**2))\n",
    "    \n",
    "    fig = plt.figure()\n",
    "    plt.plot(length,weight,'.')\n",
    "    plt.plot(x,p(x),'-',linewidth=2)\n",
    "    \n",
    "    if species_name == 'Engraulis mordax':\n",
    "        plt.xlim([15,190])\n",
    "        plt.ylim([-20,70])\n",
    "        \n",
    "    plt.xlabel('standard length (mm)')\n",
    "    plt.ylabel('weight [g]')\n",
    "    plt.grid(alpha=0.4,linestyle='--',linewidth='0.8')\n",
    "    plt.title('Model fit with '+str(N)+' polynomial term(s), RMSE = '+'{:.2f}'.format(RMSE)+' g');\n",
    "    \n",
    "\n",
    "def plot_distribution_of_subsampled_weight_means(species_name, N, n_subsamples):\n",
    "\n",
    "    # read in the weight data using \n",
    "    weight, _ = read_trawl_data_file(species_name, file_name)\n",
    "    \n",
    "    sample_means = []\n",
    "    for n in range(n_subsamples):\n",
    "        subsampled_weights = subsample_weights(weight, N)\n",
    "        sample_means.append(np.mean(subsampled_weights))\n",
    "    \n",
    "    fig = plt.figure(figsize = (8, 5))\n",
    "    \n",
    "    plt.subplot(1,2,1)\n",
    "    plt.hist(sample_means, density=True, bins=np.arange(0,60,0.5))\n",
    "    plt.title('a) Distribution\\n of means ($\\\\bar{x}$)')\n",
    "    x = np.arange(0,60,0.1)\n",
    "    plt.plot(x, norm.pdf(x, np.mean(weight), np.std(weight)/np.sqrt(N)))\n",
    "    plt.ylabel('PDF')\n",
    "    plt.gca().set_ylim([0,0.5])\n",
    "    plt.xlabel('weight [g]')\n",
    "    yl = plt.ylim()\n",
    "    \n",
    "    plt.text(25,0.8*np.diff(yl), '$\\mu $ = '+'{:.3f}'.format(np.mean(weight)))\n",
    "    plt.text(25,0.74*np.diff(yl), '$\\sigma/\\sqrt{N} $ = '+'{:.3f}'.format(np.std(weight)/np.sqrt(N)))\n",
    "    plt.text(25,0.5*np.diff(yl), 'Mean of $\\\\bar{x}$\\n = '+'{:.3f}'.format(np.mean(sample_means)))\n",
    "    plt.text(25,0.36*np.diff(yl), 'Std. Dev. of\\n $\\\\bar{x}$ = '+'{:.3f}'.format(np.std(sample_means)))\n",
    "    \n",
    "    plt.subplot(1,2,2)\n",
    "    plt.title('b) Same as a), but zoomed in')\n",
    "    x = np.arange(10,20.1,0.1)\n",
    "    plt.hist(sample_means, density=True, bins=np.arange(0,60,0.5))\n",
    "    plt.plot(x, norm.pdf(x, np.mean(weight), np.std(weight)/np.sqrt(N)))\n",
    "    plt.xlabel('weight [g]')\n",
    "    plt.gca().set_ylim([0, 0.5])\n",
    "    plt.gca().set_xlim([10, 20]);\n"
   ]
  },
  {
   "cell_type": "markdown",
   "metadata": {},
   "source": [
    "### Subsampled data set\n",
    "\n",
    "If we think of the above PDF as repesenting the total poulation of *Engraulis mordax* in the whole ocean, then you can think of the subsample as a result you might get if you just went out and trawled for one day.\n",
    "\n",
    "Click the button to generate a random set of $N$ subsamples from the larger dataset."
   ]
  },
  {
   "cell_type": "code",
   "execution_count": 2,
   "metadata": {
    "tags": [
     "remove-input"
    ]
   },
   "outputs": [
    {
     "data": {
      "application/vnd.jupyter.widget-view+json": {
       "model_id": "546e320aaeef4cbfb3077e9d9c8d1cea",
       "version_major": 2,
       "version_minor": 0
      },
      "text/plain": [
       "interactive(children=(IntSlider(value=100, description='N', max=1000, min=10, step=10), Button(description='cr…"
      ]
     },
     "metadata": {},
     "output_type": "display_data"
    },
    {
     "data": {
      "text/plain": [
       "<function __main__.plot_subsampled_weight_histogram(species_name, N=100)>"
      ]
     },
     "metadata": {},
     "output_type": "display_data"
    }
   ],
   "source": [
    "my_interact_manual = interact_manual.options(manual_name=\"create sub-sample\")\n",
    "\n",
    "im = my_interact_manual(plot_subsampled_weight_histogram, \n",
    "            species_name = fixed(species_name),\n",
    "            N=IntSlider(min=10, max=1000, step=10, value=100),\n",
    "            seed=None);\n",
    "\n",
    "display(im);\n"
   ]
  },
  {
   "cell_type": "markdown",
   "metadata": {},
   "source": [
    "\n",
    "$N$ = 100 anchovy weight samples\n",
    "\n",
    "What are the key differences, similarities of this distribution, compared with all 10623 samples?\n",
    "\n",
    "- *differences*: a pdf of smaller sample sizes are noiser, less smooth.  May see more variability from one bin to the next.\n",
    "\n",
    "- *similarities*: theoretical distribution resembles poisson distribution (skewed data set with a longer tail), scale of y-axis (normalized by the bin width so magnitudes of different data sets are comparable)"
   ]
  },
  {
   "cell_type": "markdown",
   "metadata": {},
   "source": [
    "### Statistical modeling\n",
    "#### What is a model? \n",
    "\n",
    "Physical models (e.g., of a building, of Monterey Bay, of a cell or a molecule) represent something on a different scale to make it easier to understand. They convey the essence of something without having to worry about all the details. A statistical model is same basic idea as a physical model, we want to convey the essence of the dataset without having to use an entire dataset\n",
    "\n",
    "#### Basic structure of a statistical model\n",
    "\n",
    "A statistical model is based off data. Error is an inherent part of of any model prediction. One of the key goals in evaluating a model is to quantify that error. \n",
    "\n",
    "data = model + error\n",
    "\n",
    "$x_i = \\hat{x}_i + \\epsilon_i$\n",
    "\n",
    "where $x_i$ is one data point, $\\hat{x}_i$ is the corresponding model predition, and $\\epsilon_i$ is the difference between them."
   ]
  },
  {
   "cell_type": "markdown",
   "metadata": {},
   "source": [
    "### Example data set: simplest model\n",
    "\n",
    "#### The simplest possible model is a single value \n",
    "* Mode = 5 g\n",
    "\n",
    "* Mean = 15.326 g\n",
    "\n",
    "* Median = 14 g\n",
    "\n",
    "In this case the mean is much bigger than the mode is about 15 grams (data is skewed).  A median describes the central value, or 50th percentile in the data set.\n",
    "\n",
    "If we use the mode as the model, we can write it as:\n",
    "$\\hat{weight_i}$ = 5 g\n",
    "\n",
    "The $\\hat{}$ denotes a value predicted by the model\n",
    "\n",
    "The subscript $_i$ denotes one data point with the model value, a generic observation.  For example, if we specify  $i=1$, it could mean the first row in a spreadsheet.\n",
    "\n",
    "We can describe the error based on the model structure:\n",
    "$error_i = weight_i - \\hat{weight_i}$\n",
    "\n",
    "where $weight_i$ is an observation, or data point, and $\\hat{weight_i}$ is the corresponding model prediction. Each observation has a model prediction and an error associated with it. \n",
    "\n",
    "In the example, if we have 10623 data points, then a model will have 10263 errors."
   ]
  },
  {
   "cell_type": "markdown",
   "metadata": {},
   "source": [
    "### Example data set: mode as a model"
   ]
  },
  {
   "cell_type": "code",
   "execution_count": 3,
   "metadata": {
    "tags": [
     "remove-input"
    ]
   },
   "outputs": [
    {
     "data": {
      "text/plain": [
       "<Figure size 432x288 with 0 Axes>"
      ]
     },
     "metadata": {},
     "output_type": "display_data"
    },
    {
     "data": {
      "image/png": "[encoded data removed]",
      "text/plain": [
       "<Figure size 432x288 with 1 Axes>"
      ]
     },
     "metadata": {
      "needs_background": "light"
     },
     "output_type": "display_data"
    }
   ],
   "source": [
    "weight,length = read_trawl_data_file(species_name, file_name)\n",
    "\n",
    "plt.figure()\n",
    "plot_weight_histogram(species_name, normalize_pdf = True)\n",
    "xl = plt.xlim()\n",
    "yl = plt.ylim()\n",
    "plt.plot([mode(weight)[0], mode(weight)[0]],[yl[0], yl[1]], 'r--', lw=2)\n",
    "plt.xlim(xl)\n",
    "plt.ylim(yl);"
   ]
  },
  {
   "cell_type": "markdown",
   "metadata": {},
   "source": [
    "With this model, each model prediction has a constant value of 5 g, that is,\n",
    "\n",
    "$\\hat{x}_i$ = 5 g.\n",
    "\n",
    "The average error, $\\bar{\\epsilon_i} = \\overline{(x_i - \\hat{x}_i)}$, when using mode as model is 10.326 g. In other words the positive errors dominate the average error.\n",
    "\n",
    "If we use the mean as a model, would you expect the average error increase or decrease?"
   ]
  },
  {
   "cell_type": "markdown",
   "metadata": {},
   "source": [
    "### Example data set: mean as a model"
   ]
  },
  {
   "cell_type": "code",
   "execution_count": 4,
   "metadata": {
    "tags": [
     "remove-input"
    ]
   },
   "outputs": [
    {
     "data": {
      "text/plain": [
       "<Figure size 432x288 with 0 Axes>"
      ]
     },
     "metadata": {},
     "output_type": "display_data"
    },
    {
     "data": {
      "image/png": "[encoded data removed]",
      "text/plain": [
       "<Figure size 432x288 with 1 Axes>"
      ]
     },
     "metadata": {
      "needs_background": "light"
     },
     "output_type": "display_data"
    }
   ],
   "source": [
    "plt.figure()\n",
    "plot_weight_histogram(species_name, normalize_pdf = True)\n",
    "xl = plt.xlim()\n",
    "yl = plt.ylim()\n",
    "plt.plot([np.mean(weight), np.mean(weight)],[yl[0], yl[1]], 'r--', lw=2)\n",
    "plt.xlim(xl)\n",
    "plt.ylim(yl);"
   ]
  },
  {
   "cell_type": "markdown",
   "metadata": {},
   "source": [
    "\n",
    "\n",
    "If we use the mean as a model, $\\hat{x_i} = \\bar{x_i}$ \n",
    "\n",
    "The average error when using mean as a model is 0.0g.  In this case, the negative errors cancel out the positive errors. In this case, the mean error does not do a good job of describing the distribution of errors. In fact, this metric is a measure of bias but does not say anything about the random errors (precision) of the model.\n",
    "\n",
    "#### What other metrics can we use to quantify model error?\n",
    "\n",
    "Some ways of quantifying the error:\n",
    "\n",
    "We can describe the mean error (average error) as:\n",
    "\n",
    "$ME = \\frac{1}{N} \\sum_{i=1}^N (x_i - \\hat{x_i})$\n",
    "\n",
    "If our model ($\\hat{x_i}$) is the mean of the dataset ($\\bar{x_i}$), then the ME = 0 and the model is *unbiased*.\n",
    "\n",
    "\n",
    "#### Sum of Squared Errors\n",
    "\n",
    "$SSE = \\sum_{i=1}^N (x_i - \\hat{x_i})^2$\n",
    "\n",
    "(This treats the positive and negative values equally)\n",
    "\n",
    "#### Mean Squared Error\n",
    "\n",
    "$MSE = \\frac{1}{N} SSE$\n",
    "\n",
    "#### Root Mean Square Error \n",
    "\n",
    "$RMSE = \\sqrt{MSE}$\n",
    "\n",
    "The units for RMSE will make it easier to understand the error mismatch. This is a summary of all the errors in the dataset by penalizing all errors in the dataset equally. For our two models examined so far, where the model is only a constant value, the RMSE can by summarized as:\n",
    "\n",
    "* RMSE(mean) = 9.71 grams \n",
    "* RMSE(mode) = 14.18 grams"
   ]
  },
  {
   "cell_type": "markdown",
   "metadata": {},
   "source": [
    "### The mean is the single value that minimizes RMSE "
   ]
  },
  {
   "cell_type": "code",
   "execution_count": 5,
   "metadata": {
    "tags": [
     "remove-input"
    ]
   },
   "outputs": [
    {
     "data": {
      "image/png": "[encoded data removed]",
      "text/plain": [
       "<Figure size 432x288 with 1 Axes>"
      ]
     },
     "metadata": {
      "needs_background": "light"
     },
     "output_type": "display_data"
    }
   ],
   "source": [
    "xmod = np.arange(0,31,0.1)\n",
    "xsae = np.nan*np.zeros(len(xmod))\n",
    "\n",
    "for i,xmodi in enumerate(xmod):\n",
    "    xsae[i] = np.sqrt(np.mean((weight-xmodi)**2))\n",
    "    \n",
    "plt.figure()\n",
    "plt.plot(xmod,xsae)\n",
    "plt.xlabel('$\\hat{weight}$ [g]')\n",
    "plt.ylabel('RMSE [g]')\n",
    "\n",
    "xl = plt.xlim()\n",
    "yl = plt.ylim()\n",
    "plt.plot([np.mean(weight), np.mean(weight)],[yl[0], yl[1]], 'r--', lw=2)\n",
    "plt.xlim(xl)\n",
    "plt.ylim(yl);"
   ]
  },
  {
   "cell_type": "markdown",
   "metadata": {},
   "source": [
    "* This plot is showing the RMSE as a function of the model value. \n",
    "\n",
    "* This plot is an example of what is called a *cost function*. We have a model parameter on the x-axis and an error, or \"cost\" on the y-axis.  In modeling we are often interested in the parameter that minimizes the cost function.\n",
    "\n",
    "* The vertical dashed line shows the mean value. Out of all possible models defined by a single parameter, the mean is the one the minimizes the RMSE and would be considered most optimal."
   ]
  },
  {
   "cell_type": "markdown",
   "metadata": {},
   "source": [
    "### A simple model with two parameters: linear model \n",
    "\n",
    "Let's say that we want to model fish weight as a function of length for this species. This might be useful in a case where length estimates are common, but weight estimates are more labor-inetensive. Or maybe there is interest in comparine length-weight relationships for different species."
   ]
  },
  {
   "cell_type": "code",
   "execution_count": 6,
   "metadata": {
    "tags": [
     "hide-input"
    ]
   },
   "outputs": [
    {
     "data": {
      "image/png": "[encoded data removed]",
      "text/plain": [
       "<Figure size 432x288 with 1 Axes>"
      ]
     },
     "metadata": {
      "needs_background": "light"
     },
     "output_type": "display_data"
    }
   ],
   "source": [
    "import xarray as xr\n",
    "import pandas as pd\n",
    "import statsmodels.api as sm\n",
    "import statsmodels.formula.api as smf\n",
    "import matplotlib.pyplot as plt\n",
    "\n",
    "# load dataset and convert to Pandas dataframe\n",
    "ds = xr.open_dataset('data/trawl_swfsc/FRDCPSTrawlLHSpecimen_8b4e_b841_9c81.nc')\n",
    "df = ds.to_dataframe()\n",
    "dfsub = df.loc[(df['scientific_name'] == 'Engraulis mordax') & \n",
    "               (ds['standard_length'].values < 1e8)]\n",
    "\n",
    "# linear fit with statsmodels package\n",
    "results = smf.ols('weight ~ 1 + standard_length', dfsub).fit()\n",
    "\n",
    "# RMSE\n",
    "err = dfsub['weight']-(results.params[0]+results.params[1]*dfsub['standard_length'])\n",
    "rmse = np.sqrt(np.mean(err**2))\n",
    "\n",
    "# plot linear model\n",
    "plt.figure()\n",
    "plt.plot(dfsub['standard_length'],dfsub['weight'],'.')\n",
    "plt.plot(dfsub['standard_length'],\n",
    "         results.params[0]+results.params[1]*dfsub['standard_length'],\n",
    "         '-')\n",
    "plt.xlabel('standard length [mm]')\n",
    "plt.ylabel('weight [g]')\n",
    "plt.title('Engraulis mordax, RMSE = '+str(np.round(rmse,2))+ ' g');"
   ]
  },
  {
   "cell_type": "markdown",
   "metadata": {},
   "source": [
    "The linear model has RMSE = 3.57 g\n",
    "\n",
    "Looking at the data, it looks like a linear model only works for part of the data. It tends to be biased low at the smallest and largest length values.  If we were going to use this linear model, our equation would be: \n",
    "\n",
    "$\\hat{weight_i} =  constant + a * length_i$\n",
    "\n",
    "The $\\hat{}$ symbol indicates $\\hat{weight_i}$ is a model\n",
    "\n",
    "Here the $constant$ is the intercept and $a$ is the slope.\n",
    "\n",
    "The intercept and slope are the model parameters. You can think of the error $\\epsilon_i$ for each data point as being the vertical distance between the data point and the model, $x_i - \\hat{x}_i$."
   ]
  },
  {
   "cell_type": "markdown",
   "metadata": {},
   "source": [
    "### Example data set: quadratic model "
   ]
  },
  {
   "cell_type": "code",
   "execution_count": 7,
   "metadata": {
    "tags": [
     "hide-input"
    ]
   },
   "outputs": [
    {
     "data": {
      "image/png": "[encoded data removed]",
      "text/plain": [
       "<Figure size 432x288 with 1 Axes>"
      ]
     },
     "metadata": {
      "needs_background": "light"
     },
     "output_type": "display_data"
    }
   ],
   "source": [
    "resultsq = smf.ols('weight ~ 1 + standard_length + I(standard_length**2)', dfsub).fit()\n",
    "\n",
    "errq = dfsub['weight']-(resultsq.params[0]+\n",
    "         resultsq.params[1]*dfsub['standard_length']+\n",
    "         resultsq.params[2]*dfsub['standard_length']**2)\n",
    "rmseq = np.sqrt(np.mean(errq**2))\n",
    "\n",
    "plt.figure()\n",
    "plt.plot(dfsub['standard_length'],dfsub['weight'],'.')\n",
    "plt.plot(dfsub['standard_length'],\n",
    "         resultsq.params[0]+\n",
    "         resultsq.params[1]*dfsub['standard_length']+\n",
    "         resultsq.params[2]*dfsub['standard_length']**2,\n",
    "         '.')\n",
    "plt.xlabel('standard length [mm]')\n",
    "plt.ylabel('weight [g]')\n",
    "plt.title('Engraulis mordax, RMSE = '+str(np.round(rmseq,2))+ ' g');"
   ]
  },
  {
   "cell_type": "markdown",
   "metadata": {},
   "source": [
    "The quadratic model has RMSE = 2.11 g. \n",
    "\n",
    "$\\hat{weight_i} =  constant + a * length_i + b * length_i^2$\n",
    "\n",
    "The constant, a, and b are model parameters that describe the structure or the shape of the model. We can find the model that minimizes the RMSE.  This looks like it is doing better than a linear model, but the model indicates that their weight decreases as they get bigger for smaller fish.  It still has some systematic errors where there is some bias."
   ]
  },
  {
   "cell_type": "markdown",
   "metadata": {},
   "source": [
    "### Example data set: data transformation"
   ]
  },
  {
   "cell_type": "code",
   "execution_count": 8,
   "metadata": {
    "tags": [
     "hide-input"
    ]
   },
   "outputs": [
    {
     "data": {
      "image/png": "[encoded data removed]",
      "text/plain": [
       "<Figure size 432x288 with 1 Axes>"
      ]
     },
     "metadata": {
      "needs_background": "light"
     },
     "output_type": "display_data"
    }
   ],
   "source": [
    "plt.figure()\n",
    "plt.plot(np.log(dfsub['standard_length']),\n",
    "         np.log(dfsub['weight']),'.')\n",
    "plt.xlabel('ln(standard length [mm])')\n",
    "plt.ylabel('ln(weight [g])')\n",
    "plt.title('Engraulis mordax');"
   ]
  },
  {
   "cell_type": "markdown",
   "metadata": {},
   "source": [
    "This is the same data transformed to a logarithmic scale, and now it appears that a linear model may be appropriate.  Now, we are not minimizing the RMSE, you are minimizing the logarthmic RMSE.\n",
    "\n",
    "#### What makes a model good?\n",
    "\n",
    "- good fit\n",
    "- minimizes error\n",
    "- represents actual scenario of the data \n",
    "- is not overcomplicated"
   ]
  },
  {
   "cell_type": "markdown",
   "metadata": {},
   "source": [
    "### Modeling another species - Overfitting\n",
    "\n",
    "Overfitting occurs when a model is overcomplicated and not representative of the actual scenario. If we add more parameters by adding more terms to the polynomial model equation, we may get an unrealistic model with a low RMSE. Symptoms of overfitting include large swings in model curves where no data points exist.\n",
    "\n",
    "If another datapoint is added without readjusting the model (for example, if a *Icichthys lockingtoni* specimen with 150 mm length were caught), the RMSE will likely be large.  \n",
    "\n",
    "Datasets with large sample sizes are still prone to overfitting. Even with many data points, a model for *Engraulis mordax* with many coefficients is overly sensitive to the extreme data values. "
   ]
  },
  {
   "cell_type": "code",
   "execution_count": 9,
   "metadata": {
    "tags": [
     "hide-input"
    ]
   },
   "outputs": [
    {
     "data": {
      "application/vnd.jupyter.widget-view+json": {
       "model_id": "dd36524be5d34637a65e2fc7ed59e457",
       "version_major": 2,
       "version_minor": 0
      },
      "text/plain": [
       "interactive(children=(Dropdown(description='species_name', options=('Icichthys lockingtoni', 'Engraulis mordax…"
      ]
     },
     "metadata": {},
     "output_type": "display_data"
    }
   ],
   "source": [
    "interact(plot_length_vs_weight_data_with_fit,\n",
    "        species_name = ['Icichthys lockingtoni', 'Engraulis mordax'],\n",
    "         N=widgets.IntSlider(min=0, max=10, step=1, value=7));"
   ]
  },
  {
   "cell_type": "markdown",
   "metadata": {},
   "source": [
    "### Sampling\n",
    "* *Statistical inference*: One of the foundational ideas in statistics is that we can make inferences about an entire population based on a relatively small sample of individuals from that population.\n",
    "\n",
    "* *Goal of sampling*: determine the value of a statistic for an entire population of interest, using just a small subset of the population.\n",
    "\n",
    "The way in which we select the sample is critical to ensuring that the sample is representative of the entire population.\n",
    "\n",
    "Adapted from: http://statsthinking21.org/sampling.html"
   ]
  },
  {
   "cell_type": "markdown",
   "metadata": {},
   "source": [
    "### Back to the anchovy data example: distribution of means\n",
    "\n",
    "![trawl_pdf_mean_dist](images/trawl_pdf_mean_dist.png)\n",
    "\n",
    "**Blue bars**: distribution of 1000 different sample means ($\\bar{x}$), with N = 100 samples each \n",
    "\n",
    "Mean of $\\bar{x}$ = 15.346 g\n",
    "Std. dev. of $\\bar{x}$ = 0.933 g\n",
    "\n",
    "**Orange curve**: normal distribution \n",
    "  \n",
    "$\\mu$ = 15.327 g (mean of full data set)\n",
    "\n",
    "$\\frac{\\sigma}{\\sqrt{N}}$ = 0.971 g (std. dev. of full data set / √100)\n",
    "      \n",
    "      "
   ]
  },
  {
   "cell_type": "markdown",
   "metadata": {},
   "source": [
    "### Anchovy data: distribution of means (zoomed in)\n",
    "\n",
    "![images/trawl_pdf_mean_dist_zoomed.png](images/trawl_pdf_mean_dist_zoomed.png)\n",
    "\n",
    "\n",
    "#### Blue bars: distribution of 106 different sample means ($\\bar{x}$), with N = 100 samples each \n",
    "\n",
    "Mean of $\\bar{x}$ = 15.358 g\n",
    "Std. dev. of $\\bar{x}$ = 0.822 g\n",
    "\n",
    "#### Orange curve: normal distribution \n",
    "  \n",
    "$\\mu{}$ = 15.327 g (mean of full data set)\n",
    "\n",
    "$\\frac{\\sigma}{\\sqrt{N}}$ = 0.971 g (std. dev. of full data set / √100)\n",
    "\n",
    "This is a consequence of the central limit theorem."
   ]
  },
  {
   "cell_type": "code",
   "execution_count": 10,
   "metadata": {},
   "outputs": [
    {
     "data": {
      "application/vnd.jupyter.widget-view+json": {
       "model_id": "2527724afb9549bfb30b0507995591a8",
       "version_major": 2,
       "version_minor": 0
      },
      "text/plain": [
       "interactive(children=(IntSlider(value=3, description='N', min=1), IntSlider(value=1000, description='n_subsamp…"
      ]
     },
     "metadata": {},
     "output_type": "display_data"
    },
    {
     "data": {
      "text/plain": [
       "<function __main__.plot_distribution_of_subsampled_weight_means(species_name, N, n_subsamples)>"
      ]
     },
     "execution_count": 10,
     "metadata": {},
     "output_type": "execute_result"
    }
   ],
   "source": [
    "interact(plot_distribution_of_subsampled_weight_means,\n",
    "        species_name = fixed(species_name),\n",
    "        N = widgets.IntSlider(min=1, max=100, step=1, value=3),\n",
    "        n_subsamples = widgets.IntSlider(min=10, max=1000, step=20, value=1000))"
   ]
  },
  {
   "cell_type": "markdown",
   "metadata": {},
   "source": [
    "## The Central Limit Theorem\n",
    "\n",
    "The __central limit theorem__ states that no matter what the probability distribution of parent population is, the _mean of the means_ drawn from the same population is normally distributed for large sample sizes. As $N$ approaches infinity,\n",
    "\n",
    "mean $(\\bar{x}) \\rightarrow \\mu$ (the mean of the sample means approaches the true mean)\n",
    "\n",
    "std $(\\bar{x}) \\rightarrow \\frac{\\sigma}{\\sqrt{N}}$ (the standard deviation of the sample means approaches the true standard error)\n",
    "\n",
    "The important consequence of this theorem is that if you collect enough samples, the sample mean will always provide an unbiased estimate of the true mean and you can calculate confidence intervals with the formulas above.\n",
    "\n",
    "However, if you have too few samples, the sample mean will provide a _biased_ estimate.\n",
    "\n",
    "Some examples of situation where the central limit theorem is applied:\n",
    "\n",
    "* Radiochemists study discrete decay events, which follow a Poisson distribution. A few samples will give a biased estimate of the mean rate of radioactive decay. If enough samples are collected, the sample mean and 95% confidence intervals can be calculated using the formulas described above.\n",
    "\n",
    "\n",
    "* Physical oceanographers routinely take advantage of the central limit theorem when using observations of pressure or velocity measurements to study processes with time scales much longer than individual waves. The probability distribution of a wavy sea surface is not normal at all, but by collecting many samples (a.k.a. an \"ensemble\") over a period of ~10-20 minutes the waves are effectively \"averaged out\" and one can be reasonably confident in the mean of that ensemble. \n",
    "\n",
    "When sampling a noisy environment and ensemble averaging, oceanographers must be careful to choose an ensemble that is long enough to collect enough samples, but not so long that the statistics are changing significantly over longer time scales. If statistics are robust regardless, of the sampling duration, the process is said to be __stationary__. \n",
    "\n",
    "\\*Adapted from: http://statsthinking21.org/sampling.html\n",
    "\n"
   ]
  },
  {
   "cell_type": "markdown",
   "metadata": {},
   "source": [
    "### Central limit theorem (in other words)\n",
    "\n",
    "The distribution of an average tends to be Normal, even when the distribution from which the average is computed is decidedly non-Normal. \n",
    "\n",
    "http://www.statisticalengineering.com/central_limit_theorem.htm\n",
    "\n",
    "The amazing and counter-intuitive thing about the central limit theorem is that no matter what the shape of the original distribution, the sampling distribution of the mean approaches a normal distribution. Furthermore, for most distributions, a normal distribution is approached very quickly as N increases. \n",
    "\n",
    "http://davidmlane.com/hyperstat/A14043.html"
   ]
  },
  {
   "cell_type": "markdown",
   "metadata": {},
   "source": [
    "### Central limit theorem - applications\n",
    "\n",
    "The weight distribution of *Engraulis mordax* is skewed. However, if we have hundreds of samples, the 95% confidence interval for the mean can still be estimated as\n",
    "\n",
    "$\\bar{x}$ ±1.96 $\\frac{s}{\\sqrt{N}}$\n",
    "\n",
    "With very few samples, the mean would not only be uncertain, but also biased."
   ]
  },
  {
   "cell_type": "markdown",
   "metadata": {},
   "source": [
    "<!---### Central limit theorem – dice example\n",
    "\n",
    "If we start to get more samples, we start to get more of a peak in the distribution\n",
    "\n",
    "![images/clt_dice_ex.png](images/clt_dice_ex.png)-->\n"
   ]
  },
  {
   "cell_type": "markdown",
   "metadata": {},
   "source": [
    "### The *z* Distribution\n",
    "\n",
    "<!--![images/zdist_example.png](images/zdist_example.png)-->\n",
    "\n",
    "* According to the central limit theorem, sample means ($\\bar{x}$) are normally distributed for large N.  \n",
    "* This gives you data that is standardized in a way that if we take  z-scores of the sample means ($\\bar{x}$),  95% of them should fall in the range:\n",
    "\n",
    "\t\t-1.96 < z < 1.96\n",
    "        \n",
    "* This is the basis for forming 95% confidence intervals        "
   ]
  },
  {
   "cell_type": "markdown",
   "metadata": {},
   "source": [
    "\n",
    "![images/trawl_pdf_mean_dist_zoomed.png](images/trawl_pdf_mean_dist_zoomed.png)\n",
    "\n",
    "### Confidence intervals for the mean\n",
    "\n",
    "$CI_{95\\%} = \\bar{x} \\pm 1.96 \\times SE$, where SE is the standard error $\\frac{S}{\\sqrt{N}}$\n",
    "\n",
    "With large enough sampling size N, the 95% confidence interval will contain the true population mean 95% of the time. Here 1.96 is a critical z-score. In theory, if a population is normally distributed then 95% of the z-scores will be between -1.96 and 1.96. \n",
    "\n",
    "This equation is only valid for large samples sizes. For small sample sizes, we use a t-distribution instead of z-distribution (covered later).\n",
    "\n",
    "#### Example: fish weight distribution\n",
    "\n",
    "The plot below shows 95% confidence intervals for the mean for different subsets that are randomly selected from the main dataset. The default plot shows results from 100 trials (you can think of this as doing 100 trawls) where $N$ = 10 samples are collected in each trial. The population mean (or true mean) estimated from the larger dataset is shown in blue. This is a fixed parameter and does not change.\n",
    "\n",
    "The confidence intervals generally encompass the population mean. However, there are some trials where the confidence intervals fail. Also, by making the sample size small (e.g. $N$ = 3) you can see that the confidence intervals start to encompass negative values, which is not realistic for this data set. \n"
   ]
  },
  {
   "cell_type": "code",
   "execution_count": 11,
   "metadata": {
    "tags": [
     "hide-input"
    ]
   },
   "outputs": [
    {
     "data": {
      "application/vnd.jupyter.widget-view+json": {
       "model_id": "ec829cf6b4e84ddf9251a46c2b464a6d",
       "version_major": 2,
       "version_minor": 0
      },
      "text/plain": [
       "interactive(children=(IntSlider(value=10, description='N', min=5), IntSlider(value=100, description='ntrial', …"
      ]
     },
     "metadata": {},
     "output_type": "display_data"
    }
   ],
   "source": [
    "ntrial = 1000\n",
    "\n",
    "xm = np.nan*np.zeros(ntrial)\n",
    "xs = np.nan*np.zeros(ntrial)\n",
    "xci_lower = np.nan*np.zeros(ntrial)\n",
    "xci_upper = np.nan*np.zeros(ntrial)\n",
    "\n",
    "ii = (ds['scientific_name'] == 'Engraulis mordax') & (ds['standard_length'] < 1e8)\n",
    "\n",
    "\n",
    "xmean = np.mean(ds['weight'][ii])\n",
    "xstd = np.std(ds['weight'][ii],ddof=1)\n",
    "xSE = xstd/np.sqrt(100)\n",
    "\n",
    "def plot_confidence_intervals(N, ntrial):\n",
    "    cnt = 0 \n",
    "    for i in np.arange(ntrial):\n",
    "        subi = np.random.randint(0, len(ds['weight'][ii]), N)\n",
    "        xm[i] = np.mean(ds['weight'][ii][subi])\n",
    "        xs[i] = np.std(ds['weight'][ii][subi], ddof=1)\n",
    "        (lower,upper) = stats.t.interval(0.95, N-1, loc=xm[i], scale=xs[i]/np.sqrt(N))\n",
    "        xci_lower[i] = lower\n",
    "        xci_upper[i] = upper\n",
    "        #xci_lower[i] = xm[i]-1.96*xs[i]/np.sqrt(N)\n",
    "        #xci_upper[i] = xm[i]+1.96*xs[i]/np.sqrt(N)\n",
    "        if (xmean >= xci_lower[i]) & (xmean < xci_upper[i]):\n",
    "            cnt = cnt + 1\n",
    "\n",
    "    plt.figure(figsize=(5,5))\n",
    "\n",
    "    for j in np.arange(0,ntrial):\n",
    "        if (xmean >= xci_lower[j]) & (xmean < xci_upper[j]):\n",
    "            plt.plot([xci_lower[j], xci_upper[j]], [j,j], 'k-')\n",
    "        else:\n",
    "            plt.plot([xci_lower[j], xci_upper[j]], [j,j], 'r-')\n",
    "\n",
    "    yl = plt.ylim()\n",
    "    plt.plot([xmean,xmean], yl, 'b--')\n",
    "    plt.ylim(yl)\n",
    "    plt.title('95% confidence intervals\\nrandom subsets with N = ' + str(N))\n",
    "    plt.xlabel('weight [g]')\n",
    "    plt.ylabel('trial #')\n",
    "    plt.xlim([-10, 50]);\n",
    "\n",
    "interact(plot_confidence_intervals,\n",
    "         N=widgets.IntSlider(min=5, max=100, step=1, value=10),\n",
    "         ntrial=widgets.IntSlider(min=10, max=200, step=1, value=100));"
   ]
  },
  {
   "cell_type": "markdown",
   "metadata": {},
   "source": [
    "\n",
    "\n",
    "#### Common misinterpretation of confidence intervals*:\n",
    "\n",
    "“There is a 95% chance that the population mean falls within the interval.”\n",
    "\n",
    "What is wrong with this statement, and how does it differ from the correct interpretation?\n",
    "* In the case of confidence intervals, we can't interpret them in this way because the population parameter has a fixed value -  it is or it isn't in the interval\n",
    "\n",
    "* It is the *sample mean* that has a probability of falling within the confidence intervals, not the *true mean* or *population mean* \n",
    "\n",
    "* Confidence intervals treat the parameter as fixed (it has one *true* value) and the interval as variable (it will change based on the subset of data actually collected). \n",
    "\n",
    "\n",
    "\\*Adapted from: http://statsthinking21.org/sampling.html\n"
   ]
  }
 ],
 "metadata": {
  "anaconda-cloud": {},
  "kernelspec": {
   "display_name": "Python 3 (ipykernel)",
   "language": "python",
   "name": "python3"
  },
  "language_info": {
   "codemirror_mode": {
    "name": "ipython",
    "version": 3
   },
   "file_extension": ".py",
   "mimetype": "text/x-python",
   "name": "python",
   "nbconvert_exporter": "python",
   "pygments_lexer": "ipython3",
   "version": "3.10.6"
  },
  "vscode": {
   "interpreter": {
    "hash": "1f45fdcf2eddff97318504b1e3cfb08785222b41a6bfe39eedae558749854b42"
   }
  }
 },
 "nbformat": 4,
 "nbformat_minor": 4
}
