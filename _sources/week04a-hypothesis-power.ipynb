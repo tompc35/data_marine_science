{
 "cells": [
  {
   "cell_type": "markdown",
   "metadata": {},
   "source": [
    "# Hypothesis testing and Power # \n"
   ]
  },
  {
   "cell_type": "markdown",
   "metadata": {},
   "source": [
    "## Hypothesis testing\n",
    "\n",
    "What is a hypothesis?\n",
    "\n",
    "* A starting point for investigation\n",
    "* A statement that can be disproven with data\n",
    "* A proposition made as a basis for reasoning, without any assumption of its truth\n",
    "\n",
    "Four basic elements of a statistical test:\n",
    "\n",
    "1. Null Hypothesis $H_0$\n",
    "2. Alternate hypothesis $H_a$\n",
    "3. Test statistic\n",
    "4. Region of rejection for the null hypothesis\n",
    "\n",
    "### 1. Null Hypothesis $H_o$\n",
    "\n",
    "_Example:_\n",
    "\n",
    "In a calibration bath measuring temperature,\n",
    "\n",
    "* $x$ - A set of sensor measurements, error prone (noise and bias)\n",
    "\n",
    "* $\\mu_0$ - Calibration bath temperature, known to many more significant digits than the sensitivity of the sensor being calibrated (for temperature calibration, the well-defined triple point of gallium is used as a reference point)\n",
    "\n",
    "* $\\mu$ - The average temperature of the measurement-prone sensor in the calibration bath. This is unknown, it is what we are trying to estimate with the sample mean $\\bar{x}$.\n",
    "\n",
    "For this example, the null hypothesis is\n",
    "\n",
    "$H_0$: $\\mu = \\mu_0$.\n",
    "\n",
    "(the sensor is unbiased)\n",
    "\n",
    "### 2. Alternate hypothesis $H_a$\n",
    "\n",
    "The alternate hypothesis must cover all possibilities not covered by the null hypothesis. The probability of either the null hypothesis of alternate hypothesis must sum to 1, and they must be mutually exclusive. \n",
    "\n",
    "For the calibration bath example described above,\n",
    "\n",
    "$H_a$: $\\mu \\neq \\mu_0$.\n",
    "\n",
    "### 3. Test statistic\n",
    "\n",
    "The test statistic can either be __parametric__ or __non-parametric__. Parametric tests are based on theoretical probability distributions, such as the normal distribution. Non-parametric tests do not assume a particular distribution, but are often less efficient or sacrifice statistical power (see below).\n",
    "\n",
    "For the calibration bath example, the appropriate statistical test is the one sample t-test. This is because we are comparing one group of samples (sensor measurements) to a known value (calibration bath temperature). We also expect the sensor measurements to be normally distributed.\n",
    "\n",
    "For a normally distributed parent population the _t-statistic_,\n",
    "\n",
    "$t = \\frac{ \\bar{x} - \\mu } {s\\sqrt{\\frac{1}{N}}}$,\n",
    "\n",
    "has a known distribution. If $N$ samples are taken from the population many many times, the resulting t-statistics will follow a probability distribution called the t-distribution (see [Probability and distributions](week02-probability_and_distributions.ipynb)). \n",
    "\n",
    "### 4.  Region of rejection of the null hypothesis\n",
    "\n",
    "In order decide whether to accept or reject the null hypothesis, we must define what constitutes an \"extreme\" value of the test statistic. \n",
    "\n",
    "For a group of $N$ = 4 samples (3 degrees of freedom) taken randomly from a normal distribution, there is 5% chance that the t-statistic will be either greater than 3.18 or less than -3.18. This defines the rejection region for a 95% confidence level. In this case, $\\alpha =$ 0.05 is the probability that the null hypothesis will be wrongly rejected based on $N$ samples, _if the null hypothesis is true_. Conversely, there is a 95% probability that the null hypothesis will be correctly accepted, _if  the null hypothesis is true_, which in general is not known.\n",
    "\n",
    "Example (two-tailed test):\n",
    "\n",
    "reject null-hypothesis if: $|t|$ > $t_{1-\\frac{\\alpha}{2},N-1}$"
   ]
  },
  {
   "cell_type": "code",
   "execution_count": 1,
   "metadata": {
    "tags": [
     "hide-input"
    ]
   },
   "outputs": [
    {
     "data": {
      "image/png": "[encoded data removed]",
      "text/plain": [
       "<Figure size 432x288 with 1 Axes>"
      ]
     },
     "metadata": {
      "needs_background": "light"
     },
     "output_type": "display_data"
    }
   ],
   "source": [
    "from scipy import stats\n",
    "import numpy as np\n",
    "from matplotlib import pyplot as plt\n",
    "\n",
    "# number of samples\n",
    "N = 4\n",
    "alpha = 0.05\n",
    "\n",
    "# plot t-distribution\n",
    "tvalues = np.arange(-6,6,0.01)\n",
    "tpdf = stats.t.pdf(tvalues,N-1)\n",
    "\n",
    "plt.figure()\n",
    "plt.plot(tvalues,tpdf,lw=3)\n",
    "plt.xlabel('$t$')\n",
    "plt.ylabel('probability density')\n",
    "plt.title('$t$-distribution')\n",
    "plt.gca().set_ylim(bottom=0)\n",
    "\n",
    "# plot rejection regions\n",
    "tcrit = stats.t.ppf(1-alpha/2,N-1)\n",
    "upperi, = np.where(tvalues>tcrit)\n",
    "loweri, = np.where(tvalues<-tcrit)\n",
    "plt.fill_between(tvalues[upperi],tpdf[upperi],facecolor='red')\n",
    "plt.fill_between(tvalues[loweri],tpdf[loweri],facecolor='red');"
   ]
  },
  {
   "cell_type": "markdown",
   "metadata": {},
   "source": [
    "In Python, the upper and lower critical values of a test statistic can be found by selecting a distribution from the `stats` library (`stats.t` in this case) and using the `ppf` function."
   ]
  },
  {
   "cell_type": "code",
   "execution_count": 2,
   "metadata": {},
   "outputs": [
    {
     "name": "stdout",
     "output_type": "stream",
     "text": [
      "upper critical t value = 3.182446305284263\n",
      "lower critical t value = -3.1824463052842638\n"
     ]
    }
   ],
   "source": [
    "alpha = 0.05\n",
    "N = 4\n",
    "tupper = stats.t.ppf(1-alpha/2,N-1)\n",
    "tlower = stats.t.ppf(alpha/2,N-1)\n",
    "print('upper critical t value = '+str(tupper))\n",
    "print('lower critical t value = '+str(tlower))"
   ]
  },
  {
   "cell_type": "markdown",
   "metadata": {},
   "source": [
    "The probability of obtaining a certain $t$ value or less can be found from the cumulative distribution function, `cdf`."
   ]
  },
  {
   "cell_type": "code",
   "execution_count": 3,
   "metadata": {},
   "outputs": [
    {
     "data": {
      "text/plain": [
       "0.9750000000000106"
      ]
     },
     "execution_count": 3,
     "metadata": {},
     "output_type": "execute_result"
    }
   ],
   "source": [
    "stats.t.cdf(tupper,N-1)"
   ]
  },
  {
   "cell_type": "markdown",
   "metadata": {},
   "source": [
    "In testing a null hypothesis, there are four possible situations, depending on the actual truth of the null hypothesis, and the conclusion that is drawn from a test statistic calculated from a finite number of samples.\n",
    "\n",
    "![images/hypothesis-table.png](images/hypothesis-table.png)\n",
    "\n",
    "Here, $(1-\\alpha)$ is called the \"confidence level\" and $(1-\\beta)$ is called the \"statistical power\". $\\alpha$ is the probability of making a __Type I error__ and $\\beta$ is the probability of making a __Type II error__.\n",
    "\n",
    "Some version of this table is presented in nearly every textbook on statistics. However, it still leads to a lot of confusion. \n",
    "\n",
    "Let's say you are comparing a set of observations to a theory, or a set of sensor values with a known standard. In truth, there is almost certainly a difference between the sample mean and the true mean, say to 20+ significant digits. But, if the data are noisy it would still be difficult to _prove_ that this small difference did not just occur by random chance. Failing to reject the null hypothesis at a 95% confidence level does not mean that you are 95% certain that it is true. It just means that your data are less extreme than 95% of random groups of samples drawn from the hypothesized distribution.\n",
    "\n",
    "Scientists tend to focus on confidence intervals rather than statistical power because this approach is conservative from a scientific point of view. By avoiding Type I errors, scientists reduce the likelihood of promoting an idea that is not actually true. This may come at the price of not detecting actual differences. However, as explained, power analysis can be an extremely valuable tool for planning experiments and determining how many samples you need. \n",
    "\n",
    "Power analysis is described later in these notes, after covering the basic statistical procedure of t-tests."
   ]
  },
  {
   "cell_type": "markdown",
   "metadata": {},
   "source": [
    "# Application of hypothesis testing: t-tests\n",
    "\n",
    "The $t$-statistic is used to test whether sample means are different. It was was used by a statistician named William Sealy Gosset, who worked for the Guiness Brewery in Dublin in the early 20th century. He was interested in comparing the properties of ingredients of the beloved Irish stout with a small number of samples. To keep his corporate boss happy, Gosset published his statistical work under the pseudonym \"Student\". \n",
    "\n",
    "## One-sample t-test\n",
    "\n",
    "The example described above, in which a sample mean is compared with a single value (possibly a known value or a theoretical result), is called a __one-sample t-test__. All t-tests assumes that the samples are drawn from a __normally-distributed__ population.\n",
    "\n",
    "In Python, a one sample $t$-test can be conducted with the function `stats.ttest_1samp()`. Given a set of values `x` and a population mean, $\\mu$ or `popmean`, this function returns the $t$-statistic and a $p$-value. The $p$-value is the probability of obtaining a $t$-statistic of that magnitude, or more extreme, in the hypothetical case the null hypothesis is true. If the $p$-value is less than $\\alpha$ then the null hypothesis is rejected."
   ]
  },
  {
   "cell_type": "markdown",
   "metadata": {},
   "source": [
    "Looking at an example where we have three samples, and we are comparing with a known value $\\mu_0$ = 10.0"
   ]
  },
  {
   "cell_type": "code",
   "execution_count": 6,
   "metadata": {},
   "outputs": [
    {
     "name": "stdout",
     "output_type": "stream",
     "text": [
      "x: [1.0, 2.0, 4.0]\n",
      "mu0: 10.0\n",
      "t: -8.693\n",
      "p: 0.013\n"
     ]
    }
   ],
   "source": [
    "x = [1.,2.,4.]  # list of samples\n",
    "mu0 = 10.0      # known value\n",
    "t,p = stats.ttest_1samp(x, mu0)  \n",
    "print(\"x:\",x)\n",
    "print(\"mu0:\",mu0)\n",
    "print(\"t:\",round(t,3))\n",
    "print(\"p:\",round(p,3)) "
   ]
  },
  {
   "cell_type": "markdown",
   "metadata": {},
   "source": [
    "In this case, the $p$-value is less than .05 but greater than 0.01, so can the null hypothesis can be rejected at the at 95% confidence level but not the 99% confidence level."
   ]
  },
  {
   "cell_type": "markdown",
   "metadata": {},
   "source": [
    "Looking at another example where the known value is closer to the sample mean,"
   ]
  },
  {
   "cell_type": "code",
   "execution_count": 7,
   "metadata": {},
   "outputs": [
    {
     "name": "stdout",
     "output_type": "stream",
     "text": [
      "x: [1.0, 2.0, 4.0]\n",
      "mu0: 3\n",
      "t: -0.756\n",
      "p: 0.529\n"
     ]
    }
   ],
   "source": [
    "a = [1,2.,4]\n",
    "mu0 = 3\n",
    "t,p = stats.ttest_1samp(a, mu0)\n",
    "print(\"x:\",x)\n",
    "print(\"mu0:\",mu0)\n",
    "print(\"t:\",round(t,3))\n",
    "print(\"p:\",round(p,3))"
   ]
  },
  {
   "cell_type": "markdown",
   "metadata": {},
   "source": [
    "we see that the $t$-statistic is much closer to zero, and the $p$-value is is much higher. In this case, the null hypothesis cannot be rejected at the 95% confidence level (or even a far more lenient 60% confidence level). "
   ]
  },
  {
   "cell_type": "markdown",
   "metadata": {},
   "source": [
    "The p-value is related to the cumulative probability of the t-statistic. The p-value is the probability of obtaining a certain value of t, or more extreme, in the hypothetical case that the null hypothesis is true. The cumulative probability is the probability of obtaining a certain value of t or less when taking random samples from a normal distribution (again, in the hypothetical case that the null hypothesis is true). "
   ]
  },
  {
   "cell_type": "code",
   "execution_count": 8,
   "metadata": {},
   "outputs": [
    {
     "name": "stdout",
     "output_type": "stream",
     "text": [
      "cumulative probability: 0.264\n"
     ]
    }
   ],
   "source": [
    "tcdf = stats.t.cdf(-0.756,2)\n",
    "print(\"cumulative probability:\",round(tcdf,3))"
   ]
  },
  {
   "cell_type": "markdown",
   "metadata": {},
   "source": [
    "There is a probability of 0.264 of randomly obtaining $t$ value of -0.756 or less if the null hypothesis is true. However, there is twice as much probability (p = 0.529) of obtaining a more extreme value ($t \\leq$ -0.756 or $t \\geq$ -0.756)."
   ]
  },
  {
   "cell_type": "markdown",
   "metadata": {},
   "source": [
    "## One-tailed vs. two-tailed tests\n",
    "\n",
    "The two previous examples are both __two-tailed__ tests. The rejection region occupies both tails of the t-distribution. In a one tailed test, we only care about differences in a certain direction, for example:\n",
    "\n",
    "$H_0$: $\\mu \\leq \\mu_0$\n",
    "\n",
    "$H_a$: $\\mu > \\mu_0$\n",
    "\n",
    "In this case, the null hypothesis is rejected only for extreme t values that are greater than zero. The rejection region for the 95% confidence level is shown below for $N$ = 4 samples (3 degrees of freedom)."
   ]
  },
  {
   "cell_type": "code",
   "execution_count": 9,
   "metadata": {},
   "outputs": [
    {
     "data": {
      "image/png": "[encoded data removed]",
      "text/plain": [
       "<Figure size 432x288 with 1 Axes>"
      ]
     },
     "metadata": {
      "needs_background": "light"
     },
     "output_type": "display_data"
    }
   ],
   "source": [
    "plt.figure()\n",
    "plt.plot(tvalues,tpdf,lw=3)\n",
    "plt.xlabel('$t$')\n",
    "plt.ylabel('probability density')\n",
    "plt.title('$t$-distribution and ')\n",
    "plt.gca().set_ylim(bottom=0)\n",
    "\n",
    "# plot rejection regions\n",
    "tcrit = stats.t.ppf(1-alpha,N-1)\n",
    "upperi, = np.where(tvalues>tcrit)\n",
    "plt.fill_between(tvalues[upperi],tpdf[upperi],facecolor='red');"
   ]
  },
  {
   "cell_type": "markdown",
   "metadata": {},
   "source": [
    "When using a function such as `stats.ttest_1samp()` to do a one-tailed test, here is how to interpret the output:\n",
    "\n",
    "* Reject $H_o$ only if the value of t has the correct sign\n",
    "* If t does have the correct sign, reject $H_o$ if 1/2 the p-value is less than $\\alpha$"
   ]
  },
  {
   "cell_type": "markdown",
   "metadata": {},
   "source": [
    "## Two-sample t-test: comparing pairs of populations\n",
    "\n",
    "A __two-sample t-test__ is used to test whether the means of two groups of samples are different.\n",
    "\n",
    "$H_o: \\bar{x_1} = \\bar{x_2}$\n",
    "\n",
    "$H_a: \\bar{x_1} \\neq \\bar{x_2}$\n",
    "\n",
    "The example below shows bacterial growth rates for two different sets of samples. The control is from a sample collected from an estuary and \"GX\" is from an experiment in which a polysaccharide compound (gum xantham) was added to invesitgate the effects of tranparent exopolymer particles (TEP).\n",
    "\n",
    "![images/t_test_ex.png](images/t_test_ex.png)\n",
    "\n",
    "_Source:_ Bar-Zeev and Rahav (2015) Microbial metabolism of transparent exopolymer particles during the summer months along a eutrophic estuary, Front. Microbiol.\n",
    "http://journal.frontiersin.org/article/10.3389/fmicb.2015.00403/full\n",
    "\n",
    "Box Plots:\n",
    "* Central line represents median\n",
    "* Box brackets 25-75th percentile (50% of the data)\n",
    "* Whiskers bracket 10-90th percentile (80% of the data)\n",
    "\n",
    "The $*$ above the second box indicates a significant difference as indicated by a t-test. There is overlap in the range of growth rates, but the null hypothesis that the means are equal is rejected at a 99% confidence level."
   ]
  },
  {
   "cell_type": "markdown",
   "metadata": {},
   "source": [
    "### Student's two- sample t-test (equal variances)\n",
    "A two-sample t-test is used to comparing $\\bar{x}$ and $\\bar{y}$, _assuming populations being sampled have the same true variance_, i.e.  $\\sigma_x^2 = \\sigma_y^2$. With $N_x$ and $N_y$ samples, the t statistic is given by:\n",
    "\n",
    "$t = \\frac{\\bar{x} - \\bar{y}} {s_{xy} \\sqrt{\\frac{1}{N_x} + \\frac{1}{N_y}}}$,\n",
    "\n",
    "where $s_{xy}$ is the pooled sample variance,\n",
    "\n",
    "$s_{xy} = \\sqrt{\\frac{(N_x - 1)s_x^2 + (N_y - 1)s_y^2} {N_x + N_y -2}}$,\n",
    "\n",
    "and the degrees of freedom is given by\n",
    "\n",
    "$\\nu = N_x + N_y -2$.\n",
    "\n",
    "__Note:__ For paired samples that are not independent, you would not use this test. Instead, you would take the differences and use a one-sample t-test as described above. This would have $N-1$ degrees of freedom for $N$ pairs."
   ]
  },
  {
   "cell_type": "markdown",
   "metadata": {},
   "source": [
    "### Welch's two sample t-test (unequal variances)\n",
    "\n",
    "Welch's t-test is more robust and does not assume equal variances of $x$ and $y$. The t statistic is given by \n",
    "\n",
    "$t = \\frac{\\bar{x} - \\bar{y}} {\\sqrt{\\frac{s_x^2}{N_x} + \\frac{s_y^2}{N_y}}}$.\n",
    "\n",
    "The degrees of freedom in this case is a more complicated expression given by the Welch-Satterthwaite equation:\n",
    "\n",
    "$\\nu = \\frac{\\left(\\frac{s_x^2}{N_x} + \\frac{s_y^2}{N_y}\\right)^2}{\\frac{1}{(N_x-1)}\\left(\\frac{s_x^2}{N_x}\\right)^2 + \\frac{1}{(N_y-1)}\\left(\\frac{s_y^2}{N_y}\\right)^2}$"
   ]
  },
  {
   "cell_type": "markdown",
   "metadata": {},
   "source": [
    "####  Python implementation\n",
    "\n",
    "For arrays of independent values `x` and `y`, the __Student's t-test__ can be performed using this function:\n",
    "\n",
    "`t,p = stats.ttest_ind(x,y)`\n",
    "\n",
    "For __Welch's t-test__, use the same function but set the `equal_var` option to `False`.\n",
    "\n",
    "`t,p = stats.ttest_ind(x,y,equal_var=False)`\n",
    "\n",
    "It is recommended to use Welch's t-test unless you have a good reason to assume that the population variances are equal. This reduces the chance of a Type I error."
   ]
  },
  {
   "cell_type": "markdown",
   "metadata": {},
   "source": [
    "#### Exercise: comparing means of current meter data"
   ]
  },
  {
   "cell_type": "markdown",
   "metadata": {},
   "source": [
    "In Section 3.14 of Emery and Thomson, an example is given where the January means of alongshore velocity ($V$) from current meter data are compared for two different years. The means and standard deviations from daily averages in January are given by\n",
    "\n",
    "Year 1: $\\bar{V_1} = 23 \\pm 3 \\text{ cm/s}$\n",
    "\n",
    "Year 2: $\\bar{V_2} = 20 \\pm 2 \\text{ cm/s}$\n",
    "\n",
    "Perform a Student's t-test to test the null hypothesis that the means are the same between these two years, for 95% confidence. You may assume that each daily average is an independent sample."
   ]
  },
  {
   "cell_type": "markdown",
   "metadata": {},
   "source": [
    "# Power analysis"
   ]
  },
  {
   "cell_type": "markdown",
   "metadata": {},
   "source": [
    "Statistical power describes the probability of correctly accepting the null hypothesis, if it is false. A conventional target power is $(1 -  \\beta) = 0.8$. This means that **if** the null hypothesis is false, there is a probability $\\beta$ = 0.2 (one out of five chance) that the null hypothesis will be accepted incorrectly (Type II error). This would mean incorrectly inferring that there is no difference between two sets of samples.\n",
    "\n",
    "Statistical power and confidence levels are not independent. The confidence level for accepting or rejecting a null hypothesis is one of the primary factors that determined statistical power.\n",
    "\n",
    "Power analysis can be useful for studies that inform management decisions, in which avoiding a Type II error might be a \"conservative\" action. For example, a Type II error in a study on the effect of pollution on abundance of an organism at two sites (pristine and disturbed) might mean \"incorrectly\" protecting habitat. The accepted level of risk of a Type II error in this case might vary between environmental and industry stakeholders.\n",
    "\n",
    "Power analysis is also useful _before_ conducting an experiment. It can help you determine how many samples you need to observe a certain effect with a statistical test. The effect that you want to observe might be determined by the resolution of your instrument, or what you think might be important in an ecological sense. Remember that determining a significant difference between two sets of samples does not mean that the difference is important.\n",
    "\n",
    "There are four ingredients in a power analysis. If three are known, than the fourth can be calculated.\n",
    "\n",
    "1. Effect Size:  $d = \\frac{|\\mu_1 - \\mu_2|} {\\sigma}$\n",
    "    * d=0.2 \"small\"\n",
    "    * d=0.8 \"large\"\n",
    "2. Sample size: $N$\n",
    "3. Confidence Level: (1-$\\alpha$), also refered to as the $\\alpha$ level or significance level, typical is 0.05.\n",
    "4. Target Power: (1-$\\beta$)"
   ]
  },
  {
   "cell_type": "markdown",
   "metadata": {},
   "source": [
    "The effect size ($d$) is the minimum deviation from the null hypothesis that you expect to be able to detect. In tris case, it is the effect size for a difference between two means (t-test).\n",
    "\n",
    "* d is non-dimensional\n",
    "* often called \"Cohen's d\"\n",
    "* d = difference of the mean / standard deviation\n",
    "\n",
    "##### Example: Detecting change due to a restoration activity\n",
    "\n",
    "Goal 1 (ecologically significant effect): increase (indicates the need for a one-tailed z-test) the mean oxygen concentrations by 20 $\\mu$M\n",
    "* The natural variability is 50 $\\mu$M (std. dev.)\n",
    "* $\\mu$ is the mean oxygen concentration before restoration\n",
    "* $\\bar{x}$ mean of the samples collected after restoration\n",
    "\n",
    "* $d = \\frac{|\\mu_1 - \\mu_2|} {\\sigma}$\n",
    "* $d = \\frac{20 \\mu M} {50 \\mu M}$ = 0.4 \n",
    "\n",
    "\n",
    "Goal 2: want to be able to show that a *statistically* significant difference is present, if the activity is a a success.  This is different than Goal 1.\n",
    "\n",
    "* In this case, $H_0$: $\\bar{x} \\le \\mu$  and $H_a$ : $\\bar{x} > \\mu$\n",
    "\n",
    "##### One-tailed z-test (like a t-test, valid for a large N)\n",
    "\n",
    "* $z = \\frac{\\bar{x} - \\mu} {\\frac {S} {\\sqrt{N}}}$\n",
    "* compare to $z_{crit}$:\n",
    "$z_{1-\\alpha}$"
   ]
  },
  {
   "cell_type": "markdown",
   "metadata": {},
   "source": [
    "#### Resources for calculating power\n",
    "\n",
    "* [Online visualization](http://rpsychologist.com/d3/NHST/) (for one-sample z-test only)\n",
    "* [Online power calculator](http://webpower.psychstat.org/wiki/) (for many different statistical tests)\n",
    "* [G* power](http://www.gpower.hhu.de/en.html)\n",
    "* [Python  - statsmodels](http://jpktd.blogspot.com/2013/03/statistical-power-in-statsmodels.html)\n",
    "* [Python - pingouin](https://pingouin-stats.org/api.html#power-analysis)"
   ]
  },
  {
   "cell_type": "markdown",
   "metadata": {},
   "source": [
    "#### Example: detecting small differences with a noisy instrument \n",
    "* Want to be able to measure a differences of 2 $\\mu$M\n",
    "* instrument noise = 5 $\\mu$M\n",
    "* Significance level: $\\alpha$ = 0.05\n",
    "* Power: 1- $\\beta$ = 0.8\n",
    "\n",
    "_How many of samples do we need to detect this difference?_\n",
    "\n",
    "In this case, the effect size can be thought of as the absolute difference of 2uM, relative to the standard deviation (noise level) of 5uM. The effect size $d = $ 0.4."
   ]
  },
  {
   "cell_type": "code",
   "execution_count": 10,
   "metadata": {},
   "outputs": [
    {
     "name": "stdout",
     "output_type": "stream",
     "text": [
      "N =  51.009\n"
     ]
    }
   ],
   "source": [
    "from statsmodels.stats import power\n",
    "nobs = power.tt_solve_power(power=0.8,alpha=0.05,effect_size=0.4)\n",
    "print('N = ',round(nobs,3))"
   ]
  },
  {
   "cell_type": "markdown",
   "metadata": {},
   "source": [
    "If the actual difference is 2 $\\mu$M, then we will get a significant difference 80% of the time with $N$ = 51. This example is for a one-sample t-test, but other functions in the `power` library can be used for other statistical tests. The *Pingouin* package (see below) also has functions for computing power."
   ]
  },
  {
   "cell_type": "markdown",
   "metadata": {},
   "source": [
    "# Critiques of null hypothesis significance testing"
   ]
  },
  {
   "cell_type": "markdown",
   "metadata": {},
   "source": [
    "* “The test of statistical significance in psychological research may be taken as an instance of a kind of essential mindlessness in the conduct of research” (Bakan, 1966)\n",
    "\n",
    "* Hypothesis testing is “a wrongheaded view about what constitutes scientific progress” (Luce, 1988)\n",
    "\n",
    "* \"What's wrong with [null hypothesis significance testing]? Well, among many other things, it does not tell us what we want to know, and we so much want to know what we want to know that, out of desperation, we nevertheless believe that it does!” (Cohen 1994)\n",
    "\n",
    "Quotes collected in: https://rpsychologist.com/d3/nhst/"
   ]
  },
  {
   "cell_type": "markdown",
   "metadata": {},
   "source": [
    "The modern process of null hypothesis significance testing (NHST) is a hybrid of approaches developed by Fischer, who developed p-values to qunatify the strength against the null hypothesis, and Neyman and Pearson, who developed decision-making criteria for accepting the null hypothesis as opposed to a specific alternative hypothesis (a process which included power analysis). It is likely that none of these early pioneers would approve of the modern form of null hypothesis significance testing, which arose out of a desire for standard procedures (like cookbook recipes) to teach to non-experts."
   ]
  },
  {
   "cell_type": "markdown",
   "metadata": {},
   "source": [
    "The p-value in particular has been the subject of intense backlash in recent years. The journal Psychology [banned p-values](https://www.nature.com/news/psychology-journal-bans-p-values-1.17001). A critical p-value of 0.05 is arbitrary and encourages \"p-hacking,\" where marginal results may be tweaked to clear the bar. Statistically significant differences may be associated with small and unimportant effects, especially for large sample sizes (increasingly common). Furthermore, like many concepts in frequentist statistics, the meaning of the p-value is commonly misinterpreted. This is because the concept of the p-value is based on hypothetical data that have not actually been collected.\n",
    "\n",
    "The p-value is commonly interpreted as $P(H|D)$, but in actuality it represents $P(D|H)$. These are not the same thing."
   ]
  },
  {
   "cell_type": "markdown",
   "metadata": {},
   "source": [
    "# Bayes factors"
   ]
  },
  {
   "cell_type": "markdown",
   "metadata": {},
   "source": [
    "The Bayes factor is an alternative metric which quantifies evidence in favor of an alternative hypothesis, over the null hypothesis (or vice-versa). Recall Bayes' theorem, in which the probability of a hypothesis ($H$) is updated given new data ($D$)\n",
    "\n",
    "$$P(H|D) = \\frac{P(D|H)P(H)}{P(D)}$$"
   ]
  },
  {
   "cell_type": "markdown",
   "metadata": {},
   "source": [
    "* $P(H|D)$ - probability of a hypothesis after seeing data (“posterior”)\n",
    "* $P(D|H)$ - probability of the data given the hypothesis (“likelihood”)\n",
    "* $P(H)$ - probability of a hypothesis before seeing data (“prior”)\n",
    "* $P(D)$ - probability of the data under any hypothesis (“normalizing constant”)"
   ]
  },
  {
   "cell_type": "markdown",
   "metadata": {},
   "source": [
    "The odds of an alternative hypothesis ($H_1$) over the null hypothesis ($H_0$), after seeing the data is given by\n",
    "\n",
    "$$\\frac{P(H_1|D)}{P(H_0|D)} = \\frac{P(D|H_1)}{P(D|H_0)}\\frac{P(H_1)}{P(H_0)}$$"
   ]
  },
  {
   "cell_type": "markdown",
   "metadata": {},
   "source": [
    "The Bayes factor is the first term on the left hand side, $\\frac{P(D|H_1)}{P(D|H_0)}$, also known as the likelihood ratio. This term quantfied the amount by which the data changes the posterior odds, $\\frac{P(H_1|D)}{P(H_0|D)}$, compared with the prior odds, $\\frac{P(H_1)}{P(H_0)}$. If the prior odds are 1 (same odds given to both hypotheses), then the Bayes factor is equal to the posterior odds.\n",
    "\n",
    "This Bayes factor is called $BF_{10}$. The Bayes factor can also be expressed as the reciprocal, the ratio of the null over the alternative $BF_{01}$.\n",
    "\n",
    "In interpreting the Bayes factor, a value of 1-3 is considered to be only weak evidence in favor of the alternative hypothesis $H_1$. A value of 20-150 is considered \"strong\" and higher values \"very strong.\""
   ]
  },
  {
   "cell_type": "markdown",
   "metadata": {},
   "source": [
    "Bayes factors are useful because they provide evidence of the relative strength of hypotheses. Frequentist statistics provide only provide insight into $P(D|H_0)$, the probability of the data given the null hypothesis. In the frequentist framework, the null hypothesis can be rejected but not accepted. Bayes factors allow for the possibility that the evidence for the null hypothesis is stronger than the alternative. They also allow for the comparison with a specific alternative (for example, that a parameter has a specific value, not just \"not null\").\n",
    "\n",
    "Note that the Bayes factor still relies on the underlying assumptions of the statistical test. For a $t$-test, there is still the assumption that the samples are drawn from a normally-distributed population.\n",
    "\n",
    "The relatively new [Pingouin](https://pingouin-stats.org) package provides Bayes factors, along with effect sizes (Cohen's $d$) and power analysis."
   ]
  },
  {
   "cell_type": "code",
   "execution_count": 15,
   "metadata": {},
   "outputs": [
    {
     "data": {
      "text/html": [
       "<div>\n",
       "<style scoped>\n",
       "    .dataframe tbody tr th:only-of-type {\n",
       "        vertical-align: middle;\n",
       "    }\n",
       "\n",
       "    .dataframe tbody tr th {\n",
       "        vertical-align: top;\n",
       "    }\n",
       "\n",
       "    .dataframe thead th {\n",
       "        text-align: right;\n",
       "    }\n",
       "</style>\n",
       "<table border=\"1\" class=\"dataframe\">\n",
       "  <thead>\n",
       "    <tr style=\"text-align: right;\">\n",
       "      <th></th>\n",
       "      <th>T</th>\n",
       "      <th>dof</th>\n",
       "      <th>tail</th>\n",
       "      <th>p-val</th>\n",
       "      <th>CI95%</th>\n",
       "      <th>cohen-d</th>\n",
       "      <th>BF10</th>\n",
       "      <th>power</th>\n",
       "    </tr>\n",
       "  </thead>\n",
       "  <tbody>\n",
       "    <tr>\n",
       "      <th>T-test</th>\n",
       "      <td>-8.693183</td>\n",
       "      <td>2</td>\n",
       "      <td>two-sided</td>\n",
       "      <td>0.012976</td>\n",
       "      <td>[-1.46, 6.13]</td>\n",
       "      <td>5.019011</td>\n",
       "      <td>5.531</td>\n",
       "      <td>0.976136</td>\n",
       "    </tr>\n",
       "  </tbody>\n",
       "</table>\n",
       "</div>"
      ],
      "text/plain": [
       "               T  dof       tail     p-val          CI95%   cohen-d   BF10  \\\n",
       "T-test -8.693183    2  two-sided  0.012976  [-1.46, 6.13]  5.019011  5.531   \n",
       "\n",
       "           power  \n",
       "T-test  0.976136  "
      ]
     },
     "execution_count": 15,
     "metadata": {},
     "output_type": "execute_result"
    }
   ],
   "source": [
    "import pingouin as pg\n",
    "\n",
    "x = [1.,2.,4.]  # list of samples\n",
    "mu0 = 10.0      # known value\n",
    "pg.ttest(x, mu0)  "
   ]
  },
  {
   "cell_type": "markdown",
   "metadata": {},
   "source": [
    "This Bayes factor (BF10) indicates that there is \"positive\" evidence in favor of an alternative hypothesis, but not \"strong\"."
   ]
  },
  {
   "cell_type": "markdown",
   "metadata": {},
   "source": [
    "### Details of the Bayes factor calculation (advanced)\n",
    "\n",
    "In common statistical tests, we are interested in the the value of a parameter $\\theta$. In a t-test, this parameter is the true mean $\\mu$.  In a one-sample t-test, the null hypothesis is that the mean parameter $\\theta$ has a specific value $\\theta_0$.\n",
    "\n",
    "$H_0$: $\\theta = \\theta_0$\n",
    "\n",
    "$H_1$: $\\theta \\neq \\theta_0$"
   ]
  },
  {
   "cell_type": "markdown",
   "metadata": {},
   "source": [
    "The likelihood of the null, $P(D|\\theta = \\theta_0)$ can be calculated from the $t$-distribution. The likelihood of the alternative is more complicated because there is a distribution of alternative values, not just one. Calculating the likelihood involves integrating over all possible alternatives.\n",
    "\n",
    "$$P(D,\\theta\\neq \\theta_0) = \\int_{\\theta \\neq \\theta_0} P(D|\\theta)\\, P(\\theta)\\, d\\theta$$"
   ]
  },
  {
   "cell_type": "markdown",
   "metadata": {},
   "source": [
    "This integral is called the marginal likelihood function. The likelihood of each possible parameter value is weighted by its prior. All of the priors $P(\\theta)$ must integrate to 1. \n",
    "\n",
    "Again, the $P(D|\\theta)$ term in the integral can be calculated from the $t$-distribution. However, this calculation also involves specifying a probability distribution for the prior $P(\\theta)$ for all possible values of $\\theta$. There are many ways to choose a prior distribution, and the subjective choices in this process are one critique of Baysian statistics. One strategy is to be as objective as possible, using \"non-informative\" prior distributions. This is sometimes a \"flat\" prior that weights all probabilities equally. \n",
    "\n",
    "The calculation used by Pingouin follows the method in Rouder et al. (2009). The prior distribution used in this methods weights small differences from the mean more than very extreme differences. The method also accounts for the fact that there are two parameters involved in the $t$-statistic, the mean ($\\mu$) and the variance ($\\sigma^2$).\n",
    "\n",
    "Rouder, J.N., Speckman, P.L., Sun, D., Morey, R.D., Iverson, G., 2009. Bayesian t tests for accepting and rejecting the null hypothesis. Psychon. Bull. Rev. 16, 225–237. https://doi.org/10.3758/PBR.16.2.225"
   ]
  }
 ],
 "metadata": {
  "anaconda-cloud": {},
  "kernelspec": {
   "display_name": "Python 3.10.6 ('data-book')",
   "language": "python",
   "name": "python3"
  },
  "language_info": {
   "codemirror_mode": {
    "name": "ipython",
    "version": 3
   },
   "file_extension": ".py",
   "mimetype": "text/x-python",
   "name": "python",
   "nbconvert_exporter": "python",
   "pygments_lexer": "ipython3",
   "version": "3.10.6"
  },
  "vscode": {
   "interpreter": {
    "hash": "0ef88d3abb6b62f34a20525ce337090c4512fe8aecf32c74604482b944e1c3bd"
   }
  }
 },
 "nbformat": 4,
 "nbformat_minor": 4
}
