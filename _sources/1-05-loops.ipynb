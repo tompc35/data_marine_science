{
 "cells": [
  {
   "cell_type": "markdown",
   "metadata": {},
   "source": [
    "# Loops"
   ]
  },
  {
   "cell_type": "markdown",
   "metadata": {},
   "source": [
    "Loops are a way of repeating commands over and over again.\n",
    "\n",
    "A _while_ loop is an indefinite loop. It runs indefinitely until a certain condition is met. Be careful with while loops. If the condition is never met, the while loop will try to run forever."
   ]
  },
  {
   "cell_type": "code",
   "execution_count": 2,
   "metadata": {},
   "outputs": [
    {
     "name": "stdout",
     "output_type": "stream",
     "text": [
      "1\n",
      "2\n",
      "3\n",
      "4\n",
      "5\n",
      "done with while loop\n"
     ]
    }
   ],
   "source": [
    "import numpy as np\n",
    "i = 0\n",
    "while i<5:\n",
    "    i = i + 1\n",
    "    print(i)\n",
    "print('done with while loop')"
   ]
  },
  {
   "cell_type": "markdown",
   "metadata": {},
   "source": [
    "A _for_ loop is a definite loop. It iterates over a list, array or other variable types that are groups of values or other variables. It definitely stops when it gets to the end of the list."
   ]
  },
  {
   "cell_type": "code",
   "execution_count": 3,
   "metadata": {},
   "outputs": [
    {
     "name": "stdout",
     "output_type": "stream",
     "text": [
      "Hello Bob\n",
      "Hello Jane\n",
      "Hello Mary\n",
      "done\n"
     ]
    }
   ],
   "source": [
    "name_list = ['Bob','Jane','Mary']\n",
    "for name in name_list:\n",
    "    print(\"Hello \" + name)\n",
    "print('done')         "
   ]
  },
  {
   "cell_type": "markdown",
   "metadata": {},
   "source": [
    "An example of looping through a sequence of numbers created with the `np.arange()` function."
   ]
  },
  {
   "cell_type": "code",
   "execution_count": 4,
   "metadata": {},
   "outputs": [
    {
     "name": "stdout",
     "output_type": "stream",
     "text": [
      "[0 1 2 3 4]\n"
     ]
    }
   ],
   "source": [
    "import numpy as np\n",
    "print(np.arange(5))"
   ]
  },
  {
   "cell_type": "code",
   "execution_count": 5,
   "metadata": {},
   "outputs": [
    {
     "name": "stdout",
     "output_type": "stream",
     "text": [
      "[2 3 4]\n"
     ]
    }
   ],
   "source": [
    "print(np.arange(2,5))"
   ]
  },
  {
   "cell_type": "code",
   "execution_count": 6,
   "metadata": {},
   "outputs": [
    {
     "name": "stdout",
     "output_type": "stream",
     "text": [
      "[2.  2.5 3.  3.5 4.  4.5]\n"
     ]
    }
   ],
   "source": [
    "print(np.arange(2,5,0.5))"
   ]
  },
  {
   "cell_type": "code",
   "execution_count": 7,
   "metadata": {},
   "outputs": [
    {
     "name": "stdout",
     "output_type": "stream",
     "text": [
      "0\n",
      "2\n",
      "4\n",
      "6\n",
      "8\n"
     ]
    }
   ],
   "source": [
    "for i in np.arange(5):\n",
    "    print(i*2)"
   ]
  },
  {
   "cell_type": "markdown",
   "metadata": {},
   "source": [
    "__Exercise__:\n",
    "\n",
    "Write a for loop that prints out the cumulative sum of an array. \n",
    "\n",
    "For example, the cumulative sum of the array\n",
    "\n",
    "```\n",
    "[1,3,6,4,7]\n",
    "```\n",
    "\n",
    "would be:\n",
    "\n",
    "```\n",
    "[1,4,10,14,21]\n",
    "```\n",
    "\n",
    "Write out your algorithm first. An algorithm is a process or set of rules followed in calculations or problem solving. It helps to write or sketch these instructions first, then translate the instructions to Python. This strategy helps break a coding problem up into smaller, more manageable parts.\n",
    "\n",
    "Use the following code as a template (replace the dashes ----- with code).\n",
    "\n",
    "```python\n",
    "x = [1,3,6,4,7]\n",
    "\n",
    "cumsum = 0\n",
    "for val in x:\n",
    "    cumsum = -------\n",
    "    print(cumsum)\n",
    "```"
   ]
  },
  {
   "cell_type": "markdown",
   "metadata": {},
   "source": [
    "This should produce the output:"
   ]
  },
  {
   "cell_type": "code",
   "execution_count": 12,
   "metadata": {
    "tags": [
     "remove-input"
    ]
   },
   "outputs": [
    {
     "name": "stdout",
     "output_type": "stream",
     "text": [
      "1\n",
      "4\n",
      "10\n",
      "14\n",
      "21\n",
      "done\n"
     ]
    }
   ],
   "source": [
    "x = [1,3,6,4,7]\n",
    "cumsum = 0\n",
    "for val in x:\n",
    "    cumsum = cumsum + val\n",
    "    print(cumsum)\n",
    "print('done')"
   ]
  },
  {
   "cell_type": "markdown",
   "metadata": {
    "tags": []
   },
   "source": [
    "### For loop - cumulative sum 2\n",
    "\n",
    "Write a for loop that stores the cumulative sum of an array in another array. Use the `np.append()` function - see `help(np.append)` - and make sure that you have run `import numpy as np`  at the top of your program in order to use this function.\n",
    "\n",
    "```python\n",
    "x = [1,3,6,4,7]\n",
    "\n",
    "cumsum = 0\n",
    "cumsum_array = []\n",
    "for val in x:\n",
    "    cumsum = -------\n",
    "    cumsum_array = np.append(------,--------)\n",
    "\n",
    "print(cumsum_array)\n",
    "```"
   ]
  },
  {
   "cell_type": "markdown",
   "metadata": {},
   "source": [
    "This should produce the output:"
   ]
  },
  {
   "cell_type": "code",
   "execution_count": 13,
   "metadata": {
    "tags": [
     "remove-input"
    ]
   },
   "outputs": [
    {
     "name": "stdout",
     "output_type": "stream",
     "text": [
      "[ 1.  4. 10. 14. 21.]\n"
     ]
    }
   ],
   "source": [
    "x_a = [1,3,6,4,7]\n",
    "cumsum_a = 0\n",
    "cumsum_array = []\n",
    "for val in x_a:\n",
    "    cumsum_a = cumsum_a + val\n",
    "    cumsum_array = np.append(cumsum_array,cumsum_a)\n",
    "    \n",
    "print(cumsum_array)"
   ]
  },
  {
   "cell_type": "markdown",
   "metadata": {
    "tags": []
   },
   "source": [
    "### Fibonacci sequence (if time)\n",
    "\n",
    "Write a for loop that prints the first n numbers of the Fibonacci sequence:\n",
    "1,1,2,3,5,8,13…\n",
    "Write out your algorithm first, and start with the following minimal code. \n",
    "\n",
    "```python\n",
    "n = 10\n",
    "\n",
    "# insert code here\n",
    "```"
   ]
  }
 ],
 "metadata": {
  "anaconda-cloud": {},
  "kernelspec": {
   "display_name": "Python 3 (ipykernel)",
   "language": "python",
   "name": "python3"
  },
  "language_info": {
   "codemirror_mode": {
    "name": "ipython",
    "version": 3
   },
   "file_extension": ".py",
   "mimetype": "text/x-python",
   "name": "python",
   "nbconvert_exporter": "python",
   "pygments_lexer": "ipython3",
   "version": "3.10.6"
  },
  "vscode": {
   "interpreter": {
    "hash": "0ef88d3abb6b62f34a20525ce337090c4512fe8aecf32c74604482b944e1c3bd"
   }
  }
 },
 "nbformat": 4,
 "nbformat_minor": 4
}
